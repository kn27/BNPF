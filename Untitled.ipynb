{
 "cells": [
  {
   "cell_type": "code",
   "execution_count": 1,
   "metadata": {
    "ExecuteTime": {
     "end_time": "2019-12-10T05:17:49.401337Z",
     "start_time": "2019-12-10T05:17:49.396356Z"
    }
   },
   "outputs": [],
   "source": [
    "import numpy as np"
   ]
  },
  {
   "cell_type": "code",
   "execution_count": 4,
   "metadata": {
    "ExecuteTime": {
     "end_time": "2019-12-10T05:20:53.494971Z",
     "start_time": "2019-12-10T05:20:53.039982Z"
    }
   },
   "outputs": [],
   "source": [
    "from numpy import random\n",
    "from matplotlib import pyplot as plt"
   ]
  },
  {
   "cell_type": "code",
   "execution_count": 12,
   "metadata": {
    "ExecuteTime": {
     "end_time": "2019-12-10T05:21:59.090622Z",
     "start_time": "2019-12-10T05:21:58.872620Z"
    }
   },
   "outputs": [
    {
     "data": {
      "text/plain": [
       "(array([2.632e+03, 2.045e+03, 1.459e+03, 1.121e+03, 7.470e+02, 5.870e+02,\n",
       "        4.690e+02, 3.390e+02, 1.750e+02, 1.400e+02, 9.600e+01, 7.100e+01,\n",
       "        4.900e+01, 3.000e+01, 1.700e+01, 1.200e+01, 5.000e+00, 3.000e+00,\n",
       "        2.000e+00, 1.000e+00]),\n",
       " array([8.36825831e-06, 3.04449371e-02, 6.08815060e-02, 9.13180748e-02,\n",
       "        1.21754644e-01, 1.52191213e-01, 1.82627781e-01, 2.13064350e-01,\n",
       "        2.43500919e-01, 2.73937488e-01, 3.04374057e-01, 3.34810626e-01,\n",
       "        3.65247195e-01, 3.95683763e-01, 4.26120332e-01, 4.56556901e-01,\n",
       "        4.86993470e-01, 5.17430039e-01, 5.47866608e-01, 5.78303177e-01,\n",
       "        6.08739745e-01]),\n",
       " <a list of 20 Patch objects>)"
      ]
     },
     "execution_count": 12,
     "metadata": {},
     "output_type": "execute_result"
    },
    {
     "data": {
      "image/png": "[encoded data removed]",
      "text/plain": [
       "<Figure size 432x288 with 1 Axes>"
      ]
     },
     "metadata": {
      "needs_background": "light"
     },
     "output_type": "display_data"
    }
   ],
   "source": [
    "plt.hist(random.beta(1, 10, size = 10000), bins = 20)"
   ]
  }
 ],
 "metadata": {
  "kernelspec": {
   "display_name": "Python 3",
   "language": "python",
   "name": "python3"
  },
  "language_info": {
   "codemirror_mode": {
    "name": "ipython",
    "version": 3
   },
   "file_extension": ".py",
   "mimetype": "text/x-python",
   "name": "python",
   "nbconvert_exporter": "python",
   "pygments_lexer": "ipython3",
   "version": "3.6.5"
  }
 },
 "nbformat": 4,
 "nbformat_minor": 2
}
