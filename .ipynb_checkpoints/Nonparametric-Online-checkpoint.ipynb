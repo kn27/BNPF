{
 "cells": [
  {
   "cell_type": "code",
   "execution_count": 1,
   "metadata": {
    "ExecuteTime": {
     "end_time": "2019-12-14T06:51:00.777339Z",
     "start_time": "2019-12-14T06:51:00.348338Z"
    }
   },
   "outputs": [],
   "source": [
    "%load_ext autoreload\n",
    "%autoreload 2"
   ]
  },
  {
   "cell_type": "code",
   "execution_count": 2,
   "metadata": {},
   "outputs": [],
   "source": [
    "from matplotlib import pyplot as plt\n",
    "%matplotlib inline"
   ]
  },
  {
   "cell_type": "code",
   "execution_count": 3,
   "metadata": {},
   "outputs": [],
   "source": [
    "import seaborn as sns"
   ]
  },
  {
   "cell_type": "code",
   "execution_count": 4,
   "metadata": {
    "ExecuteTime": {
     "end_time": "2019-12-14T06:51:11.812337Z",
     "start_time": "2019-12-14T06:51:00.783337Z"
    }
   },
   "outputs": [],
   "source": [
    "import numpy as np \n",
    "from numpy import random\n",
    "import scipy.stats as stats\n",
    "import os\n",
    "import json\n",
    "import scipy\n",
    "import copy \n",
    "import scipy.sparse as sparse\n",
    "from scipy.special import digamma\n",
    "import time"
   ]
  },
  {
   "cell_type": "code",
   "execution_count": 5,
   "metadata": {
    "ExecuteTime": {
     "end_time": "2019-12-14T06:51:12.442338Z",
     "start_time": "2019-12-14T06:51:11.846336Z"
    }
   },
   "outputs": [],
   "source": [
    "from matrix_factorization import read"
   ]
  },
  {
   "cell_type": "code",
   "execution_count": 6,
   "metadata": {
    "ExecuteTime": {
     "end_time": "2019-12-14T06:51:12.972342Z",
     "start_time": "2019-12-14T06:51:12.450337Z"
    }
   },
   "outputs": [],
   "source": [
    "from nonparametric_online import OnlineNPNMF\n",
    "from nonparametric import simulate, NPNMF\n",
    "from parametric import HPF"
   ]
  },
  {
   "cell_type": "code",
   "execution_count": 34,
   "metadata": {
    "ExecuteTime": {
     "end_time": "2019-12-14T06:51:31.398342Z",
     "start_time": "2019-12-14T06:51:27.696347Z"
    }
   },
   "outputs": [],
   "source": [
    "X, theta, beta, s, v = simulate(U = 100,\n",
    "    D = 100,\n",
    "    K = 10,\n",
    "    alpha=1.1,\n",
    "    beta_shape_prior=0.3,\n",
    "    beta_rate_prior=0.3,\n",
    "    s_rate_prior=1.1, seed = 0)"
   ]
  },
  {
   "cell_type": "code",
   "execution_count": 35,
   "metadata": {},
   "outputs": [
    {
     "data": {
      "text/plain": [
       "array([[ 2,  0,  0, ..., 12,  2,  3],\n",
       "       [ 1,  1,  0, ...,  0,  1,  0],\n",
       "       [ 4,  7,  1, ...,  6,  2,  9],\n",
       "       ...,\n",
       "       [ 0,  0,  0, ...,  0,  0,  1],\n",
       "       [ 2,  0,  0, ...,  1,  0,  0],\n",
       "       [ 1,  1,  0, ...,  3,  0,  0]])"
      ]
     },
     "execution_count": 35,
     "metadata": {},
     "output_type": "execute_result"
    }
   ],
   "source": [
    "X"
   ]
  },
  {
   "cell_type": "code",
   "execution_count": 36,
   "metadata": {
    "ExecuteTime": {
     "end_time": "2019-12-14T06:51:34.800342Z",
     "start_time": "2019-12-14T06:51:33.341340Z"
    }
   },
   "outputs": [],
   "source": [
    "X = scipy.sparse.csr_matrix(X)"
   ]
  },
  {
   "cell_type": "code",
   "execution_count": 42,
   "metadata": {
    "scrolled": true
   },
   "outputs": [
    {
     "name": "stdout",
     "output_type": "stream",
     "text": [
      "Using fixed seed 0\n"
     ]
    }
   ],
   "source": [
    "hpf = HPF(X ,T = 10, seed = 0, threshold = 1e-5, max_iter = 100)"
   ]
  },
  {
   "cell_type": "code",
   "execution_count": 43,
   "metadata": {
    "scrolled": true
   },
   "outputs": [
    {
     "name": "stdout",
     "output_type": "stream",
     "text": [
      "Iter 1: logjoint = -52952.08450555664, last_logjoint = 0\n",
      "Iter 2: logjoint = -931.9004559994105, last_logjoint = -52952.08450555664\n",
      "Iter 3: logjoint = 375.0394158417639, last_logjoint = -931.9004559994105\n",
      "Iter 4: logjoint = 733.510996252633, last_logjoint = 375.0394158417639\n",
      "Iter 5: logjoint = 885.9859519328957, last_logjoint = 733.510996252633\n",
      "Iter 6: logjoint = 967.8645293300233, last_logjoint = 885.9859519328957\n",
      "Iter 7: logjoint = 1019.0509857898032, last_logjoint = 967.8645293300233\n",
      "Iter 8: logjoint = 1054.466177025678, last_logjoint = 1019.0509857898032\n",
      "Iter 9: logjoint = 1080.6392809284953, last_logjoint = 1054.466177025678\n",
      "Iter 10: logjoint = 1100.935021265086, last_logjoint = 1080.6392809284953\n",
      "Iter 11: logjoint = 1117.3296999755785, last_logjoint = 1100.935021265086\n",
      "Iter 12: logjoint = 1131.0367118648956, last_logjoint = 1117.3296999755785\n",
      "Iter 13: logjoint = 1142.8465176710797, last_logjoint = 1131.0367118648956\n",
      "Iter 14: logjoint = 1153.2939097100461, last_logjoint = 1142.8465176710797\n",
      "Iter 15: logjoint = 1162.6931404940879, last_logjoint = 1153.2939097100461\n",
      "Iter 16: logjoint = 1171.1822356994253, last_logjoint = 1162.6931404940879\n",
      "Iter 17: logjoint = 1178.8049878775018, last_logjoint = 1171.1822356994253\n",
      "Iter 18: logjoint = 1185.5525886654323, last_logjoint = 1178.8049878775018\n",
      "Iter 19: logjoint = 1191.3219784455741, last_logjoint = 1185.5525886654323\n",
      "Iter 20: logjoint = 1196.0017901425417, last_logjoint = 1191.3219784455741\n",
      "Iter 21: logjoint = 1199.6352921182097, last_logjoint = 1196.0017901425417\n",
      "Iter 22: logjoint = 1202.4476895076223, last_logjoint = 1199.6352921182097\n",
      "Iter 23: logjoint = 1204.7996620904596, last_logjoint = 1202.4476895076223\n",
      "Iter 24: logjoint = 1207.1744627573498, last_logjoint = 1204.7996620904596\n",
      "Iter 25: logjoint = 1209.7742212087433, last_logjoint = 1207.1744627573498\n",
      "Iter 26: logjoint = 1212.311240148334, last_logjoint = 1209.7742212087433\n",
      "Iter 27: logjoint = 1214.5520303252233, last_logjoint = 1212.311240148334\n",
      "Iter 28: logjoint = 1215.8982299081836, last_logjoint = 1214.5520303252233\n",
      "Iter 29: logjoint = 1215.9756944135297, last_logjoint = 1215.8982299081836\n",
      "Iter 30: logjoint = 1214.8918259164802, last_logjoint = 1215.9756944135297\n",
      "Iter 31: logjoint = 1212.7618227101302, last_logjoint = 1214.8918259164802\n",
      "Iter 32: logjoint = 1209.7893029871866, last_logjoint = 1212.7618227101302\n",
      "Iter 33: logjoint = 1206.3796044878454, last_logjoint = 1209.7893029871866\n",
      "Iter 34: logjoint = 1203.2389520125635, last_logjoint = 1206.3796044878454\n",
      "Iter 35: logjoint = 1201.287834356961, last_logjoint = 1203.2389520125635\n",
      "Iter 36: logjoint = 1201.1037694336846, last_logjoint = 1201.287834356961\n",
      "Iter 37: logjoint = 1202.277108659564, last_logjoint = 1201.1037694336846\n",
      "Iter 38: logjoint = 1204.1207709207774, last_logjoint = 1202.277108659564\n",
      "Iter 39: logjoint = 1206.5164996909261, last_logjoint = 1204.1207709207774\n",
      "Iter 40: logjoint = 1209.2087810245175, last_logjoint = 1206.5164996909261\n",
      "Iter 41: logjoint = 1211.5848682527267, last_logjoint = 1209.2087810245175\n",
      "Iter 42: logjoint = 1213.567790596011, last_logjoint = 1211.5848682527267\n",
      "Iter 43: logjoint = 1215.259935901522, last_logjoint = 1213.567790596011\n",
      "Iter 44: logjoint = 1216.7334935886593, last_logjoint = 1215.259935901522\n",
      "Iter 45: logjoint = 1218.0344956126319, last_logjoint = 1216.7334935886593\n",
      "Iter 46: logjoint = 1219.1965918637452, last_logjoint = 1218.0344956126319\n",
      "Iter 47: logjoint = 1220.2488662033866, last_logjoint = 1219.1965918637452\n",
      "Iter 48: logjoint = 1221.2189658599218, last_logjoint = 1220.2488662033866\n",
      "Iter 49: logjoint = 1222.1308060405172, last_logjoint = 1221.2189658599218\n",
      "Iter 50: logjoint = 1222.9975580965292, last_logjoint = 1222.1308060405172\n",
      "Iter 51: logjoint = 1223.8155403631881, last_logjoint = 1222.9975580965292\n",
      "Iter 52: logjoint = 1224.5664301206962, last_logjoint = 1223.8155403631881\n",
      "Iter 53: logjoint = 1225.229774811738, last_logjoint = 1224.5664301206962\n",
      "Iter 54: logjoint = 1225.7968566928994, last_logjoint = 1225.229774811738\n",
      "Iter 55: logjoint = 1226.2743327980788, last_logjoint = 1225.7968566928994\n",
      "Iter 56: logjoint = 1226.6777225680544, last_logjoint = 1226.2743327980788\n",
      "Iter 57: logjoint = 1227.02349697727, last_logjoint = 1226.6777225680544\n",
      "Iter 58: logjoint = 1227.3251300695938, last_logjoint = 1227.02349697727\n",
      "Iter 59: logjoint = 1227.5925598989706, last_logjoint = 1227.3251300695938\n",
      "Iter 60: logjoint = 1227.8328522760803, last_logjoint = 1227.5925598989706\n",
      "Iter 61: logjoint = 1228.0508744203798, last_logjoint = 1227.8328522760803\n",
      "Iter 62: logjoint = 1228.2497621152852, last_logjoint = 1228.0508744203798\n",
      "Iter 63: logjoint = 1228.4312590166792, last_logjoint = 1228.2497621152852\n",
      "Iter 64: logjoint = 1228.5960964208698, last_logjoint = 1228.4312590166792\n",
      "Iter 65: logjoint = 1228.7445096738884, last_logjoint = 1228.5960964208698\n",
      "Iter 66: logjoint = 1228.876709925289, last_logjoint = 1228.7445096738884\n",
      "Iter 67: logjoint = 1228.9931166968054, last_logjoint = 1228.876709925289\n",
      "Iter 68: logjoint = 1229.09439370562, last_logjoint = 1228.9931166968054\n",
      "Iter 69: logjoint = 1229.1814091762953, last_logjoint = 1229.09439370562\n",
      "Iter 70: logjoint = 1229.255185816748, last_logjoint = 1229.1814091762953\n",
      "Iter 71: logjoint = 1229.316857334321, last_logjoint = 1229.255185816748\n",
      "Iter 72: logjoint = 1229.3676316032397, last_logjoint = 1229.316857334321\n",
      "Iter 73: logjoint = 1229.4087420193282, last_logjoint = 1229.3676316032397\n",
      "Iter 74: logjoint = 1229.4413433003701, last_logjoint = 1229.4087420193282\n",
      "Iter 75: logjoint = 1229.4663805074251, last_logjoint = 1229.4413433003701\n",
      "Iter 76: logjoint = 1229.4845566278418, last_logjoint = 1229.4663805074251\n",
      "Iter 77: logjoint = 1229.4964464120294, last_logjoint = 1229.4845566278418\n",
      "Converged!\n"
     ]
    }
   ],
   "source": [
    "hpf.inference(False)"
   ]
  },
  {
   "cell_type": "code",
   "execution_count": 51,
   "metadata": {
    "scrolled": false
   },
   "outputs": [
    {
     "data": {
      "image/png": "[encoded data removed]",
      "text/plain": [
       "<Figure size 432x288 with 1 Axes>"
      ]
     },
     "metadata": {
      "needs_background": "light"
     },
     "output_type": "display_data"
    }
   ],
   "source": [
    "hpf.posterior_check(False)"
   ]
  },
  {
   "cell_type": "code",
   "execution_count": 82,
   "metadata": {
    "scrolled": true
   },
   "outputs": [
    {
     "name": "stdout",
     "output_type": "stream",
     "text": [
      "Using fixed seed 0\n",
      "logjoint:-98688.90385623364\n",
      "Iter 1: logjoint = -98688.90385623364, last_logjoint = 0\n"
     ]
    },
    {
     "name": "stderr",
     "output_type": "stream",
     "text": [
      "/home/keane/anaconda3/lib/python3.7/site-packages/statsmodels/nonparametric/kde.py:488: RuntimeWarning: invalid value encountered in true_divide\n",
      "  binned = fast_linbin(X, a, b, gridsize) / (delta * nobs)\n",
      "/home/keane/anaconda3/lib/python3.7/site-packages/statsmodels/nonparametric/kdetools.py:34: RuntimeWarning: invalid value encountered in double_scalars\n",
      "  FAC1 = 2*(np.pi*bw/RANGE)**2\n"
     ]
    },
    {
     "name": "stdout",
     "output_type": "stream",
     "text": [
      "logjoint:-95965.81221359652\n",
      "Iter 2: logjoint = -95965.81221359652, last_logjoint = -98688.90385623364\n",
      "logjoint:-95689.8551037763\n",
      "Iter 3: logjoint = -95689.8551037763, last_logjoint = -95965.81221359652\n",
      "logjoint:-95970.26865890934\n",
      "Iter 4: logjoint = -95970.26865890934, last_logjoint = -95689.8551037763\n",
      "logjoint:-96300.6480872618\n",
      "Iter 5: logjoint = -96300.6480872618, last_logjoint = -95970.26865890934\n",
      "logjoint:-95782.47524925026\n",
      "Iter 6: logjoint = -95782.47524925026, last_logjoint = -96300.6480872618\n",
      "logjoint:-91970.91055317511\n",
      "Iter 7: logjoint = -91970.91055317511, last_logjoint = -95782.47524925026\n",
      "logjoint:-81761.9472772721\n",
      "Iter 8: logjoint = -81761.9472772721, last_logjoint = -91970.91055317511\n",
      "logjoint:-65063.817325182674\n",
      "Iter 9: logjoint = -65063.817325182674, last_logjoint = -81761.9472772721\n",
      "logjoint:-45813.58676451382\n",
      "Iter 10: logjoint = -45813.58676451382, last_logjoint = -65063.817325182674\n",
      "logjoint:-26296.550371435675\n",
      "Iter 11: logjoint = -26296.550371435675, last_logjoint = -45813.58676451382\n",
      "logjoint:-11623.628124701489\n",
      "Iter 12: logjoint = -11623.628124701489, last_logjoint = -26296.550371435675\n",
      "logjoint:-4124.857607531873\n",
      "Iter 13: logjoint = -4124.857607531873, last_logjoint = -11623.628124701489\n",
      "logjoint:-1530.7272334899453\n",
      "Iter 14: logjoint = -1530.7272334899453, last_logjoint = -4124.857607531873\n",
      "logjoint:-954.7422301584247\n",
      "Iter 15: logjoint = -954.7422301584247, last_logjoint = -1530.7272334899453\n",
      "logjoint:-873.2937141249804\n",
      "Iter 16: logjoint = -873.2937141249804, last_logjoint = -954.7422301584247\n",
      "logjoint:-842.7571352606292\n",
      "Iter 17: logjoint = -842.7571352606292, last_logjoint = -873.2937141249804\n",
      "logjoint:-820.492051468158\n",
      "Iter 18: logjoint = -820.492051468158, last_logjoint = -842.7571352606292\n",
      "logjoint:-803.588975208635\n",
      "Iter 19: logjoint = -803.588975208635, last_logjoint = -820.492051468158\n",
      "logjoint:-790.5895062024792\n",
      "Iter 20: logjoint = -790.5895062024792, last_logjoint = -803.588975208635\n",
      "logjoint:-780.4917018889537\n",
      "Iter 21: logjoint = -780.4917018889537, last_logjoint = -790.5895062024792\n",
      "logjoint:-772.5861040506607\n",
      "Iter 22: logjoint = -772.5861040506607, last_logjoint = -780.4917018889537\n",
      "logjoint:-766.3585054353925\n",
      "Iter 23: logjoint = -766.3585054353925, last_logjoint = -772.5861040506607\n",
      "logjoint:-761.4287917171187\n",
      "Iter 24: logjoint = -761.4287917171187, last_logjoint = -766.3585054353925\n",
      "logjoint:-757.5113247562222\n",
      "Iter 25: logjoint = -757.5113247562222, last_logjoint = -761.4287917171187\n",
      "logjoint:-754.3886615626006\n",
      "Iter 26: logjoint = -754.3886615626006, last_logjoint = -757.5113247562222\n",
      "logjoint:-751.8933660535458\n",
      "Iter 27: logjoint = -751.8933660535458, last_logjoint = -754.3886615626006\n",
      "logjoint:-749.8954316750587\n",
      "Iter 28: logjoint = -749.8954316750587, last_logjoint = -751.8933660535458\n",
      "logjoint:-748.2931368942627\n",
      "Iter 29: logjoint = -748.2931368942627, last_logjoint = -749.8954316750587\n",
      "logjoint:-747.0064320205975\n",
      "Iter 30: logjoint = -747.0064320205975, last_logjoint = -748.2931368942627\n",
      "logjoint:-745.9720155669056\n",
      "Iter 31: logjoint = -745.9720155669056, last_logjoint = -747.0064320205975\n",
      "logjoint:-745.139631851539\n",
      "Iter 32: logjoint = -745.139631851539, last_logjoint = -745.9720155669056\n",
      "logjoint:-744.4692524473312\n",
      "Iter 33: logjoint = -744.4692524473312, last_logjoint = -745.139631851539\n",
      "logjoint:-743.9289083003068\n",
      "Iter 34: logjoint = -743.9289083003068, last_logjoint = -744.4692524473312\n",
      "logjoint:-743.493007543615\n",
      "Iter 35: logjoint = -743.493007543615, last_logjoint = -743.9289083003068\n",
      "logjoint:-743.1410200705695\n",
      "Iter 36: logjoint = -743.1410200705695, last_logjoint = -743.493007543615\n",
      "logjoint:-742.85644156132\n",
      "Iter 37: logjoint = -742.85644156132, last_logjoint = -743.1410200705695\n",
      "logjoint:-742.6259716229652\n",
      "Iter 38: logjoint = -742.6259716229652, last_logjoint = -742.85644156132\n",
      "logjoint:-742.4388559125737\n",
      "Iter 39: logjoint = -742.4388559125737, last_logjoint = -742.6259716229652\n",
      "logjoint:-742.2863522100088\n",
      "Iter 40: logjoint = -742.2863522100088, last_logjoint = -742.4388559125737\n",
      "logjoint:-742.1612859168226\n",
      "Iter 41: logjoint = -742.1612859168226, last_logjoint = -742.2863522100088\n",
      "logjoint:-742.0576603827149\n",
      "Iter 42: logjoint = -742.0576603827149, last_logjoint = -742.1612859168226\n",
      "logjoint:-741.9702776441127\n",
      "Iter 43: logjoint = -741.9702776441127, last_logjoint = -742.0576603827149\n",
      "logjoint:-741.8942929979594\n",
      "Iter 44: logjoint = -741.8942929979594, last_logjoint = -741.9702776441127\n",
      "logjoint:-741.8245337330936\n",
      "Iter 45: logjoint = -741.8245337330936, last_logjoint = -741.8942929979594\n",
      "logjoint:-741.7541315458075\n",
      "Iter 46: logjoint = -741.7541315458075, last_logjoint = -741.8245337330936\n",
      "logjoint:-741.6711176091758\n",
      "Iter 47: logjoint = -741.6711176091758, last_logjoint = -741.7541315458075\n",
      "logjoint:-741.5491013852406\n",
      "Iter 48: logjoint = -741.5491013852406, last_logjoint = -741.6711176091758\n",
      "logjoint:-741.3337372294527\n",
      "Iter 49: logjoint = -741.3337372294527, last_logjoint = -741.5491013852406\n",
      "logjoint:-741.0366256664829\n",
      "Iter 50: logjoint = -741.0366256664829, last_logjoint = -741.3337372294527\n",
      "logjoint:-740.876489658971\n",
      "Iter 51: logjoint = -740.876489658971, last_logjoint = -741.0366256664829\n",
      "logjoint:-740.9434039409225\n",
      "Iter 52: logjoint = -740.9434039409225, last_logjoint = -740.876489658971\n",
      "logjoint:-741.1646855012405\n",
      "Iter 53: logjoint = -741.1646855012405, last_logjoint = -740.9434039409225\n",
      "logjoint:-741.4481420398924\n",
      "Iter 54: logjoint = -741.4481420398924, last_logjoint = -741.1646855012405\n",
      "logjoint:-741.7268456546526\n",
      "Iter 55: logjoint = -741.7268456546526, last_logjoint = -741.4481420398924\n",
      "logjoint:-741.9646907066872\n",
      "Iter 56: logjoint = -741.9646907066872, last_logjoint = -741.7268456546526\n",
      "logjoint:-742.149411063865\n",
      "Iter 57: logjoint = -742.149411063865, last_logjoint = -741.9646907066872\n",
      "logjoint:-742.2830161192678\n",
      "Iter 58: logjoint = -742.2830161192678, last_logjoint = -742.149411063865\n",
      "logjoint:-742.3739821947756\n",
      "Iter 59: logjoint = -742.3739821947756, last_logjoint = -742.2830161192678\n",
      "logjoint:-742.4323456872726\n",
      "Iter 60: logjoint = -742.4323456872726, last_logjoint = -742.3739821947756\n",
      "logjoint:-742.4672462258632\n",
      "Iter 61: logjoint = -742.4672462258632, last_logjoint = -742.4323456872726\n",
      "logjoint:-742.4860358800797\n",
      "Iter 62: logjoint = -742.4860358800797, last_logjoint = -742.4672462258632\n",
      "logjoint:-742.4942052058541\n",
      "Iter 63: logjoint = -742.4942052058541, last_logjoint = -742.4860358800797\n",
      "logjoint:-742.4956488344114\n",
      "Iter 64: logjoint = -742.4956488344114, last_logjoint = -742.4942052058541\n",
      "Converged!\n"
     ]
    },
    {
     "data": {
      "text/plain": [
       "<Figure size 432x288 with 0 Axes>"
      ]
     },
     "metadata": {},
     "output_type": "display_data"
    }
   ],
   "source": [
    "nmf = NPNMF(X ,T = 15, seed = 0, threshold = 1e-5, max_iter = 100)\n",
    "nmf.inference()"
   ]
  },
  {
   "cell_type": "code",
   "execution_count": 81,
   "metadata": {},
   "outputs": [
    {
     "data": {
      "text/plain": [
       "array([[1.27398754e-02, 5.38924592e-02, 1.40225948e-02, 5.38924592e-02,\n",
       "        3.52220721e+00, 5.38924592e-02, 5.38924592e-02, 5.38924592e-02,\n",
       "        6.65223978e-03, 5.38924592e-02],\n",
       "       [4.66530708e+00, 7.21208914e-02, 2.31229456e-02, 7.21208914e-02,\n",
       "        8.27315099e-03, 7.21208914e-02, 7.21208914e-02, 7.21208914e-02,\n",
       "        9.49189343e-03, 7.21208914e-02],\n",
       "       [2.61556595e-02, 9.91042278e-02, 9.04934445e-02, 9.91042278e-02,\n",
       "        8.75240621e-01, 9.91042278e-02, 9.91042278e-02, 9.91042278e-02,\n",
       "        1.67017629e-02, 9.91042278e-02],\n",
       "       [2.41774513e-02, 8.85558711e-02, 1.75649742e-02, 8.85558711e-02,\n",
       "        7.02477566e-02, 8.85558711e-02, 8.85558711e-02, 8.85558711e-02,\n",
       "        1.31642254e+00, 8.85558711e-02],\n",
       "       [2.29757077e-02, 8.41378741e-02, 2.70395644e-02, 8.41378741e-02,\n",
       "        6.30082077e-01, 8.41378741e-02, 8.41378741e-02, 8.41378741e-02,\n",
       "        8.40945496e-01, 8.41378741e-02],\n",
       "       [4.39020444e-02, 1.16629308e-01, 6.63100209e-02, 1.16629308e-01,\n",
       "        8.28645359e-01, 1.16629308e-01, 1.16629308e-01, 1.16629308e-01,\n",
       "        2.44257802e-02, 1.16629308e-01],\n",
       "       [2.73782797e-02, 1.05527959e-01, 3.43281430e-02, 1.05527959e-01,\n",
       "        1.42220088e-02, 1.05527959e-01, 1.05527959e-01, 1.05527959e-01,\n",
       "        1.85989073e+00, 1.05527959e-01],\n",
       "       [1.55135779e-02, 6.23734596e-02, 1.72549380e-02, 6.23734596e-02,\n",
       "        1.52668187e+00, 6.23734596e-02, 6.23734596e-02, 6.23734596e-02,\n",
       "        8.50160073e-03, 6.23734596e-02],\n",
       "       [8.28936437e+00, 4.68035050e-02, 1.11488269e-02, 4.68035050e-02,\n",
       "        4.99232071e-03, 4.68035050e-02, 4.68035050e-02, 4.68035050e-02,\n",
       "        6.08129799e-03, 4.68035050e-02],\n",
       "       [1.89781430e-02, 8.43329739e-02, 3.95878043e-02, 8.43329739e-02,\n",
       "        3.68627676e-01, 8.43329739e-02, 8.43329739e-02, 8.43329739e-02,\n",
       "        1.16638717e+00, 8.43329739e-02],\n",
       "       [2.59350610e-02, 6.05470543e-02, 1.41002367e-02, 6.05470543e-02,\n",
       "        6.64675830e-03, 6.05470543e-02, 6.05470543e-02, 6.05470543e-02,\n",
       "        2.22078766e+00, 6.05470543e-02],\n",
       "       [4.79082771e-02, 1.16451375e-01, 7.28585401e-02, 1.16451375e-01,\n",
       "        2.82202230e-02, 1.16451375e-01, 1.16451375e-01, 1.16451375e-01,\n",
       "        8.53041828e-01, 1.16451375e-01],\n",
       "       [1.33150215e-02, 5.47008178e-02, 3.28319019e-01, 5.47008178e-02,\n",
       "        1.49552337e+00, 5.47008178e-02, 5.47008178e-02, 5.47008178e-02,\n",
       "        6.94563227e-03, 5.47008178e-02],\n",
       "       [1.65213101e-02, 7.40603850e-02, 2.28456026e-02, 7.40603850e-02,\n",
       "        1.50727823e+00, 7.40603850e-02, 7.40603850e-02, 7.40603850e-02,\n",
       "        2.25444924e-01, 7.40603850e-02],\n",
       "       [3.81402824e-02, 1.11165673e-01, 6.90065358e-02, 1.11165673e-01,\n",
       "        2.04698041e-02, 1.11165673e-01, 1.11165673e-01, 1.11165673e-01,\n",
       "        1.01075366e+00, 1.11165673e-01],\n",
       "       [4.85510643e-02, 1.23761896e-01, 8.13895563e-02, 1.23761896e-01,\n",
       "        7.26281653e-01, 1.23761896e-01, 1.23761896e-01, 1.23761896e-01,\n",
       "        3.52395831e-02, 1.23761896e-01],\n",
       "       [6.83115655e-02, 1.35857261e-01, 1.46073198e-01, 1.35857261e-01,\n",
       "        1.07109445e+00, 1.35857261e-01, 1.35857261e-01, 1.35857261e-01,\n",
       "        3.04001695e-02, 1.35857261e-01],\n",
       "       [3.52178287e-02, 1.19045289e-01, 5.82966282e-02, 1.19045289e-01,\n",
       "        7.70362920e-01, 1.19045289e-01, 1.19045289e-01, 1.19045289e-01,\n",
       "        1.87917857e-02, 1.19045289e-01],\n",
       "       [2.11906152e-02, 9.11277439e-02, 3.36586955e-02, 9.11277439e-02,\n",
       "        1.06856293e-02, 9.11277439e-02, 9.11277439e-02, 9.11277439e-02,\n",
       "        1.79317342e+00, 9.11277439e-02],\n",
       "       [2.30766785e-02, 8.32981939e-02, 2.11967607e-02, 8.32981939e-02,\n",
       "        1.12722007e+00, 8.32981939e-02, 8.32981939e-02, 8.32981939e-02,\n",
       "        1.23503900e-02, 8.32981939e-02],\n",
       "       [1.51991745e-02, 6.97538502e-02, 2.03669719e-02, 6.97538502e-02,\n",
       "        1.78031017e+00, 6.97538502e-02, 6.97538502e-02, 6.97538502e-02,\n",
       "        8.79642725e-03, 6.97538502e-02],\n",
       "       [1.67976236e-02, 6.28209671e-02, 4.91513989e-01, 6.28209671e-02,\n",
       "        1.45720013e+00, 6.28209671e-02, 6.28209671e-02, 6.28209671e-02,\n",
       "        8.52690931e-03, 6.28209671e-02],\n",
       "       [4.07125563e-02, 1.21423733e-01, 7.41566411e-02, 1.21423733e-01,\n",
       "        5.06345644e-01, 1.21423733e-01, 1.21423733e-01, 1.21423733e-01,\n",
       "        2.74558856e-01, 1.21423733e-01],\n",
       "       [1.91978543e-02, 7.81066839e-02, 2.24069347e-02, 7.81066839e-02,\n",
       "        1.29653134e+00, 7.81066839e-02, 7.81066839e-02, 7.81066839e-02,\n",
       "        1.10999393e-02, 7.81066839e-02],\n",
       "       [1.98038644e-02, 7.80626659e-02, 1.73758656e-02, 7.80626659e-02,\n",
       "        8.99119459e-01, 7.80626659e-02, 7.80626659e-02, 7.80626659e-02,\n",
       "        4.91743069e-01, 7.80626659e-02],\n",
       "       [3.09651172e-02, 1.07326755e-01, 3.81666629e-02, 1.07326755e-01,\n",
       "        1.85546327e-02, 1.07326755e-01, 1.07326755e-01, 1.07326755e-01,\n",
       "        1.08557141e+00, 1.07326755e-01],\n",
       "       [1.85825830e-02, 7.26431948e-02, 1.60065785e-02, 7.26431948e-02,\n",
       "        1.59073565e+00, 7.26431948e-02, 7.26431948e-02, 7.26431948e-02,\n",
       "        9.58083848e-03, 7.26431948e-02],\n",
       "       [2.26693146e-02, 9.13925412e-02, 3.04686002e-02, 9.13925412e-02,\n",
       "        6.88579366e-01, 9.13925412e-02, 9.13925412e-02, 9.13925412e-02,\n",
       "        5.78932381e-01, 9.13925412e-02],\n",
       "       [4.41271054e-01, 7.26654783e-02, 2.11960477e-02, 7.26654783e-02,\n",
       "        8.00054664e-03, 7.26654783e-02, 7.26654783e-02, 7.26654783e-02,\n",
       "        1.78928752e+00, 7.26654783e-02],\n",
       "       [1.39540660e-02, 5.49750220e-02, 7.02361588e-01, 5.49750220e-02,\n",
       "        5.89073309e-03, 5.49750220e-02, 5.49750220e-02, 5.49750220e-02,\n",
       "        1.78118112e+00, 5.49750220e-02],\n",
       "       [4.83704332e-02, 1.17332956e-01, 4.53652073e-02, 1.17332956e-01,\n",
       "        2.40848405e-02, 1.17332956e-01, 1.17332956e-01, 1.17332956e-01,\n",
       "        8.94300096e-01, 1.17332956e-01],\n",
       "       [1.29025120e-02, 5.13780807e-02, 1.30455470e-02, 5.13780807e-02,\n",
       "        5.67103450e-03, 5.13780807e-02, 5.13780807e-02, 5.13780807e-02,\n",
       "        2.41096555e+00, 5.13780807e-02],\n",
       "       [1.45201289e-02, 6.18541657e-02, 1.38086793e-02, 6.18541657e-02,\n",
       "        2.33481503e+00, 6.18541657e-02, 6.18541657e-02, 6.18541657e-02,\n",
       "        7.84299775e-03, 6.18541657e-02],\n",
       "       [2.03164816e-02, 8.12726450e-02, 1.57966229e-02, 8.12726450e-02,\n",
       "        9.61907249e-03, 8.12726450e-02, 8.12726450e-02, 8.12726450e-02,\n",
       "        1.75390504e+00, 8.12726450e-02],\n",
       "       [2.25698490e+00, 8.43946458e-02, 3.21518527e-02, 8.43946458e-02,\n",
       "        1.16423473e-02, 8.43946458e-02, 8.43946458e-02, 8.43946458e-02,\n",
       "        1.47047161e-02, 8.43946458e-02],\n",
       "       [1.15820394e-02, 4.66434548e-02, 3.43595288e+00, 4.66434548e-02,\n",
       "        1.67448572e+00, 4.66434548e-02, 4.66434548e-02, 4.66434548e-02,\n",
       "        5.43538598e-01, 4.66434548e-02],\n",
       "       [3.81699285e-02, 1.01396998e-01, 6.28105198e-02, 1.01396998e-01,\n",
       "        8.07146384e-01, 1.01396998e-01, 1.01396998e-01, 1.01396998e-01,\n",
       "        2.22087885e-02, 1.01396998e-01],\n",
       "       [6.42180240e-02, 1.36772539e-01, 7.49114527e-02, 1.36772539e-01,\n",
       "        5.16583654e-02, 1.36772539e-01, 1.36772539e-01, 1.36772539e-01,\n",
       "        6.11350917e-01, 1.36772539e-01],\n",
       "       [4.13467459e+00, 7.34361358e-02, 2.28162390e-02, 7.34361358e-02,\n",
       "        7.82011579e-03, 7.34361358e-02, 7.34361358e-02, 7.34361358e-02,\n",
       "        9.72275724e-03, 7.34361358e-02],\n",
       "       [1.38296812e-02, 5.83010779e-02, 1.45497447e-02, 5.83010779e-02,\n",
       "        2.02806778e+00, 5.83010779e-02, 5.83010779e-02, 5.83010779e-02,\n",
       "        7.54251139e-03, 5.83010779e-02],\n",
       "       [1.48372463e-02, 6.07898185e-02, 1.33915575e-02, 6.07898185e-02,\n",
       "        1.73024110e+00, 6.07898185e-02, 6.07898185e-02, 6.07898185e-02,\n",
       "        8.51747770e-03, 6.07898185e-02],\n",
       "       [1.97548527e-02, 7.93084830e-02, 2.31707448e-02, 7.93084830e-02,\n",
       "        1.55691690e+00, 7.93084830e-02, 7.93084830e-02, 7.93084830e-02,\n",
       "        1.03678000e-02, 7.93084830e-02],\n",
       "       [3.51698950e-02, 1.09333174e-01, 7.24107026e-02, 1.09333174e-01,\n",
       "        1.04633317e+00, 1.09333174e-01, 1.09333174e-01, 1.09333174e-01,\n",
       "        2.19408519e-02, 1.09333174e-01],\n",
       "       [4.86301079e-02, 1.20339052e-01, 5.43493833e-02, 1.20339052e-01,\n",
       "        1.06284559e+00, 1.20339052e-01, 1.20339052e-01, 1.20339052e-01,\n",
       "        2.46282016e-02, 1.20339052e-01],\n",
       "       [2.44201082e-02, 9.34465684e-02, 3.64210608e-02, 9.34465684e-02,\n",
       "        2.67299832e-01, 9.34465684e-02, 9.34465684e-02, 9.34465684e-02,\n",
       "        1.42678228e+00, 9.34465684e-02],\n",
       "       [1.23896679e-02, 5.05375789e-02, 1.13695114e-02, 5.05375789e-02,\n",
       "        2.82990062e+00, 5.05375789e-02, 5.05375789e-02, 5.05375789e-02,\n",
       "        6.52991071e-03, 5.05375789e-02],\n",
       "       [1.67544568e-02, 6.74357497e-02, 1.45269342e-02, 6.74357497e-02,\n",
       "        7.54937683e-03, 6.74357497e-02, 6.74357497e-02, 6.74357497e-02,\n",
       "        2.03763639e+00, 6.74357497e-02],\n",
       "       [2.29172319e+00, 5.20563757e-02, 2.95458406e+00, 5.20563757e-02,\n",
       "        6.99009228e-01, 5.20563757e-02, 5.20563757e-02, 5.20563757e-02,\n",
       "        7.26054782e-03, 5.20563757e-02],\n",
       "       [2.95748015e-02, 9.62984556e-02, 3.19054915e-02, 9.62984556e-02,\n",
       "        1.39195729e-02, 9.62984556e-02, 9.62984556e-02, 9.62984556e-02,\n",
       "        1.29954562e+00, 9.62984556e-02],\n",
       "       [1.88049785e+00, 6.77511895e-02, 9.25240459e-01, 6.77511895e-02,\n",
       "        8.70597203e-03, 6.77511895e-02, 6.77511895e-02, 6.77511895e-02,\n",
       "        1.05645015e-02, 6.77511895e-02],\n",
       "       [1.25175764e-02, 5.64359732e-02, 1.05030142e-02, 5.64359732e-02,\n",
       "        6.58265740e-02, 5.64359732e-02, 5.64359732e-02, 5.64359732e-02,\n",
       "        3.48878091e+00, 5.64359732e-02],\n",
       "       [1.09377297e-02, 3.80915432e-02, 6.22841906e+00, 3.80915432e-02,\n",
       "        1.15724130e+00, 3.80915432e-02, 3.80915432e-02, 3.80915432e-02,\n",
       "        2.39612476e+00, 3.80915432e-02],\n",
       "       [1.57593422e-02, 6.19386817e-02, 1.74694852e-02, 6.19386817e-02,\n",
       "        3.52951533e-01, 6.19386817e-02, 6.19386817e-02, 6.19386817e-02,\n",
       "        1.60192820e+00, 6.19386817e-02],\n",
       "       [2.17757996e-02, 8.31244584e-02, 3.11236221e-02, 8.31244584e-02,\n",
       "        1.12211576e-02, 8.31244584e-02, 8.31244584e-02, 8.31244584e-02,\n",
       "        1.51650046e+00, 8.31244584e-02],\n",
       "       [1.31152760e-01, 6.44234190e-02, 4.74638827e-01, 6.44234190e-02,\n",
       "        9.49595072e-01, 6.44234190e-02, 6.44234190e-02, 6.44234190e-02,\n",
       "        3.58340002e-02, 6.44234190e-02],\n",
       "       [3.76034113e-02, 1.07418817e-01, 4.83745350e-02, 1.07418817e-01,\n",
       "        2.12372259e-02, 1.07418817e-01, 1.07418817e-01, 1.07418817e-01,\n",
       "        9.53388160e-01, 1.07418817e-01],\n",
       "       [1.19411759e-02, 4.36386228e-02, 5.29060057e+00, 4.36386228e-02,\n",
       "        2.51341266e+00, 4.36386228e-02, 4.36386228e-02, 4.36386228e-02,\n",
       "        6.32519136e-03, 4.36386228e-02],\n",
       "       [1.02347546e-02, 3.95804709e-02, 2.21846270e+00, 3.95804709e-02,\n",
       "        5.37894928e+00, 3.95804709e-02, 3.95804709e-02, 3.95804709e-02,\n",
       "        5.34430951e-03, 3.95804709e-02],\n",
       "       [1.13644461e-02, 4.62149188e-02, 2.00134132e+00, 4.62149188e-02,\n",
       "        9.24132563e-01, 4.62149188e-02, 4.62149188e-02, 4.62149188e-02,\n",
       "        1.67524605e+00, 4.62149188e-02],\n",
       "       [1.73188980e-02, 6.93246291e-02, 1.27807747e-02, 6.93246291e-02,\n",
       "        6.82683775e-01, 6.93246291e-02, 6.93246291e-02, 6.93246291e-02,\n",
       "        1.02552324e+00, 6.93246291e-02],\n",
       "       [2.28668799e-02, 9.16422383e-02, 5.51352267e-02, 9.16422383e-02,\n",
       "        8.37890277e-02, 9.16422383e-02, 9.16422383e-02, 9.16422383e-02,\n",
       "        1.78247271e+00, 9.16422383e-02],\n",
       "       [1.61614406e-02, 6.25391914e-02, 3.22302303e-01, 6.25391914e-02,\n",
       "        1.48063528e+00, 6.25391914e-02, 6.25391914e-02, 6.25391914e-02,\n",
       "        9.02399553e-03, 6.25391914e-02],\n",
       "       [2.44307756e-02, 1.02066134e-01, 6.35204734e-02, 1.02066134e-01,\n",
       "        1.33411181e-02, 1.02066134e-01, 1.02066134e-01, 1.02066134e-01,\n",
       "        1.95257666e+00, 1.02066134e-01],\n",
       "       [3.91171417e-02, 1.15898525e-01, 4.65265861e-02, 1.15898525e-01,\n",
       "        7.72350537e-01, 1.15898525e-01, 1.15898525e-01, 1.15898525e-01,\n",
       "        2.28736971e-02, 1.15898525e-01],\n",
       "       [3.43257159e-02, 1.08129647e-01, 2.80448984e-02, 1.08129647e-01,\n",
       "        1.36804608e+00, 1.08129647e-01, 1.08129647e-01, 1.08129647e-01,\n",
       "        1.87958324e-02, 1.08129647e-01],\n",
       "       [3.02645365e-02, 1.03753977e-01, 5.84355011e-02, 1.03753977e-01,\n",
       "        3.70479542e-01, 1.03753977e-01, 1.03753977e-01, 1.03753977e-01,\n",
       "        8.63413269e-01, 1.03753977e-01],\n",
       "       [2.31576209e-02, 9.73975482e-02, 3.65815806e-02, 9.73975482e-02,\n",
       "        8.31237757e-01, 9.73975482e-02, 9.73975482e-02, 9.73975482e-02,\n",
       "        1.30600897e-02, 9.73975482e-02],\n",
       "       [1.77647404e+00, 9.68664818e-02, 5.40695833e-01, 9.68664818e-02,\n",
       "        1.47942121e-02, 9.68664818e-02, 9.68664818e-02, 9.68664818e-02,\n",
       "        1.44055771e-02, 9.68664818e-02],\n",
       "       [1.93819179e-02, 6.17871418e-02, 9.09495870e-01, 6.17871418e-02,\n",
       "        5.74876394e-01, 6.17871418e-02, 6.17871418e-02, 6.17871418e-02,\n",
       "        9.35179046e-01, 6.17871418e-02],\n",
       "       [3.09852799e-02, 9.72999057e-02, 4.27449526e-02, 9.72999057e-02,\n",
       "        5.40740620e-01, 9.72999057e-02, 9.72999057e-02, 9.72999057e-02,\n",
       "        6.74787352e-01, 9.72999057e-02],\n",
       "       [1.48525210e-02, 6.68970409e-02, 1.62309354e-02, 6.68970409e-02,\n",
       "        1.66001486e+00, 6.68970409e-02, 6.68970409e-02, 6.68970409e-02,\n",
       "        2.14708136e-02, 6.68970409e-02],\n",
       "       [3.41403693e-02, 1.19283132e-01, 1.07690239e-01, 1.19283132e-01,\n",
       "        7.33592157e-02, 1.19283132e-01, 1.19283132e-01, 1.19283132e-01,\n",
       "        8.47682880e-01, 1.19283132e-01],\n",
       "       [1.07025059e-02, 4.42629608e-02, 1.02168182e-02, 4.42629608e-02,\n",
       "        2.54885787e+00, 4.42629608e-02, 4.42629608e-02, 4.42629608e-02,\n",
       "        5.73593453e-03, 4.42629608e-02],\n",
       "       [1.51766171e-02, 6.00677277e-02, 1.36818564e-02, 6.00677277e-02,\n",
       "        1.99405798e+00, 6.00677277e-02, 6.00677277e-02, 6.00677277e-02,\n",
       "        8.31597880e-03, 6.00677277e-02],\n",
       "       [2.80166108e-02, 9.00423758e-02, 2.66076910e-02, 9.00423758e-02,\n",
       "        1.28400260e+00, 9.00423758e-02, 9.00423758e-02, 9.00423758e-02,\n",
       "        1.54096756e-02, 9.00423758e-02],\n",
       "       [2.22180885e-02, 7.44530215e-02, 1.84404087e-02, 7.44530215e-02,\n",
       "        1.38872040e+00, 7.44530215e-02, 7.44530215e-02, 7.44530215e-02,\n",
       "        1.10216292e-02, 7.44530215e-02],\n",
       "       [2.40310632e+00, 6.47647326e-02, 2.21714988e-02, 6.47647326e-02,\n",
       "        7.53036055e-03, 6.47647326e-02, 6.47647326e-02, 6.47647326e-02,\n",
       "        1.54418902e+00, 6.47647326e-02],\n",
       "       [4.71201934e-01, 6.09676901e-02, 8.77257753e-01, 6.09676901e-02,\n",
       "        7.90145553e-01, 6.09676901e-02, 6.09676901e-02, 6.09676901e-02,\n",
       "        8.87371614e-03, 6.09676901e-02],\n",
       "       [1.81693543e-02, 7.29862192e-02, 1.59415139e-02, 7.29862192e-02,\n",
       "        8.23437853e-03, 7.29862192e-02, 7.29862192e-02, 7.29862192e-02,\n",
       "        1.86453214e+00, 7.29862192e-02],\n",
       "       [3.13357319e+00, 5.07626020e-02, 2.17706418e+00, 5.07626020e-02,\n",
       "        5.73202730e-03, 5.07626020e-02, 5.07626020e-02, 5.07626020e-02,\n",
       "        7.08671403e-03, 5.07626020e-02],\n",
       "       [1.96310338e-02, 8.06853085e-02, 4.90316752e-02, 8.06853085e-02,\n",
       "        9.66748633e-01, 8.06853085e-02, 8.06853085e-02, 8.06853085e-02,\n",
       "        1.11666813e-02, 8.06853085e-02],\n",
       "       [1.65973581e-02, 6.53306347e-02, 1.58240045e-02, 6.53306347e-02,\n",
       "        6.55815240e-01, 6.53306347e-02, 6.53306347e-02, 6.53306347e-02,\n",
       "        8.33494327e-01, 6.53306347e-02],\n",
       "       [4.23832042e-02, 1.04104898e-01, 4.47486070e-02, 1.04104898e-01,\n",
       "        2.12281115e-02, 1.04104898e-01, 1.04104898e-01, 1.04104898e-01,\n",
       "        1.42991422e+00, 1.04104898e-01],\n",
       "       [1.62736966e-02, 6.20975949e-02, 5.44759113e-01, 6.20975949e-02,\n",
       "        1.11586547e+00, 6.20975949e-02, 6.20975949e-02, 6.20975949e-02,\n",
       "        8.56416838e-01, 6.20975949e-02],\n",
       "       [1.46634466e-02, 6.41350862e-02, 1.99363371e-02, 6.41350862e-02,\n",
       "        2.11026217e+00, 6.41350862e-02, 6.41350862e-02, 6.41350862e-02,\n",
       "        8.14962294e-03, 6.41350862e-02],\n",
       "       [3.41086118e-02, 1.16536227e-01, 6.63451102e-02, 1.16536227e-01,\n",
       "        3.97485576e-01, 1.16536227e-01, 1.16536227e-01, 1.16536227e-01,\n",
       "        4.37648775e-01, 1.16536227e-01],\n",
       "       [1.39150557e-02, 5.79071552e-02, 1.21419127e-02, 5.79071552e-02,\n",
       "        6.98993087e-01, 5.79071552e-02, 5.79071552e-02, 5.79071552e-02,\n",
       "        1.85433645e+00, 5.79071552e-02],\n",
       "       [1.65798131e-02, 6.82685425e-02, 2.40245943e-02, 6.82685425e-02,\n",
       "        8.05331499e-03, 6.82685425e-02, 6.82685425e-02, 6.82685425e-02,\n",
       "        2.12071234e+00, 6.82685425e-02],\n",
       "       [2.19738851e+00, 5.36928237e-02, 1.27286895e-02, 5.36928237e-02,\n",
       "        6.68908032e-02, 5.36928237e-02, 5.36928237e-02, 5.36928237e-02,\n",
       "        1.90843875e+00, 5.36928237e-02],\n",
       "       [1.25363095e-02, 5.28058876e-02, 5.41517591e-01, 5.28058876e-02,\n",
       "        3.02727107e-01, 5.28058876e-02, 5.28058876e-02, 5.28058876e-02,\n",
       "        1.62158836e+00, 5.28058876e-02],\n",
       "       [2.73698536e-02, 9.94718708e-02, 7.06900547e-02, 9.94718708e-02,\n",
       "        1.27424422e+00, 9.94718708e-02, 9.94718708e-02, 9.94718708e-02,\n",
       "        1.40607269e-02, 9.94718708e-02],\n",
       "       [1.96382991e-02, 7.59355726e-02, 2.96542974e-02, 7.59355726e-02,\n",
       "        1.38764084e+00, 7.59355726e-02, 7.59355726e-02, 7.59355726e-02,\n",
       "        1.00889413e-02, 7.59355726e-02],\n",
       "       [1.63244569e-02, 6.97230618e-02, 2.82197576e-02, 6.97230618e-02,\n",
       "        1.56420403e+00, 6.97230618e-02, 6.97230618e-02, 6.97230618e-02,\n",
       "        2.63710589e-01, 6.97230618e-02],\n",
       "       [1.47332505e-02, 5.77884374e-02, 1.25711571e-02, 5.77884374e-02,\n",
       "        6.39055289e-03, 5.77884374e-02, 5.77884374e-02, 5.77884374e-02,\n",
       "        3.13199756e+00, 5.77884374e-02],\n",
       "       [1.83611569e-02, 7.36347161e-02, 2.22652022e-02, 7.36347161e-02,\n",
       "        8.95260273e-03, 7.36347161e-02, 7.36347161e-02, 7.36347161e-02,\n",
       "        1.56185837e+00, 7.36347161e-02],\n",
       "       [6.62692322e-02, 7.18644940e-02, 1.62581382e-02, 7.18644940e-02,\n",
       "        1.38708727e+00, 7.18644940e-02, 7.18644940e-02, 7.18644940e-02,\n",
       "        2.65702504e-01, 7.18644940e-02],\n",
       "       [1.00912807e-01, 1.32864727e-01, 7.41031633e-02, 1.32864727e-01,\n",
       "        7.55348089e-01, 1.32864727e-01, 1.32864727e-01, 1.32864727e-01,\n",
       "        7.39358562e-02, 1.32864727e-01],\n",
       "       [1.22940044e-02, 4.77056643e-02, 1.66976748e+00, 4.77056643e-02,\n",
       "        2.51026127e+00, 4.77056643e-02, 4.77056643e-02, 4.77056643e-02,\n",
       "        4.53698341e-01, 4.77056643e-02],\n",
       "       [1.89374542e-02, 7.44135115e-02, 1.75672640e-02, 7.44135115e-02,\n",
       "        1.86975749e-01, 7.44135115e-02, 7.44135115e-02, 7.44135115e-02,\n",
       "        1.36796364e+00, 7.44135115e-02],\n",
       "       [1.39551997e-02, 5.39946298e-02, 1.18419606e-02, 5.39946298e-02,\n",
       "        5.89658196e-01, 5.39946298e-02, 5.39946298e-02, 5.39946298e-02,\n",
       "        1.82395927e+00, 5.39946298e-02]])"
      ]
     },
     "execution_count": 81,
     "metadata": {},
     "output_type": "execute_result"
    }
   ],
   "source": [
    "hpf._beta"
   ]
  },
  {
   "cell_type": "code",
   "execution_count": 67,
   "metadata": {},
   "outputs": [
    {
     "data": {
      "text/plain": [
       "1229.4964464120294"
      ]
     },
     "execution_count": 67,
     "metadata": {},
     "output_type": "execute_result"
    }
   ],
   "source": [
    "nmf.logjoint()"
   ]
  },
  {
   "cell_type": "code",
   "execution_count": 65,
   "metadata": {},
   "outputs": [
    {
     "data": {
      "text/plain": [
       "1229.4964464120294"
      ]
     },
     "execution_count": 65,
     "metadata": {},
     "output_type": "execute_result"
    }
   ],
   "source": [
    "hpf.logjoint()"
   ]
  },
  {
   "cell_type": "code",
   "execution_count": 62,
   "metadata": {},
   "outputs": [],
   "source": [
    "nmf._beta = hpf._beta\n",
    "nmf._theta = hpf._theta"
   ]
  },
  {
   "cell_type": "code",
   "execution_count": 58,
   "metadata": {},
   "outputs": [
    {
     "data": {
      "text/plain": [
       "array([[0.21526838, 0.00032365, 0.00032497, ..., 0.00032497, 0.00032497,\n",
       "        0.00032497],\n",
       "       [0.09648973, 0.00032365, 0.00032497, ..., 0.00032497, 0.00032497,\n",
       "        0.00032497],\n",
       "       [0.02188414, 0.00032365, 0.00032497, ..., 0.00032497, 0.00032497,\n",
       "        0.00032497],\n",
       "       ...,\n",
       "       [0.24668011, 0.00032365, 0.00032497, ..., 0.00032497, 0.00032497,\n",
       "        0.00032497],\n",
       "       [0.05918805, 0.00032365, 0.00032497, ..., 0.00032497, 0.00032497,\n",
       "        0.00032497],\n",
       "       [0.12004643, 0.00032365, 0.00032497, ..., 0.00032497, 0.00032497,\n",
       "        0.00032497]])"
      ]
     },
     "execution_count": 58,
     "metadata": {},
     "output_type": "execute_result"
    }
   ],
   "source": [
    "nmf._beta"
   ]
  },
  {
   "cell_type": "code",
   "execution_count": 50,
   "metadata": {},
   "outputs": [
    {
     "data": {
      "image/png": "[encoded data removed]",
      "text/plain": [
       "<Figure size 432x288 with 1 Axes>"
      ]
     },
     "metadata": {
      "needs_background": "light"
     },
     "output_type": "display_data"
    }
   ],
   "source": [
    "nmf.posterior_check(False)"
   ]
  },
  {
   "cell_type": "code",
   "execution_count": 59,
   "metadata": {},
   "outputs": [
    {
     "data": {
      "image/png": "[encoded data removed]",
      "text/plain": [
       "<Figure size 432x288 with 1 Axes>"
      ]
     },
     "metadata": {
      "needs_background": "light"
     },
     "output_type": "display_data"
    }
   ],
   "source": [
    "#check if stick breaking is working!\n",
    "plt.plot(nmf._v.T)\n",
    "plt.show()"
   ]
  },
  {
   "cell_type": "code",
   "execution_count": null,
   "metadata": {},
   "outputs": [],
   "source": [
    "nmf.posterior_check(False)"
   ]
  },
  {
   "cell_type": "code",
   "execution_count": null,
   "metadata": {
    "ExecuteTime": {
     "end_time": "2019-12-14T09:06:43.792768Z",
     "start_time": "2019-12-14T09:06:40.619767Z"
    }
   },
   "outputs": [],
   "source": [
    "nmf = OnlineNPNMF(X ,T = 15, seed = 0, threshold = 1e-5, max_iter = 10)\n",
    "#nmf.ELBO()"
   ]
  },
  {
   "cell_type": "code",
   "execution_count": null,
   "metadata": {},
   "outputs": [],
   "source": [
    "time0 = time.time()"
   ]
  },
  {
   "cell_type": "code",
   "execution_count": null,
   "metadata": {
    "scrolled": true
   },
   "outputs": [],
   "source": [
    "nmf.inference()"
   ]
  },
  {
   "cell_type": "code",
   "execution_count": null,
   "metadata": {},
   "outputs": [],
   "source": [
    "time.time() - time0"
   ]
  },
  {
   "cell_type": "code",
   "execution_count": null,
   "metadata": {},
   "outputs": [],
   "source": [
    "nmf.save_model()"
   ]
  },
  {
   "cell_type": "code",
   "execution_count": null,
   "metadata": {},
   "outputs": [],
   "source": [
    "#check if stick breaking is working!\n",
    "plt.plot(nmf._v.T)\n",
    "plt.show()"
   ]
  },
  {
   "cell_type": "code",
   "execution_count": null,
   "metadata": {},
   "outputs": [],
   "source": [
    "#check if stick breaking is working!\n",
    "plt.plot(nmf._v.T)\n",
    "plt.show()"
   ]
  },
  {
   "cell_type": "code",
   "execution_count": null,
   "metadata": {},
   "outputs": [],
   "source": [
    "theta = np.array([[nmf._s_shape[u]/nmf._s_rate[u] * nmf._v[u,k] *np.prod(1-nmf._v[u,:k]) for k in range(nmf.T)] for u in range(nmf.U)])\n",
    "beta = nmf._beta_shape/nmf._beta_rate"
   ]
  },
  {
   "cell_type": "code",
   "execution_count": null,
   "metadata": {},
   "outputs": [],
   "source": [
    "nmf.posterior_check()"
   ]
  },
  {
   "cell_type": "code",
   "execution_count": null,
   "metadata": {},
   "outputs": [],
   "source": [
    "nmf.posterior_check(False)"
   ]
  },
  {
   "cell_type": "code",
   "execution_count": null,
   "metadata": {},
   "outputs": [],
   "source": []
  },
  {
   "cell_type": "code",
   "execution_count": null,
   "metadata": {},
   "outputs": [],
   "source": [
    "#posterior check\n",
    "\n",
    "ax = sns.distplot(np.sum(X,0),hist=True, kde=True)\n",
    "sns.distplot(np.sum(simulated,0),hist=True, kde=True)\n",
    "ax.set_title('Distribution of users by total rating')\n",
    "ax.set(xlabel='Total rating per user')\n",
    "ax.legend(['Observed Data', 'Simulated from fitted model'])"
   ]
  },
  {
   "cell_type": "code",
   "execution_count": null,
   "metadata": {},
   "outputs": [],
   "source": [
    "#posterior check\n",
    "\n",
    "ax = sns.distplot(np.sum(X,1),hist=True, kde=True)\n",
    "sns.distplot(np.sum(simulated,1),hist=True, kde=True)\n",
    "ax.set_title('Distribution of users by total rating')\n",
    "ax.set(xlabel='Total rating per user')\n",
    "ax.legend(['Observed Data', 'Simulated from fitted model'])"
   ]
  },
  {
   "cell_type": "code",
   "execution_count": null,
   "metadata": {},
   "outputs": [],
   "source": [
    "#posterior check\n",
    "\n",
    "ax = sns.distplot(np.sum(X,1),hist=True, kde=True)\n",
    "sns.distplot(np.sum(simulated,1),hist=True, kde=True)\n",
    "ax.set_title('Distribution of users by total rating')\n",
    "ax.set(xlabel='Total rating per user')\n",
    "ax.legend(['Observed Data', 'Simulated from fitted model'])"
   ]
  },
  {
   "cell_type": "code",
   "execution_count": null,
   "metadata": {},
   "outputs": [],
   "source": [
    "#posterior check\n",
    "\n",
    "ax = sns.distplot(np.sum(X,1),hist=True, kde=True)\n",
    "sns.distplot(np.sum(simulated,1),hist=True, kde=True)\n",
    "ax.set_title('Distribution of users by total rating')\n",
    "ax.set(xlabel='Total rating per user')\n",
    "ax.legend(['Observed Data', 'Simulated from fitted model'])"
   ]
  },
  {
   "cell_type": "code",
   "execution_count": null,
   "metadata": {},
   "outputs": [],
   "source": []
  },
  {
   "cell_type": "code",
   "execution_count": null,
   "metadata": {},
   "outputs": [],
   "source": [
    "temp = [np.sum([nmf.X[u,d] * (1 - np.sum(nmf._phi[u,d,:])) for d in range(nmf.D)]) for u in range(nmf.U)]"
   ]
  },
  {
   "cell_type": "code",
   "execution_count": null,
   "metadata": {},
   "outputs": [],
   "source": []
  },
  {
   "cell_type": "code",
   "execution_count": null,
   "metadata": {},
   "outputs": [],
   "source": [
    "min(temp)"
   ]
  },
  {
   "cell_type": "code",
   "execution_count": null,
   "metadata": {
    "scrolled": true
   },
   "outputs": [],
   "source": [
    "nmf.inference()"
   ]
  },
  {
   "cell_type": "code",
   "execution_count": null,
   "metadata": {},
   "outputs": [],
   "source": [
    "A,B,C = nmf.get_ABC()"
   ]
  },
  {
   "cell_type": "code",
   "execution_count": null,
   "metadata": {},
   "outputs": [],
   "source": [
    "A.min(), A.max(), B.min(), B.max(), C.min(),C.max()"
   ]
  },
  {
   "cell_type": "code",
   "execution_count": null,
   "metadata": {},
   "outputs": [],
   "source": [
    "np.where(A == A.min())"
   ]
  },
  {
   "cell_type": "code",
   "execution_count": null,
   "metadata": {},
   "outputs": [],
   "source": [
    "np.where(B == B.min())"
   ]
  },
  {
   "cell_type": "code",
   "execution_count": null,
   "metadata": {},
   "outputs": [],
   "source": [
    "nmf.u"
   ]
  },
  {
   "cell_type": "code",
   "execution_count": null,
   "metadata": {},
   "outputs": [],
   "source": [
    "nmf.load_model('model_1.npz')"
   ]
  },
  {
   "cell_type": "code",
   "execution_count": null,
   "metadata": {
    "scrolled": true
   },
   "outputs": [],
   "source": [
    "nmf._phi"
   ]
  },
  {
   "cell_type": "code",
   "execution_count": null,
   "metadata": {},
   "outputs": [],
   "source": [
    "np.array([1,2,3])[:2]"
   ]
  },
  {
   "cell_type": "code",
   "execution_count": null,
   "metadata": {},
   "outputs": [],
   "source": [
    "nmf._v.max()"
   ]
  },
  {
   "cell_type": "code",
   "execution_count": null,
   "metadata": {},
   "outputs": [],
   "source": [
    "nmf.save_model(True)"
   ]
  },
  {
   "cell_type": "code",
   "execution_count": null,
   "metadata": {},
   "outputs": [],
   "source": [
    "nmf.load_model('model_1.npz')"
   ]
  },
  {
   "cell_type": "code",
   "execution_count": null,
   "metadata": {},
   "outputs": [],
   "source": [
    "nmf.inference()"
   ]
  },
  {
   "cell_type": "code",
   "execution_count": null,
   "metadata": {},
   "outputs": [],
   "source": [
    "nmf.X[1,:]"
   ]
  },
  {
   "cell_type": "code",
   "execution_count": null,
   "metadata": {},
   "outputs": [],
   "source": [
    "nmf.X"
   ]
  },
  {
   "cell_type": "code",
   "execution_count": null,
   "metadata": {},
   "outputs": [],
   "source": [
    "nmf.X.tocsc()"
   ]
  },
  {
   "cell_type": "code",
   "execution_count": null,
   "metadata": {},
   "outputs": [],
   "source": [
    "time0 = time.time()\n",
    "for i in range(3000):\n",
    "    nmf.X[:,np.random.rand(100)]\n",
    "time.time() - time0"
   ]
  },
  {
   "cell_type": "code",
   "execution_count": null,
   "metadata": {},
   "outputs": [],
   "source": [
    "time0 = time.time()\n",
    "for i in range(3000):\n",
    "    nmf.X.tocsc()[np.random.rand(100),:]\n",
    "time.time() - time0"
   ]
  },
  {
   "cell_type": "code",
   "execution_count": null,
   "metadata": {},
   "outputs": [],
   "source": [
    "time0 = time.time()\n",
    "for i in range(3000):\n",
    "    nmf.X.tocsc()[:,np.random.rand(100)]\n",
    "time.time() - time0"
   ]
  },
  {
   "cell_type": "code",
   "execution_count": null,
   "metadata": {},
   "outputs": [],
   "source": [
    "time0 = time.time()\n",
    "for i in range(3000):\n",
    "    nmf.X[np.random.rand(100),:]\n",
    "time.time() - time0"
   ]
  },
  {
   "cell_type": "code",
   "execution_count": null,
   "metadata": {
    "scrolled": true
   },
   "outputs": [],
   "source": [
    "nmf.inference()"
   ]
  },
  {
   "cell_type": "code",
   "execution_count": null,
   "metadata": {},
   "outputs": [],
   "source": [
    "len(nmf.byuser)"
   ]
  },
  {
   "cell_type": "code",
   "execution_count": null,
   "metadata": {},
   "outputs": [],
   "source": [
    "for u in range(nmf.U):\n",
    "    for k in range(nmf.T):\n",
    "        try:\n",
    "            nmf.solve_quadratic(A[u,k], B[u,k], C[u,k])\n",
    "        except:\n",
    "            print(u,k)\n",
    "            pass\n",
    "            "
   ]
  },
  {
   "cell_type": "code",
   "execution_count": null,
   "metadata": {},
   "outputs": [],
   "source": [
    "nmf._s_rate[147]"
   ]
  },
  {
   "cell_type": "code",
   "execution_count": null,
   "metadata": {},
   "outputs": [],
   "source": [
    "np.sum(nmf._beta_shape[:,0]/nmf._beta_rate[:,0])"
   ]
  },
  {
   "cell_type": "code",
   "execution_count": null,
   "metadata": {},
   "outputs": [],
   "source": [
    "list(range(10,15))"
   ]
  },
  {
   "cell_type": "code",
   "execution_count": null,
   "metadata": {},
   "outputs": [],
   "source": [
    "u = 147\n",
    "k = 0\n",
    "l = 0\n",
    "[nmf._v[u,l] * np.prod(1-nmf._v[u,:l])/(1-nmf._v[u,k]) * np.sum(nmf._beta_shape[:,l]/ nmf._beta_rate[:,l]) for l in range(k+1,nmf.T)]\n",
    "#- np.prod(1-nmf._v[u,:k]) * np.sum(nmf._beta_shape[:,k]/nmf._beta_rate[:,k]) \\\n",
    "#+ nmf.D * nmf.beta_shape_prior/nmf.beta_rate_prior * np.prod(1-nmf._v[u,:]) / nmf._v[u,k]        \n",
    "                "
   ]
  },
  {
   "cell_type": "code",
   "execution_count": null,
   "metadata": {},
   "outputs": [],
   "source": []
  },
  {
   "cell_type": "code",
   "execution_count": null,
   "metadata": {},
   "outputs": [],
   "source": [
    "A[147,0]"
   ]
  },
  {
   "cell_type": "code",
   "execution_count": null,
   "metadata": {},
   "outputs": [],
   "source": [
    "B[147,0]"
   ]
  },
  {
   "cell_type": "code",
   "execution_count": null,
   "metadata": {},
   "outputs": [],
   "source": [
    "C[147,0]"
   ]
  },
  {
   "cell_type": "code",
   "execution_count": null,
   "metadata": {},
   "outputs": [],
   "source": [
    "A,B,C = nmf.get_ABC()"
   ]
  },
  {
   "cell_type": "code",
   "execution_count": null,
   "metadata": {},
   "outputs": [],
   "source": [
    "(-np.sqrt(B**2 - 4*A*C) - B) / A"
   ]
  },
  {
   "cell_type": "code",
   "execution_count": null,
   "metadata": {},
   "outputs": [],
   "source": [
    "(-np.sqrt(B**2 - 4*A*C) - B) / A"
   ]
  },
  {
   "cell_type": "code",
   "execution_count": null,
   "metadata": {},
   "outputs": [],
   "source": [
    "nmf.inference()"
   ]
  },
  {
   "cell_type": "code",
   "execution_count": null,
   "metadata": {},
   "outputs": [],
   "source": [
    "46318/46350-1"
   ]
  },
  {
   "cell_type": "code",
   "execution_count": null,
   "metadata": {},
   "outputs": [],
   "source": [
    "A = 1.807934296800437e-10\n",
    "B = 1.0004423587287066\n",
    "C=  -0.00041595806984341416\n",
    "(-B + np.sqrt(B**2 - 4*A*C)) / (2 * A)"
   ]
  },
  {
   "cell_type": "code",
   "execution_count": null,
   "metadata": {
    "scrolled": true
   },
   "outputs": [],
   "source": [
    "from multiprocess import Pool\n",
    "def f(x,y): return x*y\n",
    "p = Pool(4)\n",
    "result = p.map(f, [(1,2), (3,4)])\n",
    "print(result.get(timeout=1))"
   ]
  },
  {
   "cell_type": "code",
   "execution_count": null,
   "metadata": {},
   "outputs": [],
   "source": [
    "temp = copy.deepcopy(nmf._phi)"
   ]
  },
  {
   "cell_type": "code",
   "execution_count": null,
   "metadata": {},
   "outputs": [],
   "source": [
    "temp"
   ]
  },
  {
   "cell_type": "code",
   "execution_count": null,
   "metadata": {
    "scrolled": false
   },
   "outputs": [],
   "source": [
    "nmf.inference()"
   ]
  },
  {
   "cell_type": "code",
   "execution_count": null,
   "metadata": {},
   "outputs": [],
   "source": [
    "nmf.solve_quadratic(A= 2.5972095342520613e-16, B=2.052183719154443, C= -1.0518572257929042)"
   ]
  },
  {
   "cell_type": "code",
   "execution_count": null,
   "metadata": {},
   "outputs": [],
   "source": [
    "A = 0.00000000000001\n",
    "B=2.052183719154443\n",
    "C= -1.0518572257929042"
   ]
  },
  {
   "cell_type": "code",
   "execution_count": null,
   "metadata": {},
   "outputs": [],
   "source": [
    "(-B + np.sqrt(B**2 - 4*A*C)) / (2 * A)"
   ]
  },
  {
   "cell_type": "code",
   "execution_count": null,
   "metadata": {
    "ExecuteTime": {
     "end_time": "2019-12-14T09:07:02.761769Z",
     "start_time": "2019-12-14T09:06:43.802767Z"
    }
   },
   "outputs": [],
   "source": [
    "nmf.update_phi()\n",
    "nmf.ELBO()"
   ]
  },
  {
   "cell_type": "code",
   "execution_count": null,
   "metadata": {
    "ExecuteTime": {
     "end_time": "2019-12-14T09:07:27.838772Z",
     "start_time": "2019-12-14T09:07:02.764769Z"
    }
   },
   "outputs": [],
   "source": [
    "nmf.update_items()\n",
    "nmf.ELBO()"
   ]
  },
  {
   "cell_type": "code",
   "execution_count": null,
   "metadata": {
    "ExecuteTime": {
     "end_time": "2019-12-14T08:52:32.970868Z",
     "start_time": "2019-12-14T08:52:28.068868Z"
    }
   },
   "outputs": [],
   "source": [
    "nmf.update_sticks_scalars()\n",
    "nmf.ELBO()"
   ]
  },
  {
   "cell_type": "code",
   "execution_count": null,
   "metadata": {
    "ExecuteTime": {
     "end_time": "2019-12-14T06:54:10.149944Z",
     "start_time": "2019-12-14T06:54:05.236943Z"
    }
   },
   "outputs": [],
   "source": [
    "nmf.update_sticks()\n",
    "nmf.ELBO()"
   ]
  },
  {
   "cell_type": "code",
   "execution_count": null,
   "metadata": {},
   "outputs": [],
   "source": []
  },
  {
   "cell_type": "code",
   "execution_count": null,
   "metadata": {},
   "outputs": [],
   "source": []
  },
  {
   "cell_type": "code",
   "execution_count": null,
   "metadata": {},
   "outputs": [],
   "source": []
  },
  {
   "cell_type": "code",
   "execution_count": null,
   "metadata": {
    "ExecuteTime": {
     "end_time": "2019-12-13T21:19:42.215722Z",
     "start_time": "2019-12-13T21:19:41.861723Z"
    }
   },
   "outputs": [],
   "source": [
    "np.savez('test.npz', a = a, b = a)"
   ]
  },
  {
   "cell_type": "code",
   "execution_count": null,
   "metadata": {
    "ExecuteTime": {
     "end_time": "2019-12-13T21:19:43.366724Z",
     "start_time": "2019-12-13T21:19:42.838723Z"
    }
   },
   "outputs": [],
   "source": [
    "test = np.load('test.npz')"
   ]
  },
  {
   "cell_type": "code",
   "execution_count": null,
   "metadata": {
    "ExecuteTime": {
     "end_time": "2019-12-13T21:19:46.065732Z",
     "start_time": "2019-12-13T21:19:45.718725Z"
    }
   },
   "outputs": [],
   "source": [
    "test['b']"
   ]
  },
  {
   "cell_type": "code",
   "execution_count": null,
   "metadata": {
    "ExecuteTime": {
     "end_time": "2019-12-13T21:03:06.087239Z",
     "start_time": "2019-12-13T21:03:05.434238Z"
    }
   },
   "outputs": [],
   "source": [
    "nmf._phi"
   ]
  },
  {
   "cell_type": "code",
   "execution_count": null,
   "metadata": {
    "ExecuteTime": {
     "end_time": "2019-12-13T19:56:25.027135Z",
     "start_time": "2019-12-13T19:56:24.296136Z"
    },
    "scrolled": false
   },
   "outputs": [],
   "source": [
    "#unit test\n",
    "def \n",
    "def test:\n",
    "    [nmf._phi[u,d,:].sum() for u,d in nmf.nonzero]"
   ]
  },
  {
   "cell_type": "code",
   "execution_count": null,
   "metadata": {
    "ExecuteTime": {
     "end_time": "2019-12-12T04:00:25.658080Z",
     "start_time": "2019-12-12T04:00:25.503059Z"
    }
   },
   "outputs": [],
   "source": [
    "def validate(theta,beta,rating_valid):\n",
    "    size = len(list(zip(*rating_valid.nonzero())))\n",
    "    rating_valid = rating_valid.toarray().flatten()\n",
    "    mu = (theta @ beta.T).flatten()\n",
    "    mu = mu[rating_valid > 0]\n",
    "    rating_valid = rating_valid[rating_valid > 0]\n",
    "    mu[mu>10] = 10\n",
    "    assert mu.shape == rating_valid.shape, f'{mu.shape} vs {rating_valid.shape}'\n",
    "    return (np.sum(rating_valid * np.log(mu)) - np.sum(mu))/size"
   ]
  },
  {
   "cell_type": "markdown",
   "metadata": {},
   "source": [
    "Variational Inference for Nonparametrics"
   ]
  },
  {
   "cell_type": "code",
   "execution_count": null,
   "metadata": {
    "ExecuteTime": {
     "end_time": "2019-12-12T04:00:25.884077Z",
     "start_time": "2019-12-12T04:00:25.662061Z"
    }
   },
   "outputs": [],
   "source": [
    "rating_train, rating_valid, rating_train, _ = read('./data/movielens')"
   ]
  },
  {
   "cell_type": "code",
   "execution_count": null,
   "metadata": {
    "ExecuteTime": {
     "end_time": "2019-12-12T04:00:26.042060Z",
     "start_time": "2019-12-12T04:00:25.886061Z"
    }
   },
   "outputs": [],
   "source": [
    "kwargs = {'T': 50}"
   ]
  },
  {
   "cell_type": "code",
   "execution_count": null,
   "metadata": {
    "ExecuteTime": {
     "end_time": "2019-12-12T04:00:26.245059Z",
     "start_time": "2019-12-12T04:00:26.046061Z"
    }
   },
   "outputs": [],
   "source": [
    "#NOTE: To be wrapped in def vi(rating_train, rating_valid, **kwargs):\n",
    "\n",
    "#Use sparse matrix representation\n",
    "U,D = rating_train.shape\n",
    "indices = rating_train.indices\n",
    "indptr = rating_train.indptr\n",
    "nonzero = list(zip(*rating_train.nonzero()))\n",
    "byrow = {row:[indices[i] for i in range(indptr[row], indptr[row+1])] for row in range(U)}\n",
    "\n",
    "rating_csc = rating_train.tocsc()\n",
    "indices = rating_csc.indices\n",
    "indptr = rating_csc.indptr\n",
    "bycol = {col:[indices[i] for i in range(indptr[col], indptr[col+1])] for col in range(D)}"
   ]
  },
  {
   "cell_type": "markdown",
   "metadata": {},
   "source": [
    "Joint distribution:\n",
    "$$p(z, \\beta, s, v| \\alpha, c, a,b) = \\prod_{u=1}^{U} p(s_u | \\alpha, c) \\prod_{k=1}^{\\infty} \\prod_{u=1}^{U} p(v_{uk} | \\alpha)   \\prod_{k=1}^{\\infty} \\prod_{d=1}^{D} p(\\beta_{dk} | a, b) \\prod_{k=1}^{\\infty} \\prod_{u=1}^N \\prod_{d=1}^D p(z_{udk} | \\theta_{uk}, \\beta_{dk})$$"
   ]
  },
  {
   "cell_type": "markdown",
   "metadata": {},
   "source": [
    "Remember the stick proportions:\n",
    "$$\\theta_{uk} = s_u v_{uk} \\prod_{i=1}^{k-1}(1-v_{ui})$$"
   ]
  },
  {
   "cell_type": "markdown",
   "metadata": {},
   "source": [
    "Variational Inference:\n",
    "\n",
    "$q(s_u) = \\text{Gamma}(s_u | \\omega_{u,0}, \\omega_{u,1})$\n",
    "\n",
    "$q(v_{uk}) = \\zeta_{\\tau_{uk}}(v_{uk}) \\text{ for } k \\leq T, p(v_{uk}) \\text{ for } k \\geq T + 1$\n",
    "\n",
    "$q(\\beta_{dk}) = \\text{Gamma}(\\beta_{dk} | \\lambda_{ik,0}, \\lambda_{dk, 1}) \\text { for } k \\leq T, p(\\beta_{dk}) \\text{ for } k \\geq T+1$\n",
    "\n",
    "$q(z_{ud}) = \\text{Mult}(z_{ud} | y_{ud}, \\phi_{ud})$\n",
    "\n"
   ]
  },
  {
   "cell_type": "code",
   "execution_count": null,
   "metadata": {
    "ExecuteTime": {
     "end_time": "2019-12-12T04:00:39.098120Z",
     "start_time": "2019-12-12T04:00:38.948120Z"
    }
   },
   "outputs": [],
   "source": [
    "#Starting values\n",
    "I = 300\n",
    "T = kwargs.pop('T', 50) #Truncate level\n",
    "alpha = kwargs.pop('alpha', 0.01)\n",
    "omega_rate = np.array([0.3]*U) \n",
    "omega_shape = np.array([1]*U)\n",
    "lambda_rate = np.array([[0.3]*T]*U) \n",
    "lambda_shape = np.array([[1]*T]*U)\n",
    "tau = np.random.beta(1, alpha, size = T)\n",
    "phi = np.zeros((len(nonzero),I))"
   ]
  },
  {
   "cell_type": "code",
   "execution_count": null,
   "metadata": {},
   "outputs": [],
   "source": [
    "class NPNMF:\n",
    "    def __init__(self, X, K=512, seed=None, **kwargs):\n",
    "        '''\n",
    "        BN = LVI_BP_NMF(X, K=512, smoothness=100, seed=None, alpha=2.,\n",
    "                        a0=1., b0=1., c0=1e-6, d0=1e-6)\n",
    "        Required arguments:\n",
    "            X:              U-by-D nonnegative matrix (numpy.ndarray)\n",
    "                            the data to be factorized\n",
    "                            Assume scipy sparse matrix format\n",
    "        Optional arguments:\n",
    "            K:              the size of the initial dictionary\n",
    "                            will be truncated to a proper size\n",
    "            seed:           the random seed to control the random\n",
    "                            initialization\n",
    "                            **variational inference can only converge to local\n",
    "                            optimum, thus try different seeds**\n",
    "            alpha:          hyperparameter for activation.\n",
    "            a0, b0:         both must be specified\n",
    "                            hyperparameters for sparsity\n",
    "            c0, d0:         both must be specified\n",
    "                            hyperparameters for Gaussian noise\n",
    "        '''\n",
    "        self.X = X.copy()\n",
    "        self.U, self.D = self.X.shape\n",
    "        self.T = T\n",
    "        \n",
    "        #Working with sparse matrix\n",
    "        indices = X.indices\n",
    "        indptr = X.indptr\n",
    "        self.nonzero = list(zip(*X.nonzero()))\n",
    "        self.byuser = {row:[indices[i] for i in range(indptr[row], indptr[row+1])] for row in range(U)\n",
    "        \n",
    "        self.rating_csc = X.tocsc()\n",
    "        indices = X.indices\n",
    "        indptr = X.indptr\n",
    "        self.byitem = {col:[indices[i] for i in range(indptr[col], indptr[col+1])] for col in range(D)}\n",
    "\n",
    "        self._parse_args(**kwargs)\n",
    "        if seed is None:\n",
    "            print 'Using random seed'\n",
    "            np.random.seed()\n",
    "        else:\n",
    "            print 'Using fixed seed {}'.format(seed)\n",
    "            np.random.seed(seed)\n",
    "        self._init()\n",
    "\n",
    "    def _parse_args(self, **kwargs):\n",
    "        '''\n",
    "        Parse the hyperparameters\n",
    "        '''\n",
    "        self.alpha = float(kwargs.get('alpha', 2.))\n",
    "        self.beta_shape_prior = float(kwargs.get('beta_shape_prior', 1.)) #a\n",
    "        self.beta_rate_prior = float(kwargs.get('beta_rate_prior', 1.))   #b          \n",
    "        self.s_rate_prior = float(kwargs.get('s_rate_prior', 1e-6))       #c\n",
    "        \n",
    "    def initialize(self):\n",
    "        # variational parameters for Beta \n",
    "        self._beta_shape = np.full((self.D, self.T), 0.3)\n",
    "        self._beta_rate = np.full((self.D, self.T), 0.3)\n",
    "        \n",
    "        # variational parameters S \n",
    "        self._s_shape = np.full(self.U, 0.3)\n",
    "        self._s_rate = np.full(self.U, 0.3)\n",
    "        \n",
    "        # variational parameters for Z\n",
    "        self.phi = np.zeros(len(self.nonzero), T)\n",
    "                       \n",
    "    def update_phi(self):\n",
    "        for i,ud in enumerate(nonzero):\n",
    "            u,d = ud\n",
    "            elogbeta = [digamma(self._beta_shape[d][k]) - log(self._beta_rate[d][k]) for k in range(self.T)]\n",
    "            elogs = digamma(self._s_shape[u]) - log(self._s_rate[u])\n",
    "            phi = [(elogbeta + elogs + self._logpi[u][k]) for k in range(_k)] \n",
    "            phi = np.array([phi, self.compute_mult_normalizer_infsum(u)])\n",
    "            logsum = s.logsum();\n",
    "            phi.lognormalize(logsum)\n",
    "            self.phi = phi\n",
    "    \n",
    "    def _logpi(self,u,k):\n",
    "        return exp(lpid[u][_k-1] - log(vd[u][_k-1]) + log(1 - vd[u][_k-1]))\n",
    "                       \n",
    "    def elogtheta_at_truncation(self, u):\n",
    "        elogsu = digamma(self._s_shape[u]) - log(self._s_rate[u])\n",
    "        elogvt = digamma(1) - digamma(1+self._alpha)\n",
    "        return elogsu + elogvt + self._logpi[u][_k-1] - log(self._v[u][_k-1]) /\n",
    "                       + log(1 - self._v[u][_k-1]) #verify this\n",
    "\n",
    "    def compute_mult_normalizer_infsum(self, u,d, k):\n",
    "        elogv_t = digamma(self._alpha) - digamma(1+self._alpha)\n",
    "        return self.elogtheta_at_truncation(u) + digamma(self._beta_shape_prior) - log(self._beta_rate_prior)/\n",
    "                       - log(1 - exp(elogv_t))\n",
    "\n",
    "                       \n",
    "    def update_sticks_scalars(self):\n",
    "         for u in range(U):\n",
    "                gamma_shape[u,:] = a1 + rating_train[u,:] @ phi[u,:,:]\n",
    "                for k in range(K):\n",
    "                    gamma_rate[u,k] = kappa_shape/kappa_rate[u] + np.sum([lambda_shape[d,k]/lambda_rate[d,k] for d in byrow[u]])\n",
    "                kappa_rate[u] = a0/b0 + np.sum([gamma_shape[u,k]/gamma_rate[u,k] for k in range(K)])\n",
    "\n",
    "    def update_sticks(self):\n",
    "       \n",
    "    def update_items(self):\n",
    "        for d in range(D):\n",
    "                lambda_shape[d,:] = m1 + rating_train[:,d].T @ phi[:,d,:]\n",
    "                for k in range(K):\n",
    "                    lambda_rate[d,k] = tau_shape/tau_rate[d] + np.sum([gamma_shape[u,k]/gamma_rate[u,k] for u in bycol[d]])\n",
    "                tau_rate[d] = m0/n0 + np.sum([lambda_shape[d,k]/lambda_rate[d,k] for k in range(K)])\n",
    "\n",
    "    def validate(self):\n",
    "        self.validate()\n",
    "        theta, beta = gamma_shape/gamma_rate, lambda_shape/lambda_rate\n",
    "        training_likelihood = validate(theta, beta, rating_train)\n",
    "        val_likelihood = validate(theta, beta, rating_valid)\n",
    "        print(f'Iter {n_iter}: training_error = {training_likelihood}, val_error = {val_likelihood}, max_pref = {np.sum(theta,0).max()}, min_pref = {np.sum(theta,0).min()},max_att = {np.sum(beta,0).max()}, min_att = {np.sum(beta,0).min()}')\n",
    "        if n_iter > 0:\n",
    "            if abs(val_likelihood/last_val_likelihood-1) < threshold or n_iter >= max_iter:\n",
    "                print(f'Compete after {n_iter} iterations: Validation Error = {val_likelihood}')\n",
    "                break\n",
    "        last_val_likelihood = val_likelihood\n",
    "        n_iter += 1\n",
    "                       \n",
    "    def inference(self):\n",
    "        self.initialize()\n",
    "        while True:\n",
    "            #Update phi\n",
    "            self.update_phi()\n",
    "            \n",
    "            #Update across user\n",
    "            self.update_sticks_scalars()\n",
    "            self.update_sticks()\n",
    "            \n",
    "            #Update across item\n",
    "            self.update_items()\n",
    "            \n",
    "            #Validate\n",
    "            self.validate()\n",
    "    \n",
    "        "
   ]
  },
  {
   "cell_type": "code",
   "execution_count": null,
   "metadata": {},
   "outputs": [],
   "source": []
  },
  {
   "cell_type": "code",
   "execution_count": null,
   "metadata": {
    "ExecuteTime": {
     "end_time": "2019-12-10T04:48:33.743717Z",
     "start_time": "2019-12-10T04:48:33.502722Z"
    }
   },
   "outputs": [],
   "source": [
    "#CAVI\n",
    "max_iter = kwargs.pop('max_iter', 10)\n",
    "threshold = kwargs.pop('threshold', 10e-4)\n",
    "\n",
    "n_iter = 0 \n",
    "while True:\n",
    "    #For each user and item pair, update phi\n",
    "    time0 = time.time()\n",
    "    for i,ud in enumerate(nonzero):\n",
    "        u,d = ud\n",
    "        phi[i,:] = np.exp([scipy.special.digamma(gamma_shape[u,k]) - np.log(gamma_rate[u,k]) \\\n",
    "                + scipy.special.digamma(lambda_shape[d,k]) - np.log(lambda_rate[d,k]) \\\n",
    "                    for k in range(K)])\n",
    "        phi[i,:] = phi[i,:] / normalizer\n",
    "\n",
    "    #Update gamma and kappa\n",
    "    time1 = time.time()\n",
    "    for u in range(U):\n",
    "        gamma_shape[u,:] = a1 + rating_train[u,:] @ phi[u,:,:]\n",
    "        for k in range(K):\n",
    "            gamma_rate[u,k] = kappa_shape/kappa_rate[u] + np.sum([lambda_shape[d,k]/lambda_rate[d,k] for d in byrow[u]])\n",
    "        kappa_rate[u] = a0/b0 + np.sum([gamma_shape[u,k]/gamma_rate[u,k] for k in range(K)])\n",
    "\n",
    "    #Update lambda and tau\n",
    "    time2 = time.time()\n",
    "    for d in range(D):\n",
    "        lambda_shape[d,:] = m1 + rating_train[:,d].T @ phi[:,d,:]\n",
    "        for k in range(K):\n",
    "            lambda_rate[d,k] = tau_shape/tau_rate[d] + np.sum([gamma_shape[u,k]/gamma_rate[u,k] for u in bycol[d]])\n",
    "        tau_rate[d] = m0/n0 + np.sum([lambda_shape[d,k]/lambda_rate[d,k] for k in range(K)])\n",
    "\n",
    "    time3 = time.time()\n",
    "    print(f'Time update phi: {time1 - time0}, Time update gamma and kappa: {time2 - time1}, Time update lambda and tau: {time3 - time2}')\n",
    "\n",
    "    #Validate\n",
    "    theta, beta = gamma_shape/gamma_rate, lambda_shape/lambda_rate\n",
    "    training_likelihood = validate(theta, beta, rating_train)\n",
    "    val_likelihood = validate(theta, beta, rating_valid)\n",
    "    print(f'Iter {n_iter}: training_error = {training_likelihood}, val_error = {val_likelihood}, max_pref = {np.sum(theta,0).max()}, min_pref = {np.sum(theta,0).min()},max_att = {np.sum(beta,0).max()}, min_att = {np.sum(beta,0).min()}')\n",
    "    if n_iter > 0:\n",
    "        if abs(val_likelihood/last_val_likelihood-1) < threshold or n_iter >= max_iter:\n",
    "            print(f'Compete after {n_iter} iterations: Validation Error = {val_likelihood}')\n",
    "            break\n",
    "    last_val_likelihood = val_likelihood\n",
    "    n_iter += 1 \n",
    "np.savez(r'C:\\git\\PGM\\temp.npz', theta = theta, beta = beta)\n",
    "return theta, beta"
   ]
  },
  {
   "cell_type": "code",
   "execution_count": null,
   "metadata": {},
   "outputs": [],
   "source": [
    "def cavi():\n",
    "    pass\n",
    "\n",
    "def sgd():\n",
    "    pass\n",
    "\n",
    "def natural_gradient():\n",
    "    pass\n",
    "\n",
    "def using_edward():\n",
    "    pass\n",
    "\n",
    "def using_pystan():\n",
    "    pass\n",
    "\n",
    "def vae():\n",
    "    pass\n",
    "\n",
    "def advi():\n",
    "    pass\n",
    "\n",
    "if __name__ == \"__main__\":\n",
    "    rating_train, rating_valid, rating_test, movie_map = read()\n",
    "    #rating = np.array([[random.poisson(3) for i in range(2000)] for j in range(100)])\n",
    "    gibbs(rating_valid, rating_valid,max_iter = 50 )\n",
    "    \n",
    "    # model = vi(rating_valid, rating_valid, max_iter = 50)"
   ]
  }
 ],
 "metadata": {
  "kernelspec": {
   "display_name": "Python 3",
   "language": "python",
   "name": "python3"
  },
  "language_info": {
   "codemirror_mode": {
    "name": "ipython",
    "version": 3
   },
   "file_extension": ".py",
   "mimetype": "text/x-python",
   "name": "python",
   "nbconvert_exporter": "python",
   "pygments_lexer": "ipython3",
   "version": "3.7.3"
  }
 },
 "nbformat": 4,
 "nbformat_minor": 2
}
