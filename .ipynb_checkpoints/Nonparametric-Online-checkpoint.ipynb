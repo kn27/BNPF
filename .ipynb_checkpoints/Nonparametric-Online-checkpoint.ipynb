{
 "cells": [
  {
   "cell_type": "code",
   "execution_count": 1,
   "metadata": {
    "ExecuteTime": {
     "end_time": "2019-12-14T06:51:00.777339Z",
     "start_time": "2019-12-14T06:51:00.348338Z"
    }
   },
   "outputs": [],
   "source": [
    "%load_ext autoreload\n",
    "%autoreload 2"
   ]
  },
  {
   "cell_type": "code",
   "execution_count": 2,
   "metadata": {},
   "outputs": [],
   "source": [
    "from matplotlib import pyplot as plt\n",
    "%matplotlib inline"
   ]
  },
  {
   "cell_type": "code",
   "execution_count": 3,
   "metadata": {},
   "outputs": [],
   "source": [
    "import seaborn as sns"
   ]
  },
  {
   "cell_type": "code",
   "execution_count": 4,
   "metadata": {
    "ExecuteTime": {
     "end_time": "2019-12-14T06:51:11.812337Z",
     "start_time": "2019-12-14T06:51:00.783337Z"
    }
   },
   "outputs": [],
   "source": [
    "import numpy as np \n",
    "from numpy import random\n",
    "import scipy.stats as stats\n",
    "import os\n",
    "import json\n",
    "import scipy\n",
    "import copy \n",
    "import scipy.sparse as sparse\n",
    "from scipy.special import digamma\n",
    "import time"
   ]
  },
  {
   "cell_type": "code",
   "execution_count": 5,
   "metadata": {
    "ExecuteTime": {
     "end_time": "2019-12-14T06:51:12.442338Z",
     "start_time": "2019-12-14T06:51:11.846336Z"
    }
   },
   "outputs": [],
   "source": [
    "from matrix_factorization import read"
   ]
  },
  {
   "cell_type": "code",
   "execution_count": 59,
   "metadata": {
    "ExecuteTime": {
     "end_time": "2019-12-14T06:51:12.972342Z",
     "start_time": "2019-12-14T06:51:12.450337Z"
    }
   },
   "outputs": [],
   "source": [
    "from nonparametric_online import simulate, OnlineNPNMF\n",
    "from nonparametric import NPNMF\n",
    "from parametric import HPF"
   ]
  },
  {
   "cell_type": "code",
   "execution_count": 50,
   "metadata": {
    "ExecuteTime": {
     "end_time": "2019-12-14T06:51:31.398342Z",
     "start_time": "2019-12-14T06:51:27.696347Z"
    }
   },
   "outputs": [],
   "source": [
    "X, theta, beta, s, v = simulate(U = 100,\n",
    "    D = 100,\n",
    "    K = 10,\n",
    "    alpha=1.1,\n",
    "    beta_shape_prior=0.3,\n",
    "    beta_rate_prior=0.3,\n",
    "    s_rate_prior=1.1)"
   ]
  },
  {
   "cell_type": "code",
   "execution_count": 51,
   "metadata": {
    "ExecuteTime": {
     "end_time": "2019-12-14T06:51:34.800342Z",
     "start_time": "2019-12-14T06:51:33.341340Z"
    }
   },
   "outputs": [],
   "source": [
    "X = scipy.sparse.csr_matrix(X)"
   ]
  },
  {
   "cell_type": "code",
   "execution_count": 98,
   "metadata": {
    "scrolled": true
   },
   "outputs": [
    {
     "name": "stdout",
     "output_type": "stream",
     "text": [
      "Using fixed seed 0\n"
     ]
    }
   ],
   "source": [
    "hpf = HPF(X ,T = 15, seed = 0, threshold = 1e-5, max_iter = 40)"
   ]
  },
  {
   "cell_type": "code",
   "execution_count": 99,
   "metadata": {},
   "outputs": [
    {
     "name": "stdout",
     "output_type": "stream",
     "text": [
      "Iter 1: logjoint = -88507.15167141416, last_logjoint = 0\n",
      "Iter 2: logjoint = 4615.610812726052, last_logjoint = -88507.15167141416\n",
      "Iter 3: logjoint = 4951.097436752023, last_logjoint = 4615.610812726052\n",
      "Iter 4: logjoint = 5044.315775103525, last_logjoint = 4951.097436752023\n",
      "Iter 5: logjoint = 5086.503724241522, last_logjoint = 5044.315775103525\n",
      "Iter 6: logjoint = 5112.264377516578, last_logjoint = 5086.503724241522\n",
      "Iter 7: logjoint = 5131.529756551092, last_logjoint = 5112.264377516578\n",
      "Iter 8: logjoint = 5147.91561331276, last_logjoint = 5131.529756551092\n",
      "Iter 9: logjoint = 5162.993466496631, last_logjoint = 5147.91561331276\n",
      "Iter 10: logjoint = 5177.37325707229, last_logjoint = 5162.993466496631\n",
      "Iter 11: logjoint = 5190.817237054598, last_logjoint = 5177.37325707229\n",
      "Iter 12: logjoint = 5202.50147647586, last_logjoint = 5190.817237054598\n",
      "Iter 13: logjoint = 5211.8207885667725, last_logjoint = 5202.50147647586\n",
      "Iter 14: logjoint = 5218.888491400963, last_logjoint = 5211.8207885667725\n",
      "Iter 15: logjoint = 5224.243000399481, last_logjoint = 5218.888491400963\n",
      "Iter 16: logjoint = 5228.414499671997, last_logjoint = 5224.243000399481\n",
      "Iter 17: logjoint = 5231.756513041102, last_logjoint = 5228.414499671997\n",
      "Iter 18: logjoint = 5234.491504255007, last_logjoint = 5231.756513041102\n",
      "Iter 19: logjoint = 5236.765878090766, last_logjoint = 5234.491504255007\n",
      "Iter 20: logjoint = 5238.634577811814, last_logjoint = 5236.765878090766\n",
      "Iter 21: logjoint = 5240.110564273016, last_logjoint = 5238.634577811814\n",
      "Iter 22: logjoint = 5241.228429625338, last_logjoint = 5240.110564273016\n",
      "Iter 23: logjoint = 5242.062594527988, last_logjoint = 5241.228429625338\n",
      "Iter 24: logjoint = 5242.708415297378, last_logjoint = 5242.062594527988\n",
      "Iter 25: logjoint = 5243.21531627488, last_logjoint = 5242.708415297378\n",
      "Iter 26: logjoint = 5243.596105538694, last_logjoint = 5243.21531627488\n",
      "Iter 27: logjoint = 5243.865816532822, last_logjoint = 5243.596105538694\n",
      "Iter 28: logjoint = 5244.035457899012, last_logjoint = 5243.865816532822\n",
      "Iter 29: logjoint = 5244.114794066412, last_logjoint = 5244.035457899012\n",
      "Iter 30: logjoint = 5244.114444879344, last_logjoint = 5244.114794066412\n",
      "Converged!\n"
     ]
    }
   ],
   "source": [
    "hpf.inference()"
   ]
  },
  {
   "cell_type": "code",
   "execution_count": 110,
   "metadata": {
    "scrolled": false
   },
   "outputs": [
    {
     "data": {
      "image/png": "[encoded data removed]",
      "text/plain": [
       "<Figure size 432x288 with 1 Axes>"
      ]
     },
     "metadata": {
      "needs_background": "light"
     },
     "output_type": "display_data"
    }
   ],
   "source": [
    "hpf.posterior_check(False)"
   ]
  },
  {
   "cell_type": "code",
   "execution_count": 95,
   "metadata": {},
   "outputs": [
    {
     "name": "stdout",
     "output_type": "stream",
     "text": [
      "Using fixed seed 0\n",
      "logjoint:-5974.694622667567\n",
      "Iter 1: logjoint = -5974.694622667567, last_logjoint = 0\n"
     ]
    },
    {
     "ename": "KeyboardInterrupt",
     "evalue": "",
     "output_type": "error",
     "traceback": [
      "\u001b[0;31m---------------------------------------------------------------------------\u001b[0m",
      "\u001b[0;31mKeyboardInterrupt\u001b[0m                         Traceback (most recent call last)",
      "\u001b[0;32m<ipython-input-95-91397ee73f54>\u001b[0m in \u001b[0;36m<module>\u001b[0;34m\u001b[0m\n\u001b[1;32m      1\u001b[0m \u001b[0mnmf\u001b[0m \u001b[0;34m=\u001b[0m \u001b[0mNPNMF\u001b[0m\u001b[0;34m(\u001b[0m\u001b[0mX\u001b[0m \u001b[0;34m,\u001b[0m\u001b[0mT\u001b[0m \u001b[0;34m=\u001b[0m \u001b[0;36m15\u001b[0m\u001b[0;34m,\u001b[0m \u001b[0mseed\u001b[0m \u001b[0;34m=\u001b[0m \u001b[0;36m0\u001b[0m\u001b[0;34m,\u001b[0m \u001b[0mthreshold\u001b[0m \u001b[0;34m=\u001b[0m \u001b[0;36m1e-5\u001b[0m\u001b[0;34m,\u001b[0m \u001b[0mmax_iter\u001b[0m \u001b[0;34m=\u001b[0m \u001b[0;36m40\u001b[0m\u001b[0;34m)\u001b[0m\u001b[0;34m\u001b[0m\u001b[0;34m\u001b[0m\u001b[0m\n\u001b[0;32m----> 2\u001b[0;31m \u001b[0mtheta\u001b[0m\u001b[0;34m,\u001b[0m \u001b[0mbeta\u001b[0m \u001b[0;34m=\u001b[0m \u001b[0mnmf\u001b[0m\u001b[0;34m.\u001b[0m\u001b[0minference\u001b[0m\u001b[0;34m(\u001b[0m\u001b[0;34m)\u001b[0m\u001b[0;34m\u001b[0m\u001b[0;34m\u001b[0m\u001b[0m\n\u001b[0m",
      "\u001b[0;32m~/git/FOGM/nonparametric.py\u001b[0m in \u001b[0;36minference\u001b[0;34m(self)\u001b[0m\n\u001b[1;32m    231\u001b[0m \u001b[0;34m\u001b[0m\u001b[0m\n\u001b[1;32m    232\u001b[0m             \u001b[0;31m#Update across item\u001b[0m\u001b[0;34m\u001b[0m\u001b[0;34m\u001b[0m\u001b[0;34m\u001b[0m\u001b[0m\n\u001b[0;32m--> 233\u001b[0;31m             \u001b[0mself\u001b[0m\u001b[0;34m.\u001b[0m\u001b[0mupdate_items\u001b[0m\u001b[0;34m(\u001b[0m\u001b[0;34m)\u001b[0m \u001b[0;31m#q(beta_d)\u001b[0m\u001b[0;34m\u001b[0m\u001b[0;34m\u001b[0m\u001b[0m\n\u001b[0m\u001b[1;32m    234\u001b[0m             \u001b[0mt4\u001b[0m \u001b[0;34m=\u001b[0m \u001b[0mtime\u001b[0m\u001b[0;34m.\u001b[0m\u001b[0mtime\u001b[0m\u001b[0;34m(\u001b[0m\u001b[0;34m)\u001b[0m\u001b[0;34m\u001b[0m\u001b[0;34m\u001b[0m\u001b[0m\n\u001b[1;32m    235\u001b[0m             \u001b[0;31m#print(f'Iter {_iter}: Update items = {t4 - t3}')\u001b[0m\u001b[0;34m\u001b[0m\u001b[0;34m\u001b[0m\u001b[0;34m\u001b[0m\u001b[0m\n",
      "\u001b[0;32m~/git/FOGM/nonparametric.py\u001b[0m in \u001b[0;36mupdate_items\u001b[0;34m(self)\u001b[0m\n\u001b[1;32m    202\u001b[0m             \u001b[0;32mfor\u001b[0m \u001b[0mk\u001b[0m \u001b[0;32min\u001b[0m \u001b[0mrange\u001b[0m\u001b[0;34m(\u001b[0m\u001b[0mself\u001b[0m\u001b[0;34m.\u001b[0m\u001b[0mT\u001b[0m\u001b[0;34m)\u001b[0m\u001b[0;34m:\u001b[0m\u001b[0;34m\u001b[0m\u001b[0;34m\u001b[0m\u001b[0m\n\u001b[1;32m    203\u001b[0m                 \u001b[0mself\u001b[0m\u001b[0;34m.\u001b[0m\u001b[0m_beta_shape\u001b[0m\u001b[0;34m[\u001b[0m\u001b[0md\u001b[0m\u001b[0;34m,\u001b[0m\u001b[0mk\u001b[0m\u001b[0;34m]\u001b[0m \u001b[0;34m=\u001b[0m \u001b[0mself\u001b[0m\u001b[0;34m.\u001b[0m\u001b[0mbeta_shape_prior\u001b[0m \u001b[0;34m+\u001b[0m \u001b[0mself\u001b[0m\u001b[0;34m.\u001b[0m\u001b[0mX\u001b[0m\u001b[0;34m[\u001b[0m\u001b[0;34m:\u001b[0m\u001b[0;34m,\u001b[0m\u001b[0md\u001b[0m\u001b[0;34m]\u001b[0m\u001b[0;34m.\u001b[0m\u001b[0mT\u001b[0m \u001b[0;34m@\u001b[0m \u001b[0mself\u001b[0m\u001b[0;34m.\u001b[0m\u001b[0m_phi\u001b[0m\u001b[0;34m[\u001b[0m\u001b[0;34m:\u001b[0m\u001b[0;34m,\u001b[0m\u001b[0md\u001b[0m\u001b[0;34m,\u001b[0m\u001b[0mk\u001b[0m\u001b[0;34m]\u001b[0m\u001b[0;34m\u001b[0m\u001b[0;34m\u001b[0m\u001b[0m\n\u001b[0;32m--> 204\u001b[0;31m                 \u001b[0mself\u001b[0m\u001b[0;34m.\u001b[0m\u001b[0m_beta_rate\u001b[0m\u001b[0;34m[\u001b[0m\u001b[0md\u001b[0m\u001b[0;34m,\u001b[0m\u001b[0mk\u001b[0m\u001b[0;34m]\u001b[0m \u001b[0;34m=\u001b[0m \u001b[0mself\u001b[0m\u001b[0;34m.\u001b[0m\u001b[0mbeta_rate_prior\u001b[0m \u001b[0;34m+\u001b[0m \u001b[0mself\u001b[0m\u001b[0;34m.\u001b[0m\u001b[0methetasum\u001b[0m\u001b[0;34m(\u001b[0m\u001b[0mk\u001b[0m\u001b[0;34m)\u001b[0m\u001b[0;34m\u001b[0m\u001b[0;34m\u001b[0m\u001b[0m\n\u001b[0m\u001b[1;32m    205\u001b[0m         \u001b[0mself\u001b[0m\u001b[0;34m.\u001b[0m\u001b[0m_beta_mean\u001b[0m \u001b[0;34m=\u001b[0m \u001b[0mself\u001b[0m\u001b[0;34m.\u001b[0m\u001b[0m_beta_shape\u001b[0m\u001b[0;34m/\u001b[0m\u001b[0mself\u001b[0m\u001b[0;34m.\u001b[0m\u001b[0m_beta_rate\u001b[0m\u001b[0;34m\u001b[0m\u001b[0;34m\u001b[0m\u001b[0m\n\u001b[1;32m    206\u001b[0m \u001b[0;34m\u001b[0m\u001b[0m\n",
      "\u001b[0;32m~/git/FOGM/nonparametric.py\u001b[0m in \u001b[0;36methetasum\u001b[0;34m(self, k)\u001b[0m\n\u001b[1;32m    193\u001b[0m \u001b[0;34m\u001b[0m\u001b[0m\n\u001b[1;32m    194\u001b[0m     \u001b[0;32mdef\u001b[0m \u001b[0methetasum\u001b[0m\u001b[0;34m(\u001b[0m\u001b[0mself\u001b[0m\u001b[0;34m,\u001b[0m\u001b[0mk\u001b[0m\u001b[0;34m)\u001b[0m\u001b[0;34m:\u001b[0m\u001b[0;34m\u001b[0m\u001b[0;34m\u001b[0m\u001b[0m\n\u001b[0;32m--> 195\u001b[0;31m         \u001b[0;32mreturn\u001b[0m \u001b[0mnp\u001b[0m\u001b[0;34m.\u001b[0m\u001b[0msum\u001b[0m\u001b[0;34m(\u001b[0m\u001b[0;34m[\u001b[0m\u001b[0;34m(\u001b[0m\u001b[0mself\u001b[0m\u001b[0;34m.\u001b[0m\u001b[0m_s_mean\u001b[0m\u001b[0;34m[\u001b[0m\u001b[0mu\u001b[0m\u001b[0;34m]\u001b[0m \u001b[0;34m+\u001b[0m \u001b[0mnp\u001b[0m\u001b[0;34m.\u001b[0m\u001b[0mexp\u001b[0m\u001b[0;34m(\u001b[0m\u001b[0mself\u001b[0m\u001b[0;34m.\u001b[0m\u001b[0m_logpi\u001b[0m\u001b[0;34m[\u001b[0m\u001b[0mu\u001b[0m\u001b[0;34m,\u001b[0m\u001b[0mk\u001b[0m\u001b[0;34m]\u001b[0m\u001b[0;34m)\u001b[0m\u001b[0;34m)\u001b[0m \u001b[0;32mfor\u001b[0m \u001b[0mu\u001b[0m \u001b[0;32min\u001b[0m \u001b[0mrange\u001b[0m\u001b[0;34m(\u001b[0m\u001b[0mself\u001b[0m\u001b[0;34m.\u001b[0m\u001b[0mU\u001b[0m\u001b[0;34m)\u001b[0m\u001b[0;34m]\u001b[0m\u001b[0;34m)\u001b[0m\u001b[0;34m\u001b[0m\u001b[0;34m\u001b[0m\u001b[0m\n\u001b[0m\u001b[1;32m    196\u001b[0m \u001b[0;34m\u001b[0m\u001b[0m\n\u001b[1;32m    197\u001b[0m     \u001b[0;32mdef\u001b[0m \u001b[0mebetasum\u001b[0m\u001b[0;34m(\u001b[0m\u001b[0mself\u001b[0m\u001b[0;34m,\u001b[0m\u001b[0mk\u001b[0m\u001b[0;34m)\u001b[0m\u001b[0;34m:\u001b[0m\u001b[0;34m\u001b[0m\u001b[0;34m\u001b[0m\u001b[0m\n",
      "\u001b[0;32m~/git/FOGM/nonparametric.py\u001b[0m in \u001b[0;36m<listcomp>\u001b[0;34m(.0)\u001b[0m\n\u001b[1;32m    193\u001b[0m \u001b[0;34m\u001b[0m\u001b[0m\n\u001b[1;32m    194\u001b[0m     \u001b[0;32mdef\u001b[0m \u001b[0methetasum\u001b[0m\u001b[0;34m(\u001b[0m\u001b[0mself\u001b[0m\u001b[0;34m,\u001b[0m\u001b[0mk\u001b[0m\u001b[0;34m)\u001b[0m\u001b[0;34m:\u001b[0m\u001b[0;34m\u001b[0m\u001b[0;34m\u001b[0m\u001b[0m\n\u001b[0;32m--> 195\u001b[0;31m         \u001b[0;32mreturn\u001b[0m \u001b[0mnp\u001b[0m\u001b[0;34m.\u001b[0m\u001b[0msum\u001b[0m\u001b[0;34m(\u001b[0m\u001b[0;34m[\u001b[0m\u001b[0;34m(\u001b[0m\u001b[0mself\u001b[0m\u001b[0;34m.\u001b[0m\u001b[0m_s_mean\u001b[0m\u001b[0;34m[\u001b[0m\u001b[0mu\u001b[0m\u001b[0;34m]\u001b[0m \u001b[0;34m+\u001b[0m \u001b[0mnp\u001b[0m\u001b[0;34m.\u001b[0m\u001b[0mexp\u001b[0m\u001b[0;34m(\u001b[0m\u001b[0mself\u001b[0m\u001b[0;34m.\u001b[0m\u001b[0m_logpi\u001b[0m\u001b[0;34m[\u001b[0m\u001b[0mu\u001b[0m\u001b[0;34m,\u001b[0m\u001b[0mk\u001b[0m\u001b[0;34m]\u001b[0m\u001b[0;34m)\u001b[0m\u001b[0;34m)\u001b[0m \u001b[0;32mfor\u001b[0m \u001b[0mu\u001b[0m \u001b[0;32min\u001b[0m \u001b[0mrange\u001b[0m\u001b[0;34m(\u001b[0m\u001b[0mself\u001b[0m\u001b[0;34m.\u001b[0m\u001b[0mU\u001b[0m\u001b[0;34m)\u001b[0m\u001b[0;34m]\u001b[0m\u001b[0;34m)\u001b[0m\u001b[0;34m\u001b[0m\u001b[0;34m\u001b[0m\u001b[0m\n\u001b[0m\u001b[1;32m    196\u001b[0m \u001b[0;34m\u001b[0m\u001b[0m\n\u001b[1;32m    197\u001b[0m     \u001b[0;32mdef\u001b[0m \u001b[0mebetasum\u001b[0m\u001b[0;34m(\u001b[0m\u001b[0mself\u001b[0m\u001b[0;34m,\u001b[0m\u001b[0mk\u001b[0m\u001b[0;34m)\u001b[0m\u001b[0;34m:\u001b[0m\u001b[0;34m\u001b[0m\u001b[0;34m\u001b[0m\u001b[0m\n",
      "\u001b[0;31mKeyboardInterrupt\u001b[0m: "
     ]
    }
   ],
   "source": [
    "nmf = NPNMF(X ,T = 15, seed = 0, threshold = 1e-5, max_iter = 40)\n",
    "theta, beta = nmf.inference()"
   ]
  },
  {
   "cell_type": "code",
   "execution_count": 28,
   "metadata": {
    "ExecuteTime": {
     "end_time": "2019-12-14T09:06:43.792768Z",
     "start_time": "2019-12-14T09:06:40.619767Z"
    }
   },
   "outputs": [
    {
     "name": "stdout",
     "output_type": "stream",
     "text": [
      "Using fixed seed 0\n"
     ]
    }
   ],
   "source": [
    "nmf = OnlineNPNMF(X ,T = 15, seed = 0, threshold = 1e-5, max_iter = 10)\n",
    "#nmf.ELBO()"
   ]
  },
  {
   "cell_type": "code",
   "execution_count": 10,
   "metadata": {},
   "outputs": [],
   "source": [
    "time0 = time.time()"
   ]
  },
  {
   "cell_type": "code",
   "execution_count": 29,
   "metadata": {
    "scrolled": true
   },
   "outputs": [
    {
     "name": "stdout",
     "output_type": "stream",
     "text": [
      "Iteration 0: passing through the data...\n",
      "\tMinibatch 0-0-0: logjoint = -8435.867003122292, last_logjoint = 0\n",
      "\tMinibatch 0-1-0: logjoint = -11024.57618151966, last_logjoint = -8435.867003122292\n",
      "\tMinibatch 0-2-0: logjoint = -15140.257395369114, last_logjoint = -11024.57618151966\n",
      "\tMinibatch 0-3-0: logjoint = -18332.502838712368, last_logjoint = -15140.257395369114\n",
      "\tMinibatch 0-4-0: logjoint = -21593.575835151798, last_logjoint = -18332.502838712368\n",
      "\tMinibatch 0-5-0: logjoint = -23565.371941785896, last_logjoint = -21593.575835151798\n",
      "\tMinibatch 0-6-0: logjoint = -26282.137833927693, last_logjoint = -23565.371941785896\n",
      "\tMinibatch 0-7-0: logjoint = -29833.12596445541, last_logjoint = -26282.137833927693\n",
      "\tMinibatch 0-8-0: logjoint = -31826.74019570546, last_logjoint = -29833.12596445541\n",
      "\tMinibatch 0-9-0: logjoint = -34958.297621254846, last_logjoint = -31826.74019570546\n",
      "\tMinibatch 1-0-0: logjoint = -35547.855227806016, last_logjoint = -34958.297621254846\n",
      "\tMinibatch 1-1-0: logjoint = -34107.70867583235, last_logjoint = -35547.855227806016\n",
      "\tMinibatch 1-2-0: logjoint = -32662.320891002237, last_logjoint = -34107.70867583235\n",
      "\tMinibatch 1-3-0: logjoint = -31708.461202197206, last_logjoint = -32662.320891002237\n",
      "\tMinibatch 1-4-0: logjoint = -31174.020609451058, last_logjoint = -31708.461202197206\n",
      "\tMinibatch 1-5-0: logjoint = -30927.884392883676, last_logjoint = -31174.020609451058\n",
      "\tMinibatch 1-6-0: logjoint = -30759.770919400853, last_logjoint = -30927.884392883676\n",
      "\tMinibatch 1-7-0: logjoint = -30677.463968985398, last_logjoint = -30759.770919400853\n",
      "\tMinibatch 1-8-0: logjoint = -30771.206329242836, last_logjoint = -30677.463968985398\n",
      "\tMinibatch 1-9-0: logjoint = -30702.164346238555, last_logjoint = -30771.206329242836\n",
      "\tMinibatch 2-0-0: logjoint = -32734.470037133487, last_logjoint = -30702.164346238555\n",
      "\tMinibatch 2-1-0: logjoint = -30778.911671243404, last_logjoint = -32734.470037133487\n",
      "\tMinibatch 2-2-0: logjoint = -30072.659530658522, last_logjoint = -30778.911671243404\n",
      "\tMinibatch 2-3-0: logjoint = -29492.05102256782, last_logjoint = -30072.659530658522\n",
      "\tMinibatch 2-4-0: logjoint = -28888.805968637294, last_logjoint = -29492.05102256782\n",
      "\tMinibatch 2-5-0: logjoint = -28482.64423576499, last_logjoint = -28888.805968637294\n",
      "\tMinibatch 2-6-0: logjoint = -28182.8121845191, last_logjoint = -28482.64423576499\n",
      "\tMinibatch 2-7-0: logjoint = -28030.707440690647, last_logjoint = -28182.8121845191\n",
      "\tMinibatch 2-8-0: logjoint = -27919.540409224574, last_logjoint = -28030.707440690647\n",
      "\tMinibatch 2-9-0: logjoint = -27807.40194248928, last_logjoint = -27919.540409224574\n",
      "\tMinibatch 3-0-0: logjoint = -30157.458107923227, last_logjoint = -27807.40194248928\n",
      "\tMinibatch 3-1-0: logjoint = -27720.58482029431, last_logjoint = -30157.458107923227\n",
      "\tMinibatch 3-2-0: logjoint = -26712.657150589108, last_logjoint = -27720.58482029431\n",
      "\tMinibatch 3-3-0: logjoint = -26007.5631739062, last_logjoint = -26712.657150589108\n",
      "\tMinibatch 3-4-0: logjoint = -25451.001463636065, last_logjoint = -26007.5631739062\n",
      "\tMinibatch 3-5-0: logjoint = -25070.088143954767, last_logjoint = -25451.001463636065\n",
      "\tMinibatch 3-6-0: logjoint = -24769.879636729456, last_logjoint = -25070.088143954767\n",
      "\tMinibatch 3-7-0: logjoint = -24578.92689016293, last_logjoint = -24769.879636729456\n",
      "\tMinibatch 3-8-0: logjoint = -24380.016902427466, last_logjoint = -24578.92689016293\n",
      "\tMinibatch 3-9-0: logjoint = -24226.221339639367, last_logjoint = -24380.016902427466\n",
      "\tMinibatch 4-0-0: logjoint = -25562.373559976517, last_logjoint = -24226.221339639367\n",
      "\tMinibatch 4-1-0: logjoint = -23995.610058638315, last_logjoint = -25562.373559976517\n",
      "\tMinibatch 4-2-0: logjoint = -23240.188917459916, last_logjoint = -23995.610058638315\n",
      "\tMinibatch 4-3-0: logjoint = -22772.27416183923, last_logjoint = -23240.188917459916\n",
      "\tMinibatch 4-4-0: logjoint = -22471.001527575212, last_logjoint = -22772.27416183923\n",
      "\tMinibatch 4-5-0: logjoint = -22256.006394358297, last_logjoint = -22471.001527575212\n",
      "\tMinibatch 4-6-0: logjoint = -22170.46172672235, last_logjoint = -22256.006394358297\n",
      "\tMinibatch 4-7-0: logjoint = -21933.09321069797, last_logjoint = -22170.46172672235\n",
      "\tMinibatch 4-8-0: logjoint = -21839.02469823118, last_logjoint = -21933.09321069797\n",
      "\tMinibatch 4-9-0: logjoint = -21761.432165059538, last_logjoint = -21839.02469823118\n",
      "\tMinibatch 5-0-0: logjoint = -23137.021926750538, last_logjoint = -21761.432165059538\n",
      "\tMinibatch 5-1-0: logjoint = -21335.159167866397, last_logjoint = -23137.021926750538\n",
      "\tMinibatch 5-2-0: logjoint = -20636.610829643876, last_logjoint = -21335.159167866397\n",
      "\tMinibatch 5-3-0: logjoint = -19929.034290750067, last_logjoint = -20636.610829643876\n",
      "\tMinibatch 5-4-0: logjoint = -19482.476943903068, last_logjoint = -19929.034290750067\n",
      "\tMinibatch 5-5-0: logjoint = -19231.526680225397, last_logjoint = -19482.476943903068\n",
      "\tMinibatch 5-6-0: logjoint = -19010.880741546567, last_logjoint = -19231.526680225397\n",
      "\tMinibatch 5-7-0: logjoint = -18870.01878032265, last_logjoint = -19010.880741546567\n",
      "\tMinibatch 5-8-0: logjoint = -18834.20647283908, last_logjoint = -18870.01878032265\n",
      "\tMinibatch 5-9-0: logjoint = -18793.09436427924, last_logjoint = -18834.20647283908\n",
      "\tMinibatch 6-0-0: logjoint = -20086.478323040214, last_logjoint = -18793.09436427924\n",
      "\tMinibatch 6-1-0: logjoint = -18063.748198110025, last_logjoint = -20086.478323040214\n",
      "\tMinibatch 6-2-0: logjoint = -17080.74413226336, last_logjoint = -18063.748198110025\n",
      "\tMinibatch 6-3-0: logjoint = -16386.555311004267, last_logjoint = -17080.74413226336\n",
      "\tMinibatch 6-4-0: logjoint = -15853.632042977148, last_logjoint = -16386.555311004267\n",
      "\tMinibatch 6-5-0: logjoint = -15534.898150894129, last_logjoint = -15853.632042977148\n",
      "\tMinibatch 6-6-0: logjoint = -15310.124724521178, last_logjoint = -15534.898150894129\n",
      "\tMinibatch 6-7-0: logjoint = -15127.589986000261, last_logjoint = -15310.124724521178\n",
      "\tMinibatch 6-8-0: logjoint = -15071.994981336087, last_logjoint = -15127.589986000261\n",
      "\tMinibatch 6-9-0: logjoint = -15016.982460269825, last_logjoint = -15071.994981336087\n",
      "\tMinibatch 7-0-0: logjoint = -16468.454837353835, last_logjoint = -15016.982460269825\n",
      "\tMinibatch 7-1-0: logjoint = -15210.660489059508, last_logjoint = -16468.454837353835\n",
      "\tMinibatch 7-2-0: logjoint = -14721.157305590317, last_logjoint = -15210.660489059508\n",
      "\tMinibatch 7-3-0: logjoint = -14341.678425956636, last_logjoint = -14721.157305590317\n",
      "\tMinibatch 7-4-0: logjoint = -14055.073555548179, last_logjoint = -14341.678425956636\n",
      "\tMinibatch 7-5-0: logjoint = -13855.27455906161, last_logjoint = -14055.073555548179\n",
      "\tMinibatch 7-6-0: logjoint = -13770.833171792448, last_logjoint = -13855.27455906161\n",
      "\tMinibatch 7-7-0: logjoint = -13676.205248007744, last_logjoint = -13770.833171792448\n",
      "\tMinibatch 7-8-0: logjoint = -13637.25726341774, last_logjoint = -13676.205248007744\n",
      "\tMinibatch 7-9-0: logjoint = -13604.490690659914, last_logjoint = -13637.25726341774\n",
      "\tMinibatch 8-0-0: logjoint = -15295.812442994229, last_logjoint = -13604.490690659914\n",
      "\tMinibatch 8-1-0: logjoint = -12123.795987904912, last_logjoint = -15295.812442994229\n",
      "\tMinibatch 8-2-0: logjoint = -10762.939736710574, last_logjoint = -12123.795987904912\n",
      "\tMinibatch 8-3-0: logjoint = -9770.58532670495, last_logjoint = -10762.939736710574\n",
      "\tMinibatch 8-4-0: logjoint = -8996.414594894524, last_logjoint = -9770.58532670495\n",
      "\tMinibatch 8-5-0: logjoint = -8498.77712592798, last_logjoint = -8996.414594894524\n",
      "\tMinibatch 8-6-0: logjoint = -8150.566272051645, last_logjoint = -8498.77712592798\n",
      "\tMinibatch 8-7-0: logjoint = -7825.007624972427, last_logjoint = -8150.566272051645\n",
      "\tMinibatch 8-8-0: logjoint = -7657.031970030407, last_logjoint = -7825.007624972427\n",
      "\tMinibatch 8-9-0: logjoint = -7542.906134970451, last_logjoint = -7657.031970030407\n",
      "\tMinibatch 9-0-0: logjoint = -9236.535040952716, last_logjoint = -7542.906134970451\n",
      "\tMinibatch 9-1-0: logjoint = -7371.78393155251, last_logjoint = -9236.535040952716\n",
      "\tMinibatch 9-2-0: logjoint = -6524.8716634030525, last_logjoint = -7371.78393155251\n",
      "\tMinibatch 9-3-0: logjoint = -5890.235546840297, last_logjoint = -6524.8716634030525\n",
      "\tMinibatch 9-4-0: logjoint = -5332.835193675393, last_logjoint = -5890.235546840297\n",
      "\tMinibatch 9-5-0: logjoint = -4971.500361536084, last_logjoint = -5332.835193675393\n",
      "\tMinibatch 9-6-0: logjoint = -4741.940842740416, last_logjoint = -4971.500361536084\n"
     ]
    },
    {
     "name": "stdout",
     "output_type": "stream",
     "text": [
      "\tMinibatch 9-7-0: logjoint = -4548.717294804686, last_logjoint = -4741.940842740416\n",
      "\tMinibatch 9-8-0: logjoint = -4427.545449899094, last_logjoint = -4548.717294804686\n",
      "\tMinibatch 9-9-0: logjoint = -4333.121434780158, last_logjoint = -4427.545449899094\n",
      "Iteration 1: passing through the data...\n",
      "\tMinibatch 0-0-1: logjoint = -4321.348713408714, last_logjoint = -4333.121434780158\n",
      "\tMinibatch 0-1-1: logjoint = -4315.593079974909, last_logjoint = -4321.348713408714\n",
      "\tMinibatch 0-2-1: logjoint = -4284.316345385651, last_logjoint = -4315.593079974909\n",
      "\tMinibatch 0-3-1: logjoint = -4223.090975403027, last_logjoint = -4284.316345385651\n",
      "\tMinibatch 0-4-1: logjoint = -4227.040442632583, last_logjoint = -4223.090975403027\n",
      "\tMinibatch 0-5-1: logjoint = -4175.427457866557, last_logjoint = -4227.040442632583\n",
      "\tMinibatch 0-6-1: logjoint = -4163.886468166325, last_logjoint = -4175.427457866557\n",
      "\tMinibatch 0-7-1: logjoint = -4166.615936428893, last_logjoint = -4163.886468166325\n",
      "\tMinibatch 0-8-1: logjoint = -4164.7004504051665, last_logjoint = -4166.615936428893\n",
      "\tMinibatch 0-9-1: logjoint = -4162.343947823207, last_logjoint = -4164.7004504051665\n",
      "\tMinibatch 1-0-1: logjoint = -4134.502256530351, last_logjoint = -4162.343947823207\n",
      "\tMinibatch 1-1-1: logjoint = -4115.638508860791, last_logjoint = -4134.502256530351\n",
      "\tMinibatch 1-2-1: logjoint = -4082.388562120429, last_logjoint = -4115.638508860791\n",
      "\tMinibatch 1-3-1: logjoint = -4040.333602387864, last_logjoint = -4082.388562120429\n",
      "\tMinibatch 1-4-1: logjoint = -4025.2071961286892, last_logjoint = -4040.333602387864\n",
      "\tMinibatch 1-5-1: logjoint = -3971.778063128648, last_logjoint = -4025.2071961286892\n",
      "\tMinibatch 1-6-1: logjoint = -3943.9827309419534, last_logjoint = -3971.778063128648\n",
      "\tMinibatch 1-7-1: logjoint = -3937.619392794212, last_logjoint = -3943.9827309419534\n",
      "\tMinibatch 1-8-1: logjoint = -3930.1508144055297, last_logjoint = -3937.619392794212\n",
      "\tMinibatch 1-9-1: logjoint = -3923.1889619746908, last_logjoint = -3930.1508144055297\n",
      "\tMinibatch 2-0-1: logjoint = -3698.9456912494365, last_logjoint = -3923.1889619746908\n",
      "\tMinibatch 2-1-1: logjoint = -3618.949311187556, last_logjoint = -3698.9456912494365\n",
      "\tMinibatch 2-2-1: logjoint = -3537.9931098427382, last_logjoint = -3618.949311187556\n",
      "\tMinibatch 2-3-1: logjoint = -3448.9937679029545, last_logjoint = -3537.9931098427382\n",
      "\tMinibatch 2-4-1: logjoint = -3387.150247538894, last_logjoint = -3448.9937679029545\n",
      "\tMinibatch 2-5-1: logjoint = -3310.181032853591, last_logjoint = -3387.150247538894\n",
      "\tMinibatch 2-6-1: logjoint = -3272.79905348967, last_logjoint = -3310.181032853591\n",
      "\tMinibatch 2-7-1: logjoint = -3263.581379821321, last_logjoint = -3272.79905348967\n",
      "\tMinibatch 2-8-1: logjoint = -3248.0473754921504, last_logjoint = -3263.581379821321\n",
      "\tMinibatch 2-9-1: logjoint = -3232.043226001233, last_logjoint = -3248.0473754921504\n",
      "\tMinibatch 3-0-1: logjoint = -3085.495153963715, last_logjoint = -3232.043226001233\n",
      "\tMinibatch 3-1-1: logjoint = -3062.5989312739866, last_logjoint = -3085.495153963715\n",
      "\tMinibatch 3-2-1: logjoint = -3009.553077032112, last_logjoint = -3062.5989312739866\n",
      "\tMinibatch 3-3-1: logjoint = -2915.5587301338446, last_logjoint = -3009.553077032112\n",
      "\tMinibatch 3-4-1: logjoint = -2844.678975793421, last_logjoint = -2915.5587301338446\n",
      "\tMinibatch 3-5-1: logjoint = -2765.749382293732, last_logjoint = -2844.678975793421\n",
      "\tMinibatch 3-6-1: logjoint = -2720.470281888182, last_logjoint = -2765.749382293732\n",
      "\tMinibatch 3-7-1: logjoint = -2706.043460452669, last_logjoint = -2720.470281888182\n",
      "\tMinibatch 3-8-1: logjoint = -2692.6224751090294, last_logjoint = -2706.043460452669\n",
      "\tMinibatch 3-9-1: logjoint = -2677.0880130132537, last_logjoint = -2692.6224751090294\n",
      "\tMinibatch 4-0-1: logjoint = -2645.9477418622505, last_logjoint = -2677.0880130132537\n",
      "\tMinibatch 4-1-1: logjoint = -2644.7992065141166, last_logjoint = -2645.9477418622505\n",
      "\tMinibatch 4-2-1: logjoint = -2623.657356819329, last_logjoint = -2644.7992065141166\n",
      "\tMinibatch 4-3-1: logjoint = -2604.6081816210535, last_logjoint = -2623.657356819329\n",
      "\tMinibatch 4-4-1: logjoint = -2578.690289848424, last_logjoint = -2604.6081816210535\n",
      "\tMinibatch 4-5-1: logjoint = -2557.2349046585823, last_logjoint = -2578.690289848424\n",
      "\tMinibatch 4-6-1: logjoint = -2543.2622582309314, last_logjoint = -2557.2349046585823\n",
      "\tMinibatch 4-7-1: logjoint = -2536.0189567694138, last_logjoint = -2543.2622582309314\n",
      "\tMinibatch 4-8-1: logjoint = -2526.891927280019, last_logjoint = -2536.0189567694138\n",
      "\tMinibatch 4-9-1: logjoint = -2517.243027333747, last_logjoint = -2526.891927280019\n",
      "\tMinibatch 5-0-1: logjoint = -2497.494556544229, last_logjoint = -2517.243027333747\n",
      "\tMinibatch 5-1-1: logjoint = -2473.3885074505743, last_logjoint = -2497.494556544229\n",
      "\tMinibatch 5-2-1: logjoint = -2448.579973254741, last_logjoint = -2473.3885074505743\n",
      "\tMinibatch 5-3-1: logjoint = -2401.351303183053, last_logjoint = -2448.579973254741\n",
      "\tMinibatch 5-4-1: logjoint = -2371.308231311522, last_logjoint = -2401.351303183053\n",
      "\tMinibatch 5-5-1: logjoint = -2327.889109792658, last_logjoint = -2371.308231311522\n",
      "\tMinibatch 5-6-1: logjoint = -2295.9765316416206, last_logjoint = -2327.889109792658\n",
      "\tMinibatch 5-7-1: logjoint = -2282.71707402198, last_logjoint = -2295.9765316416206\n",
      "\tMinibatch 5-8-1: logjoint = -2265.196804886807, last_logjoint = -2282.71707402198\n",
      "\tMinibatch 5-9-1: logjoint = -2251.074194082732, last_logjoint = -2265.196804886807\n",
      "\tMinibatch 6-0-1: logjoint = -1902.8570582738125, last_logjoint = -2251.074194082732\n",
      "\tMinibatch 6-1-1: logjoint = -1821.040835680103, last_logjoint = -1902.8570582738125\n",
      "\tMinibatch 6-2-1: logjoint = -1791.5472641963265, last_logjoint = -1821.040835680103\n",
      "\tMinibatch 6-3-1: logjoint = -1755.6719448004624, last_logjoint = -1791.5472641963265\n",
      "\tMinibatch 6-4-1: logjoint = -1725.752941965086, last_logjoint = -1755.6719448004624\n",
      "\tMinibatch 6-5-1: logjoint = -1687.8450346868008, last_logjoint = -1725.752941965086\n",
      "\tMinibatch 6-6-1: logjoint = -1664.8227442708007, last_logjoint = -1687.8450346868008\n",
      "\tMinibatch 6-7-1: logjoint = -1656.7391790126212, last_logjoint = -1664.8227442708007\n",
      "\tMinibatch 6-8-1: logjoint = -1652.479918017466, last_logjoint = -1656.7391790126212\n",
      "\tMinibatch 6-9-1: logjoint = -1642.641899368029, last_logjoint = -1652.479918017466\n",
      "\tMinibatch 7-0-1: logjoint = -1611.8676883689814, last_logjoint = -1642.641899368029\n",
      "\tMinibatch 7-1-1: logjoint = -1604.27050828137, last_logjoint = -1611.8676883689814\n",
      "\tMinibatch 7-2-1: logjoint = -1599.8799741030161, last_logjoint = -1604.27050828137\n",
      "\tMinibatch 7-3-1: logjoint = -1581.8265456516046, last_logjoint = -1599.8799741030161\n",
      "\tMinibatch 7-4-1: logjoint = -1569.758540510029, last_logjoint = -1581.8265456516046\n",
      "\tMinibatch 7-5-1: logjoint = -1556.0099281726234, last_logjoint = -1569.758540510029\n",
      "\tMinibatch 7-6-1: logjoint = -1543.5917484955748, last_logjoint = -1556.0099281726234\n",
      "\tMinibatch 7-7-1: logjoint = -1531.06148338203, last_logjoint = -1543.5917484955748\n",
      "\tMinibatch 7-8-1: logjoint = -1524.9180742080384, last_logjoint = -1531.06148338203\n",
      "\tMinibatch 7-9-1: logjoint = -1516.8616129525672, last_logjoint = -1524.9180742080384\n",
      "\tMinibatch 8-0-1: logjoint = -1388.9807817774386, last_logjoint = -1516.8616129525672\n",
      "\tMinibatch 8-1-1: logjoint = -1355.7138074667223, last_logjoint = -1388.9807817774386\n",
      "\tMinibatch 8-2-1: logjoint = -1337.0722396686288, last_logjoint = -1355.7138074667223\n",
      "\tMinibatch 8-3-1: logjoint = -1313.4036146889139, last_logjoint = -1337.0722396686288\n",
      "\tMinibatch 8-4-1: logjoint = -1292.9889560658926, last_logjoint = -1313.4036146889139\n",
      "\tMinibatch 8-5-1: logjoint = -1271.2255077404975, last_logjoint = -1292.9889560658926\n",
      "\tMinibatch 8-6-1: logjoint = -1252.8726979896596, last_logjoint = -1271.2255077404975\n",
      "\tMinibatch 8-7-1: logjoint = -1238.4103725405434, last_logjoint = -1252.8726979896596\n",
      "\tMinibatch 8-8-1: logjoint = -1225.9805992661227, last_logjoint = -1238.4103725405434\n",
      "\tMinibatch 8-9-1: logjoint = -1207.112094339399, last_logjoint = -1225.9805992661227\n",
      "\tMinibatch 9-0-1: logjoint = -1186.1316701024916, last_logjoint = -1207.112094339399\n",
      "\tMinibatch 9-1-1: logjoint = -1177.4027718452821, last_logjoint = -1186.1316701024916\n",
      "\tMinibatch 9-2-1: logjoint = -1167.7112627677352, last_logjoint = -1177.4027718452821\n",
      "\tMinibatch 9-3-1: logjoint = -1145.285972895931, last_logjoint = -1167.7112627677352\n",
      "\tMinibatch 9-4-1: logjoint = -1117.983431567157, last_logjoint = -1145.285972895931\n"
     ]
    },
    {
     "name": "stdout",
     "output_type": "stream",
     "text": [
      "\tMinibatch 9-5-1: logjoint = -1090.261050308649, last_logjoint = -1117.983431567157\n",
      "\tMinibatch 9-6-1: logjoint = -1075.5088764718084, last_logjoint = -1090.261050308649\n",
      "\tMinibatch 9-7-1: logjoint = -1062.4605876133855, last_logjoint = -1075.5088764718084\n",
      "\tMinibatch 9-8-1: logjoint = -1055.2738911791303, last_logjoint = -1062.4605876133855\n",
      "\tMinibatch 9-9-1: logjoint = -1039.6617923107306, last_logjoint = -1055.2738911791303\n",
      "Iteration 2: passing through the data...\n",
      "\tMinibatch 0-0-2: logjoint = -1068.1635846306435, last_logjoint = -1039.6617923107306\n",
      "\tMinibatch 0-1-2: logjoint = -1063.947002500593, last_logjoint = -1068.1635846306435\n",
      "\tMinibatch 0-2-2: logjoint = -1058.6559403375322, last_logjoint = -1063.947002500593\n",
      "\tMinibatch 0-3-2: logjoint = -1051.8231136242307, last_logjoint = -1058.6559403375322\n",
      "\tMinibatch 0-4-2: logjoint = -1043.1945251818124, last_logjoint = -1051.8231136242307\n",
      "\tMinibatch 0-5-2: logjoint = -1034.565502768478, last_logjoint = -1043.1945251818124\n",
      "\tMinibatch 0-6-2: logjoint = -1028.8180562657953, last_logjoint = -1034.565502768478\n",
      "\tMinibatch 0-7-2: logjoint = -1022.8620803672484, last_logjoint = -1028.8180562657953\n",
      "\tMinibatch 0-8-2: logjoint = -1017.0758935598351, last_logjoint = -1022.8620803672484\n",
      "\tMinibatch 0-9-2: logjoint = -1005.7939547451142, last_logjoint = -1017.0758935598351\n",
      "\tMinibatch 1-0-2: logjoint = -1047.453068823449, last_logjoint = -1005.7939547451142\n",
      "\tMinibatch 1-1-2: logjoint = -1042.1111074323662, last_logjoint = -1047.453068823449\n",
      "\tMinibatch 1-2-2: logjoint = -1033.9465457404594, last_logjoint = -1042.1111074323662\n",
      "\tMinibatch 1-3-2: logjoint = -1022.7389692456186, last_logjoint = -1033.9465457404594\n",
      "\tMinibatch 1-4-2: logjoint = -1008.1385052864252, last_logjoint = -1022.7389692456186\n",
      "\tMinibatch 1-5-2: logjoint = -993.0363275203408, last_logjoint = -1008.1385052864252\n",
      "\tMinibatch 1-6-2: logjoint = -985.4656054342486, last_logjoint = -993.0363275203408\n",
      "\tMinibatch 1-7-2: logjoint = -974.6945383321881, last_logjoint = -985.4656054342486\n",
      "\tMinibatch 1-8-2: logjoint = -963.8909935547417, last_logjoint = -974.6945383321881\n",
      "\tMinibatch 1-9-2: logjoint = -948.7244582471949, last_logjoint = -963.8909935547417\n",
      "\tMinibatch 2-0-2: logjoint = -995.5253527201503, last_logjoint = -948.7244582471949\n",
      "\tMinibatch 2-1-2: logjoint = -991.5483807596165, last_logjoint = -995.5253527201503\n",
      "\tMinibatch 2-2-2: logjoint = -984.2748407061417, last_logjoint = -991.5483807596165\n",
      "\tMinibatch 2-3-2: logjoint = -974.6428954537178, last_logjoint = -984.2748407061417\n",
      "\tMinibatch 2-4-2: logjoint = -963.1154857998672, last_logjoint = -974.6428954537178\n",
      "\tMinibatch 2-5-2: logjoint = -953.4635967699251, last_logjoint = -963.1154857998672\n",
      "\tMinibatch 2-6-2: logjoint = -947.1232564992224, last_logjoint = -953.4635967699251\n",
      "\tMinibatch 2-7-2: logjoint = -940.4515525877259, last_logjoint = -947.1232564992224\n",
      "\tMinibatch 2-8-2: logjoint = -931.9201409442285, last_logjoint = -940.4515525877259\n",
      "\tMinibatch 2-9-2: logjoint = -921.2950254581983, last_logjoint = -931.9201409442285\n",
      "\tMinibatch 3-0-2: logjoint = -953.8902506389668, last_logjoint = -921.2950254581983\n",
      "\tMinibatch 3-1-2: logjoint = -948.6757248685344, last_logjoint = -953.8902506389668\n",
      "\tMinibatch 3-2-2: logjoint = -941.4614535036508, last_logjoint = -948.6757248685344\n",
      "\tMinibatch 3-3-2: logjoint = -932.8844826469376, last_logjoint = -941.4614535036508\n",
      "\tMinibatch 3-4-2: logjoint = -924.5215608616245, last_logjoint = -932.8844826469376\n",
      "\tMinibatch 3-5-2: logjoint = -914.3047571277393, last_logjoint = -924.5215608616245\n",
      "\tMinibatch 3-6-2: logjoint = -908.6312697414423, last_logjoint = -914.3047571277393\n",
      "\tMinibatch 3-7-2: logjoint = -902.462519033772, last_logjoint = -908.6312697414423\n",
      "\tMinibatch 3-8-2: logjoint = -895.3578439260646, last_logjoint = -902.462519033772\n",
      "\tMinibatch 3-9-2: logjoint = -885.5241647077228, last_logjoint = -895.3578439260646\n",
      "\tMinibatch 4-0-2: logjoint = -927.3914473781788, last_logjoint = -885.5241647077228\n",
      "\tMinibatch 4-1-2: logjoint = -924.3956953212237, last_logjoint = -927.3914473781788\n",
      "\tMinibatch 4-2-2: logjoint = -920.0847290965175, last_logjoint = -924.3956953212237\n",
      "\tMinibatch 4-3-2: logjoint = -914.3946003195915, last_logjoint = -920.0847290965175\n",
      "\tMinibatch 4-4-2: logjoint = -903.7959805511837, last_logjoint = -914.3946003195915\n",
      "\tMinibatch 4-5-2: logjoint = -897.9886635963803, last_logjoint = -903.7959805511837\n",
      "\tMinibatch 4-6-2: logjoint = -894.0372880913701, last_logjoint = -897.9886635963803\n",
      "\tMinibatch 4-7-2: logjoint = -889.8717705176159, last_logjoint = -894.0372880913701\n",
      "\tMinibatch 4-8-2: logjoint = -885.3932611703076, last_logjoint = -889.8717705176159\n",
      "\tMinibatch 4-9-2: logjoint = -879.4317571186139, last_logjoint = -885.3932611703076\n",
      "\tMinibatch 5-0-2: logjoint = -921.1764836534094, last_logjoint = -879.4317571186139\n",
      "\tMinibatch 5-1-2: logjoint = -918.5299361324869, last_logjoint = -921.1764836534094\n",
      "\tMinibatch 5-2-2: logjoint = -913.2956933231326, last_logjoint = -918.5299361324869\n",
      "\tMinibatch 5-3-2: logjoint = -907.6786977398924, last_logjoint = -913.2956933231326\n",
      "\tMinibatch 5-4-2: logjoint = -899.5260571416939, last_logjoint = -907.6786977398924\n",
      "\tMinibatch 5-5-2: logjoint = -892.3892447063827, last_logjoint = -899.5260571416939\n",
      "\tMinibatch 5-6-2: logjoint = -888.1703158025457, last_logjoint = -892.3892447063827\n",
      "\tMinibatch 5-7-2: logjoint = -883.6953050705915, last_logjoint = -888.1703158025457\n",
      "\tMinibatch 5-8-2: logjoint = -877.3683111162363, last_logjoint = -883.6953050705915\n",
      "\tMinibatch 5-9-2: logjoint = -869.7780425982219, last_logjoint = -877.3683111162363\n",
      "\tMinibatch 6-0-2: logjoint = -927.8223856011409, last_logjoint = -869.7780425982219\n",
      "\tMinibatch 6-1-2: logjoint = -922.7036877189339, last_logjoint = -927.8223856011409\n",
      "\tMinibatch 6-2-2: logjoint = -914.630624395254, last_logjoint = -922.7036877189339\n",
      "\tMinibatch 6-3-2: logjoint = -906.7491712041092, last_logjoint = -914.630624395254\n",
      "\tMinibatch 6-4-2: logjoint = -895.4051417437604, last_logjoint = -906.7491712041092\n",
      "\tMinibatch 6-5-2: logjoint = -885.5114220311789, last_logjoint = -895.4051417437604\n",
      "\tMinibatch 6-6-2: logjoint = -879.9198785300423, last_logjoint = -885.5114220311789\n",
      "\tMinibatch 6-7-2: logjoint = -873.1472063540077, last_logjoint = -879.9198785300423\n",
      "\tMinibatch 6-8-2: logjoint = -863.380063619702, last_logjoint = -873.1472063540077\n",
      "\tMinibatch 6-9-2: logjoint = -851.5151534511133, last_logjoint = -863.380063619702\n",
      "\tMinibatch 7-0-2: logjoint = -884.1560773759675, last_logjoint = -851.5151534511133\n",
      "\tMinibatch 7-1-2: logjoint = -882.2599124198059, last_logjoint = -884.1560773759675\n",
      "\tMinibatch 7-2-2: logjoint = -879.0612226188696, last_logjoint = -882.2599124198059\n",
      "\tMinibatch 7-3-2: logjoint = -876.4005477213959, last_logjoint = -879.0612226188696\n",
      "\tMinibatch 7-4-2: logjoint = -871.5345935855294, last_logjoint = -876.4005477213959\n",
      "\tMinibatch 7-5-2: logjoint = -866.834514828357, last_logjoint = -871.5345935855294\n",
      "\tMinibatch 7-6-2: logjoint = -863.2590094485568, last_logjoint = -866.834514828357\n",
      "\tMinibatch 7-7-2: logjoint = -859.2004092598181, last_logjoint = -863.2590094485568\n",
      "\tMinibatch 7-8-2: logjoint = -854.8737647192102, last_logjoint = -859.2004092598181\n",
      "\tMinibatch 7-9-2: logjoint = -851.3787499174523, last_logjoint = -854.8737647192102\n",
      "\tMinibatch 8-0-2: logjoint = -898.1796763694729, last_logjoint = -851.3787499174523\n",
      "\tMinibatch 8-1-2: logjoint = -894.1188132854559, last_logjoint = -898.1796763694729\n",
      "\tMinibatch 8-2-2: logjoint = -889.5285608246377, last_logjoint = -894.1188132854559\n",
      "\tMinibatch 8-3-2: logjoint = -884.7562238956034, last_logjoint = -889.5285608246377\n",
      "\tMinibatch 8-4-2: logjoint = -879.0319237820258, last_logjoint = -884.7562238956034\n",
      "\tMinibatch 8-5-2: logjoint = -873.8271350078276, last_logjoint = -879.0319237820258\n",
      "\tMinibatch 8-6-2: logjoint = -869.9214456979607, last_logjoint = -873.8271350078276\n",
      "\tMinibatch 8-7-2: logjoint = -865.8282692931198, last_logjoint = -869.9214456979607\n",
      "\tMinibatch 8-8-2: logjoint = -861.1205443531853, last_logjoint = -865.8282692931198\n",
      "\tMinibatch 8-9-2: logjoint = -855.8973647431158, last_logjoint = -861.1205443531853\n",
      "\tMinibatch 9-0-2: logjoint = -931.6788477131131, last_logjoint = -855.8973647431158\n",
      "\tMinibatch 9-1-2: logjoint = -928.5842956193601, last_logjoint = -931.6788477131131\n",
      "\tMinibatch 9-2-2: logjoint = -917.3583958480867, last_logjoint = -928.5842956193601\n"
     ]
    },
    {
     "name": "stdout",
     "output_type": "stream",
     "text": [
      "\tMinibatch 9-3-2: logjoint = -905.9291677825468, last_logjoint = -917.3583958480867\n",
      "\tMinibatch 9-4-2: logjoint = -891.4743026504493, last_logjoint = -905.9291677825468\n",
      "\tMinibatch 9-5-2: logjoint = -878.2573674043697, last_logjoint = -891.4743026504493\n",
      "\tMinibatch 9-6-2: logjoint = -869.4140263544041, last_logjoint = -878.2573674043697\n",
      "\tMinibatch 9-7-2: logjoint = -860.1539205893332, last_logjoint = -869.4140263544041\n",
      "\tMinibatch 9-8-2: logjoint = -845.958046183614, last_logjoint = -860.1539205893332\n",
      "\tMinibatch 9-9-2: logjoint = -831.4788069571805, last_logjoint = -845.958046183614\n",
      "Iteration 3: passing through the data...\n",
      "\tMinibatch 0-0-3: logjoint = -861.4927102788824, last_logjoint = -831.4788069571805\n",
      "\tMinibatch 0-1-3: logjoint = -858.379109557156, last_logjoint = -861.4927102788824\n",
      "\tMinibatch 0-2-3: logjoint = -854.4958837552513, last_logjoint = -858.379109557156\n",
      "\tMinibatch 0-3-3: logjoint = -848.0433031849898, last_logjoint = -854.4958837552513\n",
      "\tMinibatch 0-4-3: logjoint = -843.7390611038109, last_logjoint = -848.0433031849898\n",
      "\tMinibatch 0-5-3: logjoint = -840.3551783196226, last_logjoint = -843.7390611038109\n",
      "\tMinibatch 0-6-3: logjoint = -836.551706199074, last_logjoint = -840.3551783196226\n",
      "\tMinibatch 0-7-3: logjoint = -832.7849284455933, last_logjoint = -836.551706199074\n",
      "\tMinibatch 0-8-3: logjoint = -829.1030999241675, last_logjoint = -832.7849284455933\n",
      "\tMinibatch 0-9-3: logjoint = -823.7240488785228, last_logjoint = -829.1030999241675\n",
      "\tMinibatch 1-0-3: logjoint = -846.4536274722759, last_logjoint = -823.7240488785228\n",
      "\tMinibatch 1-1-3: logjoint = -844.951876858504, last_logjoint = -846.4536274722759\n",
      "\tMinibatch 1-2-3: logjoint = -842.8033166759315, last_logjoint = -844.951876858504\n",
      "\tMinibatch 1-3-3: logjoint = -839.5721717619344, last_logjoint = -842.8033166759315\n",
      "\tMinibatch 1-4-3: logjoint = -837.46100042947, last_logjoint = -839.5721717619344\n",
      "\tMinibatch 1-5-3: logjoint = -835.8224491325936, last_logjoint = -837.46100042947\n",
      "\tMinibatch 1-6-3: logjoint = -833.8647298826236, last_logjoint = -835.8224491325936\n",
      "\tMinibatch 1-7-3: logjoint = -831.8058208407483, last_logjoint = -833.8647298826236\n",
      "\tMinibatch 1-8-3: logjoint = -830.0500190483199, last_logjoint = -831.8058208407483\n",
      "\tMinibatch 1-9-3: logjoint = -827.4673499952951, last_logjoint = -830.0500190483199\n",
      "\tMinibatch 2-0-3: logjoint = -859.1999748547678, last_logjoint = -827.4673499952951\n",
      "\tMinibatch 2-1-3: logjoint = -856.4170780509639, last_logjoint = -859.1999748547678\n",
      "\tMinibatch 2-2-3: logjoint = -852.3095526063917, last_logjoint = -856.4170780509639\n",
      "\tMinibatch 2-3-3: logjoint = -845.3359783286414, last_logjoint = -852.3095526063917\n",
      "\tMinibatch 2-4-3: logjoint = -841.1917186775545, last_logjoint = -845.3359783286414\n",
      "\tMinibatch 2-5-3: logjoint = -837.8203411691975, last_logjoint = -841.1917186775545\n",
      "\tMinibatch 2-6-3: logjoint = -833.7886457333761, last_logjoint = -837.8203411691975\n",
      "\tMinibatch 2-7-3: logjoint = -830.0800743295758, last_logjoint = -833.7886457333761\n",
      "\tMinibatch 2-8-3: logjoint = -826.093508572304, last_logjoint = -830.0800743295758\n",
      "\tMinibatch 2-9-3: logjoint = -820.8990179531675, last_logjoint = -826.093508572304\n",
      "\tMinibatch 3-0-3: logjoint = -846.2487183664134, last_logjoint = -820.8990179531675\n",
      "\tMinibatch 3-1-3: logjoint = -844.722099919406, last_logjoint = -846.2487183664134\n",
      "\tMinibatch 3-2-3: logjoint = -841.3964604838766, last_logjoint = -844.722099919406\n",
      "\tMinibatch 3-3-3: logjoint = -836.9195280214635, last_logjoint = -841.3964604838766\n",
      "\tMinibatch 3-4-3: logjoint = -834.166796005702, last_logjoint = -836.9195280214635\n",
      "\tMinibatch 3-5-3: logjoint = -831.1306685948248, last_logjoint = -834.166796005702\n",
      "\tMinibatch 3-6-3: logjoint = -828.4020940259497, last_logjoint = -831.1306685948248\n",
      "\tMinibatch 3-7-3: logjoint = -825.8241070448476, last_logjoint = -828.4020940259497\n",
      "\tMinibatch 3-8-3: logjoint = -824.4372249099524, last_logjoint = -825.8241070448476\n",
      "\tMinibatch 3-9-3: logjoint = -820.6534766784562, last_logjoint = -824.4372249099524\n",
      "\tMinibatch 4-0-3: logjoint = -848.6507325017101, last_logjoint = -820.6534766784562\n",
      "\tMinibatch 4-1-3: logjoint = -846.4119503636321, last_logjoint = -848.6507325017101\n",
      "\tMinibatch 4-2-3: logjoint = -843.1737759485432, last_logjoint = -846.4119503636321\n",
      "\tMinibatch 4-3-3: logjoint = -839.5615239766039, last_logjoint = -843.1737759485432\n",
      "\tMinibatch 4-4-3: logjoint = -837.2690232703235, last_logjoint = -839.5615239766039\n",
      "\tMinibatch 4-5-3: logjoint = -834.9593120619593, last_logjoint = -837.2690232703235\n",
      "\tMinibatch 4-6-3: logjoint = -832.5672807560795, last_logjoint = -834.9593120619593\n",
      "\tMinibatch 4-7-3: logjoint = -830.2330435051226, last_logjoint = -832.5672807560795\n",
      "\tMinibatch 4-8-3: logjoint = -830.4009645539027, last_logjoint = -830.2330435051226\n",
      "\tMinibatch 4-9-3: logjoint = -828.0133732147797, last_logjoint = -830.4009645539027\n",
      "\tMinibatch 5-0-3: logjoint = -853.3535357140217, last_logjoint = -828.0133732147797\n",
      "\tMinibatch 5-1-3: logjoint = -852.1221643408398, last_logjoint = -853.3535357140217\n",
      "\tMinibatch 5-2-3: logjoint = -850.8753763323648, last_logjoint = -852.1221643408398\n",
      "\tMinibatch 5-3-3: logjoint = -850.1913043454751, last_logjoint = -850.8753763323648\n",
      "\tMinibatch 5-4-3: logjoint = -849.0750127689462, last_logjoint = -850.1913043454751\n",
      "\tMinibatch 5-5-3: logjoint = -848.1021219451923, last_logjoint = -849.0750127689462\n",
      "\tMinibatch 5-6-3: logjoint = -846.4485080747927, last_logjoint = -848.1021219451923\n",
      "\tMinibatch 5-7-3: logjoint = -846.098690700438, last_logjoint = -846.4485080747927\n",
      "\tMinibatch 5-8-3: logjoint = -845.7257626613582, last_logjoint = -846.098690700438\n",
      "\tMinibatch 5-9-3: logjoint = -845.4251798812265, last_logjoint = -845.7257626613582\n",
      "\tMinibatch 6-0-3: logjoint = -883.7660170551217, last_logjoint = -845.4251798812265\n",
      "\tMinibatch 6-1-3: logjoint = -880.68463003753, last_logjoint = -883.7660170551217\n",
      "\tMinibatch 6-2-3: logjoint = -876.6145653451131, last_logjoint = -880.68463003753\n",
      "\tMinibatch 6-3-3: logjoint = -870.5287175622807, last_logjoint = -876.6145653451131\n",
      "\tMinibatch 6-4-3: logjoint = -866.271446889692, last_logjoint = -870.5287175622807\n",
      "\tMinibatch 6-5-3: logjoint = -863.1597367514423, last_logjoint = -866.271446889692\n",
      "\tMinibatch 6-6-3: logjoint = -858.9030890064705, last_logjoint = -863.1597367514423\n",
      "\tMinibatch 6-7-3: logjoint = -854.7760942939876, last_logjoint = -858.9030890064705\n",
      "\tMinibatch 6-8-3: logjoint = -851.1133428577477, last_logjoint = -854.7760942939876\n",
      "\tMinibatch 6-9-3: logjoint = -845.6317444300857, last_logjoint = -851.1133428577477\n",
      "\tMinibatch 7-0-3: logjoint = -892.9936713016159, last_logjoint = -845.6317444300857\n",
      "\tMinibatch 7-1-3: logjoint = -887.8109395279953, last_logjoint = -892.9936713016159\n",
      "\tMinibatch 7-2-3: logjoint = -880.8216341109928, last_logjoint = -887.8109395279953\n",
      "\tMinibatch 7-3-3: logjoint = -871.6241608284245, last_logjoint = -880.8216341109928\n",
      "\tMinibatch 7-4-3: logjoint = -864.6717563025732, last_logjoint = -871.6241608284245\n",
      "\tMinibatch 7-5-3: logjoint = -859.206780207247, last_logjoint = -864.6717563025732\n",
      "\tMinibatch 7-6-3: logjoint = -852.3521259028112, last_logjoint = -859.206780207247\n",
      "\tMinibatch 7-7-3: logjoint = -845.3322652915704, last_logjoint = -852.3521259028112\n",
      "\tMinibatch 7-8-3: logjoint = -839.5720548892814, last_logjoint = -845.3322652915704\n",
      "\tMinibatch 7-9-3: logjoint = -831.3295010529791, last_logjoint = -839.5720548892814\n",
      "\tMinibatch 8-0-3: logjoint = -858.0827584256976, last_logjoint = -831.3295010529791\n",
      "\tMinibatch 8-1-3: logjoint = -856.3083004724767, last_logjoint = -858.0827584256976\n",
      "\tMinibatch 8-2-3: logjoint = -853.9228244208161, last_logjoint = -856.3083004724767\n",
      "\tMinibatch 8-3-3: logjoint = -851.170609731108, last_logjoint = -853.9228244208161\n",
      "\tMinibatch 8-4-3: logjoint = -849.2462331606548, last_logjoint = -851.170609731108\n",
      "\tMinibatch 8-5-3: logjoint = -847.6686675880246, last_logjoint = -849.2462331606548\n",
      "\tMinibatch 8-6-3: logjoint = -847.009316566664, last_logjoint = -847.6686675880246\n",
      "\tMinibatch 8-7-3: logjoint = -845.4783635813274, last_logjoint = -847.009316566664\n",
      "\tMinibatch 8-8-3: logjoint = -843.9905730913615, last_logjoint = -845.4783635813274\n",
      "\tMinibatch 8-9-3: logjoint = -841.8309758722253, last_logjoint = -843.9905730913615\n",
      "\tMinibatch 9-0-3: logjoint = -899.6346232939295, last_logjoint = -841.8309758722253\n"
     ]
    },
    {
     "name": "stdout",
     "output_type": "stream",
     "text": [
      "\tMinibatch 9-1-3: logjoint = -894.1696768332658, last_logjoint = -899.6346232939295\n",
      "\tMinibatch 9-2-3: logjoint = -885.9728116276228, last_logjoint = -894.1696768332658\n",
      "\tMinibatch 9-3-3: logjoint = -872.751488534409, last_logjoint = -885.9728116276228\n",
      "\tMinibatch 9-4-3: logjoint = -863.2606346657012, last_logjoint = -872.751488534409\n",
      "\tMinibatch 9-5-3: logjoint = -856.9859320521546, last_logjoint = -863.2606346657012\n",
      "\tMinibatch 9-6-3: logjoint = -847.6047386523569, last_logjoint = -856.9859320521546\n",
      "\tMinibatch 9-7-3: logjoint = -838.8736460606751, last_logjoint = -847.6047386523569\n",
      "\tMinibatch 9-8-3: logjoint = -830.6161773022377, last_logjoint = -838.8736460606751\n",
      "\tMinibatch 9-9-3: logjoint = -819.0394694721645, last_logjoint = -830.6161773022377\n",
      "Iteration 4: passing through the data...\n",
      "\tMinibatch 0-0-4: logjoint = -838.1295981593739, last_logjoint = -819.0394694721645\n",
      "\tMinibatch 0-1-4: logjoint = -836.580777972661, last_logjoint = -838.1295981593739\n",
      "\tMinibatch 0-2-4: logjoint = -832.4788431318866, last_logjoint = -836.580777972661\n",
      "\tMinibatch 0-3-4: logjoint = -830.0607502342791, last_logjoint = -832.4788431318866\n",
      "\tMinibatch 0-4-4: logjoint = -828.0730015048648, last_logjoint = -830.0607502342791\n",
      "\tMinibatch 0-5-4: logjoint = -825.5279288669644, last_logjoint = -828.0730015048648\n",
      "\tMinibatch 0-6-4: logjoint = -823.1716933613206, last_logjoint = -825.5279288669644\n",
      "\tMinibatch 0-7-4: logjoint = -820.9167904923015, last_logjoint = -823.1716933613206\n",
      "\tMinibatch 0-8-4: logjoint = -818.4020600417962, last_logjoint = -820.9167904923015\n",
      "\tMinibatch 0-9-4: logjoint = -816.1738649981316, last_logjoint = -818.4020600417962\n",
      "\tMinibatch 1-0-4: logjoint = -828.5856996339699, last_logjoint = -816.1738649981316\n",
      "\tMinibatch 1-1-4: logjoint = -827.5762195743318, last_logjoint = -828.5856996339699\n",
      "\tMinibatch 1-2-4: logjoint = -824.578342086982, last_logjoint = -827.5762195743318\n",
      "\tMinibatch 1-3-4: logjoint = -822.5689139499436, last_logjoint = -824.578342086982\n",
      "\tMinibatch 1-4-4: logjoint = -821.1723658818446, last_logjoint = -822.5689139499436\n",
      "\tMinibatch 1-5-4: logjoint = -818.9369261078173, last_logjoint = -821.1723658818446\n",
      "\tMinibatch 1-6-4: logjoint = -816.8866579928072, last_logjoint = -818.9369261078173\n",
      "\tMinibatch 1-7-4: logjoint = -814.8077431193733, last_logjoint = -816.8866579928072\n",
      "\tMinibatch 1-8-4: logjoint = -811.8993721759362, last_logjoint = -814.8077431193733\n",
      "\tMinibatch 1-9-4: logjoint = -809.1111930250236, last_logjoint = -811.8993721759362\n",
      "\tMinibatch 2-0-4: logjoint = -823.5011735897087, last_logjoint = -809.1111930250236\n",
      "\tMinibatch 2-1-4: logjoint = -823.7607499782298, last_logjoint = -823.5011735897087\n",
      "\tMinibatch 2-2-4: logjoint = -823.735580782416, last_logjoint = -823.7607499782298\n",
      "\tMinibatch 2-3-4: logjoint = -823.4771964769816, last_logjoint = -823.735580782416\n",
      "\tMinibatch 2-4-4: logjoint = -823.337128641916, last_logjoint = -823.4771964769816\n",
      "\tMinibatch 2-5-4: logjoint = -824.530905839043, last_logjoint = -823.337128641916\n",
      "\tMinibatch 2-6-4: logjoint = -824.0631229407472, last_logjoint = -824.530905839043\n",
      "\tMinibatch 2-7-4: logjoint = -826.1840447463319, last_logjoint = -824.0631229407472\n",
      "\tMinibatch 2-8-4: logjoint = -825.6272911196456, last_logjoint = -826.1840447463319\n",
      "\tMinibatch 2-9-4: logjoint = -825.3501233041743, last_logjoint = -825.6272911196456\n",
      "\tMinibatch 3-0-4: logjoint = -844.6675246835894, last_logjoint = -825.3501233041743\n",
      "\tMinibatch 3-1-4: logjoint = -844.0502251419512, last_logjoint = -844.6675246835894\n",
      "\tMinibatch 3-2-4: logjoint = -842.9352901758475, last_logjoint = -844.0502251419512\n",
      "\tMinibatch 3-3-4: logjoint = -842.637824437631, last_logjoint = -842.9352901758475\n",
      "\tMinibatch 3-4-4: logjoint = -843.016753727271, last_logjoint = -842.637824437631\n",
      "\tMinibatch 3-5-4: logjoint = -843.8019885449676, last_logjoint = -843.016753727271\n",
      "\tMinibatch 3-6-4: logjoint = -843.7143890628331, last_logjoint = -843.8019885449676\n",
      "\tMinibatch 3-7-4: logjoint = -843.9077948330341, last_logjoint = -843.7143890628331\n",
      "\tMinibatch 3-8-4: logjoint = -844.131729209962, last_logjoint = -843.9077948330341\n",
      "\tMinibatch 3-9-4: logjoint = -844.6093103242401, last_logjoint = -844.131729209962\n",
      "\tMinibatch 4-0-4: logjoint = -864.1593487747232, last_logjoint = -844.6093103242401\n",
      "\tMinibatch 4-1-4: logjoint = -863.2340853162641, last_logjoint = -864.1593487747232\n",
      "\tMinibatch 4-2-4: logjoint = -861.2862345827716, last_logjoint = -863.2340853162641\n",
      "\tMinibatch 4-3-4: logjoint = -859.7356902890151, last_logjoint = -861.2862345827716\n",
      "\tMinibatch 4-4-4: logjoint = -858.4857113819817, last_logjoint = -859.7356902890151\n",
      "\tMinibatch 4-5-4: logjoint = -856.8783152495316, last_logjoint = -858.4857113819817\n",
      "\tMinibatch 4-6-4: logjoint = -855.209635374551, last_logjoint = -856.8783152495316\n",
      "\tMinibatch 4-7-4: logjoint = -853.6155560548086, last_logjoint = -855.209635374551\n",
      "\tMinibatch 4-8-4: logjoint = -851.8259290673441, last_logjoint = -853.6155560548086\n",
      "\tMinibatch 4-9-4: logjoint = -849.9124326383271, last_logjoint = -851.8259290673441\n",
      "\tMinibatch 5-0-4: logjoint = -871.7671592962006, last_logjoint = -849.9124326383271\n",
      "\tMinibatch 5-1-4: logjoint = -871.0156754869122, last_logjoint = -871.7671592962006\n",
      "\tMinibatch 5-2-4: logjoint = -868.2194808728373, last_logjoint = -871.0156754869122\n",
      "\tMinibatch 5-3-4: logjoint = -866.1969359198938, last_logjoint = -868.2194808728373\n",
      "\tMinibatch 5-4-4: logjoint = -864.5717456707425, last_logjoint = -866.1969359198938\n",
      "\tMinibatch 5-5-4: logjoint = -862.9212696239356, last_logjoint = -864.5717456707425\n",
      "\tMinibatch 5-6-4: logjoint = -861.0649553661533, last_logjoint = -862.9212696239356\n",
      "\tMinibatch 5-7-4: logjoint = -859.9192816023133, last_logjoint = -861.0649553661533\n",
      "\tMinibatch 5-8-4: logjoint = -859.15408486675, last_logjoint = -859.9192816023133\n",
      "\tMinibatch 5-9-4: logjoint = -856.8582555337916, last_logjoint = -859.15408486675\n",
      "\tMinibatch 6-0-4: logjoint = -873.8387715094486, last_logjoint = -856.8582555337916\n",
      "\tMinibatch 6-1-4: logjoint = -872.8551563607107, last_logjoint = -873.8387715094486\n",
      "\tMinibatch 6-2-4: logjoint = -870.8634283913598, last_logjoint = -872.8551563607107\n",
      "\tMinibatch 6-3-4: logjoint = -869.3153375451566, last_logjoint = -870.8634283913598\n",
      "\tMinibatch 6-4-4: logjoint = -868.165339326607, last_logjoint = -869.3153375451566\n",
      "\tMinibatch 6-5-4: logjoint = -866.8414268905417, last_logjoint = -868.165339326607\n",
      "\tMinibatch 6-6-4: logjoint = -865.5291945425715, last_logjoint = -866.8414268905417\n",
      "\tMinibatch 6-7-4: logjoint = -864.2607379557139, last_logjoint = -865.5291945425715\n",
      "\tMinibatch 6-8-4: logjoint = -862.9998731071819, last_logjoint = -864.2607379557139\n",
      "\tMinibatch 6-9-4: logjoint = -861.5845215501577, last_logjoint = -862.9998731071819\n",
      "\tMinibatch 7-0-4: logjoint = -897.5019419772007, last_logjoint = -861.5845215501577\n",
      "\tMinibatch 7-1-4: logjoint = -894.8186226547632, last_logjoint = -897.5019419772007\n",
      "\tMinibatch 7-2-4: logjoint = -888.7802999819442, last_logjoint = -894.8186226547632\n",
      "\tMinibatch 7-3-4: logjoint = -884.685076787543, last_logjoint = -888.7802999819442\n",
      "\tMinibatch 7-4-4: logjoint = -881.4293147855915, last_logjoint = -884.685076787543\n",
      "\tMinibatch 7-5-4: logjoint = -877.5898930488374, last_logjoint = -881.4293147855915\n",
      "\tMinibatch 7-6-4: logjoint = -873.4797562764525, last_logjoint = -877.5898930488374\n",
      "\tMinibatch 7-7-4: logjoint = -869.3630300944487, last_logjoint = -873.4797562764525\n",
      "\tMinibatch 7-8-4: logjoint = -864.8416145952369, last_logjoint = -869.3630300944487\n",
      "\tMinibatch 7-9-4: logjoint = -860.9239797833125, last_logjoint = -864.8416145952369\n",
      "\tMinibatch 8-0-4: logjoint = -884.725237149526, last_logjoint = -860.9239797833125\n",
      "\tMinibatch 8-1-4: logjoint = -882.9909206174234, last_logjoint = -884.725237149526\n",
      "\tMinibatch 8-2-4: logjoint = -879.525639638261, last_logjoint = -882.9909206174234\n",
      "\tMinibatch 8-3-4: logjoint = -876.8504683279662, last_logjoint = -879.525639638261\n",
      "\tMinibatch 8-4-4: logjoint = -874.9223735900705, last_logjoint = -876.8504683279662\n",
      "\tMinibatch 8-5-4: logjoint = -872.5896976994845, last_logjoint = -874.9223735900705\n",
      "\tMinibatch 8-6-4: logjoint = -870.3451552981514, last_logjoint = -872.5896976994845\n",
      "\tMinibatch 8-7-4: logjoint = -868.2162554355746, last_logjoint = -870.3451552981514\n",
      "\tMinibatch 8-8-4: logjoint = -865.970082251627, last_logjoint = -868.2162554355746\n"
     ]
    },
    {
     "name": "stdout",
     "output_type": "stream",
     "text": [
      "\tMinibatch 8-9-4: logjoint = -863.1888841686459, last_logjoint = -865.970082251627\n",
      "\tMinibatch 9-0-4: logjoint = -893.5102640525456, last_logjoint = -863.1888841686459\n",
      "\tMinibatch 9-1-4: logjoint = -891.7324650668161, last_logjoint = -893.5102640525456\n",
      "\tMinibatch 9-2-4: logjoint = -888.159857429986, last_logjoint = -891.7324650668161\n",
      "\tMinibatch 9-3-4: logjoint = -885.401133179208, last_logjoint = -888.159857429986\n",
      "\tMinibatch 9-4-4: logjoint = -883.3716476623322, last_logjoint = -885.401133179208\n",
      "\tMinibatch 9-5-4: logjoint = -880.9341763967159, last_logjoint = -883.3716476623322\n",
      "\tMinibatch 9-6-4: logjoint = -878.5695759442433, last_logjoint = -880.9341763967159\n",
      "\tMinibatch 9-7-4: logjoint = -876.2694088417757, last_logjoint = -878.5695759442433\n",
      "\tMinibatch 9-8-4: logjoint = -873.8171179466772, last_logjoint = -876.2694088417757\n",
      "\tMinibatch 9-9-4: logjoint = -870.784082916517, last_logjoint = -873.8171179466772\n",
      "Iteration 5: passing through the data...\n",
      "\tMinibatch 0-0-5: logjoint = -880.1287932775876, last_logjoint = -870.784082916517\n",
      "\tMinibatch 0-1-5: logjoint = -880.2084808385571, last_logjoint = -880.1287932775876\n",
      "\tMinibatch 0-2-5: logjoint = -880.7552578011137, last_logjoint = -880.2084808385571\n",
      "\tMinibatch 0-3-5: logjoint = -882.0167486469918, last_logjoint = -880.7552578011137\n",
      "\tMinibatch 0-4-5: logjoint = -882.927422870187, last_logjoint = -882.0167486469918\n",
      "\tMinibatch 0-5-5: logjoint = -884.0358816520002, last_logjoint = -882.927422870187\n",
      "\tMinibatch 0-6-5: logjoint = -885.5500794353147, last_logjoint = -884.0358816520002\n",
      "\tMinibatch 0-7-5: logjoint = -886.8028060083361, last_logjoint = -885.5500794353147\n",
      "\tMinibatch 0-8-5: logjoint = -887.3405476616981, last_logjoint = -886.8028060083361\n",
      "\tMinibatch 0-9-5: logjoint = -888.9075532745519, last_logjoint = -887.3405476616981\n",
      "\tMinibatch 1-0-5: logjoint = -898.3826767151395, last_logjoint = -888.9075532745519\n",
      "\tMinibatch 1-1-5: logjoint = -898.7485993514802, last_logjoint = -898.3826767151395\n",
      "\tMinibatch 1-2-5: logjoint = -899.6616443653247, last_logjoint = -898.7485993514802\n",
      "\tMinibatch 1-3-5: logjoint = -899.8211045013586, last_logjoint = -899.6616443653247\n",
      "\tMinibatch 1-4-5: logjoint = -899.8256558500207, last_logjoint = -899.8211045013586\n",
      "\tMinibatch 1-5-5: logjoint = -899.3500222854727, last_logjoint = -899.8256558500207\n",
      "\tMinibatch 1-6-5: logjoint = -899.0907450582672, last_logjoint = -899.3500222854727\n",
      "\tMinibatch 1-7-5: logjoint = -899.4697836745609, last_logjoint = -899.0907450582672\n",
      "\tMinibatch 1-8-5: logjoint = -899.644543160266, last_logjoint = -899.4697836745609\n",
      "\tMinibatch 1-9-5: logjoint = -899.3592141048393, last_logjoint = -899.644543160266\n",
      "\tMinibatch 2-0-5: logjoint = -907.134170244205, last_logjoint = -899.3592141048393\n",
      "\tMinibatch 2-1-5: logjoint = -906.7282384443442, last_logjoint = -907.134170244205\n",
      "\tMinibatch 2-2-5: logjoint = -906.2500474848548, last_logjoint = -906.7282384443442\n",
      "\tMinibatch 2-3-5: logjoint = -905.6612151018853, last_logjoint = -906.2500474848548\n",
      "\tMinibatch 2-4-5: logjoint = -905.3254760665777, last_logjoint = -905.6612151018853\n",
      "\tMinibatch 2-5-5: logjoint = -904.81769809662, last_logjoint = -905.3254760665777\n",
      "\tMinibatch 2-6-5: logjoint = -904.0460248779737, last_logjoint = -904.81769809662\n",
      "\tMinibatch 2-7-5: logjoint = -903.4691054652521, last_logjoint = -904.0460248779737\n",
      "\tMinibatch 2-8-5: logjoint = -902.6065923599062, last_logjoint = -903.4691054652521\n",
      "\tMinibatch 2-9-5: logjoint = -902.2274029477212, last_logjoint = -902.6065923599062\n",
      "\tMinibatch 3-0-5: logjoint = -909.2964682814172, last_logjoint = -902.2274029477212\n",
      "\tMinibatch 3-1-5: logjoint = -908.809373587761, last_logjoint = -909.2964682814172\n",
      "\tMinibatch 3-2-5: logjoint = -908.2360846317324, last_logjoint = -908.809373587761\n",
      "\tMinibatch 3-3-5: logjoint = -907.7447269700097, last_logjoint = -908.2360846317324\n",
      "\tMinibatch 3-4-5: logjoint = -907.4715833289038, last_logjoint = -907.7447269700097\n",
      "\tMinibatch 3-5-5: logjoint = -906.8896659704915, last_logjoint = -907.4715833289038\n",
      "\tMinibatch 3-6-5: logjoint = -905.9682824907559, last_logjoint = -906.8896659704915\n",
      "\tMinibatch 3-7-5: logjoint = -906.0860424910425, last_logjoint = -905.9682824907559\n",
      "\tMinibatch 3-8-5: logjoint = -906.4904631993923, last_logjoint = -906.0860424910425\n",
      "\tMinibatch 3-9-5: logjoint = -906.4099239444276, last_logjoint = -906.4904631993923\n",
      "\tMinibatch 4-0-5: logjoint = -916.3952779113233, last_logjoint = -906.4099239444276\n",
      "\tMinibatch 4-1-5: logjoint = -915.6195309282621, last_logjoint = -916.3952779113233\n",
      "\tMinibatch 4-2-5: logjoint = -914.7857341831041, last_logjoint = -915.6195309282621\n",
      "\tMinibatch 4-3-5: logjoint = -913.7300133436638, last_logjoint = -914.7857341831041\n",
      "\tMinibatch 4-4-5: logjoint = -913.1412873770132, last_logjoint = -913.7300133436638\n",
      "\tMinibatch 4-5-5: logjoint = -912.238855816362, last_logjoint = -913.1412873770132\n",
      "\tMinibatch 4-6-5: logjoint = -910.8134600117255, last_logjoint = -912.238855816362\n",
      "\tMinibatch 4-7-5: logjoint = -909.7777288546231, last_logjoint = -910.8134600117255\n",
      "\tMinibatch 4-8-5: logjoint = -908.1991147858389, last_logjoint = -909.7777288546231\n",
      "\tMinibatch 4-9-5: logjoint = -907.4920299091227, last_logjoint = -908.1991147858389\n",
      "\tMinibatch 5-0-5: logjoint = -920.7702469089245, last_logjoint = -907.4920299091227\n",
      "\tMinibatch 5-1-5: logjoint = -919.61773172217, last_logjoint = -920.7702469089245\n",
      "\tMinibatch 5-2-5: logjoint = -918.2831128447106, last_logjoint = -919.61773172217\n",
      "\tMinibatch 5-3-5: logjoint = -917.5516268648071, last_logjoint = -918.2831128447106\n",
      "\tMinibatch 5-4-5: logjoint = -916.6522505926614, last_logjoint = -917.5516268648071\n",
      "\tMinibatch 5-5-5: logjoint = -915.3450923300197, last_logjoint = -916.6522505926614\n",
      "\tMinibatch 5-6-5: logjoint = -912.9777384666177, last_logjoint = -915.3450923300197\n",
      "\tMinibatch 5-7-5: logjoint = -911.5190233386029, last_logjoint = -912.9777384666177\n",
      "\tMinibatch 5-8-5: logjoint = -909.48102836418, last_logjoint = -911.5190233386029\n",
      "\tMinibatch 5-9-5: logjoint = -908.6030058510833, last_logjoint = -909.48102836418\n",
      "\tMinibatch 6-0-5: logjoint = -923.935442521577, last_logjoint = -908.6030058510833\n",
      "\tMinibatch 6-1-5: logjoint = -922.8309829005793, last_logjoint = -923.935442521577\n",
      "\tMinibatch 6-2-5: logjoint = -921.6175680306596, last_logjoint = -922.8309829005793\n",
      "\tMinibatch 6-3-5: logjoint = -920.1156880274357, last_logjoint = -921.6175680306596\n",
      "\tMinibatch 6-4-5: logjoint = -919.3004612986269, last_logjoint = -920.1156880274357\n",
      "\tMinibatch 6-5-5: logjoint = -918.0327410441905, last_logjoint = -919.3004612986269\n",
      "\tMinibatch 6-6-5: logjoint = -916.1940307548721, last_logjoint = -918.0327410441905\n",
      "\tMinibatch 6-7-5: logjoint = -914.8899055028933, last_logjoint = -916.1940307548721\n",
      "\tMinibatch 6-8-5: logjoint = -913.0131326549981, last_logjoint = -914.8899055028933\n",
      "\tMinibatch 6-9-5: logjoint = -912.2178288576015, last_logjoint = -913.0131326549981\n",
      "\tMinibatch 7-0-5: logjoint = -926.2808350653013, last_logjoint = -912.2178288576015\n",
      "\tMinibatch 7-1-5: logjoint = -925.4495608905518, last_logjoint = -926.2808350653013\n",
      "\tMinibatch 7-2-5: logjoint = -924.1409997242263, last_logjoint = -925.4495608905518\n",
      "\tMinibatch 7-3-5: logjoint = -922.5709488712937, last_logjoint = -924.1409997242263\n",
      "\tMinibatch 7-4-5: logjoint = -921.7251284526965, last_logjoint = -922.5709488712937\n",
      "\tMinibatch 7-5-5: logjoint = -920.3545637291527, last_logjoint = -921.7251284526965\n",
      "\tMinibatch 7-6-5: logjoint = -918.4267049825276, last_logjoint = -920.3545637291527\n",
      "\tMinibatch 7-7-5: logjoint = -917.3412994709888, last_logjoint = -918.4267049825276\n",
      "\tMinibatch 7-8-5: logjoint = -915.595085560477, last_logjoint = -917.3412994709888\n",
      "\tMinibatch 7-9-5: logjoint = -914.7483466319809, last_logjoint = -915.595085560477\n",
      "\tMinibatch 8-0-5: logjoint = -920.6671318304634, last_logjoint = -914.7483466319809\n",
      "\tMinibatch 8-1-5: logjoint = -920.514132191317, last_logjoint = -920.6671318304634\n",
      "\tMinibatch 8-2-5: logjoint = -920.3653465366151, last_logjoint = -920.514132191317\n",
      "\tMinibatch 8-3-5: logjoint = -920.8583225926568, last_logjoint = -920.3653465366151\n",
      "\tMinibatch 8-4-5: logjoint = -920.7791677318528, last_logjoint = -920.8583225926568\n",
      "\tMinibatch 8-5-5: logjoint = -920.6148017365176, last_logjoint = -920.7791677318528\n",
      "\tMinibatch 8-6-5: logjoint = -920.3792268508914, last_logjoint = -920.6148017365176\n"
     ]
    },
    {
     "name": "stdout",
     "output_type": "stream",
     "text": [
      "\tMinibatch 8-7-5: logjoint = -920.1639344615232, last_logjoint = -920.3792268508914\n",
      "\tMinibatch 8-8-5: logjoint = -919.9618047722543, last_logjoint = -920.1639344615232\n",
      "\tMinibatch 8-9-5: logjoint = -919.8315804978392, last_logjoint = -919.9618047722543\n",
      "\tMinibatch 9-0-5: logjoint = -932.2698684207371, last_logjoint = -919.8315804978392\n",
      "\tMinibatch 9-1-5: logjoint = -931.3709412536846, last_logjoint = -932.2698684207371\n",
      "\tMinibatch 9-2-5: logjoint = -930.4154946681401, last_logjoint = -931.3709412536846\n",
      "\tMinibatch 9-3-5: logjoint = -929.3820989355545, last_logjoint = -930.4154946681401\n",
      "\tMinibatch 9-4-5: logjoint = -928.5936998714087, last_logjoint = -929.3820989355545\n",
      "\tMinibatch 9-5-5: logjoint = -928.2830062785188, last_logjoint = -928.5936998714087\n",
      "\tMinibatch 9-6-5: logjoint = -926.5603724767843, last_logjoint = -928.2830062785188\n",
      "\tMinibatch 9-7-5: logjoint = -925.3034106927853, last_logjoint = -926.5603724767843\n",
      "\tMinibatch 9-8-5: logjoint = -923.8526989459378, last_logjoint = -925.3034106927853\n",
      "\tMinibatch 9-9-5: logjoint = -923.1700275086987, last_logjoint = -923.8526989459378\n",
      "Iteration 6: passing through the data...\n",
      "\tMinibatch 0-0-6: logjoint = -927.2128502176192, last_logjoint = -923.1700275086987\n",
      "\tMinibatch 0-1-6: logjoint = -926.7957343280686, last_logjoint = -927.2128502176192\n",
      "\tMinibatch 0-2-6: logjoint = -926.1016465158591, last_logjoint = -926.7957343280686\n",
      "\tMinibatch 0-3-6: logjoint = -925.4213776147617, last_logjoint = -926.1016465158591\n",
      "\tMinibatch 0-4-6: logjoint = -925.0841250595995, last_logjoint = -925.4213776147617\n",
      "\tMinibatch 0-5-6: logjoint = -924.6456279535951, last_logjoint = -925.0841250595995\n",
      "\tMinibatch 0-6-6: logjoint = -924.1624342804243, last_logjoint = -924.6456279535951\n",
      "\tMinibatch 0-7-6: logjoint = -923.9780343276161, last_logjoint = -924.1624342804243\n",
      "\tMinibatch 0-8-6: logjoint = -923.5007854853229, last_logjoint = -923.9780343276161\n",
      "\tMinibatch 0-9-6: logjoint = -923.2780575215747, last_logjoint = -923.5007854853229\n",
      "\tMinibatch 1-0-6: logjoint = -928.3869586419851, last_logjoint = -923.2780575215747\n",
      "\tMinibatch 1-1-6: logjoint = -928.02692710456, last_logjoint = -928.3869586419851\n",
      "\tMinibatch 1-2-6: logjoint = -927.6095026490229, last_logjoint = -928.02692710456\n",
      "\tMinibatch 1-3-6: logjoint = -928.2086006147647, last_logjoint = -927.6095026490229\n",
      "\tMinibatch 1-4-6: logjoint = -927.9201281545857, last_logjoint = -928.2086006147647\n",
      "\tMinibatch 1-5-6: logjoint = -927.647595996722, last_logjoint = -927.9201281545857\n",
      "\tMinibatch 1-6-6: logjoint = -927.9658260834722, last_logjoint = -927.647595996722\n",
      "\tMinibatch 1-7-6: logjoint = -927.6954143958192, last_logjoint = -927.9658260834722\n",
      "\tMinibatch 1-8-6: logjoint = -927.4291153758877, last_logjoint = -927.6954143958192\n",
      "\tMinibatch 1-9-6: logjoint = -927.2048608683453, last_logjoint = -927.4291153758877\n",
      "\tMinibatch 2-0-6: logjoint = -933.8973577747411, last_logjoint = -927.2048608683453\n",
      "\tMinibatch 2-1-6: logjoint = -933.1425831928809, last_logjoint = -933.8973577747411\n",
      "\tMinibatch 2-2-6: logjoint = -932.3452053540414, last_logjoint = -933.1425831928809\n",
      "\tMinibatch 2-3-6: logjoint = -931.3581451250111, last_logjoint = -932.3452053540414\n",
      "\tMinibatch 2-4-6: logjoint = -930.6302329448599, last_logjoint = -931.3581451250111\n",
      "\tMinibatch 2-5-6: logjoint = -930.0285366336202, last_logjoint = -930.6302329448599\n",
      "\tMinibatch 2-6-6: logjoint = -929.2524357321599, last_logjoint = -930.0285366336202\n",
      "\tMinibatch 2-7-6: logjoint = -928.5900686770165, last_logjoint = -929.2524357321599\n",
      "\tMinibatch 2-8-6: logjoint = -927.9632593864908, last_logjoint = -928.5900686770165\n",
      "\tMinibatch 2-9-6: logjoint = -927.4539009016598, last_logjoint = -927.9632593864908\n",
      "\tMinibatch 3-0-6: logjoint = -931.1064232889294, last_logjoint = -927.4539009016598\n",
      "\tMinibatch 3-1-6: logjoint = -930.7084584980785, last_logjoint = -931.1064232889294\n",
      "\tMinibatch 3-2-6: logjoint = -930.3217689732928, last_logjoint = -930.7084584980785\n",
      "\tMinibatch 3-3-6: logjoint = -929.855004660717, last_logjoint = -930.3217689732928\n",
      "\tMinibatch 3-4-6: logjoint = -929.5125800880314, last_logjoint = -929.855004660717\n",
      "\tMinibatch 3-5-6: logjoint = -929.2509531921469, last_logjoint = -929.5125800880314\n",
      "\tMinibatch 3-6-6: logjoint = -928.9075970286085, last_logjoint = -929.2509531921469\n",
      "\tMinibatch 3-7-6: logjoint = -928.6379685720349, last_logjoint = -928.9075970286085\n",
      "\tMinibatch 3-8-6: logjoint = -928.6603149666444, last_logjoint = -928.6379685720349\n",
      "\tMinibatch 3-9-6: logjoint = -928.4559410642396, last_logjoint = -928.6603149666444\n",
      "\tMinibatch 4-0-6: logjoint = -934.6813541228248, last_logjoint = -928.4559410642396\n",
      "\tMinibatch 4-1-6: logjoint = -934.2177152373151, last_logjoint = -934.6813541228248\n",
      "\tMinibatch 4-2-6: logjoint = -933.6500549420516, last_logjoint = -934.2177152373151\n",
      "\tMinibatch 4-3-6: logjoint = -932.9371479340753, last_logjoint = -933.6500549420516\n",
      "\tMinibatch 4-4-6: logjoint = -932.4077305478468, last_logjoint = -932.9371479340753\n",
      "\tMinibatch 4-5-6: logjoint = -931.9916794565479, last_logjoint = -932.4077305478468\n",
      "\tMinibatch 4-6-6: logjoint = -931.4477177789267, last_logjoint = -931.9916794565479\n",
      "\tMinibatch 4-7-6: logjoint = -931.0042519136368, last_logjoint = -931.4477177789267\n",
      "\tMinibatch 4-8-6: logjoint = -930.5737993212852, last_logjoint = -931.0042519136368\n",
      "\tMinibatch 4-9-6: logjoint = -930.210237956936, last_logjoint = -930.5737993212852\n",
      "\tMinibatch 5-0-6: logjoint = -936.8037278864867, last_logjoint = -930.210237956936\n",
      "\tMinibatch 5-1-6: logjoint = -936.1945943773935, last_logjoint = -936.8037278864867\n",
      "\tMinibatch 5-2-6: logjoint = -935.5671154032634, last_logjoint = -936.1945943773935\n",
      "\tMinibatch 5-3-6: logjoint = -934.830720390958, last_logjoint = -935.5671154032634\n",
      "\tMinibatch 5-4-6: logjoint = -934.2588707118639, last_logjoint = -934.830720390958\n",
      "\tMinibatch 5-5-6: logjoint = -933.846532282736, last_logjoint = -934.2588707118639\n",
      "\tMinibatch 5-6-6: logjoint = -933.3833325632786, last_logjoint = -933.846532282736\n",
      "\tMinibatch 5-7-6: logjoint = -932.9151142403152, last_logjoint = -933.3833325632786\n",
      "\tMinibatch 5-8-6: logjoint = -932.4961765053049, last_logjoint = -932.9151142403152\n",
      "\tMinibatch 5-9-6: logjoint = -932.1595866971311, last_logjoint = -932.4961765053049\n",
      "\tMinibatch 6-0-6: logjoint = -937.4632118447917, last_logjoint = -932.1595866971311\n",
      "\tMinibatch 6-1-6: logjoint = -936.87790359461, last_logjoint = -937.4632118447917\n",
      "\tMinibatch 6-2-6: logjoint = -936.3082989641562, last_logjoint = -936.87790359461\n",
      "\tMinibatch 6-3-6: logjoint = -935.5992882660639, last_logjoint = -936.3082989641562\n",
      "\tMinibatch 6-4-6: logjoint = -935.0735083862046, last_logjoint = -935.5992882660639\n",
      "\tMinibatch 6-5-6: logjoint = -934.6608229588073, last_logjoint = -935.0735083862046\n",
      "\tMinibatch 6-6-6: logjoint = -934.1045521397928, last_logjoint = -934.6608229588073\n",
      "\tMinibatch 6-7-6: logjoint = -933.6660351642304, last_logjoint = -934.1045521397928\n",
      "\tMinibatch 6-8-6: logjoint = -933.2524245547556, last_logjoint = -933.6660351642304\n",
      "\tMinibatch 6-9-6: logjoint = -932.9060830974713, last_logjoint = -933.2524245547556\n",
      "\tMinibatch 7-0-6: logjoint = -941.0532748127662, last_logjoint = -932.9060830974713\n",
      "\tMinibatch 7-1-6: logjoint = -941.003817627583, last_logjoint = -941.0532748127662\n",
      "\tMinibatch 7-2-6: logjoint = -941.8807629264784, last_logjoint = -941.003817627583\n",
      "\tMinibatch 7-3-6: logjoint = -943.7086629395271, last_logjoint = -941.8807629264784\n",
      "\tMinibatch 7-4-6: logjoint = -947.29347603926, last_logjoint = -943.7086629395271\n",
      "\tMinibatch 7-5-6: logjoint = -949.0516891607058, last_logjoint = -947.29347603926\n",
      "\tMinibatch 7-6-6: logjoint = -949.1431370887585, last_logjoint = -949.0516891607058\n",
      "\tMinibatch 7-7-6: logjoint = -950.382458766273, last_logjoint = -949.1431370887585\n",
      "\tMinibatch 7-8-6: logjoint = -950.4728201453618, last_logjoint = -950.382458766273\n",
      "\tMinibatch 7-9-6: logjoint = -952.9962529438535, last_logjoint = -950.4728201453618\n",
      "\tMinibatch 8-0-6: logjoint = -958.7396407827164, last_logjoint = -952.9962529438535\n",
      "\tMinibatch 8-1-6: logjoint = -959.1103664082066, last_logjoint = -958.7396407827164\n",
      "\tMinibatch 8-2-6: logjoint = -959.3631359909432, last_logjoint = -959.1103664082066\n",
      "\tMinibatch 8-3-6: logjoint = -959.7123291147836, last_logjoint = -959.3631359909432\n",
      "\tMinibatch 8-4-6: logjoint = -959.6040472090117, last_logjoint = -959.7123291147836\n"
     ]
    },
    {
     "name": "stdout",
     "output_type": "stream",
     "text": [
      "\tMinibatch 8-5-6: logjoint = -959.4712938084958, last_logjoint = -959.6040472090117\n",
      "\tMinibatch 8-6-6: logjoint = -959.292660365094, last_logjoint = -959.4712938084958\n",
      "\tMinibatch 8-7-6: logjoint = -959.1073671365775, last_logjoint = -959.292660365094\n",
      "\tMinibatch 8-8-6: logjoint = -958.93187469229, last_logjoint = -959.1073671365775\n",
      "\tMinibatch 8-9-6: logjoint = -958.7287359636066, last_logjoint = -958.93187469229\n",
      "\tMinibatch 9-0-6: logjoint = -965.5741103043583, last_logjoint = -958.7287359636066\n",
      "\tMinibatch 9-1-6: logjoint = -964.9419252149792, last_logjoint = -965.5741103043583\n",
      "\tMinibatch 9-2-6: logjoint = -964.3113186914525, last_logjoint = -964.9419252149792\n",
      "\tMinibatch 9-3-6: logjoint = -963.5119072841599, last_logjoint = -964.3113186914525\n",
      "\tMinibatch 9-4-6: logjoint = -962.9095553698107, last_logjoint = -963.5119072841599\n",
      "\tMinibatch 9-5-6: logjoint = -962.4370976858872, last_logjoint = -962.9095553698107\n",
      "\tMinibatch 9-6-6: logjoint = -961.7970884031247, last_logjoint = -962.4370976858872\n",
      "\tMinibatch 9-7-6: logjoint = -961.2936046769673, last_logjoint = -961.7970884031247\n",
      "\tMinibatch 9-8-6: logjoint = -960.816550806424, last_logjoint = -961.2936046769673\n",
      "\tMinibatch 9-9-6: logjoint = -960.4127115688016, last_logjoint = -960.816550806424\n",
      "Iteration 7: passing through the data...\n",
      "\tMinibatch 0-0-7: logjoint = -962.849352735916, last_logjoint = -960.4127115688016\n",
      "\tMinibatch 0-1-7: logjoint = -962.4534194582402, last_logjoint = -962.849352735916\n",
      "\tMinibatch 0-2-7: logjoint = -962.196304949045, last_logjoint = -962.4534194582402\n",
      "\tMinibatch 0-3-7: logjoint = -961.9011328583438, last_logjoint = -962.196304949045\n",
      "\tMinibatch 0-4-7: logjoint = -961.558790781095, last_logjoint = -961.9011328583438\n",
      "\tMinibatch 0-5-7: logjoint = -961.3802387228516, last_logjoint = -961.558790781095\n",
      "\tMinibatch 0-6-7: logjoint = -961.0540376534627, last_logjoint = -961.3802387228516\n",
      "\tMinibatch 0-7-7: logjoint = -960.8806952133637, last_logjoint = -961.0540376534627\n",
      "\tMinibatch 0-8-7: logjoint = -960.5899869835885, last_logjoint = -960.8806952133637\n",
      "\tMinibatch 0-9-7: logjoint = -960.383427367402, last_logjoint = -960.5899869835885\n",
      "\tMinibatch 1-0-7: logjoint = -962.102816331856, last_logjoint = -960.383427367402\n",
      "\tMinibatch 1-1-7: logjoint = -961.8206319140027, last_logjoint = -962.102816331856\n",
      "\tMinibatch 1-2-7: logjoint = -961.6373029485976, last_logjoint = -961.8206319140027\n",
      "\tMinibatch 1-3-7: logjoint = -961.4279214448516, last_logjoint = -961.6373029485976\n",
      "\tMinibatch 1-4-7: logjoint = -961.1915020408305, last_logjoint = -961.4279214448516\n",
      "\tMinibatch 1-5-7: logjoint = -961.0700561276708, last_logjoint = -961.1915020408305\n",
      "\tMinibatch 1-6-7: logjoint = -960.8522624699199, last_logjoint = -961.0700561276708\n",
      "\tMinibatch 1-7-7: logjoint = -960.7743465099984, last_logjoint = -960.8522624699199\n",
      "\tMinibatch 1-8-7: logjoint = -960.5685324351052, last_logjoint = -960.7743465099984\n",
      "\tMinibatch 1-9-7: logjoint = -960.4260799510166, last_logjoint = -960.5685324351052\n",
      "\tMinibatch 2-0-7: logjoint = -961.7758840236856, last_logjoint = -960.4260799510166\n",
      "\tMinibatch 2-1-7: logjoint = -961.6033161886771, last_logjoint = -961.7758840236856\n",
      "\tMinibatch 2-2-7: logjoint = -961.4917685826767, last_logjoint = -961.6033161886771\n",
      "\tMinibatch 2-3-7: logjoint = -961.3627552620574, last_logjoint = -961.4917685826767\n",
      "\tMinibatch 2-4-7: logjoint = -961.218617307085, last_logjoint = -961.3627552620574\n",
      "\tMinibatch 2-5-7: logjoint = -961.1422514811156, last_logjoint = -961.218617307085\n",
      "\tMinibatch 2-6-7: logjoint = -961.0112312472675, last_logjoint = -961.1422514811156\n",
      "\tMinibatch 2-7-7: logjoint = -960.9377358961001, last_logjoint = -961.0112312472675\n",
      "\tMinibatch 2-8-7: logjoint = -960.8117086157963, last_logjoint = -960.9377358961001\n",
      "\tMinibatch 2-9-7: logjoint = -960.7232872257446, last_logjoint = -960.8117086157963\n",
      "\tMinibatch 3-0-7: logjoint = -962.3561960747156, last_logjoint = -960.7232872257446\n",
      "\tMinibatch 3-1-7: logjoint = -962.1200047448901, last_logjoint = -962.3561960747156\n",
      "\tMinibatch 3-2-7: logjoint = -961.9672028343703, last_logjoint = -962.1200047448901\n",
      "\tMinibatch 3-3-7: logjoint = -962.1476932925316, last_logjoint = -961.9672028343703\n",
      "\tMinibatch 3-4-7: logjoint = -961.9658172716863, last_logjoint = -962.1476932925316\n",
      "\tMinibatch 3-5-7: logjoint = -961.8676414362162, last_logjoint = -961.9658172716863\n",
      "\tMinibatch 3-6-7: logjoint = -961.790789408009, last_logjoint = -961.8676414362162\n",
      "\tMinibatch 3-7-7: logjoint = -961.6972223561843, last_logjoint = -961.790789408009\n",
      "\tMinibatch 3-8-7: logjoint = -961.53160665821, last_logjoint = -961.6972223561843\n",
      "\tMinibatch 3-9-7: logjoint = -961.4121743424184, last_logjoint = -961.53160665821\n",
      "\tMinibatch 4-0-7: logjoint = -963.2649806299987, last_logjoint = -961.4121743424184\n",
      "\tMinibatch 4-1-7: logjoint = -963.0501940416207, last_logjoint = -963.2649806299987\n",
      "\tMinibatch 4-2-7: logjoint = -962.9117363413998, last_logjoint = -963.0501940416207\n",
      "\tMinibatch 4-3-7: logjoint = -962.7445122348308, last_logjoint = -962.9117363413998\n",
      "\tMinibatch 4-4-7: logjoint = -962.5561355723103, last_logjoint = -962.7445122348308\n",
      "\tMinibatch 4-5-7: logjoint = -962.4575081207468, last_logjoint = -962.5561355723103\n",
      "\tMinibatch 4-6-7: logjoint = -962.2789774574558, last_logjoint = -962.4575081207468\n",
      "\tMinibatch 4-7-7: logjoint = -962.1829545499286, last_logjoint = -962.2789774574558\n",
      "\tMinibatch 4-8-7: logjoint = -962.0132925161552, last_logjoint = -962.1829545499286\n",
      "\tMinibatch 4-9-7: logjoint = -961.8947972626811, last_logjoint = -962.0132925161552\n",
      "\tMinibatch 5-0-7: logjoint = -966.0623920887829, last_logjoint = -961.8947972626811\n",
      "\tMinibatch 5-1-7: logjoint = -967.4219519883063, last_logjoint = -966.0623920887829\n",
      "\tMinibatch 5-2-7: logjoint = -967.6124342635176, last_logjoint = -967.4219519883063\n",
      "\tMinibatch 5-3-7: logjoint = -968.0070502095577, last_logjoint = -967.6124342635176\n",
      "\tMinibatch 5-4-7: logjoint = -968.5569790114796, last_logjoint = -968.0070502095577\n",
      "\tMinibatch 5-5-7: logjoint = -968.6087696456852, last_logjoint = -968.5569790114796\n",
      "\tMinibatch 5-6-7: logjoint = -969.7159822417198, last_logjoint = -968.6087696456852\n",
      "\tMinibatch 5-7-7: logjoint = -969.6505763898394, last_logjoint = -969.7159822417198\n",
      "\tMinibatch 5-8-7: logjoint = -970.2918931099484, last_logjoint = -969.6505763898394\n",
      "\tMinibatch 5-9-7: logjoint = -970.4921079074593, last_logjoint = -970.2918931099484\n",
      "\tMinibatch 6-0-7: logjoint = -973.3130476208171, last_logjoint = -970.4921079074593\n",
      "\tMinibatch 6-1-7: logjoint = -973.0431808426729, last_logjoint = -973.3130476208171\n",
      "\tMinibatch 6-2-7: logjoint = -972.8706561029448, last_logjoint = -973.0431808426729\n",
      "\tMinibatch 6-3-7: logjoint = -972.6616664208686, last_logjoint = -972.8706561029448\n",
      "\tMinibatch 6-4-7: logjoint = -972.3958747797187, last_logjoint = -972.6616664208686\n",
      "\tMinibatch 6-5-7: logjoint = -972.2472185315328, last_logjoint = -972.3958747797187\n",
      "\tMinibatch 6-6-7: logjoint = -971.9828676629159, last_logjoint = -972.2472185315328\n",
      "\tMinibatch 6-7-7: logjoint = -971.8381422648654, last_logjoint = -971.9828676629159\n",
      "\tMinibatch 6-8-7: logjoint = -971.5667788344263, last_logjoint = -971.8381422648654\n",
      "\tMinibatch 6-9-7: logjoint = -971.3614213589335, last_logjoint = -971.5667788344263\n",
      "\tMinibatch 7-0-7: logjoint = -974.3181790136014, last_logjoint = -971.3614213589335\n",
      "\tMinibatch 7-1-7: logjoint = -973.9096984425933, last_logjoint = -974.3181790136014\n",
      "\tMinibatch 7-2-7: logjoint = -973.6510674585179, last_logjoint = -973.9096984425933\n",
      "\tMinibatch 7-3-7: logjoint = -973.338190464825, last_logjoint = -973.6510674585179\n",
      "\tMinibatch 7-4-7: logjoint = -972.9882182368992, last_logjoint = -973.338190464825\n",
      "\tMinibatch 7-5-7: logjoint = -972.8097498076468, last_logjoint = -972.9882182368992\n",
      "\tMinibatch 7-6-7: logjoint = -972.4696656271663, last_logjoint = -972.8097498076468\n",
      "\tMinibatch 7-7-7: logjoint = -972.293704815831, last_logjoint = -972.4696656271663\n",
      "\tMinibatch 7-8-7: logjoint = -971.9650133420555, last_logjoint = -972.293704815831\n",
      "\tMinibatch 7-9-7: logjoint = -971.7425261393837, last_logjoint = -971.9650133420555\n",
      "\tMinibatch 8-0-7: logjoint = -973.5548318207693, last_logjoint = -971.7425261393837\n",
      "\tMinibatch 8-1-7: logjoint = -973.341144306828, last_logjoint = -973.5548318207693\n",
      "\tMinibatch 8-2-7: logjoint = -973.2026614288834, last_logjoint = -973.341144306828\n"
     ]
    },
    {
     "name": "stdout",
     "output_type": "stream",
     "text": [
      "\tMinibatch 8-3-7: logjoint = -973.0453446678903, last_logjoint = -973.2026614288834\n",
      "\tMinibatch 8-4-7: logjoint = -972.8695208592908, last_logjoint = -973.0453446678903\n",
      "\tMinibatch 8-5-7: logjoint = -972.7794481765031, last_logjoint = -972.8695208592908\n",
      "\tMinibatch 8-6-7: logjoint = -972.6244327103332, last_logjoint = -972.7794481765031\n",
      "\tMinibatch 8-7-7: logjoint = -972.5404791220835, last_logjoint = -972.6244327103332\n",
      "\tMinibatch 8-8-7: logjoint = -972.3965395332652, last_logjoint = -972.5404791220835\n",
      "\tMinibatch 8-9-7: logjoint = -972.297139003791, last_logjoint = -972.3965395332652\n",
      "\tMinibatch 9-0-7: logjoint = -974.9801917643008, last_logjoint = -972.297139003791\n",
      "\tMinibatch 9-1-7: logjoint = -974.6438288364616, last_logjoint = -974.9801917643008\n",
      "\tMinibatch 9-2-7: logjoint = -974.4321313175815, last_logjoint = -974.6438288364616\n",
      "\tMinibatch 9-3-7: logjoint = -974.1765618735826, last_logjoint = -974.4321313175815\n",
      "\tMinibatch 9-4-7: logjoint = -973.9021684602358, last_logjoint = -974.1765618735826\n",
      "\tMinibatch 9-5-7: logjoint = -973.7512006490024, last_logjoint = -973.9021684602358\n",
      "\tMinibatch 9-6-7: logjoint = -973.4757479790787, last_logjoint = -973.7512006490024\n",
      "\tMinibatch 9-7-7: logjoint = -973.3270614820276, last_logjoint = -973.4757479790787\n",
      "\tMinibatch 9-8-7: logjoint = -973.0643885299651, last_logjoint = -973.3270614820276\n",
      "\tMinibatch 9-9-7: logjoint = -972.8812165685922, last_logjoint = -973.0643885299651\n",
      "Iteration 8: passing through the data...\n",
      "\tMinibatch 0-0-8: logjoint = -973.6046827030441, last_logjoint = -972.8812165685922\n",
      "\tMinibatch 0-1-8: logjoint = -973.504013555943, last_logjoint = -973.6046827030441\n",
      "\tMinibatch 0-2-8: logjoint = -973.4282404814694, last_logjoint = -973.504013555943\n",
      "\tMinibatch 0-3-8: logjoint = -973.3707672625724, last_logjoint = -973.4282404814694\n",
      "\tMinibatch 0-4-8: logjoint = -973.307751307053, last_logjoint = -973.3707672625724\n",
      "\tMinibatch 0-5-8: logjoint = -973.246654304281, last_logjoint = -973.307751307053\n",
      "\tMinibatch 0-6-8: logjoint = -973.1504443105414, last_logjoint = -973.246654304281\n",
      "\tMinibatch 0-7-8: logjoint = -973.0903946645794, last_logjoint = -973.1504443105414\n",
      "\tMinibatch 0-8-8: logjoint = -973.0554380983867, last_logjoint = -973.0903946645794\n",
      "\tMinibatch 0-9-8: logjoint = -972.9728695338144, last_logjoint = -973.0554380983867\n",
      "\tMinibatch 1-0-8: logjoint = -973.8509002653054, last_logjoint = -972.9728695338144\n",
      "\tMinibatch 1-1-8: logjoint = -973.7305966094609, last_logjoint = -973.8509002653054\n",
      "\tMinibatch 1-2-8: logjoint = -973.6299077788135, last_logjoint = -973.7305966094609\n",
      "\tMinibatch 1-3-8: logjoint = -973.5598032293456, last_logjoint = -973.6299077788135\n",
      "\tMinibatch 1-4-8: logjoint = -973.4792843961659, last_logjoint = -973.5598032293456\n",
      "\tMinibatch 1-5-8: logjoint = -973.4097451866492, last_logjoint = -973.4792843961659\n",
      "\tMinibatch 1-6-8: logjoint = -973.3025590807183, last_logjoint = -973.4097451866492\n",
      "\tMinibatch 1-7-8: logjoint = -973.2273916303711, last_logjoint = -973.3025590807183\n",
      "\tMinibatch 1-8-8: logjoint = -973.185208668473, last_logjoint = -973.2273916303711\n",
      "\tMinibatch 1-9-8: logjoint = -973.0933777014252, last_logjoint = -973.185208668473\n",
      "\tMinibatch 2-0-8: logjoint = -974.160716050279, last_logjoint = -973.0933777014252\n",
      "\tMinibatch 2-1-8: logjoint = -974.2615239525167, last_logjoint = -974.160716050279\n",
      "\tMinibatch 2-2-8: logjoint = -974.4197400531812, last_logjoint = -974.2615239525167\n",
      "\tMinibatch 2-3-8: logjoint = -974.3710515521534, last_logjoint = -974.4197400531812\n",
      "\tMinibatch 2-4-8: logjoint = -974.592516100638, last_logjoint = -974.3710515521534\n",
      "\tMinibatch 2-5-8: logjoint = -974.62525294837, last_logjoint = -974.592516100638\n",
      "\tMinibatch 2-6-8: logjoint = -974.8744421002339, last_logjoint = -974.62525294837\n",
      "\tMinibatch 2-7-8: logjoint = -975.0125806952628, last_logjoint = -974.8744421002339\n",
      "\tMinibatch 2-8-8: logjoint = -975.0104502137874, last_logjoint = -975.0125806952628\n",
      "\tMinibatch 2-9-8: logjoint = -975.2719172548505, last_logjoint = -975.0104502137874\n",
      "\tMinibatch 3-0-8: logjoint = -976.9061375950396, last_logjoint = -975.2719172548505\n",
      "\tMinibatch 3-1-8: logjoint = -976.6783355228799, last_logjoint = -976.9061375950396\n",
      "\tMinibatch 3-2-8: logjoint = -976.4856031341669, last_logjoint = -976.6783355228799\n",
      "\tMinibatch 3-3-8: logjoint = -976.3542532071133, last_logjoint = -976.4856031341669\n",
      "\tMinibatch 3-4-8: logjoint = -976.1976319184159, last_logjoint = -976.3542532071133\n",
      "\tMinibatch 3-5-8: logjoint = -976.0493673767078, last_logjoint = -976.1976319184159\n",
      "\tMinibatch 3-6-8: logjoint = -975.8130182909026, last_logjoint = -976.0493673767078\n",
      "\tMinibatch 3-7-8: logjoint = -975.6558728809041, last_logjoint = -975.8130182909026\n",
      "\tMinibatch 3-8-8: logjoint = -975.563035878009, last_logjoint = -975.6558728809041\n",
      "\tMinibatch 3-9-8: logjoint = -975.3372304723007, last_logjoint = -975.563035878009\n",
      "\tMinibatch 4-0-8: logjoint = -976.0829516404938, last_logjoint = -975.3372304723007\n",
      "\tMinibatch 4-1-8: logjoint = -975.948094786324, last_logjoint = -976.0829516404938\n",
      "\tMinibatch 4-2-8: logjoint = -975.8501967084512, last_logjoint = -975.948094786324\n",
      "\tMinibatch 4-3-8: logjoint = -975.7734694495812, last_logjoint = -975.8501967084512\n",
      "\tMinibatch 4-4-8: logjoint = -975.6885971563242, last_logjoint = -975.7734694495812\n",
      "\tMinibatch 4-5-8: logjoint = -975.6040943147409, last_logjoint = -975.6885971563242\n",
      "\tMinibatch 4-6-8: logjoint = -975.4792298573493, last_logjoint = -975.6040943147409\n",
      "\tMinibatch 4-7-8: logjoint = -975.4183691122962, last_logjoint = -975.4792298573493\n",
      "\tMinibatch 4-8-8: logjoint = -975.3693217566624, last_logjoint = -975.4183691122962\n",
      "\tMinibatch 4-9-8: logjoint = -975.2864091136571, last_logjoint = -975.3693217566624\n",
      "\tMinibatch 5-0-8: logjoint = -976.0581828115828, last_logjoint = -975.2864091136571\n",
      "\tMinibatch 5-1-8: logjoint = -975.9905271368079, last_logjoint = -976.0581828115828\n",
      "\tMinibatch 5-2-8: logjoint = -975.9318157579901, last_logjoint = -975.9905271368079\n",
      "\tMinibatch 5-3-8: logjoint = -975.8924106272598, last_logjoint = -975.9318157579901\n",
      "\tMinibatch 5-4-8: logjoint = -975.8480265059361, last_logjoint = -975.8924106272598\n",
      "\tMinibatch 5-5-8: logjoint = -975.8065525185602, last_logjoint = -975.8480265059361\n",
      "\tMinibatch 5-6-8: logjoint = -975.7444693020634, last_logjoint = -975.8065525185602\n",
      "\tMinibatch 5-7-8: logjoint = -975.7013310133052, last_logjoint = -975.7444693020634\n",
      "\tMinibatch 5-8-8: logjoint = -975.6757263846466, last_logjoint = -975.7013310133052\n",
      "\tMinibatch 5-9-8: logjoint = -975.6201883917056, last_logjoint = -975.6757263846466\n",
      "\tMinibatch 6-0-8: logjoint = -976.567073868403, last_logjoint = -975.6201883917056\n",
      "\tMinibatch 6-1-8: logjoint = -976.4688562203974, last_logjoint = -976.567073868403\n",
      "\tMinibatch 6-2-8: logjoint = -976.3836993555442, last_logjoint = -976.4688562203974\n",
      "\tMinibatch 6-3-8: logjoint = -976.3262644634888, last_logjoint = -976.3836993555442\n",
      "\tMinibatch 6-4-8: logjoint = -976.2619742550269, last_logjoint = -976.3262644634888\n",
      "\tMinibatch 6-5-8: logjoint = -976.2014850085015, last_logjoint = -976.2619742550269\n",
      "\tMinibatch 6-6-8: logjoint = -976.1100811545466, last_logjoint = -976.2014850085015\n",
      "\tMinibatch 6-7-8: logjoint = -976.0470002908505, last_logjoint = -976.1100811545466\n",
      "\tMinibatch 6-8-8: logjoint = -976.0095779500107, last_logjoint = -976.0470002908505\n",
      "\tMinibatch 6-9-8: logjoint = -975.9288317664495, last_logjoint = -976.0095779500107\n",
      "\tMinibatch 7-0-8: logjoint = -977.3393068754885, last_logjoint = -975.9288317664495\n",
      "\tMinibatch 7-1-8: logjoint = -977.1286630755303, last_logjoint = -977.3393068754885\n",
      "\tMinibatch 7-2-8: logjoint = -976.948653954043, last_logjoint = -977.1286630755303\n",
      "\tMinibatch 7-3-8: logjoint = -976.820581495449, last_logjoint = -976.948653954043\n",
      "\tMinibatch 7-4-8: logjoint = -976.680617467593, last_logjoint = -976.820581495449\n",
      "\tMinibatch 7-5-8: logjoint = -976.5473303259596, last_logjoint = -976.680617467593\n",
      "\tMinibatch 7-6-8: logjoint = -976.3415063103057, last_logjoint = -976.5473303259596\n",
      "\tMinibatch 7-7-8: logjoint = -976.2058784340315, last_logjoint = -976.3415063103057\n",
      "\tMinibatch 7-8-8: logjoint = -976.1246264454121, last_logjoint = -976.2058784340315\n",
      "\tMinibatch 7-9-8: logjoint = -975.9434480053251, last_logjoint = -976.1246264454121\n",
      "\tMinibatch 8-0-8: logjoint = -977.3742413125656, last_logjoint = -975.9434480053251\n"
     ]
    },
    {
     "name": "stdout",
     "output_type": "stream",
     "text": [
      "\tMinibatch 8-1-8: logjoint = -977.1747248293887, last_logjoint = -977.3742413125656\n",
      "\tMinibatch 8-2-8: logjoint = -977.0069367434398, last_logjoint = -977.1747248293887\n",
      "\tMinibatch 8-3-8: logjoint = -976.8964950747277, last_logjoint = -977.0069367434398\n",
      "\tMinibatch 8-4-8: logjoint = -976.7689192297712, last_logjoint = -976.8964950747277\n",
      "\tMinibatch 8-5-8: logjoint = -976.6516549703756, last_logjoint = -976.7689192297712\n",
      "\tMinibatch 8-6-8: logjoint = -976.4739040003897, last_logjoint = -976.6516549703756\n",
      "\tMinibatch 8-7-8: logjoint = -976.3527191276398, last_logjoint = -976.4739040003897\n",
      "\tMinibatch 8-8-8: logjoint = -976.2831419061331, last_logjoint = -976.3527191276398\n",
      "\tMinibatch 8-9-8: logjoint = -976.1253678381145, last_logjoint = -976.2831419061331\n",
      "\tMinibatch 9-0-8: logjoint = -977.3403632859581, last_logjoint = -976.1253678381145\n",
      "\tMinibatch 9-1-8: logjoint = -977.1876012293196, last_logjoint = -977.3403632859581\n",
      "\tMinibatch 9-2-8: logjoint = -977.137027890989, last_logjoint = -977.1876012293196\n",
      "\tMinibatch 9-3-8: logjoint = -977.0523005971572, last_logjoint = -977.137027890989\n",
      "\tMinibatch 9-4-8: logjoint = -976.9560738624468, last_logjoint = -977.0523005971572\n",
      "\tMinibatch 9-5-8: logjoint = -976.8670691301804, last_logjoint = -976.9560738624468\n",
      "\tMinibatch 9-6-8: logjoint = -976.7333062675953, last_logjoint = -976.8670691301804\n",
      "\tMinibatch 9-7-8: logjoint = -976.641546976175, last_logjoint = -976.7333062675953\n",
      "\tMinibatch 9-8-8: logjoint = -976.5879699616789, last_logjoint = -976.641546976175\n",
      "\tMinibatch 9-9-8: logjoint = -976.4811053014164, last_logjoint = -976.5879699616789\n",
      "Iteration 9: passing through the data...\n",
      "\tMinibatch 0-0-9: logjoint = -976.7630824075941, last_logjoint = -976.4811053014164\n",
      "\tMinibatch 0-1-9: logjoint = -976.7437713794479, last_logjoint = -976.7630824075941\n",
      "\tMinibatch 0-2-9: logjoint = -976.7165357783342, last_logjoint = -976.7437713794479\n",
      "\tMinibatch 0-3-9: logjoint = -976.6936754013313, last_logjoint = -976.7165357783342\n",
      "\tMinibatch 0-4-9: logjoint = -976.6776105825702, last_logjoint = -976.6936754013313\n",
      "\tMinibatch 0-5-9: logjoint = -976.6552948133894, last_logjoint = -976.6776105825702\n",
      "\tMinibatch 0-6-9: logjoint = -976.633531665495, last_logjoint = -976.6552948133894\n",
      "\tMinibatch 0-7-9: logjoint = -976.6171195225716, last_logjoint = -976.633531665495\n",
      "\tMinibatch 0-8-9: logjoint = -976.5894724050886, last_logjoint = -976.6171195225716\n",
      "\tMinibatch 0-9-9: logjoint = -976.5655394926289, last_logjoint = -976.5894724050886\n",
      "\tMinibatch 1-0-9: logjoint = -976.8061583197186, last_logjoint = -976.5655394926289\n",
      "\tMinibatch 1-1-9: logjoint = -976.7943174733628, last_logjoint = -976.8061583197186\n",
      "\tMinibatch 1-2-9: logjoint = -976.7761195176245, last_logjoint = -976.7943174733628\n",
      "\tMinibatch 1-3-9: logjoint = -976.7605274748039, last_logjoint = -976.7761195176245\n",
      "\tMinibatch 1-4-9: logjoint = -976.7496809233262, last_logjoint = -976.7605274748039\n",
      "\tMinibatch 1-5-9: logjoint = -976.7354577980177, last_logjoint = -976.7496809233262\n",
      "\tMinibatch 1-6-9: logjoint = -976.7218596249604, last_logjoint = -976.7354577980177\n",
      "\tMinibatch 1-7-9: logjoint = -976.7106033278751, last_logjoint = -976.7218596249604\n",
      "\tMinibatch 1-8-9: logjoint = -976.6948114736451, last_logjoint = -976.7106033278751\n",
      "\tMinibatch 1-9-9: logjoint = -976.6798862047135, last_logjoint = -976.6948114736451\n",
      "\tMinibatch 2-0-9: logjoint = -976.9970439239369, last_logjoint = -976.6798862047135\n",
      "\tMinibatch 2-1-9: logjoint = -976.9763491741251, last_logjoint = -976.9970439239369\n",
      "\tMinibatch 2-2-9: logjoint = -976.945926396621, last_logjoint = -976.9763491741251\n",
      "\tMinibatch 2-3-9: logjoint = -976.9191938738768, last_logjoint = -976.945926396621\n",
      "\tMinibatch 2-4-9: logjoint = -976.900327965719, last_logjoint = -976.9191938738768\n",
      "\tMinibatch 2-5-9: logjoint = -976.8748794666317, last_logjoint = -976.900327965719\n",
      "\tMinibatch 2-6-9: logjoint = -976.851279947552, last_logjoint = -976.8748794666317\n",
      "\tMinibatch 2-7-9: logjoint = -976.8310466651856, last_logjoint = -976.851279947552\n",
      "\tMinibatch 2-8-9: logjoint = -976.8015638383413, last_logjoint = -976.8310466651856\n",
      "\tMinibatch 2-9-9: logjoint = -976.7743040565338, last_logjoint = -976.8015638383413\n",
      "\tMinibatch 3-0-9: logjoint = -977.1714566874289, last_logjoint = -976.7743040565338\n",
      "\tMinibatch 3-1-9: logjoint = -977.1935287586402, last_logjoint = -977.1714566874289\n",
      "\tMinibatch 3-2-9: logjoint = -977.2082648309779, last_logjoint = -977.1935287586402\n",
      "\tMinibatch 3-3-9: logjoint = -977.1739372560787, last_logjoint = -977.2082648309779\n",
      "\tMinibatch 3-4-9: logjoint = -977.1564177744995, last_logjoint = -977.1739372560787\n",
      "\tMinibatch 3-5-9: logjoint = -977.1606963321647, last_logjoint = -977.1564177744995\n",
      "\tMinibatch 3-6-9: logjoint = -977.1306086291879, last_logjoint = -977.1606963321647\n",
      "\tMinibatch 3-7-9: logjoint = -977.1259948940142, last_logjoint = -977.1306086291879\n",
      "\tMinibatch 3-8-9: logjoint = -977.0953010237936, last_logjoint = -977.1259948940142\n",
      "\tMinibatch 3-9-9: logjoint = -977.0862548729683, last_logjoint = -977.0953010237936\n",
      "\tMinibatch 4-0-9: logjoint = -977.6077530839484, last_logjoint = -977.0862548729683\n",
      "\tMinibatch 4-1-9: logjoint = -977.5697265156277, last_logjoint = -977.6077530839484\n",
      "\tMinibatch 4-2-9: logjoint = -977.5118218422249, last_logjoint = -977.5697265156277\n",
      "\tMinibatch 4-3-9: logjoint = -977.4633777833078, last_logjoint = -977.5118218422249\n",
      "\tMinibatch 4-4-9: logjoint = -977.4299109813219, last_logjoint = -977.4633777833078\n",
      "\tMinibatch 4-5-9: logjoint = -977.3832377044764, last_logjoint = -977.4299109813219\n",
      "\tMinibatch 4-6-9: logjoint = -977.3384614918768, last_logjoint = -977.3832377044764\n",
      "\tMinibatch 4-7-9: logjoint = -977.3007419339401, last_logjoint = -977.3384614918768\n",
      "\tMinibatch 4-8-9: logjoint = -977.2437973126271, last_logjoint = -977.3007419339401\n",
      "\tMinibatch 4-9-9: logjoint = -977.1908389967575, last_logjoint = -977.2437973126271\n",
      "\tMinibatch 5-0-9: logjoint = -977.8599231588469, last_logjoint = -977.1908389967575\n",
      "\tMinibatch 5-1-9: logjoint = -977.810994302833, last_logjoint = -977.8599231588469\n",
      "\tMinibatch 5-2-9: logjoint = -977.7376680911175, last_logjoint = -977.810994302833\n",
      "\tMinibatch 5-3-9: logjoint = -977.6769337033593, last_logjoint = -977.7376680911175\n",
      "\tMinibatch 5-4-9: logjoint = -977.6354134396652, last_logjoint = -977.6769337033593\n",
      "\tMinibatch 5-5-9: logjoint = -977.5774834334425, last_logjoint = -977.6354134396652\n",
      "\tMinibatch 5-6-9: logjoint = -977.5217906139751, last_logjoint = -977.5774834334425\n",
      "\tMinibatch 5-7-9: logjoint = -977.4753458536743, last_logjoint = -977.5217906139751\n",
      "\tMinibatch 5-8-9: logjoint = -977.4048283648381, last_logjoint = -977.4753458536743\n",
      "\tMinibatch 5-9-9: logjoint = -977.3399548023181, last_logjoint = -977.4048283648381\n",
      "\tMinibatch 6-0-9: logjoint = -978.098671537592, last_logjoint = -977.3399548023181\n",
      "\tMinibatch 6-1-9: logjoint = -978.0294987217121, last_logjoint = -978.098671537592\n",
      "\tMinibatch 6-2-9: logjoint = -977.9248555353242, last_logjoint = -978.0294987217121\n",
      "\tMinibatch 6-3-9: logjoint = -977.8379568111186, last_logjoint = -977.9248555353242\n",
      "\tMinibatch 6-4-9: logjoint = -977.777229147975, last_logjoint = -977.8379568111186\n",
      "\tMinibatch 6-5-9: logjoint = -977.6923637519149, last_logjoint = -977.777229147975\n",
      "\tMinibatch 6-6-9: logjoint = -977.6123894692955, last_logjoint = -977.6923637519149\n",
      "\tMinibatch 6-7-9: logjoint = -977.5460969310479, last_logjoint = -977.6123894692955\n",
      "\tMinibatch 6-8-9: logjoint = -977.4424160793897, last_logjoint = -977.5460969310479\n",
      "\tMinibatch 6-9-9: logjoint = -977.3491947595858, last_logjoint = -977.4424160793897\n",
      "\tMinibatch 7-0-9: logjoint = -977.8389371214053, last_logjoint = -977.3491947595858\n",
      "\tMinibatch 7-1-9: logjoint = -977.7957891368033, last_logjoint = -977.8389371214053\n",
      "\tMinibatch 7-2-9: logjoint = -977.7326407389573, last_logjoint = -977.7957891368033\n",
      "\tMinibatch 7-3-9: logjoint = -977.680899224395, last_logjoint = -977.7326407389573\n",
      "\tMinibatch 7-4-9: logjoint = -977.6457574588048, last_logjoint = -977.680899224395\n",
      "\tMinibatch 7-5-9: logjoint = -977.5979935935566, last_logjoint = -977.6457574588048\n",
      "\tMinibatch 7-6-9: logjoint = -977.5526192258158, last_logjoint = -977.5979935935566\n",
      "\tMinibatch 7-7-9: logjoint = -977.5152598425402, last_logjoint = -977.5526192258158\n",
      "\tMinibatch 7-8-9: logjoint = -977.4606118983647, last_logjoint = -977.5152598425402\n"
     ]
    },
    {
     "name": "stdout",
     "output_type": "stream",
     "text": [
      "\tMinibatch 7-9-9: logjoint = -977.4101611183296, last_logjoint = -977.4606118983647\n",
      "\tMinibatch 8-0-9: logjoint = -978.0481587225859, last_logjoint = -977.4101611183296\n",
      "\tMinibatch 8-1-9: logjoint = -977.9972429016825, last_logjoint = -978.0481587225859\n",
      "\tMinibatch 8-2-9: logjoint = -977.9209086960536, last_logjoint = -977.9972429016825\n",
      "\tMinibatch 8-3-9: logjoint = -977.8571353375582, last_logjoint = -977.9209086960536\n",
      "\tMinibatch 8-4-9: logjoint = -977.8130946943284, last_logjoint = -977.8571353375582\n",
      "\tMinibatch 8-5-9: logjoint = -977.7529329978361, last_logjoint = -977.8130946943284\n",
      "\tMinibatch 8-6-9: logjoint = -977.6946665112955, last_logjoint = -977.7529329978361\n",
      "\tMinibatch 8-7-9: logjoint = -977.6465458043986, last_logjoint = -977.6946665112955\n",
      "\tMinibatch 8-8-9: logjoint = -977.5731188286054, last_logjoint = -977.6465458043986\n",
      "\tMinibatch 8-9-9: logjoint = -977.5060692466268, last_logjoint = -977.5731188286054\n",
      "\tMinibatch 9-0-9: logjoint = -978.5193311325993, last_logjoint = -977.5060692466268\n",
      "\tMinibatch 9-1-9: logjoint = -978.4374493363239, last_logjoint = -978.5193311325993\n",
      "\tMinibatch 9-2-9: logjoint = -978.3090585734981, last_logjoint = -978.4374493363239\n",
      "\tMinibatch 9-3-9: logjoint = -978.2034066224905, last_logjoint = -978.3090585734981\n",
      "\tMinibatch 9-4-9: logjoint = -978.13511973801, last_logjoint = -978.2034066224905\n",
      "\tMinibatch 9-5-9: logjoint = -978.0322468713903, last_logjoint = -978.13511973801\n",
      "\tMinibatch 9-6-9: logjoint = -977.9245872324291, last_logjoint = -978.0322468713903\n",
      "\tMinibatch 9-7-9: logjoint = -977.8451484165698, last_logjoint = -977.9245872324291\n",
      "\tMinibatch 9-8-9: logjoint = -977.720398707007, last_logjoint = -977.8451484165698\n",
      "\tMinibatch 9-9-9: logjoint = -977.6054619461165, last_logjoint = -977.720398707007\n"
     ]
    }
   ],
   "source": [
    "nmf.inference()"
   ]
  },
  {
   "cell_type": "code",
   "execution_count": null,
   "metadata": {},
   "outputs": [],
   "source": [
    "time.time() - time0"
   ]
  },
  {
   "cell_type": "code",
   "execution_count": null,
   "metadata": {},
   "outputs": [],
   "source": [
    "nmf.save_model()"
   ]
  },
  {
   "cell_type": "code",
   "execution_count": 53,
   "metadata": {},
   "outputs": [
    {
     "data": {
      "image/png": "[encoded data removed]",
      "text/plain": [
       "<Figure size 432x288 with 1 Axes>"
      ]
     },
     "metadata": {
      "needs_background": "light"
     },
     "output_type": "display_data"
    }
   ],
   "source": [
    "#check if stick breaking is working!\n",
    "plt.plot(nmf._v.T)\n",
    "plt.show()"
   ]
  },
  {
   "cell_type": "code",
   "execution_count": 22,
   "metadata": {},
   "outputs": [
    {
     "data": {
      "image/png": "[encoded data removed]",
      "text/plain": [
       "<Figure size 432x288 with 1 Axes>"
      ]
     },
     "metadata": {
      "needs_background": "light"
     },
     "output_type": "display_data"
    }
   ],
   "source": [
    "#check if stick breaking is working!\n",
    "plt.plot(nmf._v.T)\n",
    "plt.show()"
   ]
  },
  {
   "cell_type": "code",
   "execution_count": null,
   "metadata": {},
   "outputs": [],
   "source": [
    "theta = np.array([[nmf._s_shape[u]/nmf._s_rate[u] * nmf._v[u,k] *np.prod(1-nmf._v[u,:k]) for k in range(nmf.T)] for u in range(nmf.U)])\n",
    "beta = nmf._beta_shape/nmf._beta_rate"
   ]
  },
  {
   "cell_type": "code",
   "execution_count": 93,
   "metadata": {},
   "outputs": [],
   "source": [
    "def posterior_check(self):\n",
    "    poisson_mean = self.theta @ self.beta.T\n",
    "    poisson_mean[X.toarray() == 0] = 0\n",
    "    simulated = np.random.poisson(poisson_mean)\n",
    "    #posterior check\n",
    "    ax = sns.distplot(np.sum(self.X,0),hist=True, kde=True)\n",
    "    sns.distplot(np.sum(simulated,0),hist=True, kde=True)\n",
    "    ax.set_title('Distribution of users by total rating')\n",
    "    ax.set(xlabel='Total rating per user')\n",
    "    ax.legend(['Observed Data', 'Simulated from fitted model'])"
   ]
  },
  {
   "cell_type": "code",
   "execution_count": 94,
   "metadata": {},
   "outputs": [
    {
     "data": {
      "text/plain": [
       "<matplotlib.legend.Legend at 0x7ff5bc152cf8>"
      ]
     },
     "execution_count": 94,
     "metadata": {},
     "output_type": "execute_result"
    },
    {
     "data": {
      "image/png": "[encoded data removed]",
      "text/plain": [
       "<Figure size 432x288 with 1 Axes>"
      ]
     },
     "metadata": {
      "needs_background": "light"
     },
     "output_type": "display_data"
    }
   ],
   "source": []
  },
  {
   "cell_type": "code",
   "execution_count": 26,
   "metadata": {},
   "outputs": [
    {
     "data": {
      "text/plain": [
       "<matplotlib.legend.Legend at 0x7ff58c759898>"
      ]
     },
     "execution_count": 26,
     "metadata": {},
     "output_type": "execute_result"
    },
    {
     "data": {
      "image/png": "[encoded data removed]",
      "text/plain": [
       "<Figure size 432x288 with 1 Axes>"
      ]
     },
     "metadata": {
      "needs_background": "light"
     },
     "output_type": "display_data"
    }
   ],
   "source": [
    "#posterior check\n",
    "\n",
    "ax = sns.distplot(np.sum(X,0),hist=True, kde=True)\n",
    "sns.distplot(np.sum(simulated,0),hist=True, kde=True)\n",
    "ax.set_title('Distribution of users by total rating')\n",
    "ax.set(xlabel='Total rating per user')\n",
    "ax.legend(['Observed Data', 'Simulated from fitted model'])"
   ]
  },
  {
   "cell_type": "code",
   "execution_count": 27,
   "metadata": {},
   "outputs": [
    {
     "data": {
      "text/plain": [
       "<matplotlib.legend.Legend at 0x7ff58c8e7780>"
      ]
     },
     "execution_count": 27,
     "metadata": {},
     "output_type": "execute_result"
    },
    {
     "data": {
      "image/png": "[encoded data removed]",
      "text/plain": [
       "<Figure size 432x288 with 1 Axes>"
      ]
     },
     "metadata": {
      "needs_background": "light"
     },
     "output_type": "display_data"
    }
   ],
   "source": [
    "#posterior check\n",
    "\n",
    "ax = sns.distplot(np.sum(X,1),hist=True, kde=True)\n",
    "sns.distplot(np.sum(simulated,1),hist=True, kde=True)\n",
    "ax.set_title('Distribution of users by total rating')\n",
    "ax.set(xlabel='Total rating per user')\n",
    "ax.legend(['Observed Data', 'Simulated from fitted model'])"
   ]
  },
  {
   "cell_type": "code",
   "execution_count": null,
   "metadata": {},
   "outputs": [],
   "source": [
    "#posterior check\n",
    "\n",
    "ax = sns.distplot(np.sum(X,1),hist=True, kde=True)\n",
    "sns.distplot(np.sum(simulated,1),hist=True, kde=True)\n",
    "ax.set_title('Distribution of users by total rating')\n",
    "ax.set(xlabel='Total rating per user')\n",
    "ax.legend(['Observed Data', 'Simulated from fitted model'])"
   ]
  },
  {
   "cell_type": "code",
   "execution_count": null,
   "metadata": {},
   "outputs": [],
   "source": [
    "#posterior check\n",
    "\n",
    "ax = sns.distplot(np.sum(X,1),hist=True, kde=True)\n",
    "sns.distplot(np.sum(simulated,1),hist=True, kde=True)\n",
    "ax.set_title('Distribution of users by total rating')\n",
    "ax.set(xlabel='Total rating per user')\n",
    "ax.legend(['Observed Data', 'Simulated from fitted model'])"
   ]
  },
  {
   "cell_type": "code",
   "execution_count": null,
   "metadata": {},
   "outputs": [],
   "source": []
  },
  {
   "cell_type": "code",
   "execution_count": null,
   "metadata": {},
   "outputs": [],
   "source": [
    "temp = [np.sum([nmf.X[u,d] * (1 - np.sum(nmf._phi[u,d,:])) for d in range(nmf.D)]) for u in range(nmf.U)]"
   ]
  },
  {
   "cell_type": "code",
   "execution_count": null,
   "metadata": {},
   "outputs": [],
   "source": []
  },
  {
   "cell_type": "code",
   "execution_count": null,
   "metadata": {},
   "outputs": [],
   "source": [
    "min(temp)"
   ]
  },
  {
   "cell_type": "code",
   "execution_count": null,
   "metadata": {
    "scrolled": true
   },
   "outputs": [],
   "source": [
    "nmf.inference()"
   ]
  },
  {
   "cell_type": "code",
   "execution_count": null,
   "metadata": {},
   "outputs": [],
   "source": [
    "A,B,C = nmf.get_ABC()"
   ]
  },
  {
   "cell_type": "code",
   "execution_count": null,
   "metadata": {},
   "outputs": [],
   "source": [
    "A.min(), A.max(), B.min(), B.max(), C.min(),C.max()"
   ]
  },
  {
   "cell_type": "code",
   "execution_count": null,
   "metadata": {},
   "outputs": [],
   "source": [
    "np.where(A == A.min())"
   ]
  },
  {
   "cell_type": "code",
   "execution_count": null,
   "metadata": {},
   "outputs": [],
   "source": [
    "np.where(B == B.min())"
   ]
  },
  {
   "cell_type": "code",
   "execution_count": null,
   "metadata": {},
   "outputs": [],
   "source": [
    "nmf.u"
   ]
  },
  {
   "cell_type": "code",
   "execution_count": null,
   "metadata": {},
   "outputs": [],
   "source": [
    "nmf.load_model('model_1.npz')"
   ]
  },
  {
   "cell_type": "code",
   "execution_count": null,
   "metadata": {
    "scrolled": true
   },
   "outputs": [],
   "source": [
    "nmf._phi"
   ]
  },
  {
   "cell_type": "code",
   "execution_count": null,
   "metadata": {},
   "outputs": [],
   "source": [
    "np.array([1,2,3])[:2]"
   ]
  },
  {
   "cell_type": "code",
   "execution_count": null,
   "metadata": {},
   "outputs": [],
   "source": [
    "nmf._v.max()"
   ]
  },
  {
   "cell_type": "code",
   "execution_count": null,
   "metadata": {},
   "outputs": [],
   "source": [
    "nmf.save_model(True)"
   ]
  },
  {
   "cell_type": "code",
   "execution_count": null,
   "metadata": {},
   "outputs": [],
   "source": [
    "nmf.load_model('model_1.npz')"
   ]
  },
  {
   "cell_type": "code",
   "execution_count": null,
   "metadata": {},
   "outputs": [],
   "source": [
    "nmf.inference()"
   ]
  },
  {
   "cell_type": "code",
   "execution_count": null,
   "metadata": {},
   "outputs": [],
   "source": [
    "nmf.X[1,:]"
   ]
  },
  {
   "cell_type": "code",
   "execution_count": null,
   "metadata": {},
   "outputs": [],
   "source": [
    "nmf.X"
   ]
  },
  {
   "cell_type": "code",
   "execution_count": null,
   "metadata": {},
   "outputs": [],
   "source": [
    "nmf.X.tocsc()"
   ]
  },
  {
   "cell_type": "code",
   "execution_count": null,
   "metadata": {},
   "outputs": [],
   "source": [
    "time0 = time.time()\n",
    "for i in range(3000):\n",
    "    nmf.X[:,np.random.rand(100)]\n",
    "time.time() - time0"
   ]
  },
  {
   "cell_type": "code",
   "execution_count": null,
   "metadata": {},
   "outputs": [],
   "source": [
    "time0 = time.time()\n",
    "for i in range(3000):\n",
    "    nmf.X.tocsc()[np.random.rand(100),:]\n",
    "time.time() - time0"
   ]
  },
  {
   "cell_type": "code",
   "execution_count": null,
   "metadata": {},
   "outputs": [],
   "source": [
    "time0 = time.time()\n",
    "for i in range(3000):\n",
    "    nmf.X.tocsc()[:,np.random.rand(100)]\n",
    "time.time() - time0"
   ]
  },
  {
   "cell_type": "code",
   "execution_count": null,
   "metadata": {},
   "outputs": [],
   "source": [
    "time0 = time.time()\n",
    "for i in range(3000):\n",
    "    nmf.X[np.random.rand(100),:]\n",
    "time.time() - time0"
   ]
  },
  {
   "cell_type": "code",
   "execution_count": null,
   "metadata": {
    "scrolled": true
   },
   "outputs": [],
   "source": [
    "nmf.inference()"
   ]
  },
  {
   "cell_type": "code",
   "execution_count": null,
   "metadata": {},
   "outputs": [],
   "source": [
    "len(nmf.byuser)"
   ]
  },
  {
   "cell_type": "code",
   "execution_count": null,
   "metadata": {},
   "outputs": [],
   "source": [
    "for u in range(nmf.U):\n",
    "    for k in range(nmf.T):\n",
    "        try:\n",
    "            nmf.solve_quadratic(A[u,k], B[u,k], C[u,k])\n",
    "        except:\n",
    "            print(u,k)\n",
    "            pass\n",
    "            "
   ]
  },
  {
   "cell_type": "code",
   "execution_count": null,
   "metadata": {},
   "outputs": [],
   "source": [
    "nmf._s_rate[147]"
   ]
  },
  {
   "cell_type": "code",
   "execution_count": null,
   "metadata": {},
   "outputs": [],
   "source": [
    "np.sum(nmf._beta_shape[:,0]/nmf._beta_rate[:,0])"
   ]
  },
  {
   "cell_type": "code",
   "execution_count": null,
   "metadata": {},
   "outputs": [],
   "source": [
    "list(range(10,15))"
   ]
  },
  {
   "cell_type": "code",
   "execution_count": null,
   "metadata": {},
   "outputs": [],
   "source": [
    "u = 147\n",
    "k = 0\n",
    "l = 0\n",
    "[nmf._v[u,l] * np.prod(1-nmf._v[u,:l])/(1-nmf._v[u,k]) * np.sum(nmf._beta_shape[:,l]/ nmf._beta_rate[:,l]) for l in range(k+1,nmf.T)]\n",
    "#- np.prod(1-nmf._v[u,:k]) * np.sum(nmf._beta_shape[:,k]/nmf._beta_rate[:,k]) \\\n",
    "#+ nmf.D * nmf.beta_shape_prior/nmf.beta_rate_prior * np.prod(1-nmf._v[u,:]) / nmf._v[u,k]        \n",
    "                "
   ]
  },
  {
   "cell_type": "code",
   "execution_count": null,
   "metadata": {},
   "outputs": [],
   "source": []
  },
  {
   "cell_type": "code",
   "execution_count": null,
   "metadata": {},
   "outputs": [],
   "source": [
    "A[147,0]"
   ]
  },
  {
   "cell_type": "code",
   "execution_count": null,
   "metadata": {},
   "outputs": [],
   "source": [
    "B[147,0]"
   ]
  },
  {
   "cell_type": "code",
   "execution_count": null,
   "metadata": {},
   "outputs": [],
   "source": [
    "C[147,0]"
   ]
  },
  {
   "cell_type": "code",
   "execution_count": null,
   "metadata": {},
   "outputs": [],
   "source": [
    "A,B,C = nmf.get_ABC()"
   ]
  },
  {
   "cell_type": "code",
   "execution_count": null,
   "metadata": {},
   "outputs": [],
   "source": [
    "(-np.sqrt(B**2 - 4*A*C) - B) / A"
   ]
  },
  {
   "cell_type": "code",
   "execution_count": null,
   "metadata": {},
   "outputs": [],
   "source": [
    "(-np.sqrt(B**2 - 4*A*C) - B) / A"
   ]
  },
  {
   "cell_type": "code",
   "execution_count": null,
   "metadata": {},
   "outputs": [],
   "source": [
    "nmf.inference()"
   ]
  },
  {
   "cell_type": "code",
   "execution_count": null,
   "metadata": {},
   "outputs": [],
   "source": [
    "46318/46350-1"
   ]
  },
  {
   "cell_type": "code",
   "execution_count": null,
   "metadata": {},
   "outputs": [],
   "source": [
    "A = 1.807934296800437e-10\n",
    "B = 1.0004423587287066\n",
    "C=  -0.00041595806984341416\n",
    "(-B + np.sqrt(B**2 - 4*A*C)) / (2 * A)"
   ]
  },
  {
   "cell_type": "code",
   "execution_count": null,
   "metadata": {
    "scrolled": true
   },
   "outputs": [],
   "source": [
    "from multiprocess import Pool\n",
    "def f(x,y): return x*y\n",
    "p = Pool(4)\n",
    "result = p.map(f, [(1,2), (3,4)])\n",
    "print(result.get(timeout=1))"
   ]
  },
  {
   "cell_type": "code",
   "execution_count": null,
   "metadata": {},
   "outputs": [],
   "source": [
    "temp = copy.deepcopy(nmf._phi)"
   ]
  },
  {
   "cell_type": "code",
   "execution_count": null,
   "metadata": {},
   "outputs": [],
   "source": [
    "temp"
   ]
  },
  {
   "cell_type": "code",
   "execution_count": null,
   "metadata": {
    "scrolled": false
   },
   "outputs": [],
   "source": [
    "nmf.inference()"
   ]
  },
  {
   "cell_type": "code",
   "execution_count": null,
   "metadata": {},
   "outputs": [],
   "source": [
    "nmf.solve_quadratic(A= 2.5972095342520613e-16, B=2.052183719154443, C= -1.0518572257929042)"
   ]
  },
  {
   "cell_type": "code",
   "execution_count": null,
   "metadata": {},
   "outputs": [],
   "source": [
    "A = 0.00000000000001\n",
    "B=2.052183719154443\n",
    "C= -1.0518572257929042"
   ]
  },
  {
   "cell_type": "code",
   "execution_count": null,
   "metadata": {},
   "outputs": [],
   "source": [
    "(-B + np.sqrt(B**2 - 4*A*C)) / (2 * A)"
   ]
  },
  {
   "cell_type": "code",
   "execution_count": null,
   "metadata": {
    "ExecuteTime": {
     "end_time": "2019-12-14T09:07:02.761769Z",
     "start_time": "2019-12-14T09:06:43.802767Z"
    }
   },
   "outputs": [],
   "source": [
    "nmf.update_phi()\n",
    "nmf.ELBO()"
   ]
  },
  {
   "cell_type": "code",
   "execution_count": null,
   "metadata": {
    "ExecuteTime": {
     "end_time": "2019-12-14T09:07:27.838772Z",
     "start_time": "2019-12-14T09:07:02.764769Z"
    }
   },
   "outputs": [],
   "source": [
    "nmf.update_items()\n",
    "nmf.ELBO()"
   ]
  },
  {
   "cell_type": "code",
   "execution_count": null,
   "metadata": {
    "ExecuteTime": {
     "end_time": "2019-12-14T08:52:32.970868Z",
     "start_time": "2019-12-14T08:52:28.068868Z"
    }
   },
   "outputs": [],
   "source": [
    "nmf.update_sticks_scalars()\n",
    "nmf.ELBO()"
   ]
  },
  {
   "cell_type": "code",
   "execution_count": null,
   "metadata": {
    "ExecuteTime": {
     "end_time": "2019-12-14T06:54:10.149944Z",
     "start_time": "2019-12-14T06:54:05.236943Z"
    }
   },
   "outputs": [],
   "source": [
    "nmf.update_sticks()\n",
    "nmf.ELBO()"
   ]
  },
  {
   "cell_type": "code",
   "execution_count": null,
   "metadata": {},
   "outputs": [],
   "source": []
  },
  {
   "cell_type": "code",
   "execution_count": null,
   "metadata": {},
   "outputs": [],
   "source": []
  },
  {
   "cell_type": "code",
   "execution_count": null,
   "metadata": {},
   "outputs": [],
   "source": []
  },
  {
   "cell_type": "code",
   "execution_count": null,
   "metadata": {
    "ExecuteTime": {
     "end_time": "2019-12-13T21:19:42.215722Z",
     "start_time": "2019-12-13T21:19:41.861723Z"
    }
   },
   "outputs": [],
   "source": [
    "np.savez('test.npz', a = a, b = a)"
   ]
  },
  {
   "cell_type": "code",
   "execution_count": null,
   "metadata": {
    "ExecuteTime": {
     "end_time": "2019-12-13T21:19:43.366724Z",
     "start_time": "2019-12-13T21:19:42.838723Z"
    }
   },
   "outputs": [],
   "source": [
    "test = np.load('test.npz')"
   ]
  },
  {
   "cell_type": "code",
   "execution_count": null,
   "metadata": {
    "ExecuteTime": {
     "end_time": "2019-12-13T21:19:46.065732Z",
     "start_time": "2019-12-13T21:19:45.718725Z"
    }
   },
   "outputs": [],
   "source": [
    "test['b']"
   ]
  },
  {
   "cell_type": "code",
   "execution_count": null,
   "metadata": {
    "ExecuteTime": {
     "end_time": "2019-12-13T21:03:06.087239Z",
     "start_time": "2019-12-13T21:03:05.434238Z"
    }
   },
   "outputs": [],
   "source": [
    "nmf._phi"
   ]
  },
  {
   "cell_type": "code",
   "execution_count": null,
   "metadata": {
    "ExecuteTime": {
     "end_time": "2019-12-13T19:56:25.027135Z",
     "start_time": "2019-12-13T19:56:24.296136Z"
    },
    "scrolled": false
   },
   "outputs": [],
   "source": [
    "#unit test\n",
    "def \n",
    "def test:\n",
    "    [nmf._phi[u,d,:].sum() for u,d in nmf.nonzero]"
   ]
  },
  {
   "cell_type": "code",
   "execution_count": null,
   "metadata": {
    "ExecuteTime": {
     "end_time": "2019-12-12T04:00:25.658080Z",
     "start_time": "2019-12-12T04:00:25.503059Z"
    }
   },
   "outputs": [],
   "source": [
    "def validate(theta,beta,rating_valid):\n",
    "    size = len(list(zip(*rating_valid.nonzero())))\n",
    "    rating_valid = rating_valid.toarray().flatten()\n",
    "    mu = (theta @ beta.T).flatten()\n",
    "    mu = mu[rating_valid > 0]\n",
    "    rating_valid = rating_valid[rating_valid > 0]\n",
    "    mu[mu>10] = 10\n",
    "    assert mu.shape == rating_valid.shape, f'{mu.shape} vs {rating_valid.shape}'\n",
    "    return (np.sum(rating_valid * np.log(mu)) - np.sum(mu))/size"
   ]
  },
  {
   "cell_type": "markdown",
   "metadata": {},
   "source": [
    "Variational Inference for Nonparametrics"
   ]
  },
  {
   "cell_type": "code",
   "execution_count": null,
   "metadata": {
    "ExecuteTime": {
     "end_time": "2019-12-12T04:00:25.884077Z",
     "start_time": "2019-12-12T04:00:25.662061Z"
    }
   },
   "outputs": [],
   "source": [
    "rating_train, rating_valid, rating_train, _ = read('./data/movielens')"
   ]
  },
  {
   "cell_type": "code",
   "execution_count": null,
   "metadata": {
    "ExecuteTime": {
     "end_time": "2019-12-12T04:00:26.042060Z",
     "start_time": "2019-12-12T04:00:25.886061Z"
    }
   },
   "outputs": [],
   "source": [
    "kwargs = {'T': 50}"
   ]
  },
  {
   "cell_type": "code",
   "execution_count": null,
   "metadata": {
    "ExecuteTime": {
     "end_time": "2019-12-12T04:00:26.245059Z",
     "start_time": "2019-12-12T04:00:26.046061Z"
    }
   },
   "outputs": [],
   "source": [
    "#NOTE: To be wrapped in def vi(rating_train, rating_valid, **kwargs):\n",
    "\n",
    "#Use sparse matrix representation\n",
    "U,D = rating_train.shape\n",
    "indices = rating_train.indices\n",
    "indptr = rating_train.indptr\n",
    "nonzero = list(zip(*rating_train.nonzero()))\n",
    "byrow = {row:[indices[i] for i in range(indptr[row], indptr[row+1])] for row in range(U)}\n",
    "\n",
    "rating_csc = rating_train.tocsc()\n",
    "indices = rating_csc.indices\n",
    "indptr = rating_csc.indptr\n",
    "bycol = {col:[indices[i] for i in range(indptr[col], indptr[col+1])] for col in range(D)}"
   ]
  },
  {
   "cell_type": "markdown",
   "metadata": {},
   "source": [
    "Joint distribution:\n",
    "$$p(z, \\beta, s, v| \\alpha, c, a,b) = \\prod_{u=1}^{U} p(s_u | \\alpha, c) \\prod_{k=1}^{\\infty} \\prod_{u=1}^{U} p(v_{uk} | \\alpha)   \\prod_{k=1}^{\\infty} \\prod_{d=1}^{D} p(\\beta_{dk} | a, b) \\prod_{k=1}^{\\infty} \\prod_{u=1}^N \\prod_{d=1}^D p(z_{udk} | \\theta_{uk}, \\beta_{dk})$$"
   ]
  },
  {
   "cell_type": "markdown",
   "metadata": {},
   "source": [
    "Remember the stick proportions:\n",
    "$$\\theta_{uk} = s_u v_{uk} \\prod_{i=1}^{k-1}(1-v_{ui})$$"
   ]
  },
  {
   "cell_type": "markdown",
   "metadata": {},
   "source": [
    "Variational Inference:\n",
    "\n",
    "$q(s_u) = \\text{Gamma}(s_u | \\omega_{u,0}, \\omega_{u,1})$\n",
    "\n",
    "$q(v_{uk}) = \\zeta_{\\tau_{uk}}(v_{uk}) \\text{ for } k \\leq T, p(v_{uk}) \\text{ for } k \\geq T + 1$\n",
    "\n",
    "$q(\\beta_{dk}) = \\text{Gamma}(\\beta_{dk} | \\lambda_{ik,0}, \\lambda_{dk, 1}) \\text { for } k \\leq T, p(\\beta_{dk}) \\text{ for } k \\geq T+1$\n",
    "\n",
    "$q(z_{ud}) = \\text{Mult}(z_{ud} | y_{ud}, \\phi_{ud})$\n",
    "\n"
   ]
  },
  {
   "cell_type": "code",
   "execution_count": null,
   "metadata": {
    "ExecuteTime": {
     "end_time": "2019-12-12T04:00:39.098120Z",
     "start_time": "2019-12-12T04:00:38.948120Z"
    }
   },
   "outputs": [],
   "source": [
    "#Starting values\n",
    "I = 300\n",
    "T = kwargs.pop('T', 50) #Truncate level\n",
    "alpha = kwargs.pop('alpha', 0.01)\n",
    "omega_rate = np.array([0.3]*U) \n",
    "omega_shape = np.array([1]*U)\n",
    "lambda_rate = np.array([[0.3]*T]*U) \n",
    "lambda_shape = np.array([[1]*T]*U)\n",
    "tau = np.random.beta(1, alpha, size = T)\n",
    "phi = np.zeros((len(nonzero),I))"
   ]
  },
  {
   "cell_type": "code",
   "execution_count": null,
   "metadata": {},
   "outputs": [],
   "source": [
    "class NPNMF:\n",
    "    def __init__(self, X, K=512, seed=None, **kwargs):\n",
    "        '''\n",
    "        BN = LVI_BP_NMF(X, K=512, smoothness=100, seed=None, alpha=2.,\n",
    "                        a0=1., b0=1., c0=1e-6, d0=1e-6)\n",
    "        Required arguments:\n",
    "            X:              U-by-D nonnegative matrix (numpy.ndarray)\n",
    "                            the data to be factorized\n",
    "                            Assume scipy sparse matrix format\n",
    "        Optional arguments:\n",
    "            K:              the size of the initial dictionary\n",
    "                            will be truncated to a proper size\n",
    "            seed:           the random seed to control the random\n",
    "                            initialization\n",
    "                            **variational inference can only converge to local\n",
    "                            optimum, thus try different seeds**\n",
    "            alpha:          hyperparameter for activation.\n",
    "            a0, b0:         both must be specified\n",
    "                            hyperparameters for sparsity\n",
    "            c0, d0:         both must be specified\n",
    "                            hyperparameters for Gaussian noise\n",
    "        '''\n",
    "        self.X = X.copy()\n",
    "        self.U, self.D = self.X.shape\n",
    "        self.T = T\n",
    "        \n",
    "        #Working with sparse matrix\n",
    "        indices = X.indices\n",
    "        indptr = X.indptr\n",
    "        self.nonzero = list(zip(*X.nonzero()))\n",
    "        self.byuser = {row:[indices[i] for i in range(indptr[row], indptr[row+1])] for row in range(U)\n",
    "        \n",
    "        self.rating_csc = X.tocsc()\n",
    "        indices = X.indices\n",
    "        indptr = X.indptr\n",
    "        self.byitem = {col:[indices[i] for i in range(indptr[col], indptr[col+1])] for col in range(D)}\n",
    "\n",
    "        self._parse_args(**kwargs)\n",
    "        if seed is None:\n",
    "            print 'Using random seed'\n",
    "            np.random.seed()\n",
    "        else:\n",
    "            print 'Using fixed seed {}'.format(seed)\n",
    "            np.random.seed(seed)\n",
    "        self._init()\n",
    "\n",
    "    def _parse_args(self, **kwargs):\n",
    "        '''\n",
    "        Parse the hyperparameters\n",
    "        '''\n",
    "        self.alpha = float(kwargs.get('alpha', 2.))\n",
    "        self.beta_shape_prior = float(kwargs.get('beta_shape_prior', 1.)) #a\n",
    "        self.beta_rate_prior = float(kwargs.get('beta_rate_prior', 1.))   #b          \n",
    "        self.s_rate_prior = float(kwargs.get('s_rate_prior', 1e-6))       #c\n",
    "        \n",
    "    def initialize(self):\n",
    "        # variational parameters for Beta \n",
    "        self._beta_shape = np.full((self.D, self.T), 0.3)\n",
    "        self._beta_rate = np.full((self.D, self.T), 0.3)\n",
    "        \n",
    "        # variational parameters S \n",
    "        self._s_shape = np.full(self.U, 0.3)\n",
    "        self._s_rate = np.full(self.U, 0.3)\n",
    "        \n",
    "        # variational parameters for Z\n",
    "        self.phi = np.zeros(len(self.nonzero), T)\n",
    "                       \n",
    "    def update_phi(self):\n",
    "        for i,ud in enumerate(nonzero):\n",
    "            u,d = ud\n",
    "            elogbeta = [digamma(self._beta_shape[d][k]) - log(self._beta_rate[d][k]) for k in range(self.T)]\n",
    "            elogs = digamma(self._s_shape[u]) - log(self._s_rate[u])\n",
    "            phi = [(elogbeta + elogs + self._logpi[u][k]) for k in range(_k)] \n",
    "            phi = np.array([phi, self.compute_mult_normalizer_infsum(u)])\n",
    "            logsum = s.logsum();\n",
    "            phi.lognormalize(logsum)\n",
    "            self.phi = phi\n",
    "    \n",
    "    def _logpi(self,u,k):\n",
    "        return exp(lpid[u][_k-1] - log(vd[u][_k-1]) + log(1 - vd[u][_k-1]))\n",
    "                       \n",
    "    def elogtheta_at_truncation(self, u):\n",
    "        elogsu = digamma(self._s_shape[u]) - log(self._s_rate[u])\n",
    "        elogvt = digamma(1) - digamma(1+self._alpha)\n",
    "        return elogsu + elogvt + self._logpi[u][_k-1] - log(self._v[u][_k-1]) /\n",
    "                       + log(1 - self._v[u][_k-1]) #verify this\n",
    "\n",
    "    def compute_mult_normalizer_infsum(self, u,d, k):\n",
    "        elogv_t = digamma(self._alpha) - digamma(1+self._alpha)\n",
    "        return self.elogtheta_at_truncation(u) + digamma(self._beta_shape_prior) - log(self._beta_rate_prior)/\n",
    "                       - log(1 - exp(elogv_t))\n",
    "\n",
    "                       \n",
    "    def update_sticks_scalars(self):\n",
    "         for u in range(U):\n",
    "                gamma_shape[u,:] = a1 + rating_train[u,:] @ phi[u,:,:]\n",
    "                for k in range(K):\n",
    "                    gamma_rate[u,k] = kappa_shape/kappa_rate[u] + np.sum([lambda_shape[d,k]/lambda_rate[d,k] for d in byrow[u]])\n",
    "                kappa_rate[u] = a0/b0 + np.sum([gamma_shape[u,k]/gamma_rate[u,k] for k in range(K)])\n",
    "\n",
    "    def update_sticks(self):\n",
    "       \n",
    "    def update_items(self):\n",
    "        for d in range(D):\n",
    "                lambda_shape[d,:] = m1 + rating_train[:,d].T @ phi[:,d,:]\n",
    "                for k in range(K):\n",
    "                    lambda_rate[d,k] = tau_shape/tau_rate[d] + np.sum([gamma_shape[u,k]/gamma_rate[u,k] for u in bycol[d]])\n",
    "                tau_rate[d] = m0/n0 + np.sum([lambda_shape[d,k]/lambda_rate[d,k] for k in range(K)])\n",
    "\n",
    "    def validate(self):\n",
    "        self.validate()\n",
    "        theta, beta = gamma_shape/gamma_rate, lambda_shape/lambda_rate\n",
    "        training_likelihood = validate(theta, beta, rating_train)\n",
    "        val_likelihood = validate(theta, beta, rating_valid)\n",
    "        print(f'Iter {n_iter}: training_error = {training_likelihood}, val_error = {val_likelihood}, max_pref = {np.sum(theta,0).max()}, min_pref = {np.sum(theta,0).min()},max_att = {np.sum(beta,0).max()}, min_att = {np.sum(beta,0).min()}')\n",
    "        if n_iter > 0:\n",
    "            if abs(val_likelihood/last_val_likelihood-1) < threshold or n_iter >= max_iter:\n",
    "                print(f'Compete after {n_iter} iterations: Validation Error = {val_likelihood}')\n",
    "                break\n",
    "        last_val_likelihood = val_likelihood\n",
    "        n_iter += 1\n",
    "                       \n",
    "    def inference(self):\n",
    "        self.initialize()\n",
    "        while True:\n",
    "            #Update phi\n",
    "            self.update_phi()\n",
    "            \n",
    "            #Update across user\n",
    "            self.update_sticks_scalars()\n",
    "            self.update_sticks()\n",
    "            \n",
    "            #Update across item\n",
    "            self.update_items()\n",
    "            \n",
    "            #Validate\n",
    "            self.validate()\n",
    "    \n",
    "        "
   ]
  },
  {
   "cell_type": "code",
   "execution_count": null,
   "metadata": {},
   "outputs": [],
   "source": []
  },
  {
   "cell_type": "code",
   "execution_count": null,
   "metadata": {
    "ExecuteTime": {
     "end_time": "2019-12-10T04:48:33.743717Z",
     "start_time": "2019-12-10T04:48:33.502722Z"
    }
   },
   "outputs": [],
   "source": [
    "#CAVI\n",
    "max_iter = kwargs.pop('max_iter', 10)\n",
    "threshold = kwargs.pop('threshold', 10e-4)\n",
    "\n",
    "n_iter = 0 \n",
    "while True:\n",
    "    #For each user and item pair, update phi\n",
    "    time0 = time.time()\n",
    "    for i,ud in enumerate(nonzero):\n",
    "        u,d = ud\n",
    "        phi[i,:] = np.exp([scipy.special.digamma(gamma_shape[u,k]) - np.log(gamma_rate[u,k]) \\\n",
    "                + scipy.special.digamma(lambda_shape[d,k]) - np.log(lambda_rate[d,k]) \\\n",
    "                    for k in range(K)])\n",
    "        phi[i,:] = phi[i,:] / normalizer\n",
    "\n",
    "    #Update gamma and kappa\n",
    "    time1 = time.time()\n",
    "    for u in range(U):\n",
    "        gamma_shape[u,:] = a1 + rating_train[u,:] @ phi[u,:,:]\n",
    "        for k in range(K):\n",
    "            gamma_rate[u,k] = kappa_shape/kappa_rate[u] + np.sum([lambda_shape[d,k]/lambda_rate[d,k] for d in byrow[u]])\n",
    "        kappa_rate[u] = a0/b0 + np.sum([gamma_shape[u,k]/gamma_rate[u,k] for k in range(K)])\n",
    "\n",
    "    #Update lambda and tau\n",
    "    time2 = time.time()\n",
    "    for d in range(D):\n",
    "        lambda_shape[d,:] = m1 + rating_train[:,d].T @ phi[:,d,:]\n",
    "        for k in range(K):\n",
    "            lambda_rate[d,k] = tau_shape/tau_rate[d] + np.sum([gamma_shape[u,k]/gamma_rate[u,k] for u in bycol[d]])\n",
    "        tau_rate[d] = m0/n0 + np.sum([lambda_shape[d,k]/lambda_rate[d,k] for k in range(K)])\n",
    "\n",
    "    time3 = time.time()\n",
    "    print(f'Time update phi: {time1 - time0}, Time update gamma and kappa: {time2 - time1}, Time update lambda and tau: {time3 - time2}')\n",
    "\n",
    "    #Validate\n",
    "    theta, beta = gamma_shape/gamma_rate, lambda_shape/lambda_rate\n",
    "    training_likelihood = validate(theta, beta, rating_train)\n",
    "    val_likelihood = validate(theta, beta, rating_valid)\n",
    "    print(f'Iter {n_iter}: training_error = {training_likelihood}, val_error = {val_likelihood}, max_pref = {np.sum(theta,0).max()}, min_pref = {np.sum(theta,0).min()},max_att = {np.sum(beta,0).max()}, min_att = {np.sum(beta,0).min()}')\n",
    "    if n_iter > 0:\n",
    "        if abs(val_likelihood/last_val_likelihood-1) < threshold or n_iter >= max_iter:\n",
    "            print(f'Compete after {n_iter} iterations: Validation Error = {val_likelihood}')\n",
    "            break\n",
    "    last_val_likelihood = val_likelihood\n",
    "    n_iter += 1 \n",
    "np.savez(r'C:\\git\\PGM\\temp.npz', theta = theta, beta = beta)\n",
    "return theta, beta"
   ]
  },
  {
   "cell_type": "code",
   "execution_count": null,
   "metadata": {},
   "outputs": [],
   "source": [
    "def cavi():\n",
    "    pass\n",
    "\n",
    "def sgd():\n",
    "    pass\n",
    "\n",
    "def natural_gradient():\n",
    "    pass\n",
    "\n",
    "def using_edward():\n",
    "    pass\n",
    "\n",
    "def using_pystan():\n",
    "    pass\n",
    "\n",
    "def vae():\n",
    "    pass\n",
    "\n",
    "def advi():\n",
    "    pass\n",
    "\n",
    "if __name__ == \"__main__\":\n",
    "    rating_train, rating_valid, rating_test, movie_map = read()\n",
    "    #rating = np.array([[random.poisson(3) for i in range(2000)] for j in range(100)])\n",
    "    gibbs(rating_valid, rating_valid,max_iter = 50 )\n",
    "    \n",
    "    # model = vi(rating_valid, rating_valid, max_iter = 50)"
   ]
  }
 ],
 "metadata": {
  "kernelspec": {
   "display_name": "Python 3",
   "language": "python",
   "name": "python3"
  },
  "language_info": {
   "codemirror_mode": {
    "name": "ipython",
    "version": 3
   },
   "file_extension": ".py",
   "mimetype": "text/x-python",
   "name": "python",
   "nbconvert_exporter": "python",
   "pygments_lexer": "ipython3",
   "version": "3.7.3"
  }
 },
 "nbformat": 4,
 "nbformat_minor": 2
}
