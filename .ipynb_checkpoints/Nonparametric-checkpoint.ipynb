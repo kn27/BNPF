{
 "cells": [
  {
   "cell_type": "code",
   "execution_count": 9,
   "metadata": {
    "ExecuteTime": {
     "end_time": "2019-12-14T06:51:00.777339Z",
     "start_time": "2019-12-14T06:51:00.348338Z"
    }
   },
   "outputs": [
    {
     "name": "stdout",
     "output_type": "stream",
     "text": [
      "The autoreload extension is already loaded. To reload it, use:\n",
      "  %reload_ext autoreload\n"
     ]
    }
   ],
   "source": [
    "%load_ext autoreload\n",
    "%autoreload 2"
   ]
  },
  {
   "cell_type": "code",
   "execution_count": 215,
   "metadata": {},
   "outputs": [],
   "source": [
    "from matplotlib import pyplot as plt\n",
    "%matplotlib inline"
   ]
  },
  {
   "cell_type": "code",
   "execution_count": 224,
   "metadata": {},
   "outputs": [],
   "source": [
    "import seaborn as sns"
   ]
  },
  {
   "cell_type": "code",
   "execution_count": 10,
   "metadata": {
    "ExecuteTime": {
     "end_time": "2019-12-14T06:51:11.812337Z",
     "start_time": "2019-12-14T06:51:00.783337Z"
    }
   },
   "outputs": [],
   "source": [
    "import numpy as np \n",
    "from numpy import random\n",
    "import scipy.stats as stats\n",
    "import os\n",
    "import json\n",
    "import scipy\n",
    "import copy \n",
    "import scipy.sparse as sparse\n",
    "from scipy.special import digamma\n",
    "import time"
   ]
  },
  {
   "cell_type": "code",
   "execution_count": 11,
   "metadata": {
    "ExecuteTime": {
     "end_time": "2019-12-14T06:51:12.442338Z",
     "start_time": "2019-12-14T06:51:11.846336Z"
    }
   },
   "outputs": [],
   "source": [
    "from matrix_factorization import read"
   ]
  },
  {
   "cell_type": "code",
   "execution_count": 12,
   "metadata": {
    "ExecuteTime": {
     "end_time": "2019-12-14T06:51:12.972342Z",
     "start_time": "2019-12-14T06:51:12.450337Z"
    }
   },
   "outputs": [],
   "source": [
    "from nonparametric import simulate, NPNMF"
   ]
  },
  {
   "cell_type": "code",
   "execution_count": 377,
   "metadata": {
    "ExecuteTime": {
     "end_time": "2019-12-14T06:51:31.398342Z",
     "start_time": "2019-12-14T06:51:27.696347Z"
    }
   },
   "outputs": [],
   "source": [
    "X, theta, beta, s, v = simulate(U = 100,\n",
    "    D = 30,\n",
    "    K = 10,\n",
    "    alpha=1.1,\n",
    "    beta_shape_prior=0.3,\n",
    "    beta_rate_prior=0.3,\n",
    "    s_rate_prior=1.1)"
   ]
  },
  {
   "cell_type": "code",
   "execution_count": 378,
   "metadata": {
    "ExecuteTime": {
     "end_time": "2019-12-14T06:51:34.800342Z",
     "start_time": "2019-12-14T06:51:33.341340Z"
    }
   },
   "outputs": [],
   "source": [
    "X = scipy.sparse.csr_matrix(X)"
   ]
  },
  {
   "cell_type": "code",
   "execution_count": 379,
   "metadata": {
    "ExecuteTime": {
     "end_time": "2019-12-14T09:06:43.792768Z",
     "start_time": "2019-12-14T09:06:40.619767Z"
    }
   },
   "outputs": [
    {
     "name": "stdout",
     "output_type": "stream",
     "text": [
      "Using fixed seed 1\n"
     ]
    }
   ],
   "source": [
    "nmf = NPNMF(X ,T = 15, seed = 1, threshold = 1e-4, max_iter = 100)\n",
    "#nmf.ELBO()"
   ]
  },
  {
   "cell_type": "code",
   "execution_count": 380,
   "metadata": {
    "scrolled": true
   },
   "outputs": [
    {
     "name": "stdout",
     "output_type": "stream",
     "text": [
      "Iter 1: Update phi = 0.25638461112976074\n",
      "Iter 1: Update user stick = 2.3122448921203613\n",
      "Iter 1: Update user stick scalar = 0.043340206146240234\n",
      "Iter 1: Update items = 0.6269738674163818\n",
      "Iter 1: ELBO = 4174.8183110642385, last_ELBO = 0\n",
      "Iter 2: Update phi = 0.25196170806884766\n",
      "Iter 2: Update user stick = 2.3077611923217773\n",
      "Iter 2: Update user stick scalar = 0.04228925704956055\n",
      "Iter 2: Update items = 0.6219770908355713\n",
      "Iter 2: ELBO = 4815.9452299191435, last_ELBO = 4174.8183110642385\n",
      "Iter 3: Update phi = 0.2505171298980713\n",
      "Iter 3: Update user stick = 2.2979462146759033\n",
      "Iter 3: Update user stick scalar = 0.04378223419189453\n",
      "Iter 3: Update items = 0.6192359924316406\n",
      "Iter 3: ELBO = 4876.294226185519, last_ELBO = 4815.9452299191435\n",
      "Iter 4: Update phi = 0.24766039848327637\n",
      "Iter 4: Update user stick = 2.355198383331299\n",
      "Iter 4: Update user stick scalar = 0.04427170753479004\n",
      "Iter 4: Update items = 0.6151633262634277\n",
      "Iter 4: ELBO = 4850.306288848058, last_ELBO = 4876.294226185519\n",
      "Iter 5: Update phi = 0.24407720565795898\n",
      "Iter 5: Update user stick = 2.3096892833709717\n",
      "Iter 5: Update user stick scalar = 0.04339456558227539\n",
      "Iter 5: Update items = 0.6178514957427979\n",
      "Iter 5: ELBO = 4839.492356268628, last_ELBO = 4850.306288848058\n",
      "Iter 6: Update phi = 0.245497465133667\n",
      "Iter 6: Update user stick = 2.301283359527588\n",
      "Iter 6: Update user stick scalar = 0.044365882873535156\n",
      "Iter 6: Update items = 0.6162369251251221\n",
      "Iter 6: ELBO = 4831.121615188315, last_ELBO = 4839.492356268628\n",
      "Iter 7: Update phi = 0.24542903900146484\n",
      "Iter 7: Update user stick = 2.363189935684204\n",
      "Iter 7: Update user stick scalar = 0.04328107833862305\n",
      "Iter 7: Update items = 0.6188538074493408\n",
      "Iter 7: ELBO = 4826.061736103773, last_ELBO = 4831.121615188315\n",
      "Iter 8: Update phi = 0.24378514289855957\n",
      "Iter 8: Update user stick = 2.353271722793579\n",
      "Iter 8: Update user stick scalar = 0.04295849800109863\n",
      "Iter 8: Update items = 0.6130671501159668\n",
      "Iter 8: ELBO = 4822.667025208242, last_ELBO = 4826.061736103773\n",
      "Iter 9: Update phi = 0.24480366706848145\n",
      "Iter 9: Update user stick = 2.488433837890625\n",
      "Iter 9: Update user stick scalar = 0.04311704635620117\n",
      "Iter 9: Update items = 0.626643180847168\n",
      "Iter 9: ELBO = 4819.492977740237, last_ELBO = 4822.667025208242\n",
      "Iter 10: Update phi = 0.24608445167541504\n",
      "Iter 10: Update user stick = 2.4523162841796875\n",
      "Iter 10: Update user stick scalar = 0.04359889030456543\n",
      "Iter 10: Update items = 0.6136598587036133\n",
      "Iter 10: ELBO = 4817.311122152311, last_ELBO = 4819.492977740237\n",
      "Iter 11: Update phi = 0.2579655647277832\n",
      "Iter 11: Update user stick = 2.4591760635375977\n",
      "Iter 11: Update user stick scalar = 0.04746651649475098\n",
      "Iter 11: Update items = 0.645172119140625\n",
      "Iter 11: ELBO = 4815.518488535066, last_ELBO = 4817.311122152311\n",
      "Iter 12: Update phi = 0.2453155517578125\n",
      "Iter 12: Update user stick = 2.4160988330841064\n",
      "Iter 12: Update user stick scalar = 0.04288172721862793\n",
      "Iter 12: Update items = 0.6472582817077637\n",
      "Iter 12: ELBO = 4814.3509344127115, last_ELBO = 4815.518488535066\n",
      "Iter 13: Update phi = 0.25701236724853516\n",
      "Iter 13: Update user stick = 2.5137486457824707\n",
      "Iter 13: Update user stick scalar = 0.057370901107788086\n",
      "Iter 13: Update items = 0.6685886383056641\n",
      "Iter 13: ELBO = 4813.708525473052, last_ELBO = 4814.3509344127115\n",
      "Iter 14: Update phi = 0.24556279182434082\n",
      "Iter 14: Update user stick = 2.3830268383026123\n",
      "Iter 14: Update user stick scalar = 0.046355247497558594\n",
      "Iter 14: Update items = 0.6315624713897705\n",
      "Iter 14: ELBO = 4812.816818257448, last_ELBO = 4813.708525473052\n",
      "Iter 15: Update phi = 0.247406005859375\n",
      "Iter 15: Update user stick = 2.357480764389038\n",
      "Iter 15: Update user stick scalar = 0.04409599304199219\n",
      "Iter 15: Update items = 0.628488302230835\n",
      "Iter 15: ELBO = 4813.103089061841, last_ELBO = 4812.816818257448\n",
      "Converged!\n"
     ]
    }
   ],
   "source": [
    "nmf.inference()"
   ]
  },
  {
   "cell_type": "code",
   "execution_count": 382,
   "metadata": {},
   "outputs": [
    {
     "data": {
      "image/png": "[encoded data removed]",
      "text/plain": [
       "<Figure size 432x288 with 1 Axes>"
      ]
     },
     "metadata": {
      "needs_background": "light"
     },
     "output_type": "display_data"
    }
   ],
   "source": [
    "#check if stick breaking is working!\n",
    "plt.plot(nmf._v.T)\n",
    "plt.show()"
   ]
  },
  {
   "cell_type": "code",
   "execution_count": 383,
   "metadata": {},
   "outputs": [],
   "source": [
    "theta = np.array([[nmf._s_shape[u]/nmf._s_rate[u] * nmf._v[u,k] *np.prod(1-nmf._v[u,:k]) for k in range(nmf.T)] for u in range(nmf.U)])"
   ]
  },
  {
   "cell_type": "code",
   "execution_count": 384,
   "metadata": {},
   "outputs": [
    {
     "data": {
      "text/plain": [
       "array([[6.75075676e+00, 1.48876946e-02, 3.82150796e-04, ...,\n",
       "        3.45589283e-13, 5.09054704e-11, 1.98110716e-11],\n",
       "       [1.05003923e+01, 1.55582565e-02, 9.09963736e-05, ...,\n",
       "        2.60428516e-12, 6.38414422e-13, 6.38414442e-13],\n",
       "       [2.24925594e+00, 1.77816583e-02, 3.29974059e-04, ...,\n",
       "        2.27932949e-10, 8.50164118e-11, 5.16779922e-10],\n",
       "       ...,\n",
       "       [5.06311281e+00, 1.40627161e-02, 1.60154367e-04, ...,\n",
       "        1.29326693e-09, 8.44284373e-11, 3.18650441e-10],\n",
       "       [1.38733280e+01, 2.20154236e-02, 9.15128553e-05, ...,\n",
       "        4.56800716e-13, 4.56800716e-13, 4.56800716e-13],\n",
       "       [2.43702364e+00, 1.66162754e-02, 2.00831811e-04, ...,\n",
       "        9.54217467e-09, 1.80475156e-08, 2.30039599e-09]])"
      ]
     },
     "execution_count": 384,
     "metadata": {},
     "output_type": "execute_result"
    }
   ],
   "source": [
    "theta"
   ]
  },
  {
   "cell_type": "code",
   "execution_count": 386,
   "metadata": {},
   "outputs": [
    {
     "data": {
      "text/plain": [
       "(100, 15)"
      ]
     },
     "execution_count": 386,
     "metadata": {},
     "output_type": "execute_result"
    }
   ],
   "source": [
    "theta.shape"
   ]
  },
  {
   "cell_type": "code",
   "execution_count": 387,
   "metadata": {},
   "outputs": [
    {
     "data": {
      "text/plain": [
       "array([9.97804885e-01, 1.45391481e-03, 8.64651569e-06, 3.02568144e-06,\n",
       "       4.96531549e-08, 2.22875935e-09, 9.43856288e-11, 7.27753709e-12,\n",
       "       2.78959422e-13, 1.75137928e-12, 6.11423305e-14, 7.43183476e-14,\n",
       "       2.49418076e-13, 6.11423431e-14, 6.11423450e-14])"
      ]
     },
     "execution_count": 387,
     "metadata": {},
     "output_type": "execute_result"
    }
   ],
   "source": [
    "nmf._phi[1,2,:]"
   ]
  },
  {
   "cell_type": "code",
   "execution_count": 388,
   "metadata": {},
   "outputs": [
    {
     "data": {
      "text/plain": [
       "array([9.97804885e-01, 1.45391481e-03, 8.64651569e-06, 3.02568144e-06,\n",
       "       4.96531549e-08, 2.22875935e-09, 9.43856288e-11, 7.27753709e-12,\n",
       "       2.78959422e-13, 1.75137928e-12, 6.11423305e-14, 7.43183476e-14,\n",
       "       2.49418076e-13, 6.11423431e-14, 6.11423450e-14])"
      ]
     },
     "execution_count": 388,
     "metadata": {},
     "output_type": "execute_result"
    }
   ],
   "source": [
    "nmf._phi[1,4,:]"
   ]
  },
  {
   "cell_type": "code",
   "execution_count": 389,
   "metadata": {
    "scrolled": true
   },
   "outputs": [
    {
     "data": {
      "text/plain": [
       "array([[652.25910585, 570.63386481, 563.01621935, 563.00331752,\n",
       "        563.00236716, 563.00164266, 563.00163849, 563.00155714,\n",
       "        563.00151305, 563.00150994, 563.00150426, 563.00150213,\n",
       "        563.00150118, 563.00150036, 563.0015001 ],\n",
       "       [652.25910585, 570.63386481, 563.01621935, 563.00331752,\n",
       "        563.00236716, 563.00164266, 563.00163849, 563.00155714,\n",
       "        563.00151305, 563.00150994, 563.00150426, 563.00150213,\n",
       "        563.00150118, 563.00150036, 563.0015001 ],\n",
       "       [652.25910585, 570.63386481, 563.01621935, 563.00331752,\n",
       "        563.00236716, 563.00164266, 563.00163849, 563.00155714,\n",
       "        563.00151305, 563.00150994, 563.00150426, 563.00150213,\n",
       "        563.00150118, 563.00150036, 563.0015001 ],\n",
       "       [652.25910585, 570.63386481, 563.01621935, 563.00331752,\n",
       "        563.00236716, 563.00164266, 563.00163849, 563.00155714,\n",
       "        563.00151305, 563.00150994, 563.00150426, 563.00150213,\n",
       "        563.00150118, 563.00150036, 563.0015001 ],\n",
       "       [652.25910585, 570.63386481, 563.01621935, 563.00331752,\n",
       "        563.00236716, 563.00164266, 563.00163849, 563.00155714,\n",
       "        563.00151305, 563.00150994, 563.00150426, 563.00150213,\n",
       "        563.00150118, 563.00150036, 563.0015001 ],\n",
       "       [652.25910585, 570.63386481, 563.01621935, 563.00331752,\n",
       "        563.00236716, 563.00164266, 563.00163849, 563.00155714,\n",
       "        563.00151305, 563.00150994, 563.00150426, 563.00150213,\n",
       "        563.00150118, 563.00150036, 563.0015001 ],\n",
       "       [652.25910585, 570.63386481, 563.01621935, 563.00331752,\n",
       "        563.00236716, 563.00164266, 563.00163849, 563.00155714,\n",
       "        563.00151305, 563.00150994, 563.00150426, 563.00150213,\n",
       "        563.00150118, 563.00150036, 563.0015001 ],\n",
       "       [652.25910585, 570.63386481, 563.01621935, 563.00331752,\n",
       "        563.00236716, 563.00164266, 563.00163849, 563.00155714,\n",
       "        563.00151305, 563.00150994, 563.00150426, 563.00150213,\n",
       "        563.00150118, 563.00150036, 563.0015001 ],\n",
       "       [652.25910585, 570.63386481, 563.01621935, 563.00331752,\n",
       "        563.00236716, 563.00164266, 563.00163849, 563.00155714,\n",
       "        563.00151305, 563.00150994, 563.00150426, 563.00150213,\n",
       "        563.00150118, 563.00150036, 563.0015001 ],\n",
       "       [652.25910585, 570.63386481, 563.01621935, 563.00331752,\n",
       "        563.00236716, 563.00164266, 563.00163849, 563.00155714,\n",
       "        563.00151305, 563.00150994, 563.00150426, 563.00150213,\n",
       "        563.00150118, 563.00150036, 563.0015001 ],\n",
       "       [652.25910585, 570.63386481, 563.01621935, 563.00331752,\n",
       "        563.00236716, 563.00164266, 563.00163849, 563.00155714,\n",
       "        563.00151305, 563.00150994, 563.00150426, 563.00150213,\n",
       "        563.00150118, 563.00150036, 563.0015001 ],\n",
       "       [652.25910585, 570.63386481, 563.01621935, 563.00331752,\n",
       "        563.00236716, 563.00164266, 563.00163849, 563.00155714,\n",
       "        563.00151305, 563.00150994, 563.00150426, 563.00150213,\n",
       "        563.00150118, 563.00150036, 563.0015001 ],\n",
       "       [652.25910585, 570.63386481, 563.01621935, 563.00331752,\n",
       "        563.00236716, 563.00164266, 563.00163849, 563.00155714,\n",
       "        563.00151305, 563.00150994, 563.00150426, 563.00150213,\n",
       "        563.00150118, 563.00150036, 563.0015001 ],\n",
       "       [652.25910585, 570.63386481, 563.01621935, 563.00331752,\n",
       "        563.00236716, 563.00164266, 563.00163849, 563.00155714,\n",
       "        563.00151305, 563.00150994, 563.00150426, 563.00150213,\n",
       "        563.00150118, 563.00150036, 563.0015001 ],\n",
       "       [652.25910585, 570.63386481, 563.01621935, 563.00331752,\n",
       "        563.00236716, 563.00164266, 563.00163849, 563.00155714,\n",
       "        563.00151305, 563.00150994, 563.00150426, 563.00150213,\n",
       "        563.00150118, 563.00150036, 563.0015001 ],\n",
       "       [652.25910585, 570.63386481, 563.01621935, 563.00331752,\n",
       "        563.00236716, 563.00164266, 563.00163849, 563.00155714,\n",
       "        563.00151305, 563.00150994, 563.00150426, 563.00150213,\n",
       "        563.00150118, 563.00150036, 563.0015001 ],\n",
       "       [652.25910585, 570.63386481, 563.01621935, 563.00331752,\n",
       "        563.00236716, 563.00164266, 563.00163849, 563.00155714,\n",
       "        563.00151305, 563.00150994, 563.00150426, 563.00150213,\n",
       "        563.00150118, 563.00150036, 563.0015001 ],\n",
       "       [652.25910585, 570.63386481, 563.01621935, 563.00331752,\n",
       "        563.00236716, 563.00164266, 563.00163849, 563.00155714,\n",
       "        563.00151305, 563.00150994, 563.00150426, 563.00150213,\n",
       "        563.00150118, 563.00150036, 563.0015001 ],\n",
       "       [652.25910585, 570.63386481, 563.01621935, 563.00331752,\n",
       "        563.00236716, 563.00164266, 563.00163849, 563.00155714,\n",
       "        563.00151305, 563.00150994, 563.00150426, 563.00150213,\n",
       "        563.00150118, 563.00150036, 563.0015001 ],\n",
       "       [652.25910585, 570.63386481, 563.01621935, 563.00331752,\n",
       "        563.00236716, 563.00164266, 563.00163849, 563.00155714,\n",
       "        563.00151305, 563.00150994, 563.00150426, 563.00150213,\n",
       "        563.00150118, 563.00150036, 563.0015001 ],\n",
       "       [652.25910585, 570.63386481, 563.01621935, 563.00331752,\n",
       "        563.00236716, 563.00164266, 563.00163849, 563.00155714,\n",
       "        563.00151305, 563.00150994, 563.00150426, 563.00150213,\n",
       "        563.00150118, 563.00150036, 563.0015001 ],\n",
       "       [652.25910585, 570.63386481, 563.01621935, 563.00331752,\n",
       "        563.00236716, 563.00164266, 563.00163849, 563.00155714,\n",
       "        563.00151305, 563.00150994, 563.00150426, 563.00150213,\n",
       "        563.00150118, 563.00150036, 563.0015001 ],\n",
       "       [652.25910585, 570.63386481, 563.01621935, 563.00331752,\n",
       "        563.00236716, 563.00164266, 563.00163849, 563.00155714,\n",
       "        563.00151305, 563.00150994, 563.00150426, 563.00150213,\n",
       "        563.00150118, 563.00150036, 563.0015001 ],\n",
       "       [652.25910585, 570.63386481, 563.01621935, 563.00331752,\n",
       "        563.00236716, 563.00164266, 563.00163849, 563.00155714,\n",
       "        563.00151305, 563.00150994, 563.00150426, 563.00150213,\n",
       "        563.00150118, 563.00150036, 563.0015001 ],\n",
       "       [652.25910585, 570.63386481, 563.01621935, 563.00331752,\n",
       "        563.00236716, 563.00164266, 563.00163849, 563.00155714,\n",
       "        563.00151305, 563.00150994, 563.00150426, 563.00150213,\n",
       "        563.00150118, 563.00150036, 563.0015001 ],\n",
       "       [652.25910585, 570.63386481, 563.01621935, 563.00331752,\n",
       "        563.00236716, 563.00164266, 563.00163849, 563.00155714,\n",
       "        563.00151305, 563.00150994, 563.00150426, 563.00150213,\n",
       "        563.00150118, 563.00150036, 563.0015001 ],\n",
       "       [652.25910585, 570.63386481, 563.01621935, 563.00331752,\n",
       "        563.00236716, 563.00164266, 563.00163849, 563.00155714,\n",
       "        563.00151305, 563.00150994, 563.00150426, 563.00150213,\n",
       "        563.00150118, 563.00150036, 563.0015001 ],\n",
       "       [652.25910585, 570.63386481, 563.01621935, 563.00331752,\n",
       "        563.00236716, 563.00164266, 563.00163849, 563.00155714,\n",
       "        563.00151305, 563.00150994, 563.00150426, 563.00150213,\n",
       "        563.00150118, 563.00150036, 563.0015001 ],\n",
       "       [652.25910585, 570.63386481, 563.01621935, 563.00331752,\n",
       "        563.00236716, 563.00164266, 563.00163849, 563.00155714,\n",
       "        563.00151305, 563.00150994, 563.00150426, 563.00150213,\n",
       "        563.00150118, 563.00150036, 563.0015001 ],\n",
       "       [652.25910585, 570.63386481, 563.01621935, 563.00331752,\n",
       "        563.00236716, 563.00164266, 563.00163849, 563.00155714,\n",
       "        563.00151305, 563.00150994, 563.00150426, 563.00150213,\n",
       "        563.00150118, 563.00150036, 563.0015001 ]])"
      ]
     },
     "execution_count": 389,
     "metadata": {},
     "output_type": "execute_result"
    }
   ],
   "source": [
    "nmf._beta_rate"
   ]
  },
  {
   "cell_type": "code",
   "execution_count": 390,
   "metadata": {},
   "outputs": [],
   "source": [
    "beta = nmf._beta_shape/nmf._beta_rate"
   ]
  },
  {
   "cell_type": "code",
   "execution_count": 391,
   "metadata": {
    "scrolled": true
   },
   "outputs": [
    {
     "data": {
      "text/plain": [
       "array([[2.25110106e-01, 1.13290598e-03, 5.39972808e-04, 5.33317182e-04,\n",
       "        5.32933654e-04, 5.32904963e-04, 5.32895850e-04, 5.32884793e-04,\n",
       "        5.32861890e-04, 5.32860373e-04, 5.32859049e-04, 5.32858657e-04,\n",
       "        5.32858519e-04, 5.32858350e-04, 5.32858312e-04],\n",
       "       [9.81532440e-02, 9.24100670e-04, 5.38150040e-04, 5.33144368e-04,\n",
       "        5.32900282e-04, 5.32887338e-04, 5.32878774e-04, 5.32870557e-04,\n",
       "        5.32862912e-04, 5.32859812e-04, 5.32860959e-04, 5.32858706e-04,\n",
       "        5.32858300e-04, 5.32858301e-04, 5.32858318e-04],\n",
       "       [1.94482798e-01, 1.12214203e-03, 5.40035713e-04, 5.33286185e-04,\n",
       "        5.32954706e-04, 5.32882834e-04, 5.32872824e-04, 5.32866865e-04,\n",
       "        5.32861485e-04, 5.32859189e-04, 5.32858997e-04, 5.32858452e-04,\n",
       "        5.32858355e-04, 5.32858347e-04, 5.32858401e-04],\n",
       "       [6.21726903e-01, 4.83027889e-03, 5.70793520e-04, 5.36929253e-04,\n",
       "        5.34067717e-04, 5.33066324e-04, 5.33006918e-04, 5.32958947e-04,\n",
       "        5.32888973e-04, 5.32875729e-04, 5.32865999e-04, 5.32862914e-04,\n",
       "        5.32861269e-04, 5.32859069e-04, 5.32858703e-04],\n",
       "       [2.31108596e-01, 1.29520584e-03, 5.42243073e-04, 5.33590576e-04,\n",
       "        5.32975670e-04, 5.32895080e-04, 5.32874231e-04, 5.32878385e-04,\n",
       "        5.32866062e-04, 5.32860743e-04, 5.32859030e-04, 5.32858685e-04,\n",
       "        5.32858477e-04, 5.32858422e-04, 5.32858371e-04],\n",
       "       [1.01264875e-01, 8.72886972e-04, 5.37776109e-04, 5.33339337e-04,\n",
       "        5.33136663e-04, 5.32895946e-04, 5.32893224e-04, 5.32911812e-04,\n",
       "        5.32865074e-04, 5.32868128e-04, 5.32860001e-04, 5.32860521e-04,\n",
       "        5.32859772e-04, 5.32858617e-04, 5.32858310e-04],\n",
       "       [1.10515460e-01, 2.55133015e-03, 5.38952132e-04, 5.33155990e-04,\n",
       "        5.33121468e-04, 5.32895622e-04, 5.32943852e-04, 5.32861328e-04,\n",
       "        5.32859132e-04, 5.32858799e-04, 5.32858438e-04, 5.32858583e-04,\n",
       "        5.32858650e-04, 5.32858571e-04, 5.32858299e-04],\n",
       "       [6.76403495e-02, 7.84114174e-04, 5.36933918e-04, 5.33142085e-04,\n",
       "        5.32895517e-04, 5.32875845e-04, 5.32865441e-04, 5.32866276e-04,\n",
       "        5.32863496e-04, 5.32859283e-04, 5.32858695e-04, 5.32858575e-04,\n",
       "        5.32858394e-04, 5.32858365e-04, 5.32858283e-04],\n",
       "       [1.65449769e-01, 1.04050870e-03, 5.39950234e-04, 5.33484577e-04,\n",
       "        5.32915726e-04, 5.32882143e-04, 5.32882489e-04, 5.32862570e-04,\n",
       "        5.32860416e-04, 5.32860003e-04, 5.32860659e-04, 5.32858752e-04,\n",
       "        5.32858286e-04, 5.32858286e-04, 5.32858278e-04],\n",
       "       [1.79083126e-01, 4.72699770e-03, 5.43370305e-04, 5.34046926e-04,\n",
       "        5.33077637e-04, 5.32934296e-04, 5.32903172e-04, 5.32885305e-04,\n",
       "        5.32868922e-04, 5.32863157e-04, 5.32860452e-04, 5.32859261e-04,\n",
       "        5.32858558e-04, 5.32858416e-04, 5.32858315e-04],\n",
       "       [4.62806051e-02, 6.77220523e-04, 5.35434223e-04, 5.32979625e-04,\n",
       "        5.32876859e-04, 5.32863602e-04, 5.32860411e-04, 5.32859091e-04,\n",
       "        5.32859665e-04, 5.32858884e-04, 5.32858377e-04, 5.32858328e-04,\n",
       "        5.32858291e-04, 5.32858296e-04, 5.32858270e-04],\n",
       "       [7.98873997e-02, 2.54032097e-03, 5.39280993e-04, 5.33224502e-04,\n",
       "        5.33188373e-04, 5.32887349e-04, 5.32862955e-04, 5.32864475e-04,\n",
       "        5.32859994e-04, 5.32858741e-04, 5.32858466e-04, 5.32858333e-04,\n",
       "        5.32858308e-04, 5.32858312e-04, 5.32858278e-04],\n",
       "       [5.84025196e-02, 8.29729740e-04, 5.35204761e-04, 5.33776614e-04,\n",
       "        5.32930721e-04, 5.32923535e-04, 5.32894881e-04, 5.32882346e-04,\n",
       "        5.32862498e-04, 5.32860950e-04, 5.32859458e-04, 5.32858629e-04,\n",
       "        5.32858341e-04, 5.32858313e-04, 5.32858448e-04],\n",
       "       [4.35713934e-01, 5.56188752e-03, 5.55419963e-04, 5.35022110e-04,\n",
       "        5.33615890e-04, 5.32977284e-04, 5.33003339e-04, 5.32921588e-04,\n",
       "        5.32872485e-04, 5.32872445e-04, 5.32861851e-04, 5.32861527e-04,\n",
       "        5.32860060e-04, 5.32859116e-04, 5.32858434e-04],\n",
       "       [5.39122033e-02, 7.14534585e-04, 5.35442916e-04, 5.32999570e-04,\n",
       "        5.32909629e-04, 5.32865201e-04, 5.32861323e-04, 5.32860085e-04,\n",
       "        5.32860313e-04, 5.32859013e-04, 5.32858339e-04, 5.32858417e-04,\n",
       "        5.32858323e-04, 5.32858329e-04, 5.32858280e-04],\n",
       "       [1.36481720e-01, 8.90306392e-04, 5.37817962e-04, 5.33291808e-04,\n",
       "        5.32934883e-04, 5.32883581e-04, 5.32886476e-04, 5.32879162e-04,\n",
       "        5.32862803e-04, 5.32861590e-04, 5.32858740e-04, 5.32858707e-04,\n",
       "        5.32858394e-04, 5.32858373e-04, 5.32858276e-04],\n",
       "       [2.03285070e-02, 5.76879318e-04, 5.33733888e-04, 5.32883433e-04,\n",
       "        5.32859450e-04, 5.32858504e-04, 5.32858200e-04, 5.32858221e-04,\n",
       "        5.32858254e-04, 5.32858253e-04, 5.32858258e-04, 5.32858260e-04,\n",
       "        5.32858260e-04, 5.32858260e-04, 5.32858261e-04],\n",
       "       [1.06313329e-01, 2.09877284e-03, 5.37980137e-04, 5.33234604e-04,\n",
       "        5.32898991e-04, 5.32887249e-04, 5.32877319e-04, 5.32867786e-04,\n",
       "        5.32860909e-04, 5.32858549e-04, 5.32858518e-04, 5.32858323e-04,\n",
       "        5.32858302e-04, 5.32858279e-04, 5.32858316e-04],\n",
       "       [2.79840336e-01, 1.63193873e-03, 5.48694990e-04, 5.34858242e-04,\n",
       "        5.33535194e-04, 5.32960667e-04, 5.32965354e-04, 5.32961866e-04,\n",
       "        5.32875693e-04, 5.32879962e-04, 5.32863645e-04, 5.32863446e-04,\n",
       "        5.32860728e-04, 5.32859138e-04, 5.32858399e-04],\n",
       "       [2.94701841e-02, 6.36309832e-04, 5.34222772e-04, 5.32976766e-04,\n",
       "        5.32875121e-04, 5.32863501e-04, 5.32858972e-04, 5.32858388e-04,\n",
       "        5.32858295e-04, 5.32858277e-04, 5.32858283e-04, 5.32858280e-04,\n",
       "        5.32858270e-04, 5.32858265e-04, 5.32858266e-04],\n",
       "       [1.04329966e-01, 8.66874602e-04, 5.37965663e-04, 5.33585270e-04,\n",
       "        5.33170933e-04, 5.32907079e-04, 5.32905669e-04, 5.32912627e-04,\n",
       "        5.32865867e-04, 5.32868263e-04, 5.32859542e-04, 5.32860573e-04,\n",
       "        5.32859455e-04, 5.32858667e-04, 5.32858290e-04],\n",
       "       [1.25732004e-01, 2.66791588e-03, 5.40443546e-04, 5.33263825e-04,\n",
       "        5.32943568e-04, 5.32901885e-04, 5.32870554e-04, 5.32867344e-04,\n",
       "        5.32866046e-04, 5.32859473e-04, 5.32859107e-04, 5.32858495e-04,\n",
       "        5.32858711e-04, 5.32858351e-04, 5.32858341e-04],\n",
       "       [2.64930531e-01, 2.90797948e-03, 5.45914592e-04, 5.34620856e-04,\n",
       "        5.33284921e-04, 5.32995954e-04, 5.32959561e-04, 5.32946718e-04,\n",
       "        5.32873761e-04, 5.32872204e-04, 5.32861275e-04, 5.32861023e-04,\n",
       "        5.32860042e-04, 5.32858741e-04, 5.32858474e-04],\n",
       "       [1.72786076e-02, 5.63621380e-04, 5.33281064e-04, 5.32904420e-04,\n",
       "        5.32868441e-04, 5.32860759e-04, 5.32859258e-04, 5.32859132e-04,\n",
       "        5.32858988e-04, 5.32858619e-04, 5.32858286e-04, 5.32858332e-04,\n",
       "        5.32858352e-04, 5.32858289e-04, 5.32858262e-04],\n",
       "       [2.22241914e-01, 2.66667704e-03, 5.44846095e-04, 5.34398681e-04,\n",
       "        5.32980181e-04, 5.32932470e-04, 5.32918054e-04, 5.32884902e-04,\n",
       "        5.32866522e-04, 5.32863350e-04, 5.32861871e-04, 5.32859125e-04,\n",
       "        5.32858544e-04, 5.32858384e-04, 5.32858481e-04],\n",
       "       [9.66797989e-02, 8.56248248e-04, 5.36920380e-04, 5.33104811e-04,\n",
       "        5.32892226e-04, 5.32870678e-04, 5.32861227e-04, 5.32863490e-04,\n",
       "        5.32861172e-04, 5.32858594e-04, 5.32858387e-04, 5.32858325e-04,\n",
       "        5.32858304e-04, 5.32858297e-04, 5.32858274e-04],\n",
       "       [2.03307335e-02, 5.73545405e-04, 5.33404858e-04, 5.32871441e-04,\n",
       "        5.32866726e-04, 5.32869599e-04, 5.32866974e-04, 5.32863631e-04,\n",
       "        5.32858899e-04, 5.32858363e-04, 5.32858396e-04, 5.32858289e-04,\n",
       "        5.32858267e-04, 5.32858274e-04, 5.32858262e-04],\n",
       "       [5.07679601e-02, 8.05462366e-04, 5.34896338e-04, 5.33752813e-04,\n",
       "        5.32907845e-04, 5.32909593e-04, 5.32884778e-04, 5.32876309e-04,\n",
       "        5.32861739e-04, 5.32860598e-04, 5.32859273e-04, 5.32858578e-04,\n",
       "        5.32858323e-04, 5.32858283e-04, 5.32858442e-04],\n",
       "       [1.18128045e-01, 2.60576393e-03, 5.39487488e-04, 5.33193530e-04,\n",
       "        5.32909642e-04, 5.32864686e-04, 5.32863612e-04, 5.32862118e-04,\n",
       "        5.32859773e-04, 5.32859669e-04, 5.32859006e-04, 5.32858415e-04,\n",
       "        5.32858648e-04, 5.32858293e-04, 5.32858275e-04],\n",
       "       [4.31239278e-02, 7.87053119e-04, 5.35164352e-04, 5.33335442e-04,\n",
       "        5.32909603e-04, 5.32867000e-04, 5.32864977e-04, 5.32863491e-04,\n",
       "        5.32858959e-04, 5.32858470e-04, 5.32858400e-04, 5.32858639e-04,\n",
       "        5.32858288e-04, 5.32858268e-04, 5.32858284e-04]])"
      ]
     },
     "execution_count": 391,
     "metadata": {},
     "output_type": "execute_result"
    }
   ],
   "source": [
    "beta"
   ]
  },
  {
   "cell_type": "code",
   "execution_count": 392,
   "metadata": {},
   "outputs": [],
   "source": [
    "poisson_mean = theta @ beta.T\n",
    "poisson_mean[X.toarray() == 0] = 0\n",
    "simulated = np.random.poisson(poisson_mean)"
   ]
  },
  {
   "cell_type": "code",
   "execution_count": 393,
   "metadata": {},
   "outputs": [
    {
     "data": {
      "text/plain": [
       "array([[1, 0, 0, ..., 0, 1, 0],\n",
       "       [1, 3, 2, ..., 1, 1, 1],\n",
       "       [0, 0, 0, ..., 0, 0, 0],\n",
       "       ...,\n",
       "       [0, 0, 0, ..., 0, 0, 0],\n",
       "       [5, 4, 2, ..., 0, 4, 0],\n",
       "       [0, 0, 0, ..., 0, 0, 0]])"
      ]
     },
     "execution_count": 393,
     "metadata": {},
     "output_type": "execute_result"
    }
   ],
   "source": [
    "simulated"
   ]
  },
  {
   "cell_type": "code",
   "execution_count": 395,
   "metadata": {
    "scrolled": true
   },
   "outputs": [
    {
     "data": {
      "text/plain": [
       "<matplotlib.legend.Legend at 0x7f8b215b3dd8>"
      ]
     },
     "execution_count": 395,
     "metadata": {},
     "output_type": "execute_result"
    },
    {
     "data": {
      "image/png": "[encoded data removed]",
      "text/plain": [
       "<Figure size 432x288 with 1 Axes>"
      ]
     },
     "metadata": {
      "needs_background": "light"
     },
     "output_type": "display_data"
    }
   ],
   "source": [
    "#posterior check\n",
    "\n",
    "ax = sns.distplot(np.sum(X,0),hist=True, kde=True)\n",
    "sns.distplot(np.sum(simulated,0),hist=True, kde=True)\n",
    "ax.set_title('Distribution of users by total rating')\n",
    "ax.set(xlabel='Total rating per user')\n",
    "ax.legend(['Observed Data', 'Simulated from fitted model'])"
   ]
  },
  {
   "cell_type": "code",
   "execution_count": null,
   "metadata": {},
   "outputs": [],
   "source": []
  },
  {
   "cell_type": "code",
   "execution_count": 192,
   "metadata": {},
   "outputs": [],
   "source": [
    "temp = [np.sum([nmf.X[u,d] * (1 - np.sum(nmf._phi[u,d,:])) for d in range(nmf.D)]) for u in range(nmf.U)]"
   ]
  },
  {
   "cell_type": "code",
   "execution_count": null,
   "metadata": {},
   "outputs": [],
   "source": []
  },
  {
   "cell_type": "code",
   "execution_count": 194,
   "metadata": {},
   "outputs": [
    {
     "data": {
      "text/plain": [
       "0.0"
      ]
     },
     "execution_count": 194,
     "metadata": {},
     "output_type": "execute_result"
    }
   ],
   "source": [
    "min(temp)"
   ]
  },
  {
   "cell_type": "code",
   "execution_count": 165,
   "metadata": {
    "scrolled": true
   },
   "outputs": [
    {
     "name": "stdout",
     "output_type": "stream",
     "text": [
      "Iter 1: Update phi = 3.0657150745391846\n",
      "phi: -19815.113072704862 , v: -3016.037916001771, beta: 3895.6542536225916 ,s :-20.000000000000114\n",
      "ElBO: -18955.496735084045\n",
      "Iter 1: Update user stick = 32.595126152038574\n",
      "phi: -19815.090562321886 , v: -2766.714101575919, beta: 3895.6542536225916 ,s :-20.000000000000114\n",
      "ElBO: -18706.150410275215\n",
      "Iter 1: Update user stick scalar = 3.6527113914489746\n",
      "phi: -18536.327953018994 , v: -2766.714101575919, beta: 3895.6542536225916 ,s :-18.721278721278708\n",
      "ElBO: -17426.109079693597\n",
      "Iter 1: Update items = 11.297491312026978\n",
      "phi: -3450.8557521751063 , v: -2766.714101575919, beta: 14355.573347002724 ,s :-18.721278721278708\n",
      "ElBO: 8119.282214530421\n",
      "phi: -3450.8557521751063 , v: -2766.714101575919, beta: 14355.573347002724 ,s :-18.721278721278708\n",
      "Iter 1: ELBO = 8119.282214530421, last_ELBO = 0\n",
      "Stopped at 1\n"
     ]
    }
   ],
   "source": [
    "nmf.inference()"
   ]
  },
  {
   "cell_type": "code",
   "execution_count": 179,
   "metadata": {},
   "outputs": [],
   "source": [
    "A,B,C = nmf.get_ABC()"
   ]
  },
  {
   "cell_type": "code",
   "execution_count": 183,
   "metadata": {},
   "outputs": [
    {
     "data": {
      "text/plain": [
       "(1.1161175966086705e-14,\n",
       " 999999996899.9998,\n",
       " -999999996898.9998,\n",
       " 1.638590405786144,\n",
       " -678.5293450646391,\n",
       " 0.0)"
      ]
     },
     "execution_count": 183,
     "metadata": {},
     "output_type": "execute_result"
    }
   ],
   "source": [
    "A.min(), A.max(), B.min(), B.max(), C.min(),C.max()"
   ]
  },
  {
   "cell_type": "code",
   "execution_count": 186,
   "metadata": {},
   "outputs": [
    {
     "data": {
      "text/plain": [
       "(array([101]), array([19]))"
      ]
     },
     "execution_count": 186,
     "metadata": {},
     "output_type": "execute_result"
    }
   ],
   "source": [
    "np.where(A == A.min())"
   ]
  },
  {
   "cell_type": "code",
   "execution_count": 187,
   "metadata": {},
   "outputs": [
    {
     "data": {
      "text/plain": [
       "(array([ 33,  33,  33,  33,  33,  33,  33,  33,  33,  33,  33,  33,  33,\n",
       "         33,  33,  33,  33,  33,  33,  33,  33,  33,  33,  33,  33,  33,\n",
       "         33,  33,  33,  33, 102, 102, 102, 102, 102, 102, 102, 102, 102,\n",
       "        102, 102, 102, 102, 102, 102, 102, 102, 102, 102, 102, 102, 102,\n",
       "        102, 102, 102, 102, 102, 102, 102, 102]),\n",
       " array([ 0,  1,  2,  3,  4,  5,  6,  7,  8,  9, 10, 11, 12, 13, 14, 15, 16,\n",
       "        17, 18, 19, 20, 21, 22, 23, 24, 25, 26, 27, 28, 29,  0,  1,  2,  3,\n",
       "         4,  5,  6,  7,  8,  9, 10, 11, 12, 13, 14, 15, 16, 17, 18, 19, 20,\n",
       "        21, 22, 23, 24, 25, 26, 27, 28, 29]))"
      ]
     },
     "execution_count": 187,
     "metadata": {},
     "output_type": "execute_result"
    }
   ],
   "source": [
    "np.where(B == B.min())"
   ]
  },
  {
   "cell_type": "code",
   "execution_count": null,
   "metadata": {},
   "outputs": [],
   "source": [
    "nmf.u"
   ]
  },
  {
   "cell_type": "code",
   "execution_count": 177,
   "metadata": {},
   "outputs": [],
   "source": [
    "nmf.load_model('model_1.npz')"
   ]
  },
  {
   "cell_type": "code",
   "execution_count": 178,
   "metadata": {
    "scrolled": true
   },
   "outputs": [
    {
     "data": {
      "text/plain": [
       "array([[[0.00000000e+00, 0.00000000e+00, 0.00000000e+00, ...,\n",
       "         0.00000000e+00, 0.00000000e+00, 0.00000000e+00],\n",
       "        [0.00000000e+00, 0.00000000e+00, 0.00000000e+00, ...,\n",
       "         0.00000000e+00, 0.00000000e+00, 0.00000000e+00],\n",
       "        [0.00000000e+00, 0.00000000e+00, 0.00000000e+00, ...,\n",
       "         0.00000000e+00, 0.00000000e+00, 0.00000000e+00],\n",
       "        ...,\n",
       "        [0.00000000e+00, 0.00000000e+00, 0.00000000e+00, ...,\n",
       "         0.00000000e+00, 0.00000000e+00, 0.00000000e+00],\n",
       "        [0.00000000e+00, 0.00000000e+00, 0.00000000e+00, ...,\n",
       "         0.00000000e+00, 0.00000000e+00, 0.00000000e+00],\n",
       "        [0.00000000e+00, 0.00000000e+00, 0.00000000e+00, ...,\n",
       "         0.00000000e+00, 0.00000000e+00, 0.00000000e+00]],\n",
       "\n",
       "       [[9.91588986e-01, 6.83006986e-03, 1.19036955e-03, ...,\n",
       "         4.73914880e-11, 1.54870758e-10, 1.01611765e-11],\n",
       "        [0.00000000e+00, 0.00000000e+00, 0.00000000e+00, ...,\n",
       "         0.00000000e+00, 0.00000000e+00, 0.00000000e+00],\n",
       "        [9.91588986e-01, 6.83006986e-03, 1.19036955e-03, ...,\n",
       "         4.73914880e-11, 1.54870758e-10, 1.01611765e-11],\n",
       "        ...,\n",
       "        [9.91588986e-01, 6.83006986e-03, 1.19036955e-03, ...,\n",
       "         4.73914880e-11, 1.54870758e-10, 1.01611765e-11],\n",
       "        [0.00000000e+00, 0.00000000e+00, 0.00000000e+00, ...,\n",
       "         0.00000000e+00, 0.00000000e+00, 0.00000000e+00],\n",
       "        [0.00000000e+00, 0.00000000e+00, 0.00000000e+00, ...,\n",
       "         0.00000000e+00, 0.00000000e+00, 0.00000000e+00]],\n",
       "\n",
       "       [[0.00000000e+00, 0.00000000e+00, 0.00000000e+00, ...,\n",
       "         0.00000000e+00, 0.00000000e+00, 0.00000000e+00],\n",
       "        [0.00000000e+00, 0.00000000e+00, 0.00000000e+00, ...,\n",
       "         0.00000000e+00, 0.00000000e+00, 0.00000000e+00],\n",
       "        [9.42484260e-01, 4.31268545e-02, 1.19940400e-02, ...,\n",
       "         7.85604915e-12, 5.18903694e-12, 4.40803365e-11],\n",
       "        ...,\n",
       "        [0.00000000e+00, 0.00000000e+00, 0.00000000e+00, ...,\n",
       "         0.00000000e+00, 0.00000000e+00, 0.00000000e+00],\n",
       "        [9.42484260e-01, 4.31268545e-02, 1.19940400e-02, ...,\n",
       "         7.85604915e-12, 5.18903694e-12, 4.40803365e-11],\n",
       "        [0.00000000e+00, 0.00000000e+00, 0.00000000e+00, ...,\n",
       "         0.00000000e+00, 0.00000000e+00, 0.00000000e+00]],\n",
       "\n",
       "       ...,\n",
       "\n",
       "       [[0.00000000e+00, 0.00000000e+00, 0.00000000e+00, ...,\n",
       "         0.00000000e+00, 0.00000000e+00, 0.00000000e+00],\n",
       "        [9.86821160e-01, 1.27215330e-02, 2.34961803e-04, ...,\n",
       "         4.87258209e-11, 5.98026581e-12, 1.35011776e-11],\n",
       "        [9.86821160e-01, 1.27215330e-02, 2.34961803e-04, ...,\n",
       "         4.87258209e-11, 5.98026581e-12, 1.35011776e-11],\n",
       "        ...,\n",
       "        [9.86821160e-01, 1.27215330e-02, 2.34961803e-04, ...,\n",
       "         4.87258209e-11, 5.98026581e-12, 1.35011776e-11],\n",
       "        [9.86821160e-01, 1.27215330e-02, 2.34961803e-04, ...,\n",
       "         4.87258209e-11, 5.98026581e-12, 1.35011776e-11],\n",
       "        [9.86821160e-01, 1.27215330e-02, 2.34961803e-04, ...,\n",
       "         4.87258209e-11, 5.98026581e-12, 1.35011776e-11]],\n",
       "\n",
       "       [[0.00000000e+00, 0.00000000e+00, 0.00000000e+00, ...,\n",
       "         0.00000000e+00, 0.00000000e+00, 0.00000000e+00],\n",
       "        [9.13104402e-01, 8.32697180e-02, 2.65436098e-03, ...,\n",
       "         3.46847368e-12, 2.21501738e-11, 7.54400593e-13],\n",
       "        [0.00000000e+00, 0.00000000e+00, 0.00000000e+00, ...,\n",
       "         0.00000000e+00, 0.00000000e+00, 0.00000000e+00],\n",
       "        ...,\n",
       "        [0.00000000e+00, 0.00000000e+00, 0.00000000e+00, ...,\n",
       "         0.00000000e+00, 0.00000000e+00, 0.00000000e+00],\n",
       "        [9.13104402e-01, 8.32697180e-02, 2.65436098e-03, ...,\n",
       "         3.46847368e-12, 2.21501738e-11, 7.54400593e-13],\n",
       "        [0.00000000e+00, 0.00000000e+00, 0.00000000e+00, ...,\n",
       "         0.00000000e+00, 0.00000000e+00, 0.00000000e+00]],\n",
       "\n",
       "       [[0.00000000e+00, 0.00000000e+00, 0.00000000e+00, ...,\n",
       "         0.00000000e+00, 0.00000000e+00, 0.00000000e+00],\n",
       "        [0.00000000e+00, 0.00000000e+00, 0.00000000e+00, ...,\n",
       "         0.00000000e+00, 0.00000000e+00, 0.00000000e+00],\n",
       "        [0.00000000e+00, 0.00000000e+00, 0.00000000e+00, ...,\n",
       "         0.00000000e+00, 0.00000000e+00, 0.00000000e+00],\n",
       "        ...,\n",
       "        [0.00000000e+00, 0.00000000e+00, 0.00000000e+00, ...,\n",
       "         0.00000000e+00, 0.00000000e+00, 0.00000000e+00],\n",
       "        [0.00000000e+00, 0.00000000e+00, 0.00000000e+00, ...,\n",
       "         0.00000000e+00, 0.00000000e+00, 0.00000000e+00],\n",
       "        [0.00000000e+00, 0.00000000e+00, 0.00000000e+00, ...,\n",
       "         0.00000000e+00, 0.00000000e+00, 0.00000000e+00]]])"
      ]
     },
     "execution_count": 178,
     "metadata": {},
     "output_type": "execute_result"
    }
   ],
   "source": [
    "nmf._phi"
   ]
  },
  {
   "cell_type": "code",
   "execution_count": 150,
   "metadata": {},
   "outputs": [
    {
     "data": {
      "text/plain": [
       "array([1, 2])"
      ]
     },
     "execution_count": 150,
     "metadata": {},
     "output_type": "execute_result"
    }
   ],
   "source": [
    "np.array([1,2,3])[:2]"
   ]
  },
  {
   "cell_type": "code",
   "execution_count": 147,
   "metadata": {},
   "outputs": [
    {
     "data": {
      "text/plain": [
       "0.9999998027591609"
      ]
     },
     "execution_count": 147,
     "metadata": {},
     "output_type": "execute_result"
    }
   ],
   "source": [
    "nmf._v.max()"
   ]
  },
  {
   "cell_type": "code",
   "execution_count": 162,
   "metadata": {},
   "outputs": [
    {
     "name": "stdout",
     "output_type": "stream",
     "text": [
      "Save as model_1.npz\n"
     ]
    },
    {
     "data": {
      "text/plain": [
       "0"
      ]
     },
     "execution_count": 162,
     "metadata": {},
     "output_type": "execute_result"
    }
   ],
   "source": [
    "nmf.save_model(True)"
   ]
  },
  {
   "cell_type": "code",
   "execution_count": 163,
   "metadata": {},
   "outputs": [],
   "source": [
    "nmf.load_model('model_1.npz')"
   ]
  },
  {
   "cell_type": "code",
   "execution_count": 109,
   "metadata": {},
   "outputs": [
    {
     "name": "stdout",
     "output_type": "stream",
     "text": [
      "Iter 1: Update phi = 3.045750617980957\n",
      "phi: -19815.113072704862 , v: -3016.037916001771, beta: 3895.6542536225916 ,s :-20.000000000000114\n",
      "ElBO: -18955.496735084045\n",
      "Iter 1: Update user stick = 32.28605914115906\n",
      "phi: -19815.090562321886 , v: -2766.714101575919, beta: 3895.6542536225916 ,s :-20.000000000000114\n",
      "ElBO: -18706.150410275215\n",
      "Iter 1: Update user stick scalar = 3.750441312789917\n",
      "phi: -18536.327953018994 , v: -2766.714101575919, beta: 3895.6542536225916 ,s :-18.721278721278708\n",
      "ElBO: -17426.109079693597\n",
      "Iter 1: Update items = 11.66980767250061\n",
      "phi: -3450.8557521751063 , v: -2766.714101575919, beta: 14355.573347002724 ,s :-18.721278721278708\n",
      "ElBO: 8119.282214530421\n",
      "phi: -3450.8557521751063 , v: -2766.714101575919, beta: 14355.573347002724 ,s :-18.721278721278708\n",
      "Iter 1: ELBO = 8119.282214530421, last_ELBO = 0\n",
      "Iter 2: Update phi = 3.069092273712158\n",
      "phi: -3450.8557521751063 , v: -2766.714101575919, beta: 14355.573347002724 ,s :-18.721278721278708\n",
      "ElBO: 8119.282214530421\n",
      "Iter 2: Update user stick = 30.998857975006104\n",
      "phi: -3440.3544947950286 , v: -2987.941140262434, beta: 14355.573347002724 ,s :-18.721278721278708\n",
      "ElBO: 7908.556433223984\n",
      "Iter 2: Update user stick scalar = 3.7739524841308594\n",
      "phi: -18443.46287829289 , v: -2987.941140262434, beta: 14355.573347002724 ,s :-96.39530518821837\n",
      "ElBO: -7172.225976740816\n",
      "Iter 2: Update items = 11.445316076278687\n",
      "phi: -14158.862668433474 , v: -2987.941140262434, beta: 21350.435723186703 ,s :-96.39530518821837\n",
      "ElBO: 4107.236609302578\n",
      "phi: -14158.862668433474 , v: -2987.941140262434, beta: 21350.435723186703 ,s :-96.39530518821837\n",
      "Iter 2: ELBO = 4107.236609302578, last_ELBO = 8119.282214530421\n",
      "Iter 3: Update phi = 3.08221173286438\n",
      "phi: -14158.862668433474 , v: -2987.941140262434, beta: 21350.435723186703 ,s :-96.39530518821837\n",
      "ElBO: 4107.236609302578\n"
     ]
    },
    {
     "ename": "KeyboardInterrupt",
     "evalue": "",
     "output_type": "error",
     "traceback": [
      "\u001b[0;31m---------------------------------------------------------------------------\u001b[0m",
      "\u001b[0;31mKeyboardInterrupt\u001b[0m                         Traceback (most recent call last)",
      "\u001b[0;32m<ipython-input-109-5832b5b814a1>\u001b[0m in \u001b[0;36m<module>\u001b[0;34m\u001b[0m\n\u001b[0;32m----> 1\u001b[0;31m \u001b[0mnmf\u001b[0m\u001b[0;34m.\u001b[0m\u001b[0minference\u001b[0m\u001b[0;34m(\u001b[0m\u001b[0;34m)\u001b[0m\u001b[0;34m\u001b[0m\u001b[0;34m\u001b[0m\u001b[0m\n\u001b[0m",
      "\u001b[0;32m~/git/FOGM/nonparametric.py\u001b[0m in \u001b[0;36minference\u001b[0;34m(self)\u001b[0m\n\u001b[1;32m    242\u001b[0m \u001b[0;34m\u001b[0m\u001b[0m\n\u001b[1;32m    243\u001b[0m             \u001b[0;31m#Update across user\u001b[0m\u001b[0;34m\u001b[0m\u001b[0;34m\u001b[0m\u001b[0;34m\u001b[0m\u001b[0m\n\u001b[0;32m--> 244\u001b[0;31m             \u001b[0mself\u001b[0m\u001b[0;34m.\u001b[0m\u001b[0mupdate_sticks\u001b[0m\u001b[0;34m(\u001b[0m\u001b[0;34m)\u001b[0m \u001b[0;31m#q(v_uk)\u001b[0m\u001b[0;34m\u001b[0m\u001b[0;34m\u001b[0m\u001b[0m\n\u001b[0m\u001b[1;32m    245\u001b[0m             \u001b[0mt2\u001b[0m \u001b[0;34m=\u001b[0m \u001b[0mtime\u001b[0m\u001b[0;34m.\u001b[0m\u001b[0mtime\u001b[0m\u001b[0;34m(\u001b[0m\u001b[0;34m)\u001b[0m\u001b[0;34m\u001b[0m\u001b[0;34m\u001b[0m\u001b[0m\n\u001b[1;32m    246\u001b[0m             \u001b[0mprint\u001b[0m\u001b[0;34m(\u001b[0m\u001b[0;34mf'Iter {_iter}: Update user stick = {t2 - t1}'\u001b[0m\u001b[0;34m)\u001b[0m\u001b[0;34m\u001b[0m\u001b[0;34m\u001b[0m\u001b[0m\n",
      "\u001b[0;32m~/git/FOGM/nonparametric.py\u001b[0m in \u001b[0;36mupdate_sticks\u001b[0;34m(self)\u001b[0m\n\u001b[1;32m    180\u001b[0m                 \u001b[0mC\u001b[0m \u001b[0;34m=\u001b[0m \u001b[0;34m-\u001b[0m\u001b[0;36m1\u001b[0m \u001b[0;34m*\u001b[0m \u001b[0mself\u001b[0m\u001b[0;34m.\u001b[0m\u001b[0mX\u001b[0m\u001b[0;34m[\u001b[0m\u001b[0mu\u001b[0m\u001b[0;34m,\u001b[0m\u001b[0;34m:\u001b[0m\u001b[0;34m]\u001b[0m \u001b[0;34m@\u001b[0m \u001b[0mself\u001b[0m\u001b[0;34m.\u001b[0m\u001b[0m_phi\u001b[0m\u001b[0;34m[\u001b[0m\u001b[0mu\u001b[0m\u001b[0;34m,\u001b[0m\u001b[0;34m:\u001b[0m\u001b[0;34m,\u001b[0m\u001b[0mk\u001b[0m\u001b[0;34m]\u001b[0m\u001b[0;34m\u001b[0m\u001b[0;34m\u001b[0m\u001b[0m\n\u001b[1;32m    181\u001b[0m                 \u001b[0mC\u001b[0m \u001b[0;34m=\u001b[0m \u001b[0mC\u001b[0m\u001b[0;34m[\u001b[0m\u001b[0;36m0\u001b[0m\u001b[0;34m]\u001b[0m\u001b[0;34m\u001b[0m\u001b[0;34m\u001b[0m\u001b[0m\n\u001b[0;32m--> 182\u001b[0;31m                 \u001b[0mB\u001b[0m \u001b[0;34m=\u001b[0m \u001b[0mself\u001b[0m\u001b[0;34m.\u001b[0m\u001b[0malpha\u001b[0m \u001b[0;34m-\u001b[0m \u001b[0;36m1\u001b[0m \u001b[0;34m-\u001b[0m \u001b[0mC\u001b[0m \u001b[0;34m-\u001b[0m \u001b[0mA\u001b[0m  \u001b[0;34m+\u001b[0m \u001b[0mnp\u001b[0m\u001b[0;34m.\u001b[0m\u001b[0msum\u001b[0m\u001b[0;34m(\u001b[0m\u001b[0;34m[\u001b[0m\u001b[0mself\u001b[0m\u001b[0;34m.\u001b[0m\u001b[0mX\u001b[0m\u001b[0;34m[\u001b[0m\u001b[0mu\u001b[0m\u001b[0;34m,\u001b[0m\u001b[0md\u001b[0m\u001b[0;34m]\u001b[0m \u001b[0;34m*\u001b[0m \u001b[0;34m(\u001b[0m\u001b[0;36m1\u001b[0m \u001b[0;34m-\u001b[0m \u001b[0mnp\u001b[0m\u001b[0;34m.\u001b[0m\u001b[0msum\u001b[0m\u001b[0;34m(\u001b[0m\u001b[0mself\u001b[0m\u001b[0;34m.\u001b[0m\u001b[0m_phi\u001b[0m\u001b[0;34m[\u001b[0m\u001b[0mu\u001b[0m\u001b[0;34m,\u001b[0m\u001b[0md\u001b[0m\u001b[0;34m,\u001b[0m\u001b[0;34m:\u001b[0m\u001b[0;34m]\u001b[0m\u001b[0;34m)\u001b[0m\u001b[0;34m)\u001b[0m \u001b[0;32mfor\u001b[0m \u001b[0md\u001b[0m \u001b[0;32min\u001b[0m \u001b[0mrange\u001b[0m\u001b[0;34m(\u001b[0m\u001b[0mself\u001b[0m\u001b[0;34m.\u001b[0m\u001b[0mD\u001b[0m\u001b[0;34m)\u001b[0m\u001b[0;34m]\u001b[0m\u001b[0;34m)\u001b[0m\u001b[0;34m\u001b[0m\u001b[0;34m\u001b[0m\u001b[0m\n\u001b[0m\u001b[1;32m    183\u001b[0m                 \u001b[0;32mtry\u001b[0m\u001b[0;34m:\u001b[0m\u001b[0;34m\u001b[0m\u001b[0;34m\u001b[0m\u001b[0m\n\u001b[1;32m    184\u001b[0m                     \u001b[0mself\u001b[0m\u001b[0;34m.\u001b[0m\u001b[0m_v\u001b[0m\u001b[0;34m[\u001b[0m\u001b[0mu\u001b[0m\u001b[0;34m,\u001b[0m\u001b[0mk\u001b[0m\u001b[0;34m]\u001b[0m \u001b[0;34m=\u001b[0m \u001b[0mNPNMF\u001b[0m\u001b[0;34m.\u001b[0m\u001b[0msolve_quadratic\u001b[0m\u001b[0;34m(\u001b[0m\u001b[0mA\u001b[0m\u001b[0;34m,\u001b[0m \u001b[0mB\u001b[0m\u001b[0;34m,\u001b[0m \u001b[0mC\u001b[0m\u001b[0;34m)\u001b[0m\u001b[0;34m\u001b[0m\u001b[0;34m\u001b[0m\u001b[0m\n",
      "\u001b[0;32m~/git/FOGM/nonparametric.py\u001b[0m in \u001b[0;36m<listcomp>\u001b[0;34m(.0)\u001b[0m\n\u001b[1;32m    180\u001b[0m                 \u001b[0mC\u001b[0m \u001b[0;34m=\u001b[0m \u001b[0;34m-\u001b[0m\u001b[0;36m1\u001b[0m \u001b[0;34m*\u001b[0m \u001b[0mself\u001b[0m\u001b[0;34m.\u001b[0m\u001b[0mX\u001b[0m\u001b[0;34m[\u001b[0m\u001b[0mu\u001b[0m\u001b[0;34m,\u001b[0m\u001b[0;34m:\u001b[0m\u001b[0;34m]\u001b[0m \u001b[0;34m@\u001b[0m \u001b[0mself\u001b[0m\u001b[0;34m.\u001b[0m\u001b[0m_phi\u001b[0m\u001b[0;34m[\u001b[0m\u001b[0mu\u001b[0m\u001b[0;34m,\u001b[0m\u001b[0;34m:\u001b[0m\u001b[0;34m,\u001b[0m\u001b[0mk\u001b[0m\u001b[0;34m]\u001b[0m\u001b[0;34m\u001b[0m\u001b[0;34m\u001b[0m\u001b[0m\n\u001b[1;32m    181\u001b[0m                 \u001b[0mC\u001b[0m \u001b[0;34m=\u001b[0m \u001b[0mC\u001b[0m\u001b[0;34m[\u001b[0m\u001b[0;36m0\u001b[0m\u001b[0;34m]\u001b[0m\u001b[0;34m\u001b[0m\u001b[0;34m\u001b[0m\u001b[0m\n\u001b[0;32m--> 182\u001b[0;31m                 \u001b[0mB\u001b[0m \u001b[0;34m=\u001b[0m \u001b[0mself\u001b[0m\u001b[0;34m.\u001b[0m\u001b[0malpha\u001b[0m \u001b[0;34m-\u001b[0m \u001b[0;36m1\u001b[0m \u001b[0;34m-\u001b[0m \u001b[0mC\u001b[0m \u001b[0;34m-\u001b[0m \u001b[0mA\u001b[0m  \u001b[0;34m+\u001b[0m \u001b[0mnp\u001b[0m\u001b[0;34m.\u001b[0m\u001b[0msum\u001b[0m\u001b[0;34m(\u001b[0m\u001b[0;34m[\u001b[0m\u001b[0mself\u001b[0m\u001b[0;34m.\u001b[0m\u001b[0mX\u001b[0m\u001b[0;34m[\u001b[0m\u001b[0mu\u001b[0m\u001b[0;34m,\u001b[0m\u001b[0md\u001b[0m\u001b[0;34m]\u001b[0m \u001b[0;34m*\u001b[0m \u001b[0;34m(\u001b[0m\u001b[0;36m1\u001b[0m \u001b[0;34m-\u001b[0m \u001b[0mnp\u001b[0m\u001b[0;34m.\u001b[0m\u001b[0msum\u001b[0m\u001b[0;34m(\u001b[0m\u001b[0mself\u001b[0m\u001b[0;34m.\u001b[0m\u001b[0m_phi\u001b[0m\u001b[0;34m[\u001b[0m\u001b[0mu\u001b[0m\u001b[0;34m,\u001b[0m\u001b[0md\u001b[0m\u001b[0;34m,\u001b[0m\u001b[0;34m:\u001b[0m\u001b[0;34m]\u001b[0m\u001b[0;34m)\u001b[0m\u001b[0;34m)\u001b[0m \u001b[0;32mfor\u001b[0m \u001b[0md\u001b[0m \u001b[0;32min\u001b[0m \u001b[0mrange\u001b[0m\u001b[0;34m(\u001b[0m\u001b[0mself\u001b[0m\u001b[0;34m.\u001b[0m\u001b[0mD\u001b[0m\u001b[0;34m)\u001b[0m\u001b[0;34m]\u001b[0m\u001b[0;34m)\u001b[0m\u001b[0;34m\u001b[0m\u001b[0;34m\u001b[0m\u001b[0m\n\u001b[0m\u001b[1;32m    183\u001b[0m                 \u001b[0;32mtry\u001b[0m\u001b[0;34m:\u001b[0m\u001b[0;34m\u001b[0m\u001b[0;34m\u001b[0m\u001b[0m\n\u001b[1;32m    184\u001b[0m                     \u001b[0mself\u001b[0m\u001b[0;34m.\u001b[0m\u001b[0m_v\u001b[0m\u001b[0;34m[\u001b[0m\u001b[0mu\u001b[0m\u001b[0;34m,\u001b[0m\u001b[0mk\u001b[0m\u001b[0;34m]\u001b[0m \u001b[0;34m=\u001b[0m \u001b[0mNPNMF\u001b[0m\u001b[0;34m.\u001b[0m\u001b[0msolve_quadratic\u001b[0m\u001b[0;34m(\u001b[0m\u001b[0mA\u001b[0m\u001b[0;34m,\u001b[0m \u001b[0mB\u001b[0m\u001b[0;34m,\u001b[0m \u001b[0mC\u001b[0m\u001b[0;34m)\u001b[0m\u001b[0;34m\u001b[0m\u001b[0;34m\u001b[0m\u001b[0m\n",
      "\u001b[0;32m~/anaconda3/lib/python3.7/site-packages/scipy/sparse/csr.py\u001b[0m in \u001b[0;36m__getitem__\u001b[0;34m(self, key)\u001b[0m\n\u001b[1;32m    287\u001b[0m             \u001b[0;31m# [i, j]\u001b[0m\u001b[0;34m\u001b[0m\u001b[0;34m\u001b[0m\u001b[0;34m\u001b[0m\u001b[0m\n\u001b[1;32m    288\u001b[0m             \u001b[0;32mif\u001b[0m \u001b[0misintlike\u001b[0m\u001b[0;34m(\u001b[0m\u001b[0mcol\u001b[0m\u001b[0;34m)\u001b[0m\u001b[0;34m:\u001b[0m\u001b[0;34m\u001b[0m\u001b[0;34m\u001b[0m\u001b[0m\n\u001b[0;32m--> 289\u001b[0;31m                 \u001b[0;32mreturn\u001b[0m \u001b[0mself\u001b[0m\u001b[0;34m.\u001b[0m\u001b[0m_get_single_element\u001b[0m\u001b[0;34m(\u001b[0m\u001b[0mrow\u001b[0m\u001b[0;34m,\u001b[0m \u001b[0mcol\u001b[0m\u001b[0;34m)\u001b[0m\u001b[0;34m\u001b[0m\u001b[0;34m\u001b[0m\u001b[0m\n\u001b[0m\u001b[1;32m    290\u001b[0m             \u001b[0;31m# [i, 1:2]\u001b[0m\u001b[0;34m\u001b[0m\u001b[0;34m\u001b[0m\u001b[0;34m\u001b[0m\u001b[0m\n\u001b[1;32m    291\u001b[0m             \u001b[0;32melif\u001b[0m \u001b[0misinstance\u001b[0m\u001b[0;34m(\u001b[0m\u001b[0mcol\u001b[0m\u001b[0;34m,\u001b[0m \u001b[0mslice\u001b[0m\u001b[0;34m)\u001b[0m\u001b[0;34m:\u001b[0m\u001b[0;34m\u001b[0m\u001b[0;34m\u001b[0m\u001b[0m\n",
      "\u001b[0;32m~/anaconda3/lib/python3.7/site-packages/scipy/sparse/compressed.py\u001b[0m in \u001b[0;36m_get_single_element\u001b[0;34m(self, row, col)\u001b[0m\n\u001b[1;32m    884\u001b[0m                 minor_indices[insert_pos_left:], minor_index, side='right')\n\u001b[1;32m    885\u001b[0m             return self.data[start + insert_pos_left:\n\u001b[0;32m--> 886\u001b[0;31m                              start + insert_pos_right].sum(dtype=self.dtype)\n\u001b[0m\u001b[1;32m    887\u001b[0m         \u001b[0;32melse\u001b[0m\u001b[0;34m:\u001b[0m\u001b[0;34m\u001b[0m\u001b[0;34m\u001b[0m\u001b[0m\n\u001b[1;32m    888\u001b[0m             return np.compress(minor_index == self.indices[start:end],\n",
      "\u001b[0;32m~/anaconda3/lib/python3.7/site-packages/numpy/core/_methods.py\u001b[0m in \u001b[0;36m_sum\u001b[0;34m(a, axis, dtype, out, keepdims, initial)\u001b[0m\n\u001b[1;32m     34\u001b[0m def _sum(a, axis=None, dtype=None, out=None, keepdims=False,\n\u001b[1;32m     35\u001b[0m          initial=_NoValue):\n\u001b[0;32m---> 36\u001b[0;31m     \u001b[0;32mreturn\u001b[0m \u001b[0mumr_sum\u001b[0m\u001b[0;34m(\u001b[0m\u001b[0ma\u001b[0m\u001b[0;34m,\u001b[0m \u001b[0maxis\u001b[0m\u001b[0;34m,\u001b[0m \u001b[0mdtype\u001b[0m\u001b[0;34m,\u001b[0m \u001b[0mout\u001b[0m\u001b[0;34m,\u001b[0m \u001b[0mkeepdims\u001b[0m\u001b[0;34m,\u001b[0m \u001b[0minitial\u001b[0m\u001b[0;34m)\u001b[0m\u001b[0;34m\u001b[0m\u001b[0;34m\u001b[0m\u001b[0m\n\u001b[0m\u001b[1;32m     37\u001b[0m \u001b[0;34m\u001b[0m\u001b[0m\n\u001b[1;32m     38\u001b[0m def _prod(a, axis=None, dtype=None, out=None, keepdims=False,\n",
      "\u001b[0;31mKeyboardInterrupt\u001b[0m: "
     ]
    }
   ],
   "source": [
    "nmf.inference()"
   ]
  },
  {
   "cell_type": "code",
   "execution_count": 21,
   "metadata": {},
   "outputs": [
    {
     "data": {
      "text/plain": [
       "<1x100 sparse matrix of type '<class 'numpy.int64'>'\n",
       "\twith 71 stored elements in Compressed Sparse Row format>"
      ]
     },
     "execution_count": 21,
     "metadata": {},
     "output_type": "execute_result"
    }
   ],
   "source": [
    "nmf.X[1,:]"
   ]
  },
  {
   "cell_type": "code",
   "execution_count": 83,
   "metadata": {},
   "outputs": [
    {
     "data": {
      "text/plain": [
       "<200x100 sparse matrix of type '<class 'numpy.int64'>'\n",
       "\twith 8401 stored elements in Compressed Sparse Row format>"
      ]
     },
     "execution_count": 83,
     "metadata": {},
     "output_type": "execute_result"
    }
   ],
   "source": [
    "nmf.X"
   ]
  },
  {
   "cell_type": "code",
   "execution_count": 84,
   "metadata": {},
   "outputs": [
    {
     "data": {
      "text/plain": [
       "<200x100 sparse matrix of type '<class 'numpy.int64'>'\n",
       "\twith 8401 stored elements in Compressed Sparse Column format>"
      ]
     },
     "execution_count": 84,
     "metadata": {},
     "output_type": "execute_result"
    }
   ],
   "source": [
    "nmf.X.tocsc()"
   ]
  },
  {
   "cell_type": "code",
   "execution_count": 100,
   "metadata": {},
   "outputs": [
    {
     "data": {
      "text/plain": [
       "1.244145154953003"
      ]
     },
     "execution_count": 100,
     "metadata": {},
     "output_type": "execute_result"
    }
   ],
   "source": [
    "time0 = time.time()\n",
    "for i in range(3000):\n",
    "    nmf.X[:,np.random.rand(100)]\n",
    "time.time() - time0"
   ]
  },
  {
   "cell_type": "code",
   "execution_count": 101,
   "metadata": {},
   "outputs": [
    {
     "data": {
      "text/plain": [
       "1.680187463760376"
      ]
     },
     "execution_count": 101,
     "metadata": {},
     "output_type": "execute_result"
    }
   ],
   "source": [
    "time0 = time.time()\n",
    "for i in range(3000):\n",
    "    nmf.X.tocsc()[np.random.rand(100),:]\n",
    "time.time() - time0"
   ]
  },
  {
   "cell_type": "code",
   "execution_count": 102,
   "metadata": {},
   "outputs": [
    {
     "data": {
      "text/plain": [
       "1.379523754119873"
      ]
     },
     "execution_count": 102,
     "metadata": {},
     "output_type": "execute_result"
    }
   ],
   "source": [
    "time0 = time.time()\n",
    "for i in range(3000):\n",
    "    nmf.X.tocsc()[:,np.random.rand(100)]\n",
    "time.time() - time0"
   ]
  },
  {
   "cell_type": "code",
   "execution_count": 93,
   "metadata": {},
   "outputs": [
    {
     "data": {
      "text/plain": [
       "0.7162151336669922"
      ]
     },
     "execution_count": 93,
     "metadata": {},
     "output_type": "execute_result"
    }
   ],
   "source": [
    "time0 = time.time()\n",
    "for i in range(3000):\n",
    "    nmf.X[np.random.rand(100),:]\n",
    "time.time() - time0"
   ]
  },
  {
   "cell_type": "code",
   "execution_count": 16,
   "metadata": {
    "scrolled": true
   },
   "outputs": [
    {
     "name": "stdout",
     "output_type": "stream",
     "text": [
      "Iter 1: Update phi = 2.949997901916504\n",
      "Iter 1: Update user stick = 28.59909677505493\n",
      "Iter 1: Update user stick scalar = 0.14319610595703125\n",
      "Iter 1: Update items = 7.717340707778931\n",
      "184.95076825973035 -2766.714101575919 -3635.806520434837 -93.60090804730834 -156.35802765630248 137.63674893502377 14449.174255050033\n",
      "Iter 1: ELBO = 8119.282214530421, last_ELBO = 0\n",
      "Iter 2: Update phi = 3.0934500694274902\n",
      "Iter 2: Update user stick = 28.34349226951599\n",
      "Iter 2: Update user stick scalar = 0.14187264442443848\n",
      "Iter 2: Update items = 7.964690923690796\n",
      "200.14181651889163 -2987.941140262434 -14359.004484952366 -19.277861515718943 98.91960224219221 -195.31490743041059 21369.713584702422\n",
      "Iter 2: ELBO = 4107.236609302578, last_ELBO = 8119.282214530421\n",
      "Iter 3: Update phi = 3.0427963733673096\n",
      "Iter 3: Update user stick = 27.93367624282837\n",
      "Iter 3: Update user stick scalar = 0.13640403747558594\n",
      "Iter 3: Update items = 7.795690536499023\n",
      "184.97408237168347 -3837.345182872037 -8432.07143533204 -8.456570023101735 143.26253414029267 -374.1554126573313 24078.21842059728\n",
      "Iter 3: ELBO = 11754.426436224747, last_ELBO = 4107.236609302578\n",
      "Iter 4: Update phi = 3.0266292095184326\n",
      "Iter 4: Update user stick = 27.742626190185547\n",
      "Iter 4: Update user stick scalar = 0.13819098472595215\n",
      "Iter 4: Update items = 7.690811634063721\n",
      "191.682314005279 -4138.517415094237 -5364.384465065995 -3.0928236707685945 -90.78740117992228 -594.0782579820814 25261.917823106403\n",
      "Iter 4: ELBO = 15262.73977411868, last_ELBO = 11754.426436224747\n",
      "Iter 5: Update phi = 3.008040428161621\n",
      "Iter 5: Update user stick = 27.561140775680542\n",
      "Iter 5: Update user stick scalar = 0.14313626289367676\n",
      "Iter 5: Update items = 7.880229234695435\n",
      "830.122970139081 -4309.702238078366 -8480.782780177613 -1.139522328139197 -1044.7217767021616 -776.9559563433738 29423.824957461493\n",
      "Iter 5: ELBO = 15640.64565397092, last_ELBO = 15262.73977411868\n",
      "Iter 6: Update phi = 3.0373785495758057\n",
      "Iter 6: Update user stick = 27.493392944335938\n",
      "Iter 6: Update user stick scalar = 0.13716411590576172\n",
      "Iter 6: Update items = 7.768866777420044\n",
      "223.0722734922632 -3709.700047192573 -5430.929317362992 -0.3643693928974302 -3965.0453188541605 -921.9824608457645 32530.149491702043\n",
      "Iter 6: ELBO = 18725.20025154592, last_ELBO = 15640.64565397092\n",
      "Stopped at 6\n"
     ]
    }
   ],
   "source": [
    "nmf.inference()"
   ]
  },
  {
   "cell_type": "code",
   "execution_count": 19,
   "metadata": {},
   "outputs": [
    {
     "data": {
      "text/plain": [
       "200"
      ]
     },
     "execution_count": 19,
     "metadata": {},
     "output_type": "execute_result"
    }
   ],
   "source": [
    "len(nmf.byuser)"
   ]
  },
  {
   "cell_type": "code",
   "execution_count": 43,
   "metadata": {},
   "outputs": [
    {
     "name": "stdout",
     "output_type": "stream",
     "text": [
      "A: 1.0800746275624306e+17, B: -1.0800746275624269e+17, C: -372.999999998772\n",
      "WARNING: s1 1.0000000000000002 and s2 -3.4812409291437266e-15 are out of range in solve_quadratic\n",
      "147 0\n"
     ]
    }
   ],
   "source": [
    "for u in range(nmf.U):\n",
    "    for k in range(nmf.T):\n",
    "        try:\n",
    "            nmf.solve_quadratic(A[u,k], B[u,k], C[u,k])\n",
    "        except:\n",
    "            print(u,k)\n",
    "            pass\n",
    "            "
   ]
  },
  {
   "cell_type": "code",
   "execution_count": 45,
   "metadata": {},
   "outputs": [
    {
     "data": {
      "text/plain": [
       "10.101301408757042"
      ]
     },
     "execution_count": 45,
     "metadata": {},
     "output_type": "execute_result"
    }
   ],
   "source": [
    "nmf._s_rate[147]"
   ]
  },
  {
   "cell_type": "code",
   "execution_count": 47,
   "metadata": {},
   "outputs": [
    {
     "data": {
      "text/plain": [
       "9.04415688991784"
      ]
     },
     "execution_count": 47,
     "metadata": {},
     "output_type": "execute_result"
    }
   ],
   "source": [
    "np.sum(nmf._beta_shape[:,0]/nmf._beta_rate[:,0])"
   ]
  },
  {
   "cell_type": "code",
   "execution_count": 64,
   "metadata": {},
   "outputs": [
    {
     "data": {
      "text/plain": [
       "[10, 11, 12, 13, 14]"
      ]
     },
     "execution_count": 64,
     "metadata": {},
     "output_type": "execute_result"
    }
   ],
   "source": [
    "list(range(10,15))"
   ]
  },
  {
   "cell_type": "code",
   "execution_count": 66,
   "metadata": {},
   "outputs": [
    {
     "data": {
      "text/plain": [
       "[5.0147194216259056e-12,\n",
       " 5.014715533744179e-12,\n",
       " 5.014718952195523e-12,\n",
       " 5.0147205269689146e-12,\n",
       " 5.014720526475598e-12,\n",
       " 5.01472060390274e-12,\n",
       " 5.0147205254642416e-12,\n",
       " 5.014720524965943e-12,\n",
       " 5.014720524461298e-12,\n",
       " 5.014720523959931e-12,\n",
       " 5.014720523458353e-12,\n",
       " 5.014720522956881e-12,\n",
       " 5.0147205224554084e-12,\n",
       " 5.014720521953959e-12,\n",
       " 5.014720521452464e-12,\n",
       " 5.014720520950992e-12,\n",
       " 5.0147205204495205e-12,\n",
       " 5.014720519948049e-12,\n",
       " 5.014720519446576e-12,\n",
       " 5.014720518945104e-12,\n",
       " 5.014720518443632e-12,\n",
       " 5.014720517942161e-12,\n",
       " 5.014720517440688e-12,\n",
       " 5.014720516939216e-12,\n",
       " 5.014720516437744e-12,\n",
       " 5.014720515936272e-12,\n",
       " 5.0147205154347994e-12,\n",
       " 5.014720514933328e-12,\n",
       " 5.014720514431855e-12]"
      ]
     },
     "execution_count": 66,
     "metadata": {},
     "output_type": "execute_result"
    }
   ],
   "source": [
    "u = 147\n",
    "k = 0\n",
    "l = 0\n",
    "[nmf._v[u,l] * np.prod(1-nmf._v[u,:l])/(1-nmf._v[u,k]) * np.sum(nmf._beta_shape[:,l]/ nmf._beta_rate[:,l]) for l in range(k+1,nmf.T)]\n",
    "#- np.prod(1-nmf._v[u,:k]) * np.sum(nmf._beta_shape[:,k]/nmf._beta_rate[:,k]) \\\n",
    "#+ nmf.D * nmf.beta_shape_prior/nmf.beta_rate_prior * np.prod(1-nmf._v[u,:]) / nmf._v[u,k]        \n",
    "                "
   ]
  },
  {
   "cell_type": "code",
   "execution_count": null,
   "metadata": {},
   "outputs": [],
   "source": []
  },
  {
   "cell_type": "code",
   "execution_count": 38,
   "metadata": {},
   "outputs": [
    {
     "data": {
      "text/plain": [
       "1.0800746275624306e+17"
      ]
     },
     "execution_count": 38,
     "metadata": {},
     "output_type": "execute_result"
    }
   ],
   "source": [
    "A[147,0]"
   ]
  },
  {
   "cell_type": "code",
   "execution_count": 39,
   "metadata": {},
   "outputs": [
    {
     "data": {
      "text/plain": [
       "-1.0800746275624269e+17"
      ]
     },
     "execution_count": 39,
     "metadata": {},
     "output_type": "execute_result"
    }
   ],
   "source": [
    "B[147,0]"
   ]
  },
  {
   "cell_type": "code",
   "execution_count": 40,
   "metadata": {},
   "outputs": [
    {
     "data": {
      "text/plain": [
       "-372.999999998772"
      ]
     },
     "execution_count": 40,
     "metadata": {},
     "output_type": "execute_result"
    }
   ],
   "source": [
    "C[147,0]"
   ]
  },
  {
   "cell_type": "code",
   "execution_count": 30,
   "metadata": {},
   "outputs": [],
   "source": [
    "A,B,C = nmf.get_ABC()"
   ]
  },
  {
   "cell_type": "code",
   "execution_count": null,
   "metadata": {},
   "outputs": [],
   "source": [
    "(-np.sqrt(B**2 - 4*A*C) - B) / A"
   ]
  },
  {
   "cell_type": "code",
   "execution_count": 35,
   "metadata": {},
   "outputs": [
    {
     "data": {
      "text/plain": [
       "array([[-1.07966947e-12,  0.00000000e+00,  0.00000000e+00, ...,\n",
       "         0.00000000e+00,  0.00000000e+00,  0.00000000e+00],\n",
       "       [-7.13997584e-10,  0.00000000e+00,  0.00000000e+00, ...,\n",
       "         0.00000000e+00,  0.00000000e+00,  0.00000000e+00],\n",
       "       [-7.05155005e-13,  0.00000000e+00,  0.00000000e+00, ...,\n",
       "         0.00000000e+00,  0.00000000e+00,  0.00000000e+00],\n",
       "       ...,\n",
       "       [-5.13774998e-07,  0.00000000e+00,  0.00000000e+00, ...,\n",
       "         0.00000000e+00,  0.00000000e+00,  0.00000000e+00],\n",
       "       [-2.25659639e-08,  0.00000000e+00,  0.00000000e+00, ...,\n",
       "         0.00000000e+00,  0.00000000e+00,  0.00000000e+00],\n",
       "       [-1.55612098e-09,  0.00000000e+00,  0.00000000e+00, ...,\n",
       "         0.00000000e+00,  0.00000000e+00,  0.00000000e+00]])"
      ]
     },
     "execution_count": 35,
     "metadata": {},
     "output_type": "execute_result"
    }
   ],
   "source": [
    "(-np.sqrt(B**2 - 4*A*C) - B) / A"
   ]
  },
  {
   "cell_type": "code",
   "execution_count": 14,
   "metadata": {},
   "outputs": [
    {
     "name": "stdout",
     "output_type": "stream",
     "text": [
      "Iter 1: Update phi = 4.198256731033325\n",
      "Iter 1: Update user stick = 28.92665696144104\n",
      "Iter 1: Update user stick scalar = 0.4551856517791748\n",
      "Iter 1: Update items = 7.95148777961731\n",
      "8214.263660600687 -3257.3245810066746 -3302.6694571236403 -96.25874086310692 -121.20501940184418 101.09013428695906 14443.977510306438\n",
      "Iter 1: ELBO = 15981.873506798818, last_ELBO = 0\n",
      "Iter 2: Update phi = 4.193977117538452\n",
      "Iter 2: Update user stick = 28.950438499450684\n",
      "Iter 2: Update user stick scalar = 0.46661376953125\n",
      "Iter 2: Update items = 8.025695323944092\n",
      "40588.47216255004 -2527.0990234401656 -16334.439805374368 -16.341087027433126 136.3866648771138 -259.35128362901236 22217.68216492191\n",
      "Iter 2: ELBO = 43805.30979287808, last_ELBO = 15981.873506798818\n",
      "Iter 3: Update phi = 4.148336410522461\n",
      "Iter 3: Update user stick = 30.035590410232544\n",
      "Iter 3: Update user stick scalar = 0.4570047855377197\n",
      "Iter 3: Update items = 7.70540452003479\n",
      "43328.68117286895 -3308.259728023425 -17502.14461845208 -13.587601026205146 148.92515710534303 -299.0800374242782 23114.79797248385\n",
      "Iter 3: ELBO = 45469.33231753216, last_ELBO = 43805.30979287808\n",
      "Iter 4: Update phi = 4.18987774848938\n",
      "Iter 4: Update user stick = 29.593940258026123\n",
      "Iter 4: Update user stick scalar = 0.4663064479827881\n",
      "Iter 4: Update items = 7.868757009506226\n",
      "43972.45384624067 -3187.170237221925 -17762.844894562426 -12.063196099048533 153.88962697687214 -325.14919269961035 23511.3455786816\n",
      "Iter 4: ELBO = 46350.46153131614, last_ELBO = 45469.33231753216\n",
      "Iter 5: Update phi = 4.194673538208008\n",
      "Iter 5: Update user stick = 30.829859256744385\n",
      "Iter 5: Update user stick scalar = 0.4589717388153076\n",
      "Iter 5: Update items = 7.624533176422119\n",
      "44480.73589436848 -3848.4294996834547 -17968.111324568854 -10.851325315910065 155.87963365972124 -348.1577380524185 23857.307976143944\n",
      "Iter 5: ELBO = 46318.37361655151, last_ELBO = 46350.46153131614\n",
      "Converged!\n"
     ]
    }
   ],
   "source": [
    "nmf.inference()"
   ]
  },
  {
   "cell_type": "code",
   "execution_count": 15,
   "metadata": {},
   "outputs": [
    {
     "data": {
      "text/plain": [
       "-0.0006903991370010854"
      ]
     },
     "execution_count": 15,
     "metadata": {},
     "output_type": "execute_result"
    }
   ],
   "source": [
    "46318/46350-1"
   ]
  },
  {
   "cell_type": "code",
   "execution_count": null,
   "metadata": {},
   "outputs": [],
   "source": [
    "A = 1.807934296800437e-10\n",
    "B = 1.0004423587287066\n",
    "C=  -0.00041595806984341416\n",
    "(-B + np.sqrt(B**2 - 4*A*C)) / (2 * A)"
   ]
  },
  {
   "cell_type": "code",
   "execution_count": 6,
   "metadata": {
    "scrolled": true
   },
   "outputs": [
    {
     "ename": "TypeError",
     "evalue": "f() missing 1 required positional argument: 'y'",
     "output_type": "error",
     "traceback": [
      "\u001b[0;31m---------------------------------------------------------------------------\u001b[0m",
      "\u001b[0;31mRemoteTraceback\u001b[0m                           Traceback (most recent call last)",
      "\u001b[0;31mRemoteTraceback\u001b[0m: \n\"\"\"\nTraceback (most recent call last):\n  File \"/home/keane/anaconda3/lib/python3.7/site-packages/multiprocess/pool.py\", line 121, in worker\n    result = (True, func(*args, **kwds))\n  File \"/home/keane/anaconda3/lib/python3.7/site-packages/multiprocess/pool.py\", line 44, in mapstar\n    return list(map(*args))\nTypeError: f() missing 1 required positional argument: 'y'\n\"\"\"",
      "\nThe above exception was the direct cause of the following exception:\n",
      "\u001b[0;31mTypeError\u001b[0m                                 Traceback (most recent call last)",
      "\u001b[0;32m<ipython-input-6-8e153113c471>\u001b[0m in \u001b[0;36m<module>\u001b[0;34m\u001b[0m\n\u001b[1;32m      2\u001b[0m \u001b[0;32mdef\u001b[0m \u001b[0mf\u001b[0m\u001b[0;34m(\u001b[0m\u001b[0mx\u001b[0m\u001b[0;34m,\u001b[0m\u001b[0my\u001b[0m\u001b[0;34m)\u001b[0m\u001b[0;34m:\u001b[0m \u001b[0;32mreturn\u001b[0m \u001b[0mx\u001b[0m\u001b[0;34m*\u001b[0m\u001b[0my\u001b[0m\u001b[0;34m\u001b[0m\u001b[0;34m\u001b[0m\u001b[0m\n\u001b[1;32m      3\u001b[0m \u001b[0mp\u001b[0m \u001b[0;34m=\u001b[0m \u001b[0mPool\u001b[0m\u001b[0;34m(\u001b[0m\u001b[0;36m4\u001b[0m\u001b[0;34m)\u001b[0m\u001b[0;34m\u001b[0m\u001b[0;34m\u001b[0m\u001b[0m\n\u001b[0;32m----> 4\u001b[0;31m \u001b[0mresult\u001b[0m \u001b[0;34m=\u001b[0m \u001b[0mp\u001b[0m\u001b[0;34m.\u001b[0m\u001b[0mmap\u001b[0m\u001b[0;34m(\u001b[0m\u001b[0mf\u001b[0m\u001b[0;34m,\u001b[0m \u001b[0;34m[\u001b[0m\u001b[0;34m(\u001b[0m\u001b[0;36m1\u001b[0m\u001b[0;34m,\u001b[0m\u001b[0;36m2\u001b[0m\u001b[0;34m)\u001b[0m\u001b[0;34m,\u001b[0m \u001b[0;34m(\u001b[0m\u001b[0;36m3\u001b[0m\u001b[0;34m,\u001b[0m\u001b[0;36m4\u001b[0m\u001b[0;34m)\u001b[0m\u001b[0;34m]\u001b[0m\u001b[0;34m)\u001b[0m\u001b[0;34m\u001b[0m\u001b[0;34m\u001b[0m\u001b[0m\n\u001b[0m\u001b[1;32m      5\u001b[0m \u001b[0mprint\u001b[0m\u001b[0;34m(\u001b[0m\u001b[0mresult\u001b[0m\u001b[0;34m.\u001b[0m\u001b[0mget\u001b[0m\u001b[0;34m(\u001b[0m\u001b[0mtimeout\u001b[0m\u001b[0;34m=\u001b[0m\u001b[0;36m1\u001b[0m\u001b[0;34m)\u001b[0m\u001b[0;34m)\u001b[0m\u001b[0;34m\u001b[0m\u001b[0;34m\u001b[0m\u001b[0m\n",
      "\u001b[0;32m~/anaconda3/lib/python3.7/site-packages/multiprocess/pool.py\u001b[0m in \u001b[0;36mmap\u001b[0;34m(self, func, iterable, chunksize)\u001b[0m\n\u001b[1;32m    266\u001b[0m         \u001b[0;32min\u001b[0m \u001b[0ma\u001b[0m \u001b[0mlist\u001b[0m \u001b[0mthat\u001b[0m \u001b[0;32mis\u001b[0m \u001b[0mreturned\u001b[0m\u001b[0;34m.\u001b[0m\u001b[0;34m\u001b[0m\u001b[0;34m\u001b[0m\u001b[0m\n\u001b[1;32m    267\u001b[0m         '''\n\u001b[0;32m--> 268\u001b[0;31m         \u001b[0;32mreturn\u001b[0m \u001b[0mself\u001b[0m\u001b[0;34m.\u001b[0m\u001b[0m_map_async\u001b[0m\u001b[0;34m(\u001b[0m\u001b[0mfunc\u001b[0m\u001b[0;34m,\u001b[0m \u001b[0miterable\u001b[0m\u001b[0;34m,\u001b[0m \u001b[0mmapstar\u001b[0m\u001b[0;34m,\u001b[0m \u001b[0mchunksize\u001b[0m\u001b[0;34m)\u001b[0m\u001b[0;34m.\u001b[0m\u001b[0mget\u001b[0m\u001b[0;34m(\u001b[0m\u001b[0;34m)\u001b[0m\u001b[0;34m\u001b[0m\u001b[0;34m\u001b[0m\u001b[0m\n\u001b[0m\u001b[1;32m    269\u001b[0m \u001b[0;34m\u001b[0m\u001b[0m\n\u001b[1;32m    270\u001b[0m     \u001b[0;32mdef\u001b[0m \u001b[0mstarmap\u001b[0m\u001b[0;34m(\u001b[0m\u001b[0mself\u001b[0m\u001b[0;34m,\u001b[0m \u001b[0mfunc\u001b[0m\u001b[0;34m,\u001b[0m \u001b[0miterable\u001b[0m\u001b[0;34m,\u001b[0m \u001b[0mchunksize\u001b[0m\u001b[0;34m=\u001b[0m\u001b[0;32mNone\u001b[0m\u001b[0;34m)\u001b[0m\u001b[0;34m:\u001b[0m\u001b[0;34m\u001b[0m\u001b[0;34m\u001b[0m\u001b[0m\n",
      "\u001b[0;32m~/anaconda3/lib/python3.7/site-packages/multiprocess/pool.py\u001b[0m in \u001b[0;36mget\u001b[0;34m(self, timeout)\u001b[0m\n\u001b[1;32m    655\u001b[0m             \u001b[0;32mreturn\u001b[0m \u001b[0mself\u001b[0m\u001b[0;34m.\u001b[0m\u001b[0m_value\u001b[0m\u001b[0;34m\u001b[0m\u001b[0;34m\u001b[0m\u001b[0m\n\u001b[1;32m    656\u001b[0m         \u001b[0;32melse\u001b[0m\u001b[0;34m:\u001b[0m\u001b[0;34m\u001b[0m\u001b[0;34m\u001b[0m\u001b[0m\n\u001b[0;32m--> 657\u001b[0;31m             \u001b[0;32mraise\u001b[0m \u001b[0mself\u001b[0m\u001b[0;34m.\u001b[0m\u001b[0m_value\u001b[0m\u001b[0;34m\u001b[0m\u001b[0;34m\u001b[0m\u001b[0m\n\u001b[0m\u001b[1;32m    658\u001b[0m \u001b[0;34m\u001b[0m\u001b[0m\n\u001b[1;32m    659\u001b[0m     \u001b[0;32mdef\u001b[0m \u001b[0m_set\u001b[0m\u001b[0;34m(\u001b[0m\u001b[0mself\u001b[0m\u001b[0;34m,\u001b[0m \u001b[0mi\u001b[0m\u001b[0;34m,\u001b[0m \u001b[0mobj\u001b[0m\u001b[0;34m)\u001b[0m\u001b[0;34m:\u001b[0m\u001b[0;34m\u001b[0m\u001b[0;34m\u001b[0m\u001b[0m\n",
      "\u001b[0;31mTypeError\u001b[0m: f() missing 1 required positional argument: 'y'"
     ]
    },
    {
     "name": "stderr",
     "output_type": "stream",
     "text": [
      "Process ForkPoolWorker-15:\n",
      "Process ForkPoolWorker-13:\n",
      "Process ForkPoolWorker-14:\n",
      "Process ForkPoolWorker-16:\n",
      "Traceback (most recent call last):\n",
      "Traceback (most recent call last):\n",
      "Traceback (most recent call last):\n",
      "Traceback (most recent call last):\n",
      "  File \"/home/keane/anaconda3/lib/python3.7/site-packages/multiprocess/process.py\", line 297, in _bootstrap\n",
      "    self.run()\n",
      "  File \"/home/keane/anaconda3/lib/python3.7/site-packages/multiprocess/process.py\", line 297, in _bootstrap\n",
      "    self.run()\n",
      "  File \"/home/keane/anaconda3/lib/python3.7/site-packages/multiprocess/process.py\", line 297, in _bootstrap\n",
      "    self.run()\n",
      "  File \"/home/keane/anaconda3/lib/python3.7/site-packages/multiprocess/process.py\", line 99, in run\n",
      "    self._target(*self._args, **self._kwargs)\n",
      "  File \"/home/keane/anaconda3/lib/python3.7/site-packages/multiprocess/process.py\", line 297, in _bootstrap\n",
      "    self.run()\n",
      "  File \"/home/keane/anaconda3/lib/python3.7/site-packages/multiprocess/process.py\", line 99, in run\n",
      "    self._target(*self._args, **self._kwargs)\n",
      "  File \"/home/keane/anaconda3/lib/python3.7/site-packages/multiprocess/process.py\", line 99, in run\n",
      "    self._target(*self._args, **self._kwargs)\n",
      "  File \"/home/keane/anaconda3/lib/python3.7/site-packages/multiprocess/pool.py\", line 110, in worker\n",
      "    task = get()\n",
      "  File \"/home/keane/anaconda3/lib/python3.7/site-packages/multiprocess/process.py\", line 99, in run\n",
      "    self._target(*self._args, **self._kwargs)\n",
      "  File \"/home/keane/anaconda3/lib/python3.7/site-packages/multiprocess/pool.py\", line 110, in worker\n",
      "    task = get()\n",
      "  File \"/home/keane/anaconda3/lib/python3.7/site-packages/multiprocess/pool.py\", line 110, in worker\n",
      "    task = get()\n",
      "  File \"/home/keane/anaconda3/lib/python3.7/site-packages/multiprocess/queues.py\", line 355, in get\n",
      "    res = self._reader.recv_bytes()\n",
      "  File \"/home/keane/anaconda3/lib/python3.7/site-packages/multiprocess/pool.py\", line 110, in worker\n",
      "    task = get()\n",
      "  File \"/home/keane/anaconda3/lib/python3.7/site-packages/multiprocess/queues.py\", line 354, in get\n",
      "    with self._rlock:\n",
      "  File \"/home/keane/anaconda3/lib/python3.7/site-packages/multiprocess/queues.py\", line 354, in get\n",
      "    with self._rlock:\n",
      "  File \"/home/keane/anaconda3/lib/python3.7/site-packages/multiprocess/connection.py\", line 219, in recv_bytes\n",
      "    buf = self._recv_bytes(maxlength)\n",
      "  File \"/home/keane/anaconda3/lib/python3.7/site-packages/multiprocess/synchronize.py\", line 102, in __enter__\n",
      "    return self._semlock.__enter__()\n",
      "  File \"/home/keane/anaconda3/lib/python3.7/site-packages/multiprocess/queues.py\", line 354, in get\n",
      "    with self._rlock:\n",
      "  File \"/home/keane/anaconda3/lib/python3.7/site-packages/multiprocess/synchronize.py\", line 102, in __enter__\n",
      "    return self._semlock.__enter__()\n",
      "KeyboardInterrupt\n",
      "  File \"/home/keane/anaconda3/lib/python3.7/site-packages/multiprocess/connection.py\", line 410, in _recv_bytes\n",
      "    buf = self._recv(4)\n",
      "KeyboardInterrupt\n",
      "  File \"/home/keane/anaconda3/lib/python3.7/site-packages/multiprocess/synchronize.py\", line 102, in __enter__\n",
      "    return self._semlock.__enter__()\n",
      "  File \"/home/keane/anaconda3/lib/python3.7/site-packages/multiprocess/connection.py\", line 382, in _recv\n",
      "    chunk = read(handle, remaining)\n",
      "KeyboardInterrupt\n",
      "KeyboardInterrupt\n"
     ]
    }
   ],
   "source": [
    "from multiprocess import Pool\n",
    "def f(x,y): return x*y\n",
    "p = Pool(4)\n",
    "result = p.map(f, [(1,2), (3,4)])\n",
    "print(result.get(timeout=1))"
   ]
  },
  {
   "cell_type": "code",
   "execution_count": null,
   "metadata": {},
   "outputs": [],
   "source": [
    "temp = copy.deepcopy(nmf._phi)"
   ]
  },
  {
   "cell_type": "code",
   "execution_count": null,
   "metadata": {},
   "outputs": [],
   "source": [
    "temp"
   ]
  },
  {
   "cell_type": "code",
   "execution_count": null,
   "metadata": {
    "scrolled": false
   },
   "outputs": [],
   "source": [
    "nmf.inference()"
   ]
  },
  {
   "cell_type": "code",
   "execution_count": null,
   "metadata": {},
   "outputs": [],
   "source": [
    "nmf.solve_quadratic(A= 2.5972095342520613e-16, B=2.052183719154443, C= -1.0518572257929042)"
   ]
  },
  {
   "cell_type": "code",
   "execution_count": null,
   "metadata": {},
   "outputs": [],
   "source": [
    "A = 0.00000000000001\n",
    "B=2.052183719154443\n",
    "C= -1.0518572257929042"
   ]
  },
  {
   "cell_type": "code",
   "execution_count": null,
   "metadata": {},
   "outputs": [],
   "source": [
    "(-B + np.sqrt(B**2 - 4*A*C)) / (2 * A)"
   ]
  },
  {
   "cell_type": "code",
   "execution_count": null,
   "metadata": {
    "ExecuteTime": {
     "end_time": "2019-12-14T09:07:02.761769Z",
     "start_time": "2019-12-14T09:06:43.802767Z"
    }
   },
   "outputs": [],
   "source": [
    "nmf.update_phi()\n",
    "nmf.ELBO()"
   ]
  },
  {
   "cell_type": "code",
   "execution_count": null,
   "metadata": {
    "ExecuteTime": {
     "end_time": "2019-12-14T09:07:27.838772Z",
     "start_time": "2019-12-14T09:07:02.764769Z"
    }
   },
   "outputs": [],
   "source": [
    "nmf.update_items()\n",
    "nmf.ELBO()"
   ]
  },
  {
   "cell_type": "code",
   "execution_count": null,
   "metadata": {
    "ExecuteTime": {
     "end_time": "2019-12-14T08:52:32.970868Z",
     "start_time": "2019-12-14T08:52:28.068868Z"
    }
   },
   "outputs": [],
   "source": [
    "nmf.update_sticks_scalars()\n",
    "nmf.ELBO()"
   ]
  },
  {
   "cell_type": "code",
   "execution_count": null,
   "metadata": {
    "ExecuteTime": {
     "end_time": "2019-12-14T06:54:10.149944Z",
     "start_time": "2019-12-14T06:54:05.236943Z"
    }
   },
   "outputs": [],
   "source": [
    "nmf.update_sticks()\n",
    "nmf.ELBO()"
   ]
  },
  {
   "cell_type": "code",
   "execution_count": null,
   "metadata": {},
   "outputs": [],
   "source": []
  },
  {
   "cell_type": "code",
   "execution_count": null,
   "metadata": {},
   "outputs": [],
   "source": []
  },
  {
   "cell_type": "code",
   "execution_count": null,
   "metadata": {},
   "outputs": [],
   "source": []
  },
  {
   "cell_type": "code",
   "execution_count": null,
   "metadata": {
    "ExecuteTime": {
     "end_time": "2019-12-13T21:19:42.215722Z",
     "start_time": "2019-12-13T21:19:41.861723Z"
    }
   },
   "outputs": [],
   "source": [
    "np.savez('test.npz', a = a, b = a)"
   ]
  },
  {
   "cell_type": "code",
   "execution_count": null,
   "metadata": {
    "ExecuteTime": {
     "end_time": "2019-12-13T21:19:43.366724Z",
     "start_time": "2019-12-13T21:19:42.838723Z"
    }
   },
   "outputs": [],
   "source": [
    "test = np.load('test.npz')"
   ]
  },
  {
   "cell_type": "code",
   "execution_count": null,
   "metadata": {
    "ExecuteTime": {
     "end_time": "2019-12-13T21:19:46.065732Z",
     "start_time": "2019-12-13T21:19:45.718725Z"
    }
   },
   "outputs": [],
   "source": [
    "test['b']"
   ]
  },
  {
   "cell_type": "code",
   "execution_count": null,
   "metadata": {
    "ExecuteTime": {
     "end_time": "2019-12-13T21:03:06.087239Z",
     "start_time": "2019-12-13T21:03:05.434238Z"
    }
   },
   "outputs": [],
   "source": [
    "nmf._phi"
   ]
  },
  {
   "cell_type": "code",
   "execution_count": null,
   "metadata": {
    "ExecuteTime": {
     "end_time": "2019-12-13T19:56:25.027135Z",
     "start_time": "2019-12-13T19:56:24.296136Z"
    },
    "scrolled": false
   },
   "outputs": [],
   "source": [
    "#unit test\n",
    "def \n",
    "def test:\n",
    "    [nmf._phi[u,d,:].sum() for u,d in nmf.nonzero]"
   ]
  },
  {
   "cell_type": "code",
   "execution_count": null,
   "metadata": {
    "ExecuteTime": {
     "end_time": "2019-12-12T04:00:25.658080Z",
     "start_time": "2019-12-12T04:00:25.503059Z"
    }
   },
   "outputs": [],
   "source": [
    "def validate(theta,beta,rating_valid):\n",
    "    size = len(list(zip(*rating_valid.nonzero())))\n",
    "    rating_valid = rating_valid.toarray().flatten()\n",
    "    mu = (theta @ beta.T).flatten()\n",
    "    mu = mu[rating_valid > 0]\n",
    "    rating_valid = rating_valid[rating_valid > 0]\n",
    "    mu[mu>10] = 10\n",
    "    assert mu.shape == rating_valid.shape, f'{mu.shape} vs {rating_valid.shape}'\n",
    "    return (np.sum(rating_valid * np.log(mu)) - np.sum(mu))/size"
   ]
  },
  {
   "cell_type": "markdown",
   "metadata": {},
   "source": [
    "Variational Inference for Nonparametrics"
   ]
  },
  {
   "cell_type": "code",
   "execution_count": null,
   "metadata": {
    "ExecuteTime": {
     "end_time": "2019-12-12T04:00:25.884077Z",
     "start_time": "2019-12-12T04:00:25.662061Z"
    }
   },
   "outputs": [],
   "source": [
    "rating_train, rating_valid, rating_train, _ = read('./data/movielens')"
   ]
  },
  {
   "cell_type": "code",
   "execution_count": null,
   "metadata": {
    "ExecuteTime": {
     "end_time": "2019-12-12T04:00:26.042060Z",
     "start_time": "2019-12-12T04:00:25.886061Z"
    }
   },
   "outputs": [],
   "source": [
    "kwargs = {'T': 50}"
   ]
  },
  {
   "cell_type": "code",
   "execution_count": null,
   "metadata": {
    "ExecuteTime": {
     "end_time": "2019-12-12T04:00:26.245059Z",
     "start_time": "2019-12-12T04:00:26.046061Z"
    }
   },
   "outputs": [],
   "source": [
    "#NOTE: To be wrapped in def vi(rating_train, rating_valid, **kwargs):\n",
    "\n",
    "#Use sparse matrix representation\n",
    "U,D = rating_train.shape\n",
    "indices = rating_train.indices\n",
    "indptr = rating_train.indptr\n",
    "nonzero = list(zip(*rating_train.nonzero()))\n",
    "byrow = {row:[indices[i] for i in range(indptr[row], indptr[row+1])] for row in range(U)}\n",
    "\n",
    "rating_csc = rating_train.tocsc()\n",
    "indices = rating_csc.indices\n",
    "indptr = rating_csc.indptr\n",
    "bycol = {col:[indices[i] for i in range(indptr[col], indptr[col+1])] for col in range(D)}"
   ]
  },
  {
   "cell_type": "markdown",
   "metadata": {},
   "source": [
    "Joint distribution:\n",
    "$$p(z, \\beta, s, v| \\alpha, c, a,b) = \\prod_{u=1}^{U} p(s_u | \\alpha, c) \\prod_{k=1}^{\\infty} \\prod_{u=1}^{U} p(v_{uk} | \\alpha)   \\prod_{k=1}^{\\infty} \\prod_{d=1}^{D} p(\\beta_{dk} | a, b) \\prod_{k=1}^{\\infty} \\prod_{u=1}^N \\prod_{d=1}^D p(z_{udk} | \\theta_{uk}, \\beta_{dk})$$"
   ]
  },
  {
   "cell_type": "markdown",
   "metadata": {},
   "source": [
    "Remember the stick proportions:\n",
    "$$\\theta_{uk} = s_u v_{uk} \\prod_{i=1}^{k-1}(1-v_{ui})$$"
   ]
  },
  {
   "cell_type": "markdown",
   "metadata": {},
   "source": [
    "Variational Inference:\n",
    "\n",
    "$q(s_u) = \\text{Gamma}(s_u | \\omega_{u,0}, \\omega_{u,1})$\n",
    "\n",
    "$q(v_{uk}) = \\zeta_{\\tau_{uk}}(v_{uk}) \\text{ for } k \\leq T, p(v_{uk}) \\text{ for } k \\geq T + 1$\n",
    "\n",
    "$q(\\beta_{dk}) = \\text{Gamma}(\\beta_{dk} | \\lambda_{ik,0}, \\lambda_{dk, 1}) \\text { for } k \\leq T, p(\\beta_{dk}) \\text{ for } k \\geq T+1$\n",
    "\n",
    "$q(z_{ud}) = \\text{Mult}(z_{ud} | y_{ud}, \\phi_{ud})$\n",
    "\n"
   ]
  },
  {
   "cell_type": "code",
   "execution_count": null,
   "metadata": {
    "ExecuteTime": {
     "end_time": "2019-12-12T04:00:39.098120Z",
     "start_time": "2019-12-12T04:00:38.948120Z"
    }
   },
   "outputs": [],
   "source": [
    "#Starting values\n",
    "I = 300\n",
    "T = kwargs.pop('T', 50) #Truncate level\n",
    "alpha = kwargs.pop('alpha', 0.01)\n",
    "omega_rate = np.array([0.3]*U) \n",
    "omega_shape = np.array([1]*U)\n",
    "lambda_rate = np.array([[0.3]*T]*U) \n",
    "lambda_shape = np.array([[1]*T]*U)\n",
    "tau = np.random.beta(1, alpha, size = T)\n",
    "phi = np.zeros((len(nonzero),I))"
   ]
  },
  {
   "cell_type": "code",
   "execution_count": null,
   "metadata": {},
   "outputs": [],
   "source": [
    "class NPNMF:\n",
    "    def __init__(self, X, K=512, seed=None, **kwargs):\n",
    "        '''\n",
    "        BN = LVI_BP_NMF(X, K=512, smoothness=100, seed=None, alpha=2.,\n",
    "                        a0=1., b0=1., c0=1e-6, d0=1e-6)\n",
    "        Required arguments:\n",
    "            X:              U-by-D nonnegative matrix (numpy.ndarray)\n",
    "                            the data to be factorized\n",
    "                            Assume scipy sparse matrix format\n",
    "        Optional arguments:\n",
    "            K:              the size of the initial dictionary\n",
    "                            will be truncated to a proper size\n",
    "            seed:           the random seed to control the random\n",
    "                            initialization\n",
    "                            **variational inference can only converge to local\n",
    "                            optimum, thus try different seeds**\n",
    "            alpha:          hyperparameter for activation.\n",
    "            a0, b0:         both must be specified\n",
    "                            hyperparameters for sparsity\n",
    "            c0, d0:         both must be specified\n",
    "                            hyperparameters for Gaussian noise\n",
    "        '''\n",
    "        self.X = X.copy()\n",
    "        self.U, self.D = self.X.shape\n",
    "        self.T = T\n",
    "        \n",
    "        #Working with sparse matrix\n",
    "        indices = X.indices\n",
    "        indptr = X.indptr\n",
    "        self.nonzero = list(zip(*X.nonzero()))\n",
    "        self.byuser = {row:[indices[i] for i in range(indptr[row], indptr[row+1])] for row in range(U)\n",
    "        \n",
    "        self.rating_csc = X.tocsc()\n",
    "        indices = X.indices\n",
    "        indptr = X.indptr\n",
    "        self.byitem = {col:[indices[i] for i in range(indptr[col], indptr[col+1])] for col in range(D)}\n",
    "\n",
    "        self._parse_args(**kwargs)\n",
    "        if seed is None:\n",
    "            print 'Using random seed'\n",
    "            np.random.seed()\n",
    "        else:\n",
    "            print 'Using fixed seed {}'.format(seed)\n",
    "            np.random.seed(seed)\n",
    "        self._init()\n",
    "\n",
    "    def _parse_args(self, **kwargs):\n",
    "        '''\n",
    "        Parse the hyperparameters\n",
    "        '''\n",
    "        self.alpha = float(kwargs.get('alpha', 2.))\n",
    "        self.beta_shape_prior = float(kwargs.get('beta_shape_prior', 1.)) #a\n",
    "        self.beta_rate_prior = float(kwargs.get('beta_rate_prior', 1.))   #b          \n",
    "        self.s_rate_prior = float(kwargs.get('s_rate_prior', 1e-6))       #c\n",
    "        \n",
    "    def initialize(self):\n",
    "        # variational parameters for Beta \n",
    "        self._beta_shape = np.full((self.D, self.T), 0.3)\n",
    "        self._beta_rate = np.full((self.D, self.T), 0.3)\n",
    "        \n",
    "        # variational parameters S \n",
    "        self._s_shape = np.full(self.U, 0.3)\n",
    "        self._s_rate = np.full(self.U, 0.3)\n",
    "        \n",
    "        # variational parameters for Z\n",
    "        self.phi = np.zeros(len(self.nonzero), T)\n",
    "                       \n",
    "    def update_phi(self):\n",
    "        for i,ud in enumerate(nonzero):\n",
    "            u,d = ud\n",
    "            elogbeta = [digamma(self._beta_shape[d][k]) - log(self._beta_rate[d][k]) for k in range(self.T)]\n",
    "            elogs = digamma(self._s_shape[u]) - log(self._s_rate[u])\n",
    "            phi = [(elogbeta + elogs + self._logpi[u][k]) for k in range(_k)] \n",
    "            phi = np.array([phi, self.compute_mult_normalizer_infsum(u)])\n",
    "            logsum = s.logsum();\n",
    "            phi.lognormalize(logsum)\n",
    "            self.phi = phi\n",
    "    \n",
    "    def _logpi(self,u,k):\n",
    "        return exp(lpid[u][_k-1] - log(vd[u][_k-1]) + log(1 - vd[u][_k-1]))\n",
    "                       \n",
    "    def elogtheta_at_truncation(self, u):\n",
    "        elogsu = digamma(self._s_shape[u]) - log(self._s_rate[u])\n",
    "        elogvt = digamma(1) - digamma(1+self._alpha)\n",
    "        return elogsu + elogvt + self._logpi[u][_k-1] - log(self._v[u][_k-1]) /\n",
    "                       + log(1 - self._v[u][_k-1]) #verify this\n",
    "\n",
    "    def compute_mult_normalizer_infsum(self, u,d, k):\n",
    "        elogv_t = digamma(self._alpha) - digamma(1+self._alpha)\n",
    "        return self.elogtheta_at_truncation(u) + digamma(self._beta_shape_prior) - log(self._beta_rate_prior)/\n",
    "                       - log(1 - exp(elogv_t))\n",
    "\n",
    "                       \n",
    "    def update_sticks_scalars(self):\n",
    "         for u in range(U):\n",
    "                gamma_shape[u,:] = a1 + rating_train[u,:] @ phi[u,:,:]\n",
    "                for k in range(K):\n",
    "                    gamma_rate[u,k] = kappa_shape/kappa_rate[u] + np.sum([lambda_shape[d,k]/lambda_rate[d,k] for d in byrow[u]])\n",
    "                kappa_rate[u] = a0/b0 + np.sum([gamma_shape[u,k]/gamma_rate[u,k] for k in range(K)])\n",
    "\n",
    "    def update_sticks(self):\n",
    "       \n",
    "    def update_items(self):\n",
    "        for d in range(D):\n",
    "                lambda_shape[d,:] = m1 + rating_train[:,d].T @ phi[:,d,:]\n",
    "                for k in range(K):\n",
    "                    lambda_rate[d,k] = tau_shape/tau_rate[d] + np.sum([gamma_shape[u,k]/gamma_rate[u,k] for u in bycol[d]])\n",
    "                tau_rate[d] = m0/n0 + np.sum([lambda_shape[d,k]/lambda_rate[d,k] for k in range(K)])\n",
    "\n",
    "    def validate(self):\n",
    "        self.validate()\n",
    "        theta, beta = gamma_shape/gamma_rate, lambda_shape/lambda_rate\n",
    "        training_likelihood = validate(theta, beta, rating_train)\n",
    "        val_likelihood = validate(theta, beta, rating_valid)\n",
    "        print(f'Iter {n_iter}: training_error = {training_likelihood}, val_error = {val_likelihood}, max_pref = {np.sum(theta,0).max()}, min_pref = {np.sum(theta,0).min()},max_att = {np.sum(beta,0).max()}, min_att = {np.sum(beta,0).min()}')\n",
    "        if n_iter > 0:\n",
    "            if abs(val_likelihood/last_val_likelihood-1) < threshold or n_iter >= max_iter:\n",
    "                print(f'Compete after {n_iter} iterations: Validation Error = {val_likelihood}')\n",
    "                break\n",
    "        last_val_likelihood = val_likelihood\n",
    "        n_iter += 1\n",
    "                       \n",
    "    def inference(self):\n",
    "        self.initialize()\n",
    "        while True:\n",
    "            #Update phi\n",
    "            self.update_phi()\n",
    "            \n",
    "            #Update across user\n",
    "            self.update_sticks_scalars()\n",
    "            self.update_sticks()\n",
    "            \n",
    "            #Update across item\n",
    "            self.update_items()\n",
    "            \n",
    "            #Validate\n",
    "            self.validate()\n",
    "    \n",
    "        "
   ]
  },
  {
   "cell_type": "code",
   "execution_count": null,
   "metadata": {},
   "outputs": [],
   "source": []
  },
  {
   "cell_type": "code",
   "execution_count": null,
   "metadata": {
    "ExecuteTime": {
     "end_time": "2019-12-10T04:48:33.743717Z",
     "start_time": "2019-12-10T04:48:33.502722Z"
    }
   },
   "outputs": [],
   "source": [
    "#CAVI\n",
    "max_iter = kwargs.pop('max_iter', 10)\n",
    "threshold = kwargs.pop('threshold', 10e-4)\n",
    "\n",
    "n_iter = 0 \n",
    "while True:\n",
    "    #For each user and item pair, update phi\n",
    "    time0 = time.time()\n",
    "    for i,ud in enumerate(nonzero):\n",
    "        u,d = ud\n",
    "        phi[i,:] = np.exp([scipy.special.digamma(gamma_shape[u,k]) - np.log(gamma_rate[u,k]) \\\n",
    "                + scipy.special.digamma(lambda_shape[d,k]) - np.log(lambda_rate[d,k]) \\\n",
    "                    for k in range(K)])\n",
    "        phi[i,:] = phi[i,:] / normalizer\n",
    "\n",
    "    #Update gamma and kappa\n",
    "    time1 = time.time()\n",
    "    for u in range(U):\n",
    "        gamma_shape[u,:] = a1 + rating_train[u,:] @ phi[u,:,:]\n",
    "        for k in range(K):\n",
    "            gamma_rate[u,k] = kappa_shape/kappa_rate[u] + np.sum([lambda_shape[d,k]/lambda_rate[d,k] for d in byrow[u]])\n",
    "        kappa_rate[u] = a0/b0 + np.sum([gamma_shape[u,k]/gamma_rate[u,k] for k in range(K)])\n",
    "\n",
    "    #Update lambda and tau\n",
    "    time2 = time.time()\n",
    "    for d in range(D):\n",
    "        lambda_shape[d,:] = m1 + rating_train[:,d].T @ phi[:,d,:]\n",
    "        for k in range(K):\n",
    "            lambda_rate[d,k] = tau_shape/tau_rate[d] + np.sum([gamma_shape[u,k]/gamma_rate[u,k] for u in bycol[d]])\n",
    "        tau_rate[d] = m0/n0 + np.sum([lambda_shape[d,k]/lambda_rate[d,k] for k in range(K)])\n",
    "\n",
    "    time3 = time.time()\n",
    "    print(f'Time update phi: {time1 - time0}, Time update gamma and kappa: {time2 - time1}, Time update lambda and tau: {time3 - time2}')\n",
    "\n",
    "    #Validate\n",
    "    theta, beta = gamma_shape/gamma_rate, lambda_shape/lambda_rate\n",
    "    training_likelihood = validate(theta, beta, rating_train)\n",
    "    val_likelihood = validate(theta, beta, rating_valid)\n",
    "    print(f'Iter {n_iter}: training_error = {training_likelihood}, val_error = {val_likelihood}, max_pref = {np.sum(theta,0).max()}, min_pref = {np.sum(theta,0).min()},max_att = {np.sum(beta,0).max()}, min_att = {np.sum(beta,0).min()}')\n",
    "    if n_iter > 0:\n",
    "        if abs(val_likelihood/last_val_likelihood-1) < threshold or n_iter >= max_iter:\n",
    "            print(f'Compete after {n_iter} iterations: Validation Error = {val_likelihood}')\n",
    "            break\n",
    "    last_val_likelihood = val_likelihood\n",
    "    n_iter += 1 \n",
    "np.savez(r'C:\\git\\PGM\\temp.npz', theta = theta, beta = beta)\n",
    "return theta, beta"
   ]
  },
  {
   "cell_type": "code",
   "execution_count": null,
   "metadata": {},
   "outputs": [],
   "source": [
    "def cavi():\n",
    "    pass\n",
    "\n",
    "def sgd():\n",
    "    pass\n",
    "\n",
    "def natural_gradient():\n",
    "    pass\n",
    "\n",
    "def using_edward():\n",
    "    pass\n",
    "\n",
    "def using_pystan():\n",
    "    pass\n",
    "\n",
    "def vae():\n",
    "    pass\n",
    "\n",
    "def advi():\n",
    "    pass\n",
    "\n",
    "if __name__ == \"__main__\":\n",
    "    rating_train, rating_valid, rating_test, movie_map = read()\n",
    "    #rating = np.array([[random.poisson(3) for i in range(2000)] for j in range(100)])\n",
    "    gibbs(rating_valid, rating_valid,max_iter = 50 )\n",
    "    \n",
    "    # model = vi(rating_valid, rating_valid, max_iter = 50)"
   ]
  }
 ],
 "metadata": {
  "kernelspec": {
   "display_name": "Python 3",
   "language": "python",
   "name": "python3"
  },
  "language_info": {
   "codemirror_mode": {
    "name": "ipython",
    "version": 3
   },
   "file_extension": ".py",
   "mimetype": "text/x-python",
   "name": "python",
   "nbconvert_exporter": "python",
   "pygments_lexer": "ipython3",
   "version": "3.7.3"
  }
 },
 "nbformat": 4,
 "nbformat_minor": 2
}
