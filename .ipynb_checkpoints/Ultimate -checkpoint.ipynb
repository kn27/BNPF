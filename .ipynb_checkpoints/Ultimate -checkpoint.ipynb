{
 "cells": [
  {
   "cell_type": "code",
   "execution_count": 1,
   "metadata": {
    "ExecuteTime": {
     "end_time": "2019-12-10T03:21:00.795163Z",
     "start_time": "2019-12-10T03:21:00.614150Z"
    }
   },
   "outputs": [],
   "source": [
    "%load_ext autoreload\n",
    "%autoreload 2"
   ]
  },
  {
   "cell_type": "code",
   "execution_count": 2,
   "metadata": {
    "ExecuteTime": {
     "end_time": "2019-12-10T03:21:23.662318Z",
     "start_time": "2019-12-10T03:21:01.771146Z"
    }
   },
   "outputs": [],
   "source": [
    "import numpy as np\n",
    "from matrix_factorization import read, vi, gibbs, validate\n",
    "from sklearn import decomposition\n",
    "import pandas as pd\n",
    "from matplotlib import pyplot as plt\n",
    "%matplotlib inline"
   ]
  },
  {
   "cell_type": "code",
   "execution_count": 3,
   "metadata": {
    "ExecuteTime": {
     "end_time": "2019-12-10T03:21:45.237343Z",
     "start_time": "2019-12-10T03:21:23.674323Z"
    }
   },
   "outputs": [],
   "source": [
    "from sklearn.decomposition import pca\n",
    "import plotly.graph_objs as go\n",
    "from plotly.offline import download_plotlyjs, init_notebook_mode, plot, iplot\n",
    "import plotly.graph_objs as go\n",
    "import seaborn as sns"
   ]
  },
  {
   "cell_type": "markdown",
   "metadata": {},
   "source": [
    "Factorization"
   ]
  },
  {
   "cell_type": "code",
   "execution_count": 4,
   "metadata": {
    "ExecuteTime": {
     "end_time": "2019-12-10T03:21:45.875325Z",
     "start_time": "2019-12-10T03:21:45.239320Z"
    }
   },
   "outputs": [],
   "source": [
    "rating_train, rating_valid, rating_test, mapping = read(r'C:\\Git\\FOGM\\data\\movielens')"
   ]
  },
  {
   "cell_type": "code",
   "execution_count": 5,
   "metadata": {
    "ExecuteTime": {
     "end_time": "2019-12-10T03:23:15.944524Z",
     "start_time": "2019-12-10T03:23:15.419528Z"
    }
   },
   "outputs": [
    {
     "data": {
      "text/plain": [
       "(610, 9724)"
      ]
     },
     "execution_count": 5,
     "metadata": {},
     "output_type": "execute_result"
    }
   ],
   "source": [
    "rating_valid.shape"
   ]
  },
  {
   "cell_type": "code",
   "execution_count": 6,
   "metadata": {
    "ExecuteTime": {
     "end_time": "2019-12-10T03:23:16.818656Z",
     "start_time": "2019-12-10T03:23:16.353658Z"
    }
   },
   "outputs": [
    {
     "data": {
      "text/plain": [
       "(610, 9724)"
      ]
     },
     "execution_count": 6,
     "metadata": {},
     "output_type": "execute_result"
    }
   ],
   "source": [
    "rating_train.shape"
   ]
  },
  {
   "cell_type": "code",
   "execution_count": 7,
   "metadata": {
    "ExecuteTime": {
     "end_time": "2019-12-10T03:28:03.822491Z",
     "start_time": "2019-12-10T03:23:19.300630Z"
    },
    "scrolled": true
   },
   "outputs": [
    {
     "name": "stdout",
     "output_type": "stream",
     "text": [
      "Time update phi: 8.437002658843994, Time update gamma and kappa: 0.7609968185424805, Time update lambda and tau: 5.821001768112183\n",
      "Iter 0: training_error = -60.487831213056765, val_error = -60.04054614181217, max_pref = 2.1010838242968064, min_pref = 0.6787697812967048,max_att = 5532.411389383119, min_att = 4711.331963207449\n",
      "Time update phi: 7.340001821517944, Time update gamma and kappa: 1.2759974002838135, Time update lambda and tau: 7.4680016040802\n",
      "Iter 1: training_error = 5.762396585816464, val_error = 4.919481180502655, max_pref = 222.237946622999, min_pref = 104.78941410648908,max_att = 10971.433111318403, min_att = 7726.459032374141\n",
      "Time update phi: 6.292010068893433, Time update gamma and kappa: 0.5629942417144775, Time update lambda and tau: 5.574001312255859\n",
      "Iter 2: training_error = 6.4512095986044224, val_error = 5.687313798135255, max_pref = 271.17518118735944, min_pref = 129.06886197820288,max_att = 14055.055064712886, min_att = 9696.323521570574\n",
      "Time update phi: 17.967809915542603, Time update gamma and kappa: 0.6190400123596191, Time update lambda and tau: 6.224365234375\n",
      "Iter 3: training_error = 6.612167166350835, val_error = 5.9253210751413805, max_pref = 287.5085733103408, min_pref = 127.97547292374199,max_att = 15618.150594156199, min_att = 11098.401110613055\n",
      "Time update phi: 9.191999197006226, Time update gamma and kappa: 0.6599974632263184, Time update lambda and tau: 6.049003839492798\n",
      "Iter 4: training_error = 6.673489372601805, val_error = 6.044039035858637, max_pref = 294.80790597727224, min_pref = 124.07578041908198,max_att = 16304.013283811484, min_att = 12031.845955725694\n",
      "\n",
      "Time update phi: 7.055999755859375, Time update gamma and kappa: 0.6170015335083008, Time update lambda and tau: 5.952997922897339\n",
      "Iter 5: training_error = 6.70436654063103, val_error = 6.117641044540105, max_pref = 300.3096767463415, min_pref = 119.56727768771646,max_att = 16545.677867896553, min_att = 12585.060541522622\n",
      "Time update phi: 6.518998861312866, Time update gamma and kappa: 1.0369985103607178, Time update lambda and tau: 5.92299747467041\n",
      "Iter 6: training_error = 6.722893250584613, val_error = 6.169142843180638, max_pref = 307.84667067905747, min_pref = 115.05928184561519,max_att = 16586.227028749032, min_att = 12897.11188059215\n",
      "Time update phi: 5.831998348236084, Time update gamma and kappa: 0.5229983329772949, Time update lambda and tau: 4.705004453659058\n",
      "Iter 7: training_error = 6.735235451882027, val_error = 6.207616391087798, max_pref = 316.75471366869607, min_pref = 110.73123892877345,max_att = 16539.42529245455, min_att = 13078.59496338373\n",
      "Time update phi: 6.067020654678345, Time update gamma and kappa: 0.5829818248748779, Time update lambda and tau: 5.536997318267822\n",
      "Iter 8: training_error = 6.743984734692182, val_error = 6.237661579150785, max_pref = 325.0756444205864, min_pref = 106.61801079744687,max_att = 16489.734109262503, min_att = 13193.72782195606\n",
      "Time update phi: 7.857019662857056, Time update gamma and kappa: 0.5129806995391846, Time update lambda and tau: 5.259002685546875\n",
      "Iter 9: training_error = 6.750496027601851, val_error = 6.261839694971143, max_pref = 333.075757567267, min_pref = 102.70688727182588,max_att = 16434.099303334136, min_att = 13274.735045547755\n",
      "Time update phi: 6.553997993469238, Time update gamma and kappa: 0.5420069694519043, Time update lambda and tau: 5.191017389297485\n",
      "Iter 10: training_error = 6.755520482760436, val_error = 6.281626739143984, max_pref = 340.90191966570876, min_pref = 98.9725866753812,max_att = 16350.990675287183, min_att = 13336.454664586783\n",
      "Time update phi: 5.903998851776123, Time update gamma and kappa: 0.6770031452178955, Time update lambda and tau: 5.125000715255737\n",
      "Iter 11: training_error = 6.7595140962673765, val_error = 6.2982107447674025, max_pref = 348.6389964000527, min_pref = 95.39094849679934,max_att = 16251.544831225965, min_att = 13385.315920064753\n",
      "Time update phi: 6.1510021686553955, Time update gamma and kappa: 0.5279960632324219, Time update lambda and tau: 4.778003454208374\n",
      "Iter 12: training_error = 6.762766386193297, val_error = 6.312213374648598, max_pref = 356.33820433382476, min_pref = 91.9455362230106,max_att = 16142.557997881255, min_att = 13424.213882700775\n",
      "Time update phi: 6.082003116607666, Time update gamma and kappa: 0.5499975681304932, Time update lambda and tau: 7.136002779006958\n",
      "Iter 13: training_error = 6.765468536864854, val_error = 6.324170552269922, max_pref = 364.03122216414636, min_pref = 88.6287882513455,max_att = 16028.128817101417, min_att = 13454.42552986792\n",
      "Time update phi: 8.635998487472534, Time update gamma and kappa: 0.5960001945495605, Time update lambda and tau: 5.189000368118286\n",
      "Iter 14: training_error = 6.767749939861914, val_error = 6.334541784541414, max_pref = 371.73701856231133, min_pref = 85.43616002051652,max_att = 15910.572241259628, min_att = 13476.776392711336\n",
      "Time update phi: 6.125998497009277, Time update gamma and kappa: 0.5069987773895264, Time update lambda and tau: 4.6200032234191895\n",
      "Iter 15: training_error = 6.769704402438103, val_error = 6.343691961555716, max_pref = 379.4664494684018, min_pref = 82.35860916789595,max_att = 15791.233208756907, min_att = 13493.758696080185\n",
      "Time update phi: 5.68199896812439, Time update gamma and kappa: 0.5160009860992432, Time update lambda and tau: 5.780005216598511\n",
      "Iter 16: training_error = 6.7713997872387175, val_error = 6.351786901315931, max_pref = 387.22626717016385, min_pref = 79.38602380851412,max_att = 15671.172704470691, min_att = 13509.42438061404\n",
      "Time update phi: 7.65163779258728, Time update gamma and kappa: 0.5310032367706299, Time update lambda and tau: 5.028999090194702\n",
      "Iter 17: training_error = 6.772885648965506, val_error = 6.359029358398524, max_pref = 395.02154651020305, min_pref = 76.51122622838326,max_att = 15551.445563564206, min_att = 13526.073133404414\n",
      "Time update phi: 5.8820226192474365, Time update gamma and kappa: 0.5379998683929443, Time update lambda and tau: 5.021978139877319\n",
      "Iter 18: training_error = 6.7742040674422555, val_error = 6.365522897830447, max_pref = 402.856114463824, min_pref = 73.72973240924973,max_att = 15443.248416299495, min_att = 13541.865980114706\n",
      "Time update phi: 7.574000597000122, Time update gamma and kappa: 0.5270006656646729, Time update lambda and tau: 5.190999269485474\n",
      "Iter 19: training_error = 6.775377420806349, val_error = 6.37133382439364, max_pref = 410.7326069444728, min_pref = 71.03931466923248,max_att = 15341.767969885137, min_att = 13552.627666908016\n",
      "Compete after 19 iterations: Validation Error = 6.37133382439364\n"
     ]
    }
   ],
   "source": [
    "output = vi(rating_train, rating_valid, max_iter = 20, K = 13, threshold = 10e-4)"
   ]
  },
  {
   "cell_type": "code",
   "execution_count": 9,
   "metadata": {
    "ExecuteTime": {
     "end_time": "2019-12-10T03:30:16.616711Z",
     "start_time": "2019-12-10T03:30:16.139709Z"
    }
   },
   "outputs": [
    {
     "data": {
      "text/plain": [
       "(610, 10)"
      ]
     },
     "execution_count": 9,
     "metadata": {},
     "output_type": "execute_result"
    }
   ],
   "source": [
    "output[0].shape"
   ]
  },
  {
   "cell_type": "code",
   "execution_count": 10,
   "metadata": {
    "ExecuteTime": {
     "end_time": "2019-12-10T03:30:25.894520Z",
     "start_time": "2019-12-10T03:30:25.376528Z"
    }
   },
   "outputs": [
    {
     "data": {
      "text/plain": [
       "(9724, 10)"
      ]
     },
     "execution_count": 10,
     "metadata": {},
     "output_type": "execute_result"
    }
   ],
   "source": [
    "output[1].shape"
   ]
  },
  {
   "cell_type": "markdown",
   "metadata": {},
   "source": [
    "Posterior Check"
   ]
  },
  {
   "cell_type": "code",
   "execution_count": 11,
   "metadata": {
    "ExecuteTime": {
     "end_time": "2019-12-10T03:30:48.591465Z",
     "start_time": "2019-12-10T03:30:47.917462Z"
    }
   },
   "outputs": [],
   "source": [
    "theta = output[0]\n",
    "beta = output[1]\n",
    "poisson_mean = theta @ beta.T\n",
    "poisson_mean[rating_train.toarray() == 0] = 0\n",
    "simulated = np.random.poisson(poisson_mean)"
   ]
  },
  {
   "cell_type": "code",
   "execution_count": 12,
   "metadata": {
    "ExecuteTime": {
     "end_time": "2019-12-10T03:30:52.570441Z",
     "start_time": "2019-12-10T03:30:51.579440Z"
    }
   },
   "outputs": [
    {
     "name": "stderr",
     "output_type": "stream",
     "text": [
      "C:\\ProgramData\\Anaconda3\\lib\\site-packages\\scipy\\stats\\stats.py:1713: FutureWarning:\n",
      "\n",
      "Using a non-tuple sequence for multidimensional indexing is deprecated; use `arr[tuple(seq)]` instead of `arr[seq]`. In the future this will be interpreted as an array index, `arr[np.array(seq)]`, which will result either in an error or a different result.\n",
      "\n",
      "C:\\ProgramData\\Anaconda3\\lib\\site-packages\\matplotlib\\axes\\_axes.py:6462: UserWarning:\n",
      "\n",
      "The 'normed' kwarg is deprecated, and has been replaced by the 'density' kwarg.\n",
      "\n",
      "C:\\ProgramData\\Anaconda3\\lib\\site-packages\\matplotlib\\axes\\_axes.py:6462: UserWarning:\n",
      "\n",
      "The 'normed' kwarg is deprecated, and has been replaced by the 'density' kwarg.\n",
      "\n"
     ]
    },
    {
     "data": {
      "text/plain": [
       "<matplotlib.legend.Legend at 0x25e5b720e10>"
      ]
     },
     "execution_count": 12,
     "metadata": {},
     "output_type": "execute_result"
    },
    {
     "data": {
      "image/png": "[encoded data removed]",
      "text/plain": [
       "<Figure size 432x288 with 1 Axes>"
      ]
     },
     "metadata": {
      "needs_background": "light"
     },
     "output_type": "display_data"
    }
   ],
   "source": [
    "ax = sns.distplot(np.sum(rating_train,1),hist=True, kde=True)\n",
    "sns.distplot(np.sum(simulated,1),hist=True, kde=True)\n",
    "ax.set_title('Distribution of users by total rating')\n",
    "ax.set(xlabel='Total rating per user')\n",
    "ax.legend(['Observed Data', 'Simulated from fitted model'])"
   ]
  },
  {
   "cell_type": "code",
   "execution_count": 13,
   "metadata": {
    "ExecuteTime": {
     "end_time": "2019-12-10T03:30:59.011251Z",
     "start_time": "2019-12-10T03:30:57.992253Z"
    },
    "scrolled": false
   },
   "outputs": [
    {
     "name": "stderr",
     "output_type": "stream",
     "text": [
      "C:\\ProgramData\\Anaconda3\\lib\\site-packages\\matplotlib\\axes\\_axes.py:6462: UserWarning:\n",
      "\n",
      "The 'normed' kwarg is deprecated, and has been replaced by the 'density' kwarg.\n",
      "\n",
      "C:\\ProgramData\\Anaconda3\\lib\\site-packages\\matplotlib\\axes\\_axes.py:6462: UserWarning:\n",
      "\n",
      "The 'normed' kwarg is deprecated, and has been replaced by the 'density' kwarg.\n",
      "\n"
     ]
    },
    {
     "data": {
      "text/plain": [
       "<matplotlib.legend.Legend at 0x25e5b76f5c0>"
      ]
     },
     "execution_count": 13,
     "metadata": {},
     "output_type": "execute_result"
    },
    {
     "data": {
      "image/png": "[encoded data removed]",
      "text/plain": [
       "<Figure size 432x288 with 1 Axes>"
      ]
     },
     "metadata": {
      "needs_background": "light"
     },
     "output_type": "display_data"
    }
   ],
   "source": [
    "ax = sns.distplot(np.sum(rating_train,0),hist=True, kde=True)\n",
    "sns.distplot(np.sum(simulated,0),hist=True, kde=True)\n",
    "ax.set_title('Distribution of movies by total rating')\n",
    "ax.set(xlabel='Total rating per movie')\n",
    "ax.legend(['Observed Data', 'Simulated from fitted model'])"
   ]
  },
  {
   "cell_type": "markdown",
   "metadata": {},
   "source": [
    "How does PCA look like?"
   ]
  },
  {
   "cell_type": "code",
   "execution_count": 14,
   "metadata": {
    "ExecuteTime": {
     "end_time": "2019-12-10T03:52:19.663808Z",
     "start_time": "2019-12-10T03:52:19.084795Z"
    }
   },
   "outputs": [],
   "source": [
    "from sklearn import decomposition"
   ]
  },
  {
   "cell_type": "code",
   "execution_count": 44,
   "metadata": {
    "ExecuteTime": {
     "end_time": "2019-12-10T04:15:00.966947Z",
     "start_time": "2019-12-10T04:14:54.666956Z"
    }
   },
   "outputs": [],
   "source": [
    "nmf_model = decomposition.NMF(10).fit(rating_train.toarray())"
   ]
  },
  {
   "cell_type": "code",
   "execution_count": 45,
   "metadata": {
    "ExecuteTime": {
     "end_time": "2019-12-10T04:15:01.595976Z",
     "start_time": "2019-12-10T04:15:00.971949Z"
    }
   },
   "outputs": [],
   "source": [
    "attributes = nmf_model.components_"
   ]
  },
  {
   "cell_type": "code",
   "execution_count": 47,
   "metadata": {
    "ExecuteTime": {
     "end_time": "2019-12-10T04:15:14.865007Z",
     "start_time": "2019-12-10T04:15:14.165011Z"
    }
   },
   "outputs": [],
   "source": [
    "preferences = nmf_model.transform(rating_train.toarray())"
   ]
  },
  {
   "cell_type": "code",
   "execution_count": 48,
   "metadata": {
    "ExecuteTime": {
     "end_time": "2019-12-10T04:15:16.909020Z",
     "start_time": "2019-12-10T04:15:16.434017Z"
    }
   },
   "outputs": [
    {
     "data": {
      "text/plain": [
       "array([[ 8.,  8.,  8., ...,  0.,  0.,  0.],\n",
       "       [ 0.,  0.,  0., ...,  0.,  0.,  0.],\n",
       "       [ 0.,  0.,  0., ...,  0.,  0.,  0.],\n",
       "       ...,\n",
       "       [ 5.,  0.,  0., ...,  0.,  0.,  0.],\n",
       "       [ 6.,  0.,  0., ...,  0.,  0.,  0.],\n",
       "       [10.,  0., 10., ...,  6.,  7.,  7.]])"
      ]
     },
     "execution_count": 48,
     "metadata": {},
     "output_type": "execute_result"
    }
   ],
   "source": [
    "rating_train.toarray()"
   ]
  },
  {
   "cell_type": "code",
   "execution_count": 35,
   "metadata": {
    "ExecuteTime": {
     "end_time": "2019-12-10T04:01:54.986933Z",
     "start_time": "2019-12-10T04:01:54.335940Z"
    }
   },
   "outputs": [
    {
     "data": {
      "text/plain": [
       "array([[-5.63895834e+00, -7.01347287e+00, -6.36373515e+00, ...,\n",
       "        -1.54244839e-01, -1.79952312e-01, -1.79952312e-01],\n",
       "       [-1.33386528e+00, -4.19632494e-01, -1.09966877e+00, ...,\n",
       "         2.63974389e-02,  3.07970120e-02,  3.07970120e-02],\n",
       "       [-1.37241056e+00, -2.51221469e-01, -1.15998861e+00, ...,\n",
       "         2.22737363e-02,  2.59860257e-02,  2.59860257e-02],\n",
       "       ...,\n",
       "       [ 7.77585568e-02,  1.96495938e+00,  4.40592098e+00, ...,\n",
       "         1.62199868e-01,  1.89233180e-01,  1.89233180e-01],\n",
       "       [-6.73002905e+00,  1.41455875e-01, -3.26096748e-03, ...,\n",
       "         2.88033285e-03,  3.36038832e-03,  3.36038832e-03],\n",
       "       [-1.27258722e+01, -9.57482453e-01, -4.19925851e+00, ...,\n",
       "        -3.74488991e+00, -4.36903823e+00, -4.36903823e+00]])"
      ]
     },
     "execution_count": 35,
     "metadata": {},
     "output_type": "execute_result"
    }
   ],
   "source": [
    "preferences @ attributes - rating_train.toarray()"
   ]
  },
  {
   "cell_type": "code",
   "execution_count": 42,
   "metadata": {
    "ExecuteTime": {
     "end_time": "2019-12-10T04:11:31.674804Z",
     "start_time": "2019-12-10T04:11:29.985807Z"
    }
   },
   "outputs": [
    {
     "name": "stderr",
     "output_type": "stream",
     "text": [
      "C:\\ProgramData\\Anaconda3\\lib\\site-packages\\matplotlib\\axes\\_axes.py:6462: UserWarning:\n",
      "\n",
      "The 'normed' kwarg is deprecated, and has been replaced by the 'density' kwarg.\n",
      "\n",
      "C:\\ProgramData\\Anaconda3\\lib\\site-packages\\matplotlib\\axes\\_axes.py:6462: UserWarning:\n",
      "\n",
      "The 'normed' kwarg is deprecated, and has been replaced by the 'density' kwarg.\n",
      "\n"
     ]
    },
    {
     "data": {
      "text/plain": [
       "<matplotlib.legend.Legend at 0x25e4433fb00>"
      ]
     },
     "execution_count": 42,
     "metadata": {},
     "output_type": "execute_result"
    },
    {
     "data": {
      "image/png": "[encoded data removed]",
      "text/plain": [
       "<Figure size 432x288 with 1 Axes>"
      ]
     },
     "metadata": {
      "needs_background": "light"
     },
     "output_type": "display_data"
    }
   ],
   "source": [
    "poisson_mean = preferences @ attributes\n",
    "poisson_mean[rating_train.toarray() == 0] = 0\n",
    "simulated = np.random.normal(poisson_mean)\n",
    "ax = sns.distplot(np.sum(rating_train,1),hist=True, kde=True)\n",
    "sns.distplot(np.sum(simulated,1),hist=True, kde=True)\n",
    "ax.set_title('Distribution of users by total rating')\n",
    "ax.set(xlabel='Total rating per user')\n",
    "ax.legend(['Observed Data', 'Simulated from fitted model'])"
   ]
  },
  {
   "cell_type": "code",
   "execution_count": 118,
   "metadata": {
    "scrolled": true
   },
   "outputs": [
    {
     "data": {
      "text/plain": [
       "{3: (-2.07413869716327, -3.310412742696868),\n",
       " 4: (-2.0707616666400135, -3.213957144394552),\n",
       " 5: (-2.068567758746036, -3.1360914411533365),\n",
       " 6: (-2.064692442056924, -3.0718528189501098),\n",
       " 7: (-2.061960509565144, -3.0197525637905227),\n",
       " 8: (-2.066342742632031, -2.5697587258569152),\n",
       " 9: (-2.0646156326646583, -2.5257923479055515),\n",
       " 10: (-2.063001177026945, -2.4882567115949854),\n",
       " 11: (-2.061235538518609, -2.4498812449737932),\n",
       " 12: (-2.0598859590207743, -2.4323663163476574),\n",
       " 13: (-2.058596142180146, -2.408385474243294),\n",
       " 14: (-2.0569054489250918, -2.3967983903008383),\n",
       " 15: (-2.0559345036592043, -2.3779243076573806),\n",
       " 16: (-2.055301935005633, -2.3923979168978904),\n",
       " 17: (-2.0544068982658366, -2.3761443474766266),\n",
       " 18: (-2.053534244894673, -2.373655236617516),\n",
       " 19: (-2.0523821027222935, -2.3798902376331705),\n",
       " 20: (-2.052035280703741, -2.3676339054961497),\n",
       " 21: (-2.051485690922571, -2.3743807219950703),\n",
       " 22: (-2.050908940252863, -2.374274260593525),\n",
       " 23: (-2.050518890358511, -2.36087106293125),\n",
       " 24: (-2.0502813214434545, -2.390605932506621),\n",
       " 25: (-2.049535693050017, -2.381807573175144),\n",
       " 26: (-2.049593135002213, -2.3802889283008692),\n",
       " 27: (-2.048774063999783, -2.3778224544194186),\n",
       " 28: (-2.0479237925173424, -2.3837582509437576),\n",
       " 29: (-2.0481936950554784, -2.388320864516443)}"
      ]
     },
     "execution_count": 118,
     "metadata": {},
     "output_type": "execute_result"
    }
   ],
   "source": [
    "rank = {}\n",
    "for k in range(3,30):\n",
    "    filename = f'results_{k}_2.txt' if k>=8 else f'results_{k}.txt'\n",
    "    with open(filename, 'r') as f:\n",
    "        train_ll = []\n",
    "        valid_ll = []\n",
    "        while True:\n",
    "            line = f.readline()\n",
    "            if not line:\n",
    "                break\n",
    "            line = line.strip('\\n')\n",
    "            if str(k) in line:\n",
    "                line = line.split(',')\n",
    "                train_ll.append(float(line[2]))\n",
    "                valid_ll.append(float(line[3]))\n",
    "    rank[k] = (np.mean(train_ll),np.mean(valid_ll))\n",
    "rank    \n",
    "                "
   ]
  },
  {
   "cell_type": "code",
   "execution_count": 162,
   "metadata": {},
   "outputs": [
    {
     "data": {
      "text/plain": [
       "Text(0, 0.5, 'LogLikelihood')"
      ]
     },
     "execution_count": 162,
     "metadata": {},
     "output_type": "execute_result"
    },
    {
     "data": {
      "image/png": "[encoded data removed]",
      "text/plain": [
       "<Figure size 432x288 with 1 Axes>"
      ]
     },
     "metadata": {
      "needs_background": "light"
     },
     "output_type": "display_data"
    }
   ],
   "source": [
    "pd.DataFrame(rank, index = ['training_likelihood', 'validation_likelihood']).T.plot(title = 'Log Likelihood vs K')\n",
    "plt.xlabel('K')\n",
    "plt.ylabel('LogLikelihood')"
   ]
  },
  {
   "cell_type": "code",
   "execution_count": 4,
   "metadata": {
    "ExecuteTime": {
     "end_time": "2019-11-15T07:26:25.430620Z",
     "start_time": "2019-11-15T07:26:24.958617Z"
    }
   },
   "outputs": [],
   "source": [
    "rating_train, rating_valid, rating_test, mapping = read()"
   ]
  },
  {
   "cell_type": "code",
   "execution_count": 155,
   "metadata": {
    "scrolled": true
   },
   "outputs": [
    {
     "name": "stdout",
     "output_type": "stream",
     "text": [
      "Iter 0: train_ll = -24.234411838298566, val_ll = -24.882510238193916, max_pref = 3515.5230478313742, min_pref = 174.08354190507467,max_att = 1222.1679243546746, min_att = 5.368034724770774\n",
      "Iter 1: train_ll = -2.866688832397351, val_ll = -3.4089745414476362, max_pref = 170464.59849065985, min_pref = 7261.859850868785,max_att = 8330.399489903726, min_att = 200.07295894363185\n",
      "Iter 2: train_ll = -2.3084261650843647, val_ll = -2.7997682734464804, max_pref = 129650.79772085311, min_pref = 15505.590497395668,max_att = 7046.965023802515, min_att = 348.9021075961214\n",
      "Iter 3: train_ll = -2.155739530403235, val_ll = -2.5898356707137093, max_pref = 110428.72117794964, min_pref = 18103.110478054696,max_att = 6527.9578383391345, min_att = 474.90303063654846\n",
      "Iter 4: train_ll = -2.099806744842781, val_ll = -2.4977010885355306, max_pref = 104634.7363951815, min_pref = 20205.61376931985,max_att = 6248.323888309439, min_att = 580.8141017000232\n",
      "Iter 5: train_ll = -2.077306235120982, val_ll = -2.4427513459532646, max_pref = 109213.20795700859, min_pref = 21633.674988363317,max_att = 6831.583344789008, min_att = 656.4669122506433\n",
      "Iter 6: train_ll = -2.0676116991558584, val_ll = -2.404752891652204, max_pref = 111928.06792790646, min_pref = 22546.592300260127,max_att = 7812.52457305685, min_att = 725.5018024509035\n",
      "Iter 7: train_ll = -2.0629788514625624, val_ll = -2.375640759279862, max_pref = 113373.08438685579, min_pref = 23111.383108732352,max_att = 8418.986906353552, min_att = 790.7048388838127\n",
      "Iter 8: train_ll = -2.060470668119955, val_ll = -2.351718068695557, max_pref = 113923.26308156672, min_pref = 23451.738667264508,max_att = 8770.913637979536, min_att = 828.176782411\n",
      "Iter 9: train_ll = -2.0589254004373854, val_ll = -2.3314200226845925, max_pref = 113842.67732140879, min_pref = 23657.728303333526,max_att = 8986.342407538501, min_att = 864.0225656634782\n",
      "Iter 10: train_ll = -2.057864092862126, val_ll = -2.319295615292625, max_pref = 113308.65226109618, min_pref = 23762.775312787548,max_att = 9097.590655541922, min_att = 877.8498937951217\n",
      "Iter 11: train_ll = -2.0570858432909276, val_ll = -2.308321953635445, max_pref = 112513.72920701346, min_pref = 23822.876116839816,max_att = 9159.689480856727, min_att = 882.7233417858972\n",
      "Iter 12: train_ll = -2.056487209193831, val_ll = -2.2983162384861555, max_pref = 111568.19048709473, min_pref = 23856.886314589996,max_att = 9195.068816363473, min_att = 887.3686914262287\n",
      "Iter 13: train_ll = -2.0560147529185366, val_ll = -2.2890528221309654, max_pref = 110512.46199668129, min_pref = 23877.13770494258,max_att = 9189.672614551797, min_att = 891.8760054873231\n",
      "Iter 14: train_ll = -2.0556321861713216, val_ll = -2.2805640430004024, max_pref = 109370.1201041163, min_pref = 23891.123276338738,max_att = 9177.182163698692, min_att = 896.2649686568454\n",
      "Iter 15: train_ll = -2.055313620153908, val_ll = -2.272785902646614, max_pref = 108170.12117078685, min_pref = 23901.810486481478,max_att = 9141.657155113573, min_att = 900.5514845049513\n",
      "Iter 16: train_ll = -2.055043685009826, val_ll = -2.2656526105435932, max_pref = 106913.56770033421, min_pref = 23915.320810605524,max_att = 9100.77794904493, min_att = 904.7613290870063\n",
      "Iter 17: train_ll = -2.054813993803329, val_ll = -2.262317457064801, max_pref = 105484.54854817176, min_pref = 23908.720163781236,max_att = 9037.634070595508, min_att = 908.9416888628343\n",
      "Iter 18: train_ll = -2.054624841011058, val_ll = -2.2591962890200423, max_pref = 104020.5496870722, min_pref = 23905.340771475905,max_att = 8968.288812232635, min_att = 913.0567752262889\n",
      "Iter 19: train_ll = -2.0544597955699815, val_ll = -2.256161383133381, max_pref = 102499.06433061238, min_pref = 23908.224613364764,max_att = 8875.035464687373, min_att = 917.1844053664422\n",
      "Iter 20: train_ll = -2.054304524351243, val_ll = -2.2532408856547175, max_pref = 101003.0065132727, min_pref = 23915.624089314973,max_att = 8774.552900802582, min_att = 921.2866467192465\n",
      "Iter 21: train_ll = -2.0541542993303596, val_ll = -2.2504483221474567, max_pref = 99504.16617148425, min_pref = 23930.235560965797,max_att = 8649.772599429934, min_att = 925.3800117200908\n",
      "Iter 22: train_ll = -2.0539977999502095, val_ll = -2.247692127467067, max_pref = 97966.10929705066, min_pref = 23954.018431011697,max_att = 8516.661964055958, min_att = 929.5470362718372\n",
      "Iter 23: train_ll = -2.053831231421702, val_ll = -2.2450127899686874, max_pref = 96810.05710682043, min_pref = 23987.972495026715,max_att = 8359.337812993685, min_att = 909.0529924013235\n",
      "Iter 24: train_ll = -2.053642004126849, val_ll = -2.242329061516815, max_pref = 96097.56210490443, min_pref = 24029.935949403323,max_att = 8195.358631917616, min_att = 913.3937122495581\n",
      "Iter 25: train_ll = -2.053431358867997, val_ll = -2.2396322507909785, max_pref = 95300.60515592297, min_pref = 24081.566274646637,max_att = 8026.709751177598, min_att = 917.7921222654606\n",
      "Iter 26: train_ll = -2.0531947437696143, val_ll = -2.2368022377901116, max_pref = 94372.1187565481, min_pref = 24140.465779796425,max_att = 7854.602881815327, min_att = 922.2899864872311\n",
      "Iter 27: train_ll = -2.052934410304418, val_ll = -2.2340171401172877, max_pref = 93358.17075633028, min_pref = 24206.63477991192,max_att = 7699.943648575247, min_att = 926.952554473711\n",
      "Iter 28: train_ll = -2.052643804954426, val_ll = -2.2311663898029757, max_pref = 92355.45172289385, min_pref = 24274.12824334354,max_att = 7525.981696663394, min_att = 931.7341921640884\n",
      "Iter 29: train_ll = -2.0523283460062474, val_ll = -2.228310964530927, max_pref = 91275.29055163545, min_pref = 24351.28427898738,max_att = 7370.460379709441, min_att = 936.701848307228\n",
      "Iter 30: train_ll = -2.0519884576192777, val_ll = -2.225493797523959, max_pref = 90144.61483863565, min_pref = 24431.60097958081,max_att = 7236.290176454836, min_att = 941.8664573024096\n",
      "Iter 31: train_ll = -2.0516307298773246, val_ll = -2.2228191245774447, max_pref = 89358.06011283066, min_pref = 24516.761462884424,max_att = 7141.781120064501, min_att = 922.4692260839618\n",
      "Iter 32: train_ll = -2.0512579924151892, val_ll = -2.220199548902575, max_pref = 90029.58092416817, min_pref = 24608.17584416098,max_att = 7188.697852868397, min_att = 928.3026892574388\n",
      "Iter 33: train_ll = -2.050877432820201, val_ll = -2.2189144849125992, max_pref = 90662.01295073621, min_pref = 24675.323160626423,max_att = 7240.829905761307, min_att = 934.3817530670348\n",
      "Compete after 33 iterations\n"
     ]
    }
   ],
   "source": [
    "shape_and_rate2 = []\n",
    "for shape in [0.5]:\n",
    "    for rate in [5]:\n",
    "        shape_and_rate2.append((shape, rate, vi(rating_train, rating_valid, rating_test, max_iter = 100, K = 15, shape = shape, rate = rate, threshold = 10e-4)))"
   ]
  },
  {
   "cell_type": "code",
   "execution_count": 89,
   "metadata": {
    "scrolled": true
   },
   "outputs": [
    {
     "name": "stdout",
     "output_type": "stream",
     "text": [
      "Iter 0: train_ll = -35.89751056694942, val_ll = -37.80865028838897, max_pref = 105.34658157092673, min_pref = 20.260773265559184,max_att = 153.90826181178278, min_att = 0.09533958998160393\n",
      "Iter 1: train_ll = -2.71773783934935, val_ll = -4.204057834575382, max_pref = 193415.48991721493, min_pref = 6543.992784130026,max_att = 6537.126107353477, min_att = 15.911934798402198\n",
      "Iter 2: train_ll = -2.2509135088160215, val_ll = -3.7101201664847796, max_pref = 120220.94361782457, min_pref = 13121.203658076693,max_att = 6227.0568269185505, min_att = 18.907916666422263\n",
      "Iter 3: train_ll = -2.1656411141630074, val_ll = -3.608260147708517, max_pref = 97963.88023276303, min_pref = 14784.454988503272,max_att = 10056.365463146643, min_att = 20.200564327069497\n",
      "Iter 4: train_ll = -2.1337726883008488, val_ll = -3.5709141764457404, max_pref = 101072.20647002112, min_pref = 15687.00940466209,max_att = 11165.63314523743, min_att = 20.787093091434887\n",
      "Iter 5: train_ll = -2.115395630024272, val_ll = -3.551194451209587, max_pref = 101502.28884161261, min_pref = 16179.915015391847,max_att = 11956.229988682591, min_att = 21.08233770369835\n",
      "Iter 6: train_ll = -2.1027824722395247, val_ll = -3.538806101728121, max_pref = 100401.6074052901, min_pref = 16488.30747150819,max_att = 12427.446351220633, min_att = 21.25418912587538\n",
      "Iter 7: train_ll = -2.0934413961341094, val_ll = -3.5303438676766556, max_pref = 97464.61277712169, min_pref = 16705.0525542477,max_att = 12630.632304835814, min_att = 21.370097655728568\n",
      "Iter 8: train_ll = -2.0862300076800886, val_ll = -3.5245964380728783, max_pref = 94388.05223442886, min_pref = 16870.192764449588,max_att = 12900.825346758971, min_att = 21.45916259271732\n",
      "Iter 9: train_ll = -2.080490001762242, val_ll = -3.5207700614972985, max_pref = 91091.7444523545, min_pref = 17003.58093802315,max_att = 13158.011937663692, min_att = 21.533809164123266\n",
      "Iter 10: train_ll = -2.0758074087691325, val_ll = -3.518196593783535, max_pref = 87681.87354444418, min_pref = 17117.096576272626,max_att = 13544.496651247244, min_att = 21.59967522571756\n",
      "Compete after 10 iterations\n",
      "Iter 0: train_ll = -29.08004386347914, val_ll = -30.96399625586537, max_pref = 285.9877820783386, min_pref = 65.35896881143167,max_att = 388.5269759959867, min_att = 0.25863654574219036\n",
      "Iter 1: train_ll = -2.684000776539388, val_ll = -4.042017771233478, max_pref = 174133.69860655456, min_pref = 7046.470669453306,max_att = 6478.875431912114, min_att = 26.936904858146008\n",
      "Iter 2: train_ll = -2.2438727333216817, val_ll = -3.478142494744133, max_pref = 119072.05172972288, min_pref = 13502.596812703296,max_att = 6858.104883226455, min_att = 44.842451758492686\n",
      "Iter 3: train_ll = -2.165589037029261, val_ll = -3.3149622019917, max_pref = 94321.92094549091, min_pref = 15127.128353202008,max_att = 7709.006265970122, min_att = 61.645159016321685\n",
      "Iter 4: train_ll = -2.135631668425839, val_ll = -3.2250564182232573, max_pref = 82345.93134311748, min_pref = 15815.63618264299,max_att = 9843.545540904028, min_att = 77.58268009380058\n",
      "Iter 5: train_ll = -2.117873200052526, val_ll = -3.1597987966973364, max_pref = 75852.29456331728, min_pref = 16040.300085395433,max_att = 11666.56274995625, min_att = 93.06607725272455\n",
      "Iter 6: train_ll = -2.1054538128567897, val_ll = -3.1076447817444315, max_pref = 74341.66762198636, min_pref = 16078.44174037116,max_att = 13013.257773214194, min_att = 108.35676972991726\n",
      "Iter 7: train_ll = -2.0961089061676152, val_ll = -3.081055740463084, max_pref = 74106.58968656613, min_pref = 16058.240197843867,max_att = 14117.690863029067, min_att = 116.32272882553295\n",
      "Iter 8: train_ll = -2.088789844917674, val_ll = -3.057765346162607, max_pref = 73900.57703293442, min_pref = 16040.278033992798,max_att = 15105.600062730313, min_att = 124.22628668137376\n",
      "Iter 9: train_ll = -2.0828898703397365, val_ll = -3.037221411411433, max_pref = 73680.59398292558, min_pref = 16006.288429154221,max_att = 16052.18566812301, min_att = 132.11350370785158\n",
      "Iter 10: train_ll = -2.0780104962834365, val_ll = -3.018908436528476, max_pref = 73590.75155636563, min_pref = 15961.13448057656,max_att = 17002.59055772774, min_att = 140.00663759839074\n",
      "Iter 11: train_ll = -2.0739048017070205, val_ll = -3.002413243620863, max_pref = 73612.10327545811, min_pref = 15910.005114887459,max_att = 17993.241697081852, min_att = 147.9170162028895\n",
      "Iter 12: train_ll = -2.0703988232453163, val_ll = -2.987427616849045, max_pref = 73593.8622913838, min_pref = 15862.602221055864,max_att = 19080.160142737215, min_att = 155.84898779909588\n",
      "Iter 13: train_ll = -2.067367359959467, val_ll = -2.973779081548336, max_pref = 73535.59480534987, min_pref = 15820.508250980489,max_att = 20349.099483068632, min_att = 163.80726210738143\n",
      "Iter 14: train_ll = -2.064716456193322, val_ll = -2.961275420658994, max_pref = 73545.89075415603, min_pref = 15775.648922865517,max_att = 21876.695737768394, min_att = 171.7957047864811\n",
      "Iter 15: train_ll = -2.062371467837669, val_ll = -2.9498044351087667, max_pref = 73525.55024948771, min_pref = 15729.680952954059,max_att = 23710.40384083364, min_att = 179.81469177955282\n",
      "Iter 16: train_ll = -2.060279853817805, val_ll = -2.9392834815339346, max_pref = 73493.73860468695, min_pref = 15685.87730941887,max_att = 25868.37930114053, min_att = 187.8651750538062\n",
      "Iter 17: train_ll = -2.058398748282686, val_ll = -2.929636305536621, max_pref = 73476.73501940192, min_pref = 15644.297557462964,max_att = 28436.389361307218, min_att = 195.9495750442833\n",
      "Iter 18: train_ll = -2.0566938690714993, val_ll = -2.920660637648174, max_pref = 73467.3254862406, min_pref = 15604.14145010242,max_att = 31488.817772784383, min_att = 204.07008158443531\n",
      "Iter 19: train_ll = -2.055139607016943, val_ll = -2.911854521789314, max_pref = 73450.4557823956, min_pref = 15564.325223565205,max_att = 35098.84418361711, min_att = 212.22665476920972\n",
      "Iter 20: train_ll = -2.0537159691149696, val_ll = -2.903312328043333, max_pref = 73425.96784202436, min_pref = 15524.225759565394,max_att = 39336.53093296896, min_att = 220.4194850910691\n",
      "Iter 21: train_ll = -2.0524066825480727, val_ll = -2.9045459008659833, max_pref = 73385.82477154849, min_pref = 15481.905934261227,max_att = 44228.15953997119, min_att = 221.02799569530316\n",
      "Compete after 21 iterations\n",
      "Iter 0: train_ll = -25.836078815452165, val_ll = -27.77924733305247, max_pref = 440.52170916594343, min_pref = 103.3823990822727,max_att = 593.2028267682824, min_att = 0.41453225433919016\n",
      "Iter 1: train_ll = -2.6696183066634984, val_ll = -4.007531601460059, max_pref = 163694.18758078737, min_pref = 6491.692787092,max_att = 6392.631780543677, min_att = 29.54396743626624\n",
      "Iter 2: train_ll = -2.24683891128467, val_ll = -3.4568928366924174, max_pref = 109675.13647746443, min_pref = 14522.463548197298,max_att = 7546.2859355221835, min_att = 50.60181204995603\n",
      "Iter 3: train_ll = -2.1702870979001387, val_ll = -3.2931632180570283, max_pref = 87633.17147550997, min_pref = 16172.328620391703,max_att = 8940.499486471323, min_att = 70.59263412482146\n",
      "Iter 4: train_ll = -2.1397641464976136, val_ll = -3.2150093453078394, max_pref = 79814.52778746783, min_pref = 16867.414617928564,max_att = 10171.73352570779, min_att = 85.41242430381192\n",
      "Iter 5: train_ll = -2.1214308412663607, val_ll = -3.1579610539612997, max_pref = 76041.61782818049, min_pref = 17086.334655332743,max_att = 10217.180946779441, min_att = 99.63282795282923\n",
      "Iter 6: train_ll = -2.108488598783254, val_ll = -3.111971416502198, max_pref = 74162.23332462204, min_pref = 17098.539203765227,max_att = 10001.265502543205, min_att = 113.60270808302943\n",
      "Iter 7: train_ll = -2.0986809100299055, val_ll = -3.073290410586249, max_pref = 73141.18284836749, min_pref = 17008.95178925516,max_att = 10194.247246488221, min_att = 127.49077013678786\n",
      "Iter 8: train_ll = -2.0909349157281505, val_ll = -3.0488367139106947, max_pref = 72471.84012769087, min_pref = 16871.754687466222,max_att = 10465.283961716148, min_att = 136.95787257869324\n",
      "Iter 9: train_ll = -2.08464111993661, val_ll = -3.027273949145415, max_pref = 72020.30799210622, min_pref = 16745.66726611464,max_att = 10654.85482062856, min_att = 146.41947407478787\n",
      "Iter 10: train_ll = -2.0794111413513003, val_ll = -3.008089485802894, max_pref = 71734.38299407334, min_pref = 16679.86943580907,max_att = 11377.790861660627, min_att = 155.89752724688657\n"
     ]
    },
    {
     "name": "stdout",
     "output_type": "stream",
     "text": [
      "Iter 11: train_ll = -2.0749940144168666, val_ll = -2.9907444370669594, max_pref = 71620.77192730123, min_pref = 16655.172856020596,max_att = 12039.107313555385, min_att = 165.40375930829254\n",
      "Iter 12: train_ll = -2.0712097144446346, val_ll = -2.974942139258823, max_pref = 71666.32194747403, min_pref = 16662.970259014888,max_att = 12506.304281362207, min_att = 174.94355203919355\n",
      "Iter 13: train_ll = -2.067927139066852, val_ll = -2.9605916275304924, max_pref = 71797.01141410632, min_pref = 16680.93162702218,max_att = 12660.982822142245, min_att = 184.51970984655898\n",
      "Iter 14: train_ll = -2.065051988512629, val_ll = -2.9475282547915604, max_pref = 71947.09108560033, min_pref = 16701.58138102089,max_att = 12854.120191858621, min_att = 194.13530302628783\n",
      "Iter 15: train_ll = -2.0625066575853, val_ll = -2.941913868060667, max_pref = 72058.85179136055, min_pref = 16723.034689953325,max_att = 13501.020820675218, min_att = 199.263035919394\n",
      "Iter 16: train_ll = -2.0602353217291984, val_ll = -2.936924310129633, max_pref = 72128.05220369142, min_pref = 16746.99290059812,max_att = 14058.905594773574, min_att = 204.40662192015358\n",
      "Iter 17: train_ll = -2.058193189760237, val_ll = -2.9323555380597837, max_pref = 72135.19186525344, min_pref = 16772.368615475378,max_att = 14571.537426423954, min_att = 209.56798121917268\n",
      "Iter 18: train_ll = -2.056343984679494, val_ll = -2.9280934475120075, max_pref = 72090.61283625639, min_pref = 16800.882126725115,max_att = 15006.66700454428, min_att = 214.74978770204552\n",
      "Iter 19: train_ll = -2.054659872837851, val_ll = -2.9240305596030782, max_pref = 72040.98299612066, min_pref = 16834.970126029737,max_att = 15345.229842562143, min_att = 219.95507367990425\n",
      "Iter 20: train_ll = -2.053120777130694, val_ll = -2.92032579534707, max_pref = 72006.34076242367, min_pref = 16876.247602141346,max_att = 15629.700142949854, min_att = 225.18649366861754\n",
      "Iter 21: train_ll = -2.051709991050869, val_ll = -2.917178879981464, max_pref = 71980.62297129974, min_pref = 16926.50475034242,max_att = 15882.712077588163, min_att = 230.44348316816166\n",
      "Iter 22: train_ll = -2.0504108157675134, val_ll = -2.9145186392889633, max_pref = 71969.05465651442, min_pref = 16981.84581957088,max_att = 16115.928951905167, min_att = 235.7240644130662\n",
      "Compete after 22 iterations\n",
      "Iter 0: train_ll = -35.73819293911924, val_ll = -36.71717786738094, max_pref = 2106.397220809847, min_pref = 23.535653505695525,max_att = 313.77778402874435, min_att = 0.5368305271651574\n",
      "Iter 1: train_ll = -2.902430976360924, val_ll = -3.842425053442754, max_pref = 171510.08585564332, min_pref = 6802.4917434438075,max_att = 8394.282111352193, min_att = 54.17673295658762\n",
      "Iter 2: train_ll = -2.30690967447664, val_ll = -3.288887209560044, max_pref = 149099.65983449138, min_pref = 11422.151930618227,max_att = 6950.50717907061, min_att = 63.45376011441163\n",
      "Iter 3: train_ll = -2.1468308373594, val_ll = -3.14145937758751, max_pref = 124715.9195140159, min_pref = 13530.981382752736,max_att = 6615.8685419080275, min_att = 67.9847513317119\n",
      "Iter 4: train_ll = -2.0935897720508585, val_ll = -3.091027561592992, max_pref = 108314.0331953238, min_pref = 15122.182401616243,max_att = 7052.477623814867, min_att = 70.4063436230144\n",
      "Iter 5: train_ll = -2.0748603936496695, val_ll = -3.073649066674136, max_pref = 98473.20584654344, min_pref = 16075.59933326193,max_att = 9202.102491885948, min_att = 71.77351652039219\n",
      "Iter 6: train_ll = -2.067633452802402, val_ll = -3.067654311324799, max_pref = 95575.46170503102, min_pref = 16582.787735299295,max_att = 10677.220113392535, min_att = 72.58699194659638\n",
      "Iter 7: train_ll = -2.0644885550090657, val_ll = -3.0660306230639107, max_pref = 93570.59311745029, min_pref = 16845.593547444892,max_att = 11223.449131102385, min_att = 73.10627255048585\n",
      "Compete after 7 iterations\n",
      "Iter 0: train_ll = -31.003558212847015, val_ll = -32.098830122435665, max_pref = 748.4698865885201, min_pref = 73.25343187307729,max_att = 349.36391923665343, min_att = 0.728621005026735\n",
      "Iter 1: train_ll = -2.842477985666557, val_ll = -3.632222081438014, max_pref = 269700.31658433256, min_pref = 7219.050388389089,max_att = 7613.66439064996, min_att = 91.70111122994852\n",
      "Iter 2: train_ll = -2.275114650497839, val_ll = -3.009640813729869, max_pref = 196657.2741481593, min_pref = 12926.59830768044,max_att = 6309.159891154031, min_att = 150.30842861249695\n",
      "Iter 3: train_ll = -2.1319221672609543, val_ll = -2.8090112808872942, max_pref = 157450.37308984488, min_pref = 15456.295935366745,max_att = 6078.166944762956, min_att = 207.9432109194519\n",
      "Iter 4: train_ll = -2.0871450942810026, val_ll = -2.714024840541209, max_pref = 133836.9278134127, min_pref = 17354.352023921478,max_att = 6565.891249660307, min_att = 264.003451318317\n",
      "Iter 5: train_ll = -2.071960842077401, val_ll = -2.6561550492570496, max_pref = 126226.67316537246, min_pref = 18502.20045898188,max_att = 7196.26474380401, min_att = 318.8665428968563\n",
      "Iter 6: train_ll = -2.0661451888290383, val_ll = -2.613996560393441, max_pref = 121181.41302065221, min_pref = 19139.80963724853,max_att = 7485.401227547618, min_att = 372.9752838359788\n",
      "Iter 7: train_ll = -2.0635886245090833, val_ll = -2.5957360253699995, max_pref = 116773.92156300867, min_pref = 19468.145364571257,max_att = 8316.897353237082, min_att = 401.6606966225037\n",
      "Iter 8: train_ll = -2.0623144024783313, val_ll = -2.579656383192081, max_pref = 113075.3381875749, min_pref = 19635.177591331856,max_att = 8988.6302637391, min_att = 430.0083969746733\n",
      "Iter 9: train_ll = -2.0616021368853237, val_ll = -2.5648193742376955, max_pref = 110013.50473039714, min_pref = 19716.383371331867,max_att = 9516.91373388384, min_att = 458.3441681100395\n",
      "Iter 10: train_ll = -2.0611597559575396, val_ll = -2.55092477631858, max_pref = 107439.01120166681, min_pref = 19754.285529951765,max_att = 9931.028683975323, min_att = 486.85823300787507\n",
      "Iter 11: train_ll = -2.0608594252062202, val_ll = -2.537804825086961, max_pref = 105326.95767072865, min_pref = 19769.33841931227,max_att = 10264.916780990327, min_att = 515.656866879967\n",
      "Iter 12: train_ll = -2.0606372344787434, val_ll = -2.5253643188629447, max_pref = 103558.3340306662, min_pref = 19772.089707461568,max_att = 10540.125101368596, min_att = 544.798459710574\n",
      "Iter 13: train_ll = -2.0604594426968874, val_ll = -2.513575967879237, max_pref = 102084.5966765662, min_pref = 19765.557743663547,max_att = 10765.352280240586, min_att = 555.5846045695974\n",
      "Iter 14: train_ll = -2.060308497835572, val_ll = -2.502389205607721, max_pref = 100817.25364001785, min_pref = 19752.201890996676,max_att = 10957.47457984218, min_att = 558.2283295678992\n",
      "Iter 15: train_ll = -2.060174478498717, val_ll = -2.4917140017197594, max_pref = 99787.14361631058, min_pref = 19733.110747716735,max_att = 11193.40042314533, min_att = 560.9337004941709\n",
      "Iter 16: train_ll = -2.0600506558427374, val_ll = -2.4815457874824562, max_pref = 98883.80108717877, min_pref = 19708.646135625757,max_att = 11480.340505370685, min_att = 563.6928296444548\n",
      "Iter 17: train_ll = -2.059932810387402, val_ll = -2.4718384358373617, max_pref = 98128.36803653151, min_pref = 19679.571443829904,max_att = 11752.993454590433, min_att = 566.5085823083452\n",
      "Iter 18: train_ll = -2.0598179062854527, val_ll = -2.462541998190876, max_pref = 97507.95732605761, min_pref = 19647.858785875665,max_att = 12022.782733352005, min_att = 569.3817039295662\n",
      "Iter 19: train_ll = -2.059704695879452, val_ll = -2.4537015788602416, max_pref = 96933.49081907475, min_pref = 19614.35391886157,max_att = 12275.402172538446, min_att = 572.3096850828521\n",
      "Iter 20: train_ll = -2.0595926847988637, val_ll = -2.445221828317122, max_pref = 96468.38720905762, min_pref = 19579.964937010038,max_att = 12523.438969260129, min_att = 575.2897427332691\n",
      "Iter 21: train_ll = -2.0594802859686037, val_ll = -2.4449265970524277, max_pref = 95999.34797236204, min_pref = 19530.296209994693,max_att = 12754.462089864697, min_att = 578.3395662234581\n",
      "Compete after 21 iterations\n",
      "Iter 0: train_ll = -28.603177066865214, val_ll = -29.695066959320616, max_pref = 970.1869343825933, min_pref = 101.28863481767469,max_att = 482.5544200918504, min_att = 0.960404781539218\n",
      "Iter 1: train_ll = -2.8306672600272558, val_ll = -3.603230995977093, max_pref = 207120.0996186789, min_pref = 7223.742236857309,max_att = 7431.940050787799, min_att = 98.9766113132886\n"
     ]
    },
    {
     "name": "stdout",
     "output_type": "stream",
     "text": [
      "Iter 2: train_ll = -2.2691525726726804, val_ll = -2.975405096422202, max_pref = 147900.0657693635, min_pref = 13927.570859342588,max_att = 6356.428568614535, min_att = 168.48556115959445\n",
      "Iter 3: train_ll = -2.1298514961309443, val_ll = -2.772626266907227, max_pref = 118669.20406993263, min_pref = 16789.806439611308,max_att = 6584.851934652749, min_att = 238.15860120455008\n",
      "Iter 4: train_ll = -2.0867913730076175, val_ll = -2.6888777931963936, max_pref = 114562.15396178159, min_pref = 18921.00211400858,max_att = 6965.596550377558, min_att = 291.82419901627776\n",
      "Iter 5: train_ll = -2.0720766790773806, val_ll = -2.638538912301356, max_pref = 119364.00535732068, min_pref = 20223.266192795807,max_att = 7577.010392669269, min_att = 343.6020055728434\n",
      "Iter 6: train_ll = -2.0663054157447958, val_ll = -2.6018491234075642, max_pref = 121464.41293609492, min_pref = 20970.8212457443,max_att = 8016.870307718583, min_att = 394.30053433696906\n",
      "Iter 7: train_ll = -2.063667764863181, val_ll = -2.5719789996219697, max_pref = 122474.24238653696, min_pref = 21400.12696124581,max_att = 9046.399891701541, min_att = 444.52537659191813\n",
      "Iter 8: train_ll = -2.0622748133473343, val_ll = -2.5543592415925214, max_pref = 123351.80600961202, min_pref = 21647.647092827494,max_att = 9874.475709816394, min_att = 479.2541994260513\n",
      "Iter 9: train_ll = -2.0614380497693765, val_ll = -2.538146102342148, max_pref = 124638.4033911998, min_pref = 21801.009591783222,max_att = 10539.45264986121, min_att = 514.009307635805\n",
      "Iter 10: train_ll = -2.0608846027236556, val_ll = -2.522958356766736, max_pref = 126377.93401123493, min_pref = 21901.864274357336,max_att = 11090.06993367806, min_att = 548.9925932237453\n",
      "Iter 11: train_ll = -2.0604846006395374, val_ll = -2.5087014925116082, max_pref = 128552.94357671886, min_pref = 21972.217995468327,max_att = 11543.637643710472, min_att = 554.7478867098914\n",
      "Iter 12: train_ll = -2.0601731788173234, val_ll = -2.495270408377146, max_pref = 131083.0439111366, min_pref = 22024.451514416032,max_att = 11913.756350940836, min_att = 557.5121933493191\n",
      "Iter 13: train_ll = -2.0599161602156446, val_ll = -2.4825825242761397, max_pref = 133753.01177098512, min_pref = 22065.21270817903,max_att = 12199.959414334195, min_att = 560.2680278608617\n",
      "Iter 14: train_ll = -2.059693771786193, val_ll = -2.4704663474072315, max_pref = 136319.3199397659, min_pref = 22099.427215575743,max_att = 12388.520810016471, min_att = 563.0382854516845\n",
      "Iter 15: train_ll = -2.059494429458233, val_ll = -2.4643359754895404, max_pref = 138442.53589849794, min_pref = 22119.800194616935,max_att = 12457.29505478405, min_att = 565.8381249713393\n",
      "Iter 16: train_ll = -2.0593104265893136, val_ll = -2.4583396209302535, max_pref = 140060.04686135566, min_pref = 22137.49433448665,max_att = 12447.395399208166, min_att = 568.6669980019511\n",
      "Iter 17: train_ll = -2.059138064558291, val_ll = -2.4524907983990105, max_pref = 141392.84305501165, min_pref = 22153.690359932054,max_att = 12694.67352044597, min_att = 571.5247829303953\n",
      "Iter 18: train_ll = -2.0589755885370042, val_ll = -2.446789149990862, max_pref = 142638.45885990871, min_pref = 22169.245956283165,max_att = 12921.304972076776, min_att = 574.4140815857163\n",
      "Iter 19: train_ll = -2.0588210236072846, val_ll = -2.4411626766092356, max_pref = 144088.5556880585, min_pref = 22184.79145155325,max_att = 13123.609384768726, min_att = 577.3507137148254\n",
      "Iter 20: train_ll = -2.058674041587479, val_ll = -2.4356881796390764, max_pref = 145788.30383020197, min_pref = 22200.659880734922,max_att = 13307.24423706679, min_att = 580.3100254264023\n",
      "Iter 21: train_ll = -2.058532921535628, val_ll = -2.430361188510814, max_pref = 147755.04223479834, min_pref = 22217.15957613076,max_att = 13467.125823656144, min_att = 583.3127786155089\n",
      "Iter 22: train_ll = -2.0583964849708756, val_ll = -2.4251122697884813, max_pref = 149945.2044738455, min_pref = 22234.494907257445,max_att = 13607.766297471782, min_att = 586.3598766348209\n",
      "Iter 23: train_ll = -2.058263591025819, val_ll = -2.419979862782688, max_pref = 152380.1863536857, min_pref = 22251.796440800914,max_att = 13723.905987066915, min_att = 589.4376308384768\n",
      "Iter 24: train_ll = -2.058133606589725, val_ll = -2.4149406215693934, max_pref = 155097.48339457123, min_pref = 22270.405427657963,max_att = 13823.1968036038, min_att = 592.5626700715657\n",
      "Iter 25: train_ll = -2.05800568539229, val_ll = -2.4100186618929125, max_pref = 158423.0840828934, min_pref = 22289.413576456318,max_att = 13908.310526885884, min_att = 595.7337907290141\n",
      "Iter 26: train_ll = -2.057880001389452, val_ll = -2.4051881649875213, max_pref = 161911.36085544535, min_pref = 22309.613502103726,max_att = 13981.88949824498, min_att = 598.9466426707605\n",
      "Iter 27: train_ll = -2.057756364479567, val_ll = -2.4004518465112135, max_pref = 165586.5046106287, min_pref = 22330.79032506567,max_att = 14037.76897709977, min_att = 590.0755897045935\n",
      "Iter 28: train_ll = -2.057635117667472, val_ll = -2.395718314159421, max_pref = 169437.7184465048, min_pref = 22352.46823199685,max_att = 14087.567191818602, min_att = 593.3081239339\n",
      "Iter 29: train_ll = -2.057516178128712, val_ll = -2.3947715119120434, max_pref = 173305.72544660894, min_pref = 22364.23812745775,max_att = 14123.998166956488, min_att = 596.6005078837026\n",
      "Compete after 29 iterations\n",
      "Iter 0: train_ll = -26.121325886373153, val_ll = -26.780919974059202, max_pref = 4646.6493639015835, min_pref = 116.19347329410961,max_att = 1385.1745060851754, min_att = 5.664547302375478\n",
      "Iter 1: train_ll = -2.976510632445075, val_ll = -3.74640819557182, max_pref = 92882.87453019602, min_pref = 7894.072184383533,max_att = 9868.801886336782, min_att = 89.80924767807849\n",
      "Iter 2: train_ll = -2.36956944043917, val_ll = -3.1780911739023474, max_pref = 107510.90178689288, min_pref = 13914.111253733276,max_att = 8427.168150825319, min_att = 110.68054914728246\n",
      "Iter 3: train_ll = -2.191490577913821, val_ll = -3.0111066368528845, max_pref = 103867.65394097137, min_pref = 16653.592965316802,max_att = 7478.04773982274, min_att = 120.36181569936603\n",
      "Iter 4: train_ll = -2.1214666841956076, val_ll = -2.944241027444438, max_pref = 101870.05507125858, min_pref = 18815.0346401473,max_att = 6898.973169937639, min_att = 125.75081476964048\n",
      "Iter 5: train_ll = -2.091305164501171, val_ll = -2.9147788821521816, max_pref = 101796.15371282898, min_pref = 20287.85390246832,max_att = 6803.328409888731, min_att = 129.07724631645388\n",
      "Iter 6: train_ll = -2.0775294103748347, val_ll = -2.9012782877204493, max_pref = 100838.07438232744, min_pref = 21220.390826266845,max_att = 7025.8266923033825, min_att = 131.25041003104934\n",
      "Iter 7: train_ll = -2.070766323277179, val_ll = -2.8945709041823, max_pref = 99981.82378389227, min_pref = 21759.458352156125,max_att = 7414.262036302279, min_att = 132.78439578416288\n",
      "Iter 8: train_ll = -2.06714064377208, val_ll = -2.891266784054755, max_pref = 99222.17779615476, min_pref = 22018.8638306996,max_att = 7469.982886830628, min_att = 133.92905999479518\n",
      "Iter 9: train_ll = -2.0649540231240247, val_ll = -2.889231118356782, max_pref = 98267.45784563677, min_pref = 22121.064455772677,max_att = 7454.684777074466, min_att = 134.85153594027096\n",
      "Compete after 9 iterations\n",
      "Iter 0: train_ll = -23.73864933030694, val_ll = -24.51717974115783, max_pref = 4652.336226315207, min_pref = 170.12309095250785,max_att = 1572.0192303171316, min_att = 6.44618580934522\n",
      "Iter 1: train_ll = -2.880700165733634, val_ll = -3.4882938889077773, max_pref = 184270.75351662538, min_pref = 7944.3125102565455,max_att = 8492.998802103937, min_att = 163.6609542677325\n",
      "Iter 2: train_ll = -2.314761797954151, val_ll = -2.8786835099382575, max_pref = 145025.19072342254, min_pref = 17160.039870141376,max_att = 7258.298674635715, min_att = 275.16169661167345\n",
      "Iter 3: train_ll = -2.159360375972151, val_ll = -2.6688279348961492, max_pref = 122686.56455519839, min_pref = 19985.53525071701,max_att = 6579.166057751927, min_att = 384.1393947950081\n",
      "Iter 4: train_ll = -2.102825157302549, val_ll = -2.5624570642498044, max_pref = 109470.20193479302, min_pref = 22055.436812839394,max_att = 6532.333253669361, min_att = 490.8385410559288\n",
      "Iter 5: train_ll = -2.0803003804257383, val_ll = -2.497350088047606, max_pref = 101227.9700951659, min_pref = 23315.475113911627,max_att = 6779.798352500055, min_att = 571.0373332076894\n"
     ]
    },
    {
     "name": "stdout",
     "output_type": "stream",
     "text": [
      "Iter 6: train_ll = -2.0706225876388973, val_ll = -2.4515182521262764, max_pref = 96417.86539964944, min_pref = 24026.061783759164,max_att = 7641.162959150455, min_att = 622.9475659910618\n",
      "Iter 7: train_ll = -2.0660178959045807, val_ll = -2.4303134413716165, max_pref = 98075.74085857019, min_pref = 24361.73523552704,max_att = 8120.578966936651, min_att = 671.6230234854617\n",
      "Iter 8: train_ll = -2.0635036655138244, val_ll = -2.41244329895525, max_pref = 99071.39389062084, min_pref = 24511.009286099645,max_att = 8366.55997198497, min_att = 710.4117104163079\n",
      "Iter 9: train_ll = -2.061940517974469, val_ll = -2.396758973366691, max_pref = 99728.59118288831, min_pref = 24566.1460378817,max_att = 8475.19868262808, min_att = 715.3788406031669\n",
      "Iter 10: train_ll = -2.0608450997291077, val_ll = -2.38255515870717, max_pref = 100224.42889315917, min_pref = 24576.222513493238,max_att = 8483.793238718106, min_att = 719.8554672486022\n",
      "Iter 11: train_ll = -2.0600270269694807, val_ll = -2.369586121462218, max_pref = 100468.47069161579, min_pref = 24570.00413734297,max_att = 8447.453918787307, min_att = 724.0822235592335\n",
      "Iter 12: train_ll = -2.0593878464596154, val_ll = -2.3577026560626777, max_pref = 100595.59248608135, min_pref = 24564.25445677142,max_att = 8373.135468489661, min_att = 728.1936020434471\n",
      "Iter 13: train_ll = -2.058869331686308, val_ll = -2.346678128835844, max_pref = 100609.83769924617, min_pref = 24568.2271208544,max_att = 8265.467086196843, min_att = 732.2965249415279\n",
      "Iter 14: train_ll = -2.058443204972169, val_ll = -2.3364584831829918, max_pref = 101256.99163706602, min_pref = 24584.689652019297,max_att = 8128.252892202689, min_att = 736.3620617395783\n",
      "Iter 15: train_ll = -2.058090546415015, val_ll = -2.326906169670226, max_pref = 101482.5470121434, min_pref = 24615.914718020533,max_att = 7987.155576962077, min_att = 740.4437759350592\n",
      "Iter 16: train_ll = -2.0577914332493363, val_ll = -2.3180584742470614, max_pref = 101673.37031980415, min_pref = 24658.5780563516,max_att = 7845.474924349382, min_att = 744.4804345209881\n",
      "Iter 17: train_ll = -2.0575366558107278, val_ll = -2.309714076400151, max_pref = 101636.5497577503, min_pref = 24718.028409784074,max_att = 7704.025129007313, min_att = 748.5177098671179\n",
      "Iter 18: train_ll = -2.057314747687262, val_ll = -2.3019520052883014, max_pref = 101667.4177818002, min_pref = 24786.303312622724,max_att = 7562.693681851218, min_att = 752.5219359266247\n",
      "Iter 19: train_ll = -2.0571185977447835, val_ll = -2.294677672957432, max_pref = 101455.98094252877, min_pref = 24863.969212110787,max_att = 7420.781231832129, min_att = 756.429884094655\n",
      "Iter 20: train_ll = -2.056942084241509, val_ll = -2.2878453128311915, max_pref = 101298.89853094099, min_pref = 24949.660512423772,max_att = 7304.249486619792, min_att = 760.2772614019723\n",
      "Iter 21: train_ll = -2.056766953465012, val_ll = -2.2873276480572917, max_pref = 100780.71576479562, min_pref = 25005.90074839901,max_att = 7188.099995090181, min_att = 764.0538886649265\n",
      "Compete after 21 iterations\n",
      "Iter 0: train_ll = -23.02373880701209, val_ll = -23.684249093234147, max_pref = 5143.94250525178, min_pref = 247.14295439214794,max_att = 1617.347620840514, min_att = 6.203041415985111\n",
      "Iter 1: train_ll = -2.872355283201405, val_ll = -3.456193325136464, max_pref = 176368.22525036926, min_pref = 8230.549149157505,max_att = 8880.077237743422, min_att = 177.67656566914795\n",
      "Iter 2: train_ll = -2.3094059097634836, val_ll = -2.843126130980951, max_pref = 127322.80287929166, min_pref = 15125.512968270896,max_att = 7298.4541303361375, min_att = 306.6032008828241\n",
      "Iter 3: train_ll = -2.1565096934130072, val_ll = -2.6326609939945023, max_pref = 113510.83061824537, min_pref = 17997.24996372829,max_att = 6723.03912787862, min_att = 425.2324166011765\n",
      "Iter 4: train_ll = -2.101315869330485, val_ll = -2.53952072334501, max_pref = 111586.85787831702, min_pref = 20319.544865071985,max_att = 6888.950451049308, min_att = 516.7507868445208\n",
      "Iter 5: train_ll = -2.079534337830309, val_ll = -2.483692018299829, max_pref = 111377.22840969259, min_pref = 21906.58740444441,max_att = 7352.790432462416, min_att = 580.5212932401072\n",
      "Iter 6: train_ll = -2.070246827481274, val_ll = -2.444528851918625, max_pref = 111523.47127234496, min_pref = 22930.46544760411,max_att = 8195.02295312695, min_att = 639.9392185593822\n",
      "Iter 7: train_ll = -2.065853229322568, val_ll = -2.4140843768090887, max_pref = 111726.635310095, min_pref = 23574.90978718359,max_att = 8500.347619334636, min_att = 696.4578998170006\n",
      "Iter 8: train_ll = -2.063506704813554, val_ll = -2.3960350444960494, max_pref = 111769.79509914758, min_pref = 23958.26102235683,max_att = 8469.841304416543, min_att = 728.7047707391298\n",
      "Iter 9: train_ll = -2.062085385565767, val_ll = -2.380101086092113, max_pref = 111790.42013236343, min_pref = 24194.84889993969,max_att = 8229.14386586153, min_att = 759.7153914563892\n",
      "Iter 10: train_ll = -2.0611257916011945, val_ll = -2.3658167314470067, max_pref = 111749.80201855127, min_pref = 24339.029721793704,max_att = 7884.760961048443, min_att = 778.4246796997563\n",
      "Iter 11: train_ll = -2.060407329161937, val_ll = -2.352714164463349, max_pref = 111690.61613619732, min_pref = 24427.503277324053,max_att = 7569.178258973393, min_att = 783.5977111500689\n",
      "Iter 12: train_ll = -2.05981459631242, val_ll = -2.340604067489306, max_pref = 111489.85541861554, min_pref = 24478.596698778056,max_att = 7606.473424058626, min_att = 788.6226241389335\n",
      "Iter 13: train_ll = -2.059302501063263, val_ll = -2.329426407684042, max_pref = 111181.36122524124, min_pref = 24501.9308020386,max_att = 7628.370050404617, min_att = 793.5969913155084\n",
      "Iter 14: train_ll = -2.05884528080768, val_ll = -2.319052117606699, max_pref = 110806.4677769868, min_pref = 24504.838848267933,max_att = 7651.1861121194515, min_att = 798.5425771043465\n",
      "Iter 15: train_ll = -2.05843014446318, val_ll = -2.3137260654312413, max_pref = 110129.48883807611, min_pref = 24471.298190844034,max_att = 7659.242643109289, min_att = 803.4837661241585\n",
      "Iter 16: train_ll = -2.058054524097515, val_ll = -2.308660949813875, max_pref = 110519.16338956833, min_pref = 24420.974660602926,max_att = 7668.545258244462, min_att = 808.3957988537641\n",
      "Iter 17: train_ll = -2.05771452965452, val_ll = -2.303720551537772, max_pref = 110964.29757010187, min_pref = 24353.770367141347,max_att = 7696.338153256485, min_att = 813.3117788044751\n",
      "Iter 18: train_ll = -2.0574079182554215, val_ll = -2.2990309516538363, max_pref = 111167.34245588991, min_pref = 24268.464390446843,max_att = 7710.698388336474, min_att = 818.2012998705244\n",
      "Iter 19: train_ll = -2.0571360187385075, val_ll = -2.2944739905052876, max_pref = 111192.93529637346, min_pref = 24162.244878340774,max_att = 7727.968760401518, min_att = 823.0775699374327\n",
      "Iter 20: train_ll = -2.056893750173927, val_ll = -2.2901277565110822, max_pref = 111013.97733069482, min_pref = 24038.247816715277,max_att = 7749.418195910347, min_att = 827.9454393061226\n",
      "Iter 21: train_ll = -2.056667853295154, val_ll = -2.2859282320663072, max_pref = 110695.94105967159, min_pref = 23889.781344612875,max_att = 7775.885998968404, min_att = 832.7837404814501\n",
      "Iter 22: train_ll = -2.0564502079316123, val_ll = -2.2818648498113, max_pref = 110259.24500194582, min_pref = 23717.42276353948,max_att = 7791.512516530667, min_att = 837.6060200391803\n",
      "Iter 23: train_ll = -2.0562385287570355, val_ll = -2.277948945718733, max_pref = 109737.49157753744, min_pref = 23518.353019358874,max_att = 7814.107531561493, min_att = 842.3729991254962\n",
      "Iter 24: train_ll = -2.056029939178536, val_ll = -2.2741224301641236, max_pref = 109110.81876834063, min_pref = 23295.896082705673,max_att = 7845.684556196728, min_att = 824.5971389415731\n",
      "Iter 25: train_ll = -2.0558195384387554, val_ll = -2.270370255275353, max_pref = 108451.59719824971, min_pref = 23045.038259285833,max_att = 7869.40365747978, min_att = 829.3173037291679\n",
      "Iter 26: train_ll = -2.055603011083174, val_ll = -2.2665945352924797, max_pref = 107687.27314377952, min_pref = 22768.18819443785,max_att = 7903.927575324676, min_att = 833.9526408150441\n",
      "Iter 27: train_ll = -2.0553738451064296, val_ll = -2.2628256546420507, max_pref = 106924.13637932559, min_pref = 22470.697352766478,max_att = 7931.6383355902235, min_att = 838.598853519837\n"
     ]
    },
    {
     "name": "stdout",
     "output_type": "stream",
     "text": [
      "Iter 28: train_ll = -2.055123901064058, val_ll = -2.2590814558193353, max_pref = 106064.38749023591, min_pref = 22148.685338539253,max_att = 7951.240828203944, min_att = 843.179523136218\n",
      "Iter 29: train_ll = -2.054856205713382, val_ll = -2.257797545538575, max_pref = 105093.0286463707, min_pref = 21792.442610164755,max_att = 7980.420645936428, min_att = 847.6735410985129\n",
      "Compete after 29 iterations\n"
     ]
    }
   ],
   "source": [
    "shape_and_rate = []\n",
    "for shape in [0.1,0.3,0.5]:\n",
    "    for rate in [1,3,5]:\n",
    "        shape_and_rate.append((shape, rate, vi(rating_train, rating_valid, rating_test, max_iter = 100, K = 13, shape = shape, rate = rate, threshold = 10e-4)))"
   ]
  },
  {
   "cell_type": "code",
   "execution_count": 160,
   "metadata": {
    "scrolled": true
   },
   "outputs": [
    {
     "data": {
      "text/plain": [
       "Text(0, 0.5, 'Validation Loglikelihood')"
      ]
     },
     "execution_count": 160,
     "metadata": {},
     "output_type": "execute_result"
    },
    {
     "data": {
      "image/png": "[encoded data removed]",
      "text/plain": [
       "<Figure size 432x288 with 1 Axes>"
      ]
     },
     "metadata": {
      "needs_background": "light"
     },
     "output_type": "display_data"
    }
   ],
   "source": [
    "df = pd.DataFrame([temp[2]['val'] for temp in shape_and_rate], index = [f'shape: {temp[0]}, rate:{temp[1]}' for temp in shape_and_rate])\n",
    "df.T[1:].fillna(method =  'ffill').plot(title = 'Validation loglikehood is sensitive to hyperparameters')\n",
    "plt.xlabel('iterations')\n",
    "plt.ylabel('Validation Loglikelihood')"
   ]
  },
  {
   "cell_type": "code",
   "execution_count": 190,
   "metadata": {},
   "outputs": [
    {
     "data": {
      "text/plain": [
       "Text(0, 0.5, 'Train Loglikelihood')"
      ]
     },
     "execution_count": 190,
     "metadata": {},
     "output_type": "execute_result"
    },
    {
     "data": {
      "image/png": "[encoded data removed]",
      "text/plain": [
       "<Figure size 432x288 with 1 Axes>"
      ]
     },
     "metadata": {
      "needs_background": "light"
     },
     "output_type": "display_data"
    }
   ],
   "source": [
    "df = pd.DataFrame([temp[2]['train'] for temp in shape_and_rate], index = [f'shape: {temp[0]}, rate:{temp[1]}' for temp in shape_and_rate])\n",
    "df.T[1:].fillna(method =  'ffill').plot(title = 'Train loglikehood is not sensitive to hyperparameters')\n",
    "plt.xlabel('iterations')\n",
    "plt.ylabel('Train Loglikelihood')"
   ]
  },
  {
   "cell_type": "code",
   "execution_count": 192,
   "metadata": {
    "scrolled": false
   },
   "outputs": [
    {
     "name": "stdout",
     "output_type": "stream",
     "text": [
      "Iter 0: train_ll = -24.57301915973842, val_ll = -25.293837262280636, max_pref = 2832.8350088619563, min_pref = 195.94527845743247,max_att = 1209.3980095678398, min_att = 5.035785127673952\n",
      "Iter 1: train_ll = -2.8556533018219348, val_ll = -3.396873396687, max_pref = 175227.13459885624, min_pref = 7895.774114610332,max_att = 8516.128107120723, min_att = 220.02422778269963\n",
      "Iter 2: train_ll = -2.300887474056222, val_ll = -2.7845691072306855, max_pref = 138944.88492540718, min_pref = 15404.985948271025,max_att = 7263.939084129138, min_att = 377.6312088150411\n",
      "Iter 3: train_ll = -2.1510767748766693, val_ll = -2.577533146695734, max_pref = 129001.22133806092, min_pref = 17606.593596320854,max_att = 6670.40867591559, min_att = 503.77087517119764\n",
      "Iter 4: train_ll = -2.0973539516907196, val_ll = -2.4780678483805203, max_pref = 123240.26364443422, min_pref = 19367.347306726315,max_att = 6575.280302337983, min_att = 610.8994999751708\n",
      "Iter 5: train_ll = -2.0761461168670956, val_ll = -2.420745706791638, max_pref = 118990.18018090789, min_pref = 20495.191224876336,max_att = 6922.778679731416, min_att = 701.9244825179824\n",
      "Iter 6: train_ll = -2.0670937767948447, val_ll = -2.3827720317083325, max_pref = 115366.80242958895, min_pref = 21151.57585103175,max_att = 7700.185007712408, min_att = 779.2062466375515\n",
      "Iter 7: train_ll = -2.06277617529358, val_ll = -2.3551078478765506, max_pref = 112171.74145745252, min_pref = 21496.711273095694,max_att = 8135.205429189948, min_att = 844.6628671360548\n",
      "Iter 8: train_ll = -2.06042196777348, val_ll = -2.3335635705584763, max_pref = 109370.67254495109, min_pref = 21650.021131388454,max_att = 8288.716258249236, min_att = 878.076970543409\n",
      "Iter 9: train_ll = -2.0589481612920593, val_ll = -2.3161487651432937, max_pref = 108825.912471109, min_pref = 21689.64888346113,max_att = 8256.843181672657, min_att = 896.0490684765765\n",
      "Iter 10: train_ll = -2.05791323096652, val_ll = -2.3017362750863906, max_pref = 110091.05061413707, min_pref = 21663.195492402,max_att = 8098.976107088327, min_att = 908.2449076850803\n",
      "Iter 11: train_ll = -2.057119271995419, val_ll = -2.2896435918557385, max_pref = 111043.45661534816, min_pref = 21598.495861432344,max_att = 7855.413707902841, min_att = 916.691526579773\n",
      "Iter 12: train_ll = -2.0564813973405722, val_ll = -2.279420204832449, max_pref = 111748.80971853946, min_pref = 21511.32325502324,max_att = 7559.3171827378255, min_att = 922.752960708767\n",
      "Iter 13: train_ll = -2.055950414292525, val_ll = -2.2707234092997837, max_pref = 112247.36001366939, min_pref = 21410.333034989286,max_att = 7457.70579631387, min_att = 927.3258721883714\n",
      "Iter 14: train_ll = -2.055499901820562, val_ll = -2.2632946410470978, max_pref = 112564.32480706529, min_pref = 21300.092537775992,max_att = 7440.282415635054, min_att = 930.9904499071441\n",
      "Iter 15: train_ll = -2.055116804179404, val_ll = -2.256843239338355, max_pref = 112715.984337706, min_pref = 21182.866289594782,max_att = 7423.774681815447, min_att = 934.1187274977918\n",
      "Iter 16: train_ll = -2.054787447979648, val_ll = -2.251260598244583, max_pref = 112713.10996560275, min_pref = 21059.64217409302,max_att = 7407.595425442758, min_att = 936.9491113554944\n",
      "Iter 17: train_ll = -2.0544959927315674, val_ll = -2.2464337791153537, max_pref = 112563.52625338119, min_pref = 20930.716640467435,max_att = 7391.1345633398805, min_att = 939.636195400307\n",
      "Iter 18: train_ll = -2.054245814425813, val_ll = -2.242219445708263, max_pref = 112274.91711076372, min_pref = 20796.039339281677,max_att = 7373.80703836307, min_att = 942.2831633035395\n",
      "Iter 19: train_ll = -2.0540391310842887, val_ll = -2.238501400274831, max_pref = 111857.9887828992, min_pref = 20655.426027757436,max_att = 7355.058147343362, min_att = 944.9623236109352\n",
      "Iter 20: train_ll = -2.053872826610045, val_ll = -2.2352718579345168, max_pref = 111329.15496021706, min_pref = 20508.688005582426,max_att = 7334.354872648519, min_att = 947.727950367514\n",
      "Iter 21: train_ll = -2.0537337949838603, val_ll = -2.2324644665983566, max_pref = 110711.3764963718, min_pref = 20355.70603608454,max_att = 7311.174972992025, min_att = 950.6241056815664\n",
      "Iter 22: train_ll = -2.053609813343054, val_ll = -2.230039045285955, max_pref = 110032.17364334842, min_pref = 20196.472486697836,max_att = 7285.000078748454, min_att = 953.6889435059527\n",
      "Iter 23: train_ll = -2.0534936942617588, val_ll = -2.227938477666372, max_pref = 109319.14952025109, min_pref = 20031.117215955557,max_att = 7255.31782883113, min_att = 956.9568259418309\n",
      "Compete after 23 iterations\n"
     ]
    }
   ],
   "source": [
    "log = vi(rating_train, rating_valid, rating_test, max_iter = 100, K = 15, shape = 0.5, rate = 5.0, threshold = 10e-4)"
   ]
  },
  {
   "cell_type": "code",
   "execution_count": 193,
   "metadata": {},
   "outputs": [
    {
     "data": {
      "text/plain": [
       "dict_keys(['train', 'val', 'test', 'theta', 'beta'])"
      ]
     },
     "execution_count": 193,
     "metadata": {},
     "output_type": "execute_result"
    }
   ],
   "source": [
    "log.keys()"
   ]
  },
  {
   "cell_type": "code",
   "execution_count": 194,
   "metadata": {
    "scrolled": true
   },
   "outputs": [
    {
     "data": {
      "text/plain": [
       "array([[46.62893522,  1.04598202,  0.41611657, ...,  0.19928101,\n",
       "         0.34789046,  0.27920444],\n",
       "       [ 3.05519377,  1.04362703,  1.54211002, ...,  0.49401277,\n",
       "         1.10620197, 67.27132589],\n",
       "       [ 1.17304734,  0.49420328,  0.44139412, ...,  0.51669413,\n",
       "         2.30153478, 32.47458713],\n",
       "       ...,\n",
       "       [ 3.93761816,  3.93761816,  3.93761816, ...,  3.93761816,\n",
       "         3.93761816,  3.93761816],\n",
       "       [ 5.22248676,  5.30941027,  5.1514566 , ...,  7.5037555 ,\n",
       "         5.27801338,  5.32036961],\n",
       "       [ 5.41559917,  5.38569686,  5.24746396, ...,  8.80051569,\n",
       "         5.35768637,  5.43267132]])"
      ]
     },
     "execution_count": 194,
     "metadata": {},
     "output_type": "execute_result"
    }
   ],
   "source": [
    "log.pop('theta')\n",
    "log.pop('beta')"
   ]
  },
  {
   "cell_type": "code",
   "execution_count": 215,
   "metadata": {},
   "outputs": [
    {
     "data": {
      "text/plain": [
       "Text(0, 0.5, 'loglikelihood')"
      ]
     },
     "execution_count": 215,
     "metadata": {},
     "output_type": "execute_result"
    },
    {
     "data": {
      "image/png": "[encoded data removed]",
      "text/plain": [
       "<Figure size 432x288 with 1 Axes>"
      ]
     },
     "metadata": {
      "needs_background": "light"
     },
     "output_type": "display_data"
    }
   ],
   "source": [
    "pd.DataFrame(log).plot()\n",
    "plt.legend(loc ='lower right')\n",
    "plt.xlabel('iter')\n",
    "plt.ylabel('loglikelihood')"
   ]
  },
  {
   "cell_type": "code",
   "execution_count": 218,
   "metadata": {},
   "outputs": [
    {
     "data": {
      "text/plain": [
       "Text(0, 0.5, 'loglikelihood')"
      ]
     },
     "execution_count": 218,
     "metadata": {},
     "output_type": "execute_result"
    },
    {
     "data": {
      "image/png": "[encoded data removed]",
      "text/plain": [
       "<Figure size 432x288 with 1 Axes>"
      ]
     },
     "metadata": {
      "needs_background": "light"
     },
     "output_type": "display_data"
    }
   ],
   "source": [
    "pd.DataFrame(log)[18:].plot()\n",
    "plt.legend(loc ='lower right')\n",
    "plt.xlabel('iter')\n",
    "plt.ylabel('loglikelihood')"
   ]
  },
  {
   "cell_type": "code",
   "execution_count": 88,
   "metadata": {},
   "outputs": [
    {
     "ename": "KeyError",
     "evalue": "'shape'",
     "output_type": "error",
     "traceback": [
      "\u001b[0;31m---------------------------------------------------------------------------\u001b[0m",
      "\u001b[0;31mKeyError\u001b[0m                                  Traceback (most recent call last)",
      "\u001b[0;32m<ipython-input-88-879246b33c70>\u001b[0m in \u001b[0;36m<module>\u001b[0;34m\u001b[0m\n\u001b[1;32m      3\u001b[0m     \u001b[0mresult2\u001b[0m\u001b[0;34m[\u001b[0m\u001b[0mK\u001b[0m\u001b[0;34m]\u001b[0m \u001b[0;34m=\u001b[0m \u001b[0;34m[\u001b[0m\u001b[0;34m]\u001b[0m\u001b[0;34m\u001b[0m\u001b[0;34m\u001b[0m\u001b[0m\n\u001b[1;32m      4\u001b[0m     \u001b[0;32mfor\u001b[0m \u001b[0m_\u001b[0m \u001b[0;32min\u001b[0m \u001b[0mrange\u001b[0m\u001b[0;34m(\u001b[0m\u001b[0;36m20\u001b[0m\u001b[0;34m)\u001b[0m\u001b[0;34m:\u001b[0m\u001b[0;34m\u001b[0m\u001b[0;34m\u001b[0m\u001b[0m\n\u001b[0;32m----> 5\u001b[0;31m         \u001b[0mtheta\u001b[0m\u001b[0;34m,\u001b[0m \u001b[0mbeta\u001b[0m\u001b[0;34m,\u001b[0m \u001b[0mtraining_ll\u001b[0m\u001b[0;34m,\u001b[0m \u001b[0mvalid_ll\u001b[0m \u001b[0;34m=\u001b[0m \u001b[0mvi\u001b[0m\u001b[0;34m(\u001b[0m\u001b[0mrating_train\u001b[0m\u001b[0;34m,\u001b[0m \u001b[0mrating_valid\u001b[0m\u001b[0;34m,\u001b[0m \u001b[0mrating_test\u001b[0m\u001b[0;34m,\u001b[0m \u001b[0mmax_iter\u001b[0m \u001b[0;34m=\u001b[0m \u001b[0;36m50\u001b[0m\u001b[0;34m,\u001b[0m \u001b[0mK\u001b[0m \u001b[0;34m=\u001b[0m \u001b[0mK\u001b[0m\u001b[0;34m)\u001b[0m\u001b[0;34m\u001b[0m\u001b[0;34m\u001b[0m\u001b[0m\n\u001b[0m\u001b[1;32m      6\u001b[0m         \u001b[0mresult2\u001b[0m\u001b[0;34m[\u001b[0m\u001b[0mK\u001b[0m\u001b[0;34m]\u001b[0m\u001b[0;34m.\u001b[0m\u001b[0mappend\u001b[0m\u001b[0;34m(\u001b[0m\u001b[0;34m(\u001b[0m\u001b[0mtheta\u001b[0m\u001b[0;34m,\u001b[0m \u001b[0mbeta\u001b[0m\u001b[0;34m,\u001b[0m \u001b[0mtraining_ll\u001b[0m\u001b[0;34m,\u001b[0m \u001b[0mvalid_ll\u001b[0m\u001b[0;34m)\u001b[0m\u001b[0;34m)\u001b[0m\u001b[0;34m\u001b[0m\u001b[0;34m\u001b[0m\u001b[0m\n",
      "\u001b[0;32m~/git/gibbs/matrix_factorization.py\u001b[0m in \u001b[0;36mvi\u001b[0;34m(rating_train, rating_valid, rating_test, **kwargs)\u001b[0m\n\u001b[1;32m    172\u001b[0m     \u001b[0mthreshold\u001b[0m \u001b[0;34m=\u001b[0m \u001b[0mkwargs\u001b[0m\u001b[0;34m.\u001b[0m\u001b[0mpop\u001b[0m\u001b[0;34m(\u001b[0m\u001b[0;34m'threshold'\u001b[0m\u001b[0;34m,\u001b[0m \u001b[0;36m10e-4\u001b[0m\u001b[0;34m)\u001b[0m\u001b[0;34m\u001b[0m\u001b[0;34m\u001b[0m\u001b[0m\n\u001b[1;32m    173\u001b[0m     \u001b[0mK\u001b[0m \u001b[0;34m=\u001b[0m \u001b[0mkwargs\u001b[0m\u001b[0;34m.\u001b[0m\u001b[0mpop\u001b[0m\u001b[0;34m(\u001b[0m\u001b[0;34m'K'\u001b[0m\u001b[0;34m)\u001b[0m\u001b[0;34m\u001b[0m\u001b[0;34m\u001b[0m\u001b[0m\n\u001b[0;32m--> 174\u001b[0;31m     \u001b[0mshape\u001b[0m \u001b[0;34m=\u001b[0m \u001b[0mkwargs\u001b[0m\u001b[0;34m.\u001b[0m\u001b[0mpop\u001b[0m\u001b[0;34m(\u001b[0m\u001b[0;34m'shape'\u001b[0m\u001b[0;34m)\u001b[0m\u001b[0;34m\u001b[0m\u001b[0;34m\u001b[0m\u001b[0m\n\u001b[0m\u001b[1;32m    175\u001b[0m     \u001b[0mrate\u001b[0m \u001b[0;34m=\u001b[0m \u001b[0mkwargs\u001b[0m\u001b[0;34m.\u001b[0m\u001b[0mpop\u001b[0m\u001b[0;34m(\u001b[0m\u001b[0;34m'rate'\u001b[0m\u001b[0;34m)\u001b[0m\u001b[0;34m\u001b[0m\u001b[0;34m\u001b[0m\u001b[0m\n\u001b[1;32m    176\u001b[0m \u001b[0;34m\u001b[0m\u001b[0m\n",
      "\u001b[0;31mKeyError\u001b[0m: 'shape'"
     ]
    }
   ],
   "source": [
    "result2 = {}\n",
    "for K in range(4,10):\n",
    "    result2[K] = []\n",
    "    for _ in range(20):\n",
    "        theta, beta, training_ll, valid_ll = vi(rating_train, rating_valid, rating_test, max_iter = 50, K = K, sha)\n",
    "        result2[K].append((theta, beta, training_ll, valid_ll))"
   ]
  },
  {
   "cell_type": "code",
   "execution_count": 73,
   "metadata": {},
   "outputs": [],
   "source": [
    "df = pd.read_csv('hw2-datasets/movielens/movies.csv')\n",
    "df.loc[df.movieId == 1, 'title'].values[0]\n",
    "movies = [df.loc[df.movieId == int(x), 'title'].values[0] for x in mapping.keys()]\n",
    "genres = [df.loc[df.movieId == int(x), 'genres'].values[0] for x in mapping.keys()]\n",
    "unique_genres = np.array(list(set([y for x in genres for y in x.split('|')])))"
   ]
  },
  {
   "cell_type": "code",
   "execution_count": 84,
   "metadata": {},
   "outputs": [
    {
     "data": {
      "text/plain": [
       "'temp-plot.html'"
      ]
     },
     "execution_count": 84,
     "metadata": {},
     "output_type": "execute_result"
    }
   ],
   "source": [
    "genre = genres[0]\n",
    "beta_ = pca.PCA(3).fit(beta).transform(beta)\n",
    "genre = 'Comedy'\n",
    "\n",
    "x, y, z = np.split(beta_, 3, axis = 1)\n",
    "trace1 = go.Scatter3d(\n",
    "    x=x.flatten(),\n",
    "    y=y.flatten(),\n",
    "    z=z.flatten(),\n",
    "    #text = movies,\n",
    "    text = list(zip(genres, movies)),\n",
    "    mode='markers',\n",
    "    marker=dict(color=[1 if genre in x else 0 for x in genres])\n",
    ")\n",
    "\n",
    "data = [trace1]\n",
    "fig = go.Figure(data=data) #, layout=layout)\n",
    "plot(fig)"
   ]
  },
  {
   "cell_type": "code",
   "execution_count": null,
   "metadata": {},
   "outputs": [],
   "source": [
    "poisson_mean = theta @ beta.T\n",
    "poisson_mean[poisson_mean>10] = 10\n",
    "simulated = np.random.poisson(poisson_mean)\n",
    "sns.distplot(np.count_nonzero(rating_valid.toarray(),1))\n",
    "sns.distplot(np.count_nonzero(simulated,1))\n",
    "#sns.distplot(np.sum(rating_valid,1),hist=True, kde=True)\n",
    "#sns.distplot(np.sum(simulated,1),hist=True, kde=True)"
   ]
  },
  {
   "cell_type": "code",
   "execution_count": null,
   "metadata": {},
   "outputs": [],
   "source": [
    "beta"
   ]
  },
  {
   "cell_type": "code",
   "execution_count": null,
   "metadata": {
    "ExecuteTime": {
     "end_time": "2019-11-15T23:43:21.776179Z",
     "start_time": "2019-11-15T23:43:09.445111Z"
    }
   },
   "outputs": [],
   "source": [
    "df = pd.read_csv('hw2-datasets/movielens/movies.csv')\n",
    "df.loc[df.movieId == 1, 'title'].values[0]\n",
    "movies = [df.loc[df.movieId == int(x), 'title'].values[0] for x in mapping.keys()]\n",
    "genres = [df.loc[df.movieId == int(x), 'genres'].values[0] for x in mapping.keys()]\n",
    "unique_genres = np.array(list(set([y for x in genres for y in x.split('|')])))"
   ]
  },
  {
   "cell_type": "code",
   "execution_count": null,
   "metadata": {
    "ExecuteTime": {
     "end_time": "2019-11-15T23:46:59.415688Z",
     "start_time": "2019-11-15T23:46:57.840683Z"
    }
   },
   "outputs": [],
   "source": [
    "genre = genres[0]\n",
    "beta_ = pca.PCA(3).fit(beta).transform(beta)\n",
    "genre = 'Comedy'\n",
    "\n",
    "x, y, z = np.split(beta_, 3, axis = 1)\n",
    "trace1 = go.Scatter3d(\n",
    "    x=x.flatten(),\n",
    "    y=y.flatten(),\n",
    "    z=z.flatten(),\n",
    "    #text = movies,\n",
    "    text = list(zip(genres, movies)),\n",
    "    mode='markers',\n",
    "    marker=dict(color=[1 if genre in x else 0 for x in genres])\n",
    ")\n",
    "\n",
    "data = [trace1]\n",
    "fig = go.Figure(data=data) #, layout=layout)\n",
    "plot(fig)"
   ]
  },
  {
   "cell_type": "code",
   "execution_count": null,
   "metadata": {},
   "outputs": [],
   "source": [
    "rating_train.toarray()"
   ]
  },
  {
   "cell_type": "code",
   "execution_count": null,
   "metadata": {},
   "outputs": [],
   "source": [
    "poisson_mean = theta @ beta.T\n",
    "poisson_mean[poisson_mean>10] = 10\n",
    "simulated = np.random.poisson(poisson_mean)"
   ]
  },
  {
   "cell_type": "code",
   "execution_count": null,
   "metadata": {},
   "outputs": [],
   "source": [
    "plt.hist(np.sum(simulated,1), bins = 30)\n",
    "plt.show()"
   ]
  },
  {
   "cell_type": "code",
   "execution_count": null,
   "metadata": {},
   "outputs": [],
   "source": [
    "import seaborn as sns"
   ]
  },
  {
   "cell_type": "code",
   "execution_count": null,
   "metadata": {},
   "outputs": [],
   "source": [
    "sns.distplot(np.sum(rating_train,1),hist=True, kde=True)\n",
    "sns.distplot(np.sum(simulated,1),hist=True, kde=True)"
   ]
  },
  {
   "cell_type": "code",
   "execution_count": null,
   "metadata": {},
   "outputs": [],
   "source": [
    "sns.distplot(np.count_nonzero(rating_train.toarray(),1))\n",
    "sns.distplot(np.count_nonzero(simulated,1))"
   ]
  },
  {
   "cell_type": "code",
   "execution_count": null,
   "metadata": {},
   "outputs": [],
   "source": [
    "np.sum(rating_train,1).shape"
   ]
  },
  {
   "cell_type": "code",
   "execution_count": null,
   "metadata": {},
   "outputs": [],
   "source": [
    "plt.hist(np.sum(simulated,0), bins = 30, density = True)\n",
    "plt.show()"
   ]
  },
  {
   "cell_type": "code",
   "execution_count": null,
   "metadata": {},
   "outputs": [],
   "source": [
    "rating_valid"
   ]
  },
  {
   "cell_type": "code",
   "execution_count": null,
   "metadata": {},
   "outputs": [],
   "source": [
    "plt.hist(np.sum(rating_train,1), bins = 30, density = True)\n",
    "plt.show()"
   ]
  },
  {
   "cell_type": "code",
   "execution_count": null,
   "metadata": {
    "ExecuteTime": {
     "end_time": "2019-11-15T23:18:37.352221Z",
     "start_time": "2019-11-15T23:02:00.931488Z"
    },
    "scrolled": true
   },
   "outputs": [],
   "source": [
    "result2 = {}\n",
    "for K in range(4,10):\n",
    "    result[K] = []\n",
    "    for _ in range(20):\n",
    "        theta, beta, training_ll, valid_ll = vi(rating_train, rating_valid, max_iter = 50, K = K)\n",
    "        result[K].append((theta, beta, training_ll, valid_ll))"
   ]
  },
  {
   "cell_type": "code",
   "execution_count": null,
   "metadata": {
    "ExecuteTime": {
     "end_time": "2019-11-15T15:35:43.729423Z",
     "start_time": "2019-11-15T15:35:42.590429Z"
    }
   },
   "outputs": [],
   "source": [
    "np.savez(r'C:\\git\\PGM\\cv.npz',result = result)"
   ]
  },
  {
   "cell_type": "code",
   "execution_count": null,
   "metadata": {
    "ExecuteTime": {
     "end_time": "2019-11-15T21:07:59.885300Z",
     "start_time": "2019-11-15T21:07:59.492301Z"
    }
   },
   "outputs": [],
   "source": [
    "df = pd.read_csv('hw2-datasets\\movies.csv')\n",
    "df.loc[df.movieId == 1, 'title'].values[0]\n",
    "\n",
    "movies = [df.loc[df.movieId == int(x), 'title'].values[0] for x in mapping.keys()]\n",
    "genres = [df.loc[df.movieId == int(x), 'genres'].values[0] for x in mapping.keys()]"
   ]
  },
  {
   "cell_type": "code",
   "execution_count": null,
   "metadata": {
    "ExecuteTime": {
     "end_time": "2019-11-15T21:56:37.591938Z",
     "start_time": "2019-11-15T21:56:36.622937Z"
    }
   },
   "outputs": [],
   "source": [
    "beta = result[7][1][1]\n",
    "test = KMeans(8).fit(beta)"
   ]
  },
  {
   "cell_type": "code",
   "execution_count": null,
   "metadata": {
    "ExecuteTime": {
     "end_time": "2019-11-15T23:01:35.928952Z",
     "start_time": "2019-11-15T23:01:35.224946Z"
    }
   },
   "outputs": [],
   "source": [
    "result[6][1][1].shape"
   ]
  },
  {
   "cell_type": "code",
   "execution_count": null,
   "metadata": {
    "ExecuteTime": {
     "end_time": "2019-11-15T23:19:11.490057Z",
     "start_time": "2019-11-15T23:19:10.353055Z"
    }
   },
   "outputs": [],
   "source": [
    "[np.mean([result[j][i][2] for i in range(20)]) for j in range(3,10)]"
   ]
  },
  {
   "cell_type": "code",
   "execution_count": null,
   "metadata": {
    "ExecuteTime": {
     "end_time": "2019-11-15T22:43:45.736825Z",
     "start_time": "2019-11-15T22:43:44.919820Z"
    }
   },
   "outputs": [],
   "source": [
    "unique_genres = set([y for x in genres for y in x.split('|')])"
   ]
  },
  {
   "cell_type": "code",
   "execution_count": null,
   "metadata": {
    "ExecuteTime": {
     "end_time": "2019-11-15T22:56:48.671861Z",
     "start_time": "2019-11-15T22:56:47.186838Z"
    }
   },
   "outputs": [],
   "source": [
    "df = pd.read_csv('hw2-datasets\\movies.csv')\n",
    "df.loc[df.movieId == 1, 'title'].values[0]\n",
    "\n",
    "movies = [df.loc[df.movieId == int(x), 'title'].values[0] for x in mapping.keys()]\n",
    "genres = [df.loc[df.movieId == int(x), 'genres'].values[0] for x in mapping.keys()]\n",
    "#genre = unique_genres.pop()\n",
    "#print(genre)\n",
    "from sklearn.decomposition import pca\n",
    "beta_ = pca.PCA(3).fit(beta).transform(beta)\n",
    "genre = 'Comedy'\n",
    "import plotly.graph_objs as go\n",
    "from plotly.offline import download_plotlyjs, init_notebook_mode, plot, iplot\n",
    "import plotly.graph_objs as go\n",
    "\n",
    "x, y, z = np.split(beta, 3, axis = 1)\n",
    "trace1 = go.Scatter3d(\n",
    "    x=x.flatten(),\n",
    "    y=y.flatten(),\n",
    "    z=z.flatten(),\n",
    "    text = movies,\n",
    "    #text = list(zip(genres, movies)),\n",
    "    mode='markers',\n",
    "    marker=dict(color=[0 if genre in x else 1 for x in genres])\n",
    ")\n",
    "\n",
    "data = [trace1]\n",
    "# layout = go.Layout(\n",
    "#     margin=dict(\n",
    "#         l=0,\n",
    "#         r=0,\n",
    "#         b=0,\n",
    "#         t=0\n",
    "#     )\n",
    "# )\n",
    "fig = go.Figure(data=data) #, layout=layout)\n",
    "plot(fig)"
   ]
  },
  {
   "cell_type": "code",
   "execution_count": null,
   "metadata": {
    "ExecuteTime": {
     "end_time": "2019-11-15T22:51:24.580057Z",
     "start_time": "2019-11-15T22:51:23.517059Z"
    }
   },
   "outputs": [],
   "source": [
    "result[7][1][1].shape"
   ]
  },
  {
   "cell_type": "code",
   "execution_count": null,
   "metadata": {
    "ExecuteTime": {
     "end_time": "2019-11-15T21:51:50.859750Z",
     "start_time": "2019-11-15T21:50:35.069395Z"
    }
   },
   "outputs": [],
   "source": [
    "for i in range(1):\n",
    "    theta = result[7][i][0]\n",
    "    beta = result[7][i][1]\n",
    "    beta = decomposition.pca.PCA(2).fit(beta).transform(beta)\n",
    "\n",
    "    #fig, ax = plt.subplots()\n",
    "    plt.figure(figsize = (40,20))\n",
    "    #ax = plt.axes\n",
    "    x,y = beta[:,0], beta[:,1]\n",
    "    plt.scatter(x,y)\n",
    "    for i, txt in enumerate(movies):\n",
    "        if np.random.choice(2) == 1:\n",
    "        #if y[i] > 20 or y[i]<-15:\n",
    "            plt.annotate(txt, (x[i], y[i]))"
   ]
  },
  {
   "cell_type": "code",
   "execution_count": null,
   "metadata": {},
   "outputs": [],
   "source": []
  },
  {
   "cell_type": "code",
   "execution_count": null,
   "metadata": {
    "ExecuteTime": {
     "end_time": "2019-11-15T06:33:04.586336Z",
     "start_time": "2019-11-15T06:32:29.371282Z"
    }
   },
   "outputs": [],
   "source": [
    "test = vi(rating_valid, rating_valid, max_iter = 50)"
   ]
  },
  {
   "cell_type": "code",
   "execution_count": null,
   "metadata": {
    "ExecuteTime": {
     "end_time": "2019-11-15T06:51:31.001651Z",
     "start_time": "2019-11-15T06:51:30.756657Z"
    }
   },
   "outputs": [],
   "source": [
    "theta, beta = test"
   ]
  },
  {
   "cell_type": "code",
   "execution_count": null,
   "metadata": {
    "ExecuteTime": {
     "end_time": "2019-11-15T06:34:31.209631Z",
     "start_time": "2019-11-15T06:34:31.020637Z"
    }
   },
   "outputs": [],
   "source": [
    "rating_valid.toarray()"
   ]
  },
  {
   "cell_type": "code",
   "execution_count": null,
   "metadata": {
    "ExecuteTime": {
     "end_time": "2019-11-15T06:33:38.638869Z",
     "start_time": "2019-11-15T06:33:38.403880Z"
    }
   },
   "outputs": [],
   "source": [
    "theta @ beta.T"
   ]
  },
  {
   "cell_type": "code",
   "execution_count": null,
   "metadata": {
    "ExecuteTime": {
     "end_time": "2019-11-15T06:47:04.037140Z",
     "start_time": "2019-11-15T06:47:03.774136Z"
    }
   },
   "outputs": [],
   "source": [
    "test_pcza = decomposition.pca.PCA(2).fit(beta)\n",
    "\n",
    "truncated_beta = test_pca.transform(beta)"
   ]
  },
  {
   "cell_type": "code",
   "execution_count": null,
   "metadata": {
    "ExecuteTime": {
     "end_time": "2019-11-15T06:47:04.890147Z",
     "start_time": "2019-11-15T06:47:04.370145Z"
    }
   },
   "outputs": [],
   "source": [
    "plt.scatter(x = truncated_beta[:,0], y = truncated_beta[:,1])"
   ]
  },
  {
   "cell_type": "code",
   "execution_count": null,
   "metadata": {
    "ExecuteTime": {
     "end_time": "2019-11-15T05:58:49.624829Z",
     "start_time": "2019-11-15T05:58:49.616828Z"
    }
   },
   "outputs": [],
   "source": [
    "theta = np.load('arr_0.npy')\n",
    "beta = np.load('arr_1.npy')"
   ]
  },
  {
   "cell_type": "code",
   "execution_count": null,
   "metadata": {
    "ExecuteTime": {
     "end_time": "2019-11-15T05:58:52.007826Z",
     "start_time": "2019-11-15T05:58:52.000826Z"
    }
   },
   "outputs": [],
   "source": [
    "theta.shape"
   ]
  },
  {
   "cell_type": "code",
   "execution_count": null,
   "metadata": {
    "ExecuteTime": {
     "end_time": "2019-11-15T05:58:55.128828Z",
     "start_time": "2019-11-15T05:58:55.121828Z"
    }
   },
   "outputs": [],
   "source": [
    "beta.shape"
   ]
  },
  {
   "cell_type": "code",
   "execution_count": null,
   "metadata": {
    "ExecuteTime": {
     "end_time": "2019-11-15T06:07:36.762146Z",
     "start_time": "2019-11-15T06:07:36.738145Z"
    }
   },
   "outputs": [],
   "source": [
    "rating_train.toarray()[0,:]"
   ]
  },
  {
   "cell_type": "code",
   "execution_count": null,
   "metadata": {
    "ExecuteTime": {
     "end_time": "2019-11-15T06:07:30.161093Z",
     "start_time": "2019-11-15T06:07:30.094093Z"
    }
   },
   "outputs": [],
   "source": [
    "(theta @ beta.T)[0,:]"
   ]
  },
  {
   "cell_type": "code",
   "execution_count": null,
   "metadata": {
    "ExecuteTime": {
     "end_time": "2019-11-15T05:57:46.239901Z",
     "start_time": "2019-11-15T05:57:46.234900Z"
    }
   },
   "outputs": [],
   "source": [
    "result = np.load('temp.npz')"
   ]
  },
  {
   "cell_type": "code",
   "execution_count": null,
   "metadata": {
    "ExecuteTime": {
     "end_time": "2019-11-15T05:57:46.441902Z",
     "start_time": "2019-11-15T05:57:46.434902Z"
    }
   },
   "outputs": [],
   "source": [
    "result"
   ]
  },
  {
   "cell_type": "code",
   "execution_count": null,
   "metadata": {
    "ExecuteTime": {
     "end_time": "2019-11-15T05:43:51.690197Z",
     "start_time": "2019-11-15T05:43:51.655193Z"
    }
   },
   "outputs": [],
   "source": [
    "np.load??"
   ]
  }
 ],
 "metadata": {
  "kernelspec": {
   "display_name": "Python 3",
   "language": "python",
   "name": "python3"
  },
  "language_info": {
   "codemirror_mode": {
    "name": "ipython",
    "version": 3
   },
   "file_extension": ".py",
   "mimetype": "text/x-python",
   "name": "python",
   "nbconvert_exporter": "python",
   "pygments_lexer": "ipython3",
   "version": "3.6.5"
  }
 },
 "nbformat": 4,
 "nbformat_minor": 2
}
