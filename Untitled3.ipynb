{
 "cells": [
  {
   "cell_type": "code",
   "execution_count": null,
   "metadata": {
    "scrolled": true
   },
   "outputs": [],
   "source": [
    "from multiprocessing import Process, Value, Pool\n",
    "import numpy as np\n",
    "import time\n",
    "\n",
    "def global_update(args):\n",
    "    return Multi.single_update(*args)\n",
    "\n",
    "class Multi:\n",
    "    def __init__(self):\n",
    "        self.test = np.zeros(100)\n",
    "\n",
    "    def single_update(self,i):\n",
    "        return (i,i**2)\n",
    "    \n",
    "    def update(self, t):\n",
    "        pool = Pool(processes = 16)\n",
    "        result = pool.map(global_update, zip([self] * len(range(t)),list(range(t))))\n",
    "        return result"
   ]
  },
  {
   "cell_type": "code",
   "execution_count": null,
   "metadata": {},
   "outputs": [],
   "source": []
  },
  {
   "cell_type": "code",
   "execution_count": null,
   "metadata": {},
   "outputs": [],
   "source": [
    "time_ = []\n",
    "for i in range(100):\n",
    "    time0 = time.time()\n",
    "    M = Multi()\n",
    "    result = M.update(10000)\n",
    "    time_.append(time.time() - time0)\n",
    "print(sum(time_)/len(time_))"
   ]
  },
  {
   "cell_type": "code",
   "execution_count": null,
   "metadata": {},
   "outputs": [],
   "source": [
    "result"
   ]
  },
  {
   "cell_type": "code",
   "execution_count": null,
   "metadata": {},
   "outputs": [],
   "source": [
    "def unwrap_self(arg):\n",
    "    print(arg)\n",
    "    print(kwarg)\n",
    "    return square_class.square_int(*arg)\n",
    "\n",
    "class square_class:\n",
    "    def square_int(self, i):\n",
    "        return i * i\n",
    "     \n",
    "    def run(self, num):\n",
    "        results = []\n",
    "        results = Parallel(n_jobs= -1, backend=\"threading\")\\\n",
    "            (delayed(unwrap_self)(i) for i in zip([self]*len(num), num))\n",
    "        print(results)"
   ]
  },
  {
   "cell_type": "code",
   "execution_count": null,
   "metadata": {},
   "outputs": [],
   "source": [
    "from joblib import Parallel, delayed\n",
    "square_int = square_class()\n",
    "square_int.run(num = range(10))"
   ]
  }
 ],
 "metadata": {
  "kernelspec": {
   "display_name": "Python 3",
   "language": "python",
   "name": "python3"
  },
  "language_info": {
   "codemirror_mode": {
    "name": "ipython",
    "version": 3
   },
   "file_extension": ".py",
   "mimetype": "text/x-python",
   "name": "python",
   "nbconvert_exporter": "python",
   "pygments_lexer": "ipython3",
   "version": "3.7.3"
  }
 },
 "nbformat": 4,
 "nbformat_minor": 2
}
